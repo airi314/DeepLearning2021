{
  "nbformat": 4,
  "nbformat_minor": 0,
  "metadata": {
    "colab": {
      "name": "rnn_command_recognition.ipynb",
      "provenance": [],
      "collapsed_sections": [
        "nAQSnWBq8PA8",
        "Ux0Rj-gV8h7Q",
        "o0BUHD_Y8_-k",
        "NHiL4EStGuLo",
        "IH81XPRd-EtZ",
        "UpxgbYe8aJLK",
        "8dm8YDrSc9yD",
        "cT5h-9TVdt9-",
        "c4RreOQTeBQQ",
        "Wtq8OHKGgaA4",
        "fwP4V3TnjNHj",
        "hshvbr61bA4h",
        "dXhjoHYobIAg",
        "nRnSpsgubXmG",
        "Hgitw7ToeDSi",
        "PprZXa_deO7s",
        "mLgoXKmyeRKR"
      ]
    },
    "kernelspec": {
      "display_name": "Python 3",
      "name": "python3"
    },
    "language_info": {
      "name": "python"
    },
    "accelerator": "GPU"
  },
  "cells": [
    {
      "cell_type": "markdown",
      "metadata": {
        "id": "nAQSnWBq8PA8"
      },
      "source": [
        "# Downloading libraries and preparing data\n"
      ]
    },
    {
      "cell_type": "code",
      "metadata": {
        "colab": {
          "base_uri": "https://localhost:8080/"
        },
        "id": "XLei-HGpY6gL",
        "outputId": "8cb6e8b9-b10d-4d29-927a-322de44dc47c"
      },
      "source": [
        "from google.colab import drive\n",
        "drive.mount('/content/drive', force_remount=True)\n",
        "\n",
        "!rm data2.zip\n",
        "!ln -s /content/drive/MyDrive/data2.zip /content/data2.zip\n",
        "!unzip -q ./data2.zip"
      ],
      "execution_count": 1,
      "outputs": [
        {
          "output_type": "stream",
          "text": [
            "Mounted at /content/drive\n",
            "rm: cannot remove 'data2.zip': No such file or directory\n"
          ],
          "name": "stdout"
        }
      ]
    },
    {
      "cell_type": "code",
      "metadata": {
        "id": "TJ3bh0azZKKJ",
        "colab": {
          "base_uri": "https://localhost:8080/"
        },
        "outputId": "bd6bfc15-739d-4c01-dc77-8b272eee98d5"
      },
      "source": [
        "from models import *\n",
        "import torch\n",
        "!pip3 install torchaudio\n",
        "from torch.optim import SGD, Adam, RMSprop, lr_scheduler\n",
        "from train_rnn import train_network, evaluate_network\n",
        "from load_data import load_data"
      ],
      "execution_count": 2,
      "outputs": [
        {
          "output_type": "stream",
          "text": [
            "Collecting torchaudio\n",
            "\u001b[?25l  Downloading https://files.pythonhosted.org/packages/aa/55/01ad9244bcd595e39cea5ce30726a7fe02fd963d07daeb136bfe7e23f0a5/torchaudio-0.8.1-cp37-cp37m-manylinux1_x86_64.whl (1.9MB)\n",
            "\u001b[K     |████████████████████████████████| 1.9MB 7.2MB/s \n",
            "\u001b[?25hRequirement already satisfied: torch==1.8.1 in /usr/local/lib/python3.7/dist-packages (from torchaudio) (1.8.1+cu101)\n",
            "Requirement already satisfied: typing-extensions in /usr/local/lib/python3.7/dist-packages (from torch==1.8.1->torchaudio) (3.7.4.3)\n",
            "Requirement already satisfied: numpy in /usr/local/lib/python3.7/dist-packages (from torch==1.8.1->torchaudio) (1.19.5)\n",
            "Installing collected packages: torchaudio\n",
            "Successfully installed torchaudio-0.8.1\n"
          ],
          "name": "stdout"
        }
      ]
    },
    {
      "cell_type": "code",
      "metadata": {
        "colab": {
          "base_uri": "https://localhost:8080/"
        },
        "id": "7_QZh5Q7bBjh",
        "outputId": "fb134fd5-bbab-4c79-b349-535fc02bfb52"
      },
      "source": [
        "device = torch.device(\"cuda\" if torch.cuda.is_available() else \"cpu\")\n",
        "print(device)\n",
        "\n",
        "(train_loader, val_loader, test_loader), labels = load_data(root='data2/train')\n",
        "\n",
        "correct_labels = ['yes', 'no', 'up', 'down', 'left',\n",
        "                  'right', 'on', 'off', 'stop', 'go', 'silence']\n",
        "correct_index = [torch.tensor(labels.index(x)) for x in correct_labels]"
      ],
      "execution_count": 3,
      "outputs": [
        {
          "output_type": "stream",
          "text": [
            "cuda\n",
            "Number of train instances:  60775\n",
            "Number of validation instances:  3095\n",
            "Number of test instances:  3085\n"
          ],
          "name": "stdout"
        }
      ]
    },
    {
      "cell_type": "markdown",
      "metadata": {
        "id": "Ux0Rj-gV8h7Q"
      },
      "source": [
        "# Training RNN - an example"
      ]
    },
    {
      "cell_type": "markdown",
      "metadata": {
        "id": "o0BUHD_Y8_-k"
      },
      "source": [
        "## Hidden size: 16, Learning rate: 0.01"
      ]
    },
    {
      "cell_type": "code",
      "metadata": {
        "id": "XPixAqyma6Ke"
      },
      "source": [
        "model = RNN(n_output=32, device=device)\n",
        "model.to(device)\n",
        "optimizer = Adam(model.parameters(), lr=0.01, weight_decay=0.0001)\n",
        "scheduler = lr_scheduler.StepLR(optimizer, step_size=20, gamma=0.1)"
      ],
      "execution_count": null,
      "outputs": []
    },
    {
      "cell_type": "code",
      "metadata": {
        "colab": {
          "base_uri": "https://localhost:8080/"
        },
        "id": "E4shz6vyb986",
        "outputId": "aecd3914-7b6a-4c55-fd12-d498f2258487"
      },
      "source": [
        "train_network(model, train_loader, val_loader, correct_index, 10, optimizer=optimizer, print_results=True)"
      ],
      "execution_count": null,
      "outputs": [
        {
          "output_type": "stream",
          "text": [
            "\r  0%|          | 0/10 [00:00<?, ?it/s]"
          ],
          "name": "stderr"
        },
        {
          "output_type": "stream",
          "text": [
            "\n",
            "Loss on training set:  3.3999738241075637\n",
            "Accuracy on training set:  4.9806663924310985\n"
          ],
          "name": "stdout"
        },
        {
          "output_type": "stream",
          "text": [
            "\r 10%|█         | 1/10 [00:23<03:28, 23.13s/it]"
          ],
          "name": "stderr"
        },
        {
          "output_type": "stream",
          "text": [
            "\n",
            "Accuracy on validation set:  5.815831987075929\n",
            "--------------------\n",
            "\n",
            "Loss on training set:  3.33284680126038\n",
            "Accuracy on training set:  6.505964623611683\n"
          ],
          "name": "stdout"
        },
        {
          "output_type": "stream",
          "text": [
            "\r 20%|██        | 2/10 [00:45<03:03, 22.97s/it]"
          ],
          "name": "stderr"
        },
        {
          "output_type": "stream",
          "text": [
            "\n",
            "Accuracy on validation set:  2.617124394184168\n",
            "--------------------\n",
            "\n",
            "Loss on training set:  3.3086695262307937\n",
            "Accuracy on training set:  6.756067461949815\n"
          ],
          "name": "stdout"
        },
        {
          "output_type": "stream",
          "text": [
            "\r 30%|███       | 3/10 [01:08<02:40, 22.86s/it]"
          ],
          "name": "stderr"
        },
        {
          "output_type": "stream",
          "text": [
            "\n",
            "Accuracy on validation set:  3.263327948303716\n",
            "--------------------\n",
            "\n",
            "Loss on training set:  3.2963748262665096\n",
            "Accuracy on training set:  6.807075277663513\n"
          ],
          "name": "stdout"
        },
        {
          "output_type": "stream",
          "text": [
            "\r 40%|████      | 4/10 [01:31<02:17, 22.84s/it]"
          ],
          "name": "stderr"
        },
        {
          "output_type": "stream",
          "text": [
            "\n",
            "Accuracy on validation set:  5.234248788368336\n",
            "--------------------\n",
            "\n",
            "Loss on training set:  3.2897656909412243\n",
            "Accuracy on training set:  7.144385026737968\n"
          ],
          "name": "stdout"
        },
        {
          "output_type": "stream",
          "text": [
            "\r 50%|█████     | 5/10 [01:53<01:53, 22.76s/it]"
          ],
          "name": "stderr"
        },
        {
          "output_type": "stream",
          "text": [
            "\n",
            "Accuracy on validation set:  2.4878836833602587\n",
            "--------------------\n",
            "\n",
            "Loss on training set:  3.2884455343903167\n",
            "Accuracy on training set:  7.155902920608803\n"
          ],
          "name": "stdout"
        },
        {
          "output_type": "stream",
          "text": [
            "\r 60%|██████    | 6/10 [02:16<01:31, 22.77s/it]"
          ],
          "name": "stderr"
        },
        {
          "output_type": "stream",
          "text": [
            "\n",
            "Accuracy on validation set:  4.2326332794830375\n",
            "--------------------\n",
            "\n",
            "Loss on training set:  3.285660728841395\n",
            "Accuracy on training set:  7.029206088029618\n"
          ],
          "name": "stdout"
        },
        {
          "output_type": "stream",
          "text": [
            "\r 70%|███████   | 7/10 [02:39<01:08, 22.73s/it]"
          ],
          "name": "stderr"
        },
        {
          "output_type": "stream",
          "text": [
            "\n",
            "Accuracy on validation set:  2.2294022617124396\n",
            "--------------------\n",
            "\n",
            "Loss on training set:  3.28077353138141\n",
            "Accuracy on training set:  7.308926367749897\n"
          ],
          "name": "stdout"
        },
        {
          "output_type": "stream",
          "text": [
            "\r 80%|████████  | 8/10 [03:01<00:45, 22.74s/it]"
          ],
          "name": "stderr"
        },
        {
          "output_type": "stream",
          "text": [
            "\n",
            "Accuracy on validation set:  2.7463651050080777\n",
            "--------------------\n",
            "\n",
            "Loss on training set:  3.2812220312273097\n",
            "Accuracy on training set:  7.39613327848622\n"
          ],
          "name": "stdout"
        },
        {
          "output_type": "stream",
          "text": [
            "\r 90%|█████████ | 9/10 [03:24<00:22, 22.69s/it]"
          ],
          "name": "stderr"
        },
        {
          "output_type": "stream",
          "text": [
            "\n",
            "Accuracy on validation set:  3.101777059773829\n",
            "--------------------\n",
            "\n",
            "Loss on training set:  3.27812286815149\n",
            "Accuracy on training set:  7.430686960098725\n"
          ],
          "name": "stdout"
        },
        {
          "output_type": "stream",
          "text": [
            "100%|██████████| 10/10 [03:46<00:00, 22.69s/it]"
          ],
          "name": "stderr"
        },
        {
          "output_type": "stream",
          "text": [
            "\n",
            "Accuracy on validation set:  3.489499192245557\n",
            "--------------------\n"
          ],
          "name": "stdout"
        },
        {
          "output_type": "stream",
          "text": [
            "\n"
          ],
          "name": "stderr"
        }
      ]
    },
    {
      "cell_type": "code",
      "metadata": {
        "id": "fn953vxqA33v"
      },
      "source": [
        "# train_network(model, train_loader, val_loader, correct_index, 1, optimizer=optimizer, print_results=True, print_classes=True)"
      ],
      "execution_count": null,
      "outputs": []
    },
    {
      "cell_type": "markdown",
      "metadata": {
        "id": "NHiL4EStGuLo"
      },
      "source": [
        "# Different numbers of features in hidden state"
      ]
    },
    {
      "cell_type": "markdown",
      "metadata": {
        "id": "IH81XPRd-EtZ"
      },
      "source": [
        "## Hidden size: 16, Learing rate: 0.001"
      ]
    },
    {
      "cell_type": "code",
      "metadata": {
        "colab": {
          "base_uri": "https://localhost:8080/"
        },
        "id": "2X3_S-h0Ci5B",
        "outputId": "9806c02c-6c23-4946-aae7-b93ad666a5c0"
      },
      "source": [
        "model = RNN(n_output=32, device=device)\n",
        "model.to(device)\n",
        "optimizer = Adam(model.parameters(), lr=0.001, weight_decay=0.0001)\n",
        "scheduler = lr_scheduler.StepLR(optimizer, step_size=20, gamma=0.1)\n",
        "train_network(model, train_loader, val_loader, correct_index, 10, optimizer=optimizer, print_results=True)"
      ],
      "execution_count": null,
      "outputs": [
        {
          "output_type": "stream",
          "text": [
            "\r  0%|          | 0/10 [00:00<?, ?it/s]"
          ],
          "name": "stderr"
        },
        {
          "output_type": "stream",
          "text": [
            "\n",
            "Loss on training set:  3.4402548409214435\n",
            "Accuracy on training set:  4.286301933360757\n"
          ],
          "name": "stdout"
        },
        {
          "output_type": "stream",
          "text": [
            "\r 10%|█         | 1/10 [00:22<03:21, 22.42s/it]"
          ],
          "name": "stderr"
        },
        {
          "output_type": "stream",
          "text": [
            "\n",
            "Accuracy on validation set:  1.2277867528271404\n",
            "--------------------\n",
            "\n",
            "Loss on training set:  3.3637186842816007\n",
            "Accuracy on training set:  7.684080625257096\n"
          ],
          "name": "stdout"
        },
        {
          "output_type": "stream",
          "text": [
            "\r 20%|██        | 2/10 [00:44<02:59, 22.46s/it]"
          ],
          "name": "stderr"
        },
        {
          "output_type": "stream",
          "text": [
            "\n",
            "Accuracy on validation set:  1.8416801292407108\n",
            "--------------------\n",
            "\n",
            "Loss on training set:  3.2490977327934463\n",
            "Accuracy on training set:  11.106540518305223\n"
          ],
          "name": "stdout"
        },
        {
          "output_type": "stream",
          "text": [
            "\r 30%|███       | 3/10 [01:07<02:38, 22.60s/it]"
          ],
          "name": "stderr"
        },
        {
          "output_type": "stream",
          "text": [
            "\n",
            "Accuracy on validation set:  3.004846526655897\n",
            "--------------------\n",
            "\n",
            "Loss on training set:  3.11204370519449\n",
            "Accuracy on training set:  14.486219662690251\n"
          ],
          "name": "stdout"
        },
        {
          "output_type": "stream",
          "text": [
            "\r 40%|████      | 4/10 [01:31<02:17, 22.87s/it]"
          ],
          "name": "stderr"
        },
        {
          "output_type": "stream",
          "text": [
            "\n",
            "Accuracy on validation set:  3.521809369951535\n",
            "--------------------\n",
            "\n",
            "Loss on training set:  2.9881809357211995\n",
            "Accuracy on training set:  17.589469354175236\n"
          ],
          "name": "stdout"
        },
        {
          "output_type": "stream",
          "text": [
            "\r 50%|█████     | 5/10 [01:54<01:55, 23.09s/it]"
          ],
          "name": "stderr"
        },
        {
          "output_type": "stream",
          "text": [
            "\n",
            "Accuracy on validation set:  4.038772213247173\n",
            "--------------------\n",
            "\n",
            "Loss on training set:  2.879282461991775\n",
            "Accuracy on training set:  20.375154257507198\n"
          ],
          "name": "stdout"
        },
        {
          "output_type": "stream",
          "text": [
            "\r 60%|██████    | 6/10 [02:18<01:33, 23.32s/it]"
          ],
          "name": "stderr"
        },
        {
          "output_type": "stream",
          "text": [
            "\n",
            "Accuracy on validation set:  3.877221324717286\n",
            "--------------------\n",
            "\n",
            "Loss on training set:  2.786054620287733\n",
            "Accuracy on training set:  22.99958864664747\n"
          ],
          "name": "stdout"
        },
        {
          "output_type": "stream",
          "text": [
            "\r 70%|███████   | 7/10 [02:42<01:10, 23.39s/it]"
          ],
          "name": "stderr"
        },
        {
          "output_type": "stream",
          "text": [
            "\n",
            "Accuracy on validation set:  4.038772213247173\n",
            "--------------------\n",
            "\n",
            "Loss on training set:  2.7008167175087405\n",
            "Accuracy on training set:  25.39531057178116\n"
          ],
          "name": "stdout"
        },
        {
          "output_type": "stream",
          "text": [
            "\r 80%|████████  | 8/10 [03:05<00:46, 23.41s/it]"
          ],
          "name": "stderr"
        },
        {
          "output_type": "stream",
          "text": [
            "\n",
            "Accuracy on validation set:  4.2326332794830375\n",
            "--------------------\n",
            "\n",
            "Loss on training set:  2.6291314831431243\n",
            "Accuracy on training set:  27.310571781160018\n"
          ],
          "name": "stdout"
        },
        {
          "output_type": "stream",
          "text": [
            "\r 90%|█████████ | 9/10 [03:28<00:23, 23.24s/it]"
          ],
          "name": "stderr"
        },
        {
          "output_type": "stream",
          "text": [
            "\n",
            "Accuracy on validation set:  4.523424878836834\n",
            "--------------------\n",
            "\n",
            "Loss on training set:  2.5619046241410324\n",
            "Accuracy on training set:  29.135335252982312\n"
          ],
          "name": "stdout"
        },
        {
          "output_type": "stream",
          "text": [
            "100%|██████████| 10/10 [03:51<00:00, 23.15s/it]"
          ],
          "name": "stderr"
        },
        {
          "output_type": "stream",
          "text": [
            "\n",
            "Accuracy on validation set:  4.491114701130856\n",
            "--------------------\n"
          ],
          "name": "stdout"
        },
        {
          "output_type": "stream",
          "text": [
            "\n"
          ],
          "name": "stderr"
        }
      ]
    },
    {
      "cell_type": "markdown",
      "metadata": {
        "id": "UpxgbYe8aJLK"
      },
      "source": [
        "## Hidden size: 32, Learning rate: 0.001 "
      ]
    },
    {
      "cell_type": "code",
      "metadata": {
        "colab": {
          "base_uri": "https://localhost:8080/"
        },
        "id": "bDBvkwmbaM04",
        "outputId": "aa3f4c74-6211-4628-f3b5-8fbea47ea6f0"
      },
      "source": [
        "model = RNN(n_output=32, n_hidden=32, device=device)\n",
        "model.to(device)\n",
        "optimizer = Adam(model.parameters(), lr=0.001, weight_decay=0.0001)\n",
        "scheduler = lr_scheduler.StepLR(optimizer, step_size=20, gamma=0.1)\n",
        "train_network(model, train_loader, val_loader, correct_index, 10, optimizer=optimizer, print_results=True)"
      ],
      "execution_count": null,
      "outputs": [
        {
          "output_type": "stream",
          "text": [
            "\r  0%|          | 0/10 [00:00<?, ?it/s]"
          ],
          "name": "stderr"
        },
        {
          "output_type": "stream",
          "text": [
            "\n",
            "Loss on training set:  3.430895188863951\n",
            "Accuracy on training set:  4.416289592760181\n"
          ],
          "name": "stdout"
        },
        {
          "output_type": "stream",
          "text": [
            "\r 10%|█         | 1/10 [00:22<03:21, 22.44s/it]"
          ],
          "name": "stderr"
        },
        {
          "output_type": "stream",
          "text": [
            "\n",
            "Accuracy on validation set:  1.5508885298869144\n",
            "--------------------\n",
            "\n",
            "Loss on training set:  3.3198724586136885\n",
            "Accuracy on training set:  9.410119292472233\n"
          ],
          "name": "stdout"
        },
        {
          "output_type": "stream",
          "text": [
            "\r 20%|██        | 2/10 [00:44<02:59, 22.45s/it]"
          ],
          "name": "stderr"
        },
        {
          "output_type": "stream",
          "text": [
            "\n",
            "Accuracy on validation set:  3.231017770597738\n",
            "--------------------\n",
            "\n",
            "Loss on training set:  3.125703881666622\n",
            "Accuracy on training set:  15.080213903743315\n"
          ],
          "name": "stdout"
        },
        {
          "output_type": "stream",
          "text": [
            "\r 30%|███       | 3/10 [01:07<02:36, 22.42s/it]"
          ],
          "name": "stderr"
        },
        {
          "output_type": "stream",
          "text": [
            "\n",
            "Accuracy on validation set:  3.780290791599354\n",
            "--------------------\n",
            "\n",
            "Loss on training set:  2.916869738491314\n",
            "Accuracy on training set:  20.694364459070343\n"
          ],
          "name": "stdout"
        },
        {
          "output_type": "stream",
          "text": [
            "\r 40%|████      | 4/10 [01:29<02:14, 22.37s/it]"
          ],
          "name": "stderr"
        },
        {
          "output_type": "stream",
          "text": [
            "\n",
            "Accuracy on validation set:  3.9418416801292406\n",
            "--------------------\n",
            "\n",
            "Loss on training set:  2.726771487671865\n",
            "Accuracy on training set:  25.964623611682434\n"
          ],
          "name": "stdout"
        },
        {
          "output_type": "stream",
          "text": [
            "\r 50%|█████     | 5/10 [01:51<01:51, 22.36s/it]"
          ],
          "name": "stderr"
        },
        {
          "output_type": "stream",
          "text": [
            "\n",
            "Accuracy on validation set:  3.9418416801292406\n",
            "--------------------\n",
            "\n",
            "Loss on training set:  2.562332924384239\n",
            "Accuracy on training set:  30.733031674208146\n"
          ],
          "name": "stdout"
        },
        {
          "output_type": "stream",
          "text": [
            "\r 60%|██████    | 6/10 [02:14<01:29, 22.34s/it]"
          ],
          "name": "stderr"
        },
        {
          "output_type": "stream",
          "text": [
            "\n",
            "Accuracy on validation set:  3.8449111470113086\n",
            "--------------------\n",
            "\n",
            "Loss on training set:  2.422982509747203\n",
            "Accuracy on training set:  34.634306869600984\n"
          ],
          "name": "stdout"
        },
        {
          "output_type": "stream",
          "text": [
            "\r 70%|███████   | 7/10 [02:36<01:06, 22.33s/it]"
          ],
          "name": "stderr"
        },
        {
          "output_type": "stream",
          "text": [
            "\n",
            "Accuracy on validation set:  3.6833602584814216\n",
            "--------------------\n",
            "\n",
            "Loss on training set:  2.3025152918832483\n",
            "Accuracy on training set:  38.323323735088444\n"
          ],
          "name": "stdout"
        },
        {
          "output_type": "stream",
          "text": [
            "\r 80%|████████  | 8/10 [02:58<00:44, 22.34s/it]"
          ],
          "name": "stderr"
        },
        {
          "output_type": "stream",
          "text": [
            "\n",
            "Accuracy on validation set:  4.458804523424879\n",
            "--------------------\n",
            "\n",
            "Loss on training set:  2.202101674168162\n",
            "Accuracy on training set:  41.12710818593172\n"
          ],
          "name": "stdout"
        },
        {
          "output_type": "stream",
          "text": [
            "\r 90%|█████████ | 9/10 [03:21<00:22, 22.38s/it]"
          ],
          "name": "stderr"
        },
        {
          "output_type": "stream",
          "text": [
            "\n",
            "Accuracy on validation set:  3.9418416801292406\n",
            "--------------------\n",
            "\n",
            "Loss on training set:  2.1144227212194258\n",
            "Accuracy on training set:  43.555738379267794\n"
          ],
          "name": "stdout"
        },
        {
          "output_type": "stream",
          "text": [
            "100%|██████████| 10/10 [03:43<00:00, 22.38s/it]"
          ],
          "name": "stderr"
        },
        {
          "output_type": "stream",
          "text": [
            "\n",
            "Accuracy on validation set:  4.329563812600969\n",
            "--------------------\n"
          ],
          "name": "stdout"
        },
        {
          "output_type": "stream",
          "text": [
            "\n"
          ],
          "name": "stderr"
        }
      ]
    },
    {
      "cell_type": "markdown",
      "metadata": {
        "id": "8dm8YDrSc9yD"
      },
      "source": [
        "## Hidden size: 64, Learning rate: 0.001 "
      ]
    },
    {
      "cell_type": "code",
      "metadata": {
        "colab": {
          "base_uri": "https://localhost:8080/"
        },
        "id": "5tDp0Barc99Y",
        "outputId": "75d6fe99-5c5c-4f46-aae1-a8b948a2824e"
      },
      "source": [
        "model = RNN(n_output=32, n_hidden=64, device=device)\n",
        "model.to(device)\n",
        "optimizer = Adam(model.parameters(), lr=0.001, weight_decay=0.0001)\n",
        "scheduler = lr_scheduler.StepLR(optimizer, step_size=20, gamma=0.1)\n",
        "train_network(model, train_loader, val_loader, correct_index, 10, optimizer=optimizer, print_results=True)"
      ],
      "execution_count": null,
      "outputs": [
        {
          "output_type": "stream",
          "text": [
            "\r  0%|          | 0/10 [00:00<?, ?it/s]"
          ],
          "name": "stderr"
        },
        {
          "output_type": "stream",
          "text": [
            "\n",
            "Loss on training set:  3.4217248907132385\n",
            "Accuracy on training set:  5.0810366104483755\n"
          ],
          "name": "stdout"
        },
        {
          "output_type": "stream",
          "text": [
            "\r 10%|█         | 1/10 [00:22<03:21, 22.38s/it]"
          ],
          "name": "stderr"
        },
        {
          "output_type": "stream",
          "text": [
            "\n",
            "Accuracy on validation set:  1.4539579967689822\n",
            "--------------------\n",
            "\n",
            "Loss on training set:  3.2647083346807433\n",
            "Accuracy on training set:  10.981489099136159\n"
          ],
          "name": "stdout"
        },
        {
          "output_type": "stream",
          "text": [
            "\r 20%|██        | 2/10 [00:44<02:58, 22.35s/it]"
          ],
          "name": "stderr"
        },
        {
          "output_type": "stream",
          "text": [
            "\n",
            "Accuracy on validation set:  3.45718901453958\n",
            "--------------------\n",
            "\n",
            "Loss on training set:  2.9818240320863962\n",
            "Accuracy on training set:  19.396133278486218\n"
          ],
          "name": "stdout"
        },
        {
          "output_type": "stream",
          "text": [
            "\r 30%|███       | 3/10 [01:07<02:36, 22.36s/it]"
          ],
          "name": "stderr"
        },
        {
          "output_type": "stream",
          "text": [
            "\n",
            "Accuracy on validation set:  4.7819063004846525\n",
            "--------------------\n",
            "\n",
            "Loss on training set:  2.6841825338196528\n",
            "Accuracy on training set:  27.67914438502674\n"
          ],
          "name": "stdout"
        },
        {
          "output_type": "stream",
          "text": [
            "\r 40%|████      | 4/10 [01:29<02:14, 22.37s/it]"
          ],
          "name": "stderr"
        },
        {
          "output_type": "stream",
          "text": [
            "\n",
            "Accuracy on validation set:  5.169628432956381\n",
            "--------------------\n",
            "\n",
            "Loss on training set:  2.429443851707895\n",
            "Accuracy on training set:  35.062114356232\n"
          ],
          "name": "stdout"
        },
        {
          "output_type": "stream",
          "text": [
            "\r 50%|█████     | 5/10 [01:51<01:51, 22.36s/it]"
          ],
          "name": "stderr"
        },
        {
          "output_type": "stream",
          "text": [
            "\n",
            "Accuracy on validation set:  4.878836833602585\n",
            "--------------------\n",
            "\n",
            "Loss on training set:  2.2214252670426173\n",
            "Accuracy on training set:  41.14849856026326\n"
          ],
          "name": "stdout"
        },
        {
          "output_type": "stream",
          "text": [
            "\r 60%|██████    | 6/10 [02:14<01:29, 22.41s/it]"
          ],
          "name": "stderr"
        },
        {
          "output_type": "stream",
          "text": [
            "\n",
            "Accuracy on validation set:  5.4927302100161555\n",
            "--------------------\n",
            "\n",
            "Loss on training set:  2.05446322026443\n",
            "Accuracy on training set:  45.737556561085974\n"
          ],
          "name": "stdout"
        },
        {
          "output_type": "stream",
          "text": [
            "\r 70%|███████   | 7/10 [02:37<01:07, 22.56s/it]"
          ],
          "name": "stderr"
        },
        {
          "output_type": "stream",
          "text": [
            "\n",
            "Accuracy on validation set:  5.072697899838449\n",
            "--------------------\n",
            "\n",
            "Loss on training set:  1.9136286587638651\n",
            "Accuracy on training set:  49.76223776223776\n"
          ],
          "name": "stdout"
        },
        {
          "output_type": "stream",
          "text": [
            "\r 80%|████████  | 8/10 [02:59<00:45, 22.58s/it]"
          ],
          "name": "stderr"
        },
        {
          "output_type": "stream",
          "text": [
            "\n",
            "Accuracy on validation set:  5.460420032310178\n",
            "--------------------\n",
            "\n",
            "Loss on training set:  1.7960115458709327\n",
            "Accuracy on training set:  53.32291238173591\n"
          ],
          "name": "stdout"
        },
        {
          "output_type": "stream",
          "text": [
            "\r 90%|█████████ | 9/10 [03:22<00:22, 22.57s/it]"
          ],
          "name": "stderr"
        },
        {
          "output_type": "stream",
          "text": [
            "\n",
            "Accuracy on validation set:  4.749596122778676\n",
            "--------------------\n",
            "\n",
            "Loss on training set:  1.701687333174862\n",
            "Accuracy on training set:  55.95392842451666\n"
          ],
          "name": "stdout"
        },
        {
          "output_type": "stream",
          "text": [
            "100%|██████████| 10/10 [03:44<00:00, 22.49s/it]"
          ],
          "name": "stderr"
        },
        {
          "output_type": "stream",
          "text": [
            "\n",
            "Accuracy on validation set:  5.201938610662359\n",
            "--------------------\n"
          ],
          "name": "stdout"
        },
        {
          "output_type": "stream",
          "text": [
            "\n"
          ],
          "name": "stderr"
        }
      ]
    },
    {
      "cell_type": "markdown",
      "metadata": {
        "id": "cT5h-9TVdt9-"
      },
      "source": [
        "## Hidden size: 128, Learning rate: 0.001 "
      ]
    },
    {
      "cell_type": "code",
      "metadata": {
        "colab": {
          "base_uri": "https://localhost:8080/"
        },
        "id": "BLqS6gMmduJh",
        "outputId": "8a4c5f1c-f5bd-4ff6-82fa-b2b26d4fbb83"
      },
      "source": [
        "model = RNN(n_output=32, n_hidden=128, device=device)\n",
        "model.to(device)\n",
        "optimizer = Adam(model.parameters(), lr=0.001, weight_decay=0.0001)\n",
        "scheduler = lr_scheduler.StepLR(optimizer, step_size=20, gamma=0.1)\n",
        "train_network(model, train_loader, val_loader, correct_index, 10, optimizer=optimizer, print_results=True)"
      ],
      "execution_count": null,
      "outputs": [
        {
          "output_type": "stream",
          "text": [
            "\r  0%|          | 0/10 [00:00<?, ?it/s]"
          ],
          "name": "stderr"
        },
        {
          "output_type": "stream",
          "text": [
            "\n",
            "Loss on training set:  3.4172888289435517\n",
            "Accuracy on training set:  5.240641711229946\n"
          ],
          "name": "stdout"
        },
        {
          "output_type": "stream",
          "text": [
            "\r 10%|█         | 1/10 [00:22<03:23, 22.66s/it]"
          ],
          "name": "stderr"
        },
        {
          "output_type": "stream",
          "text": [
            "\n",
            "Accuracy on validation set:  2.0678513731825525\n",
            "--------------------\n",
            "\n",
            "Loss on training set:  3.2332817370447295\n",
            "Accuracy on training set:  11.7696421225833\n"
          ],
          "name": "stdout"
        },
        {
          "output_type": "stream",
          "text": [
            "\r 20%|██        | 2/10 [00:44<03:00, 22.53s/it]"
          ],
          "name": "stderr"
        },
        {
          "output_type": "stream",
          "text": [
            "\n",
            "Accuracy on validation set:  4.620355411954765\n",
            "--------------------\n",
            "\n",
            "Loss on training set:  2.900084102062569\n",
            "Accuracy on training set:  21.23406005758947\n"
          ],
          "name": "stdout"
        },
        {
          "output_type": "stream",
          "text": [
            "\r 30%|███       | 3/10 [01:07<02:37, 22.47s/it]"
          ],
          "name": "stderr"
        },
        {
          "output_type": "stream",
          "text": [
            "\n",
            "Accuracy on validation set:  4.94345718901454\n",
            "--------------------\n",
            "\n",
            "Loss on training set:  2.551210919352335\n",
            "Accuracy on training set:  31.404360345536816\n"
          ],
          "name": "stdout"
        },
        {
          "output_type": "stream",
          "text": [
            "\r 40%|████      | 4/10 [01:29<02:14, 22.42s/it]"
          ],
          "name": "stderr"
        },
        {
          "output_type": "stream",
          "text": [
            "\n",
            "Accuracy on validation set:  4.94345718901454\n",
            "--------------------\n",
            "\n",
            "Loss on training set:  2.2647153071031214\n",
            "Accuracy on training set:  39.60180995475113\n"
          ],
          "name": "stdout"
        },
        {
          "output_type": "stream",
          "text": [
            "\r 50%|█████     | 5/10 [01:52<01:52, 22.47s/it]"
          ],
          "name": "stderr"
        },
        {
          "output_type": "stream",
          "text": [
            "\n",
            "Accuracy on validation set:  4.975767366720517\n",
            "--------------------\n",
            "\n",
            "Loss on training set:  2.037524212382547\n",
            "Accuracy on training set:  46.14397367338544\n"
          ],
          "name": "stdout"
        },
        {
          "output_type": "stream",
          "text": [
            "\r 60%|██████    | 6/10 [02:14<01:29, 22.49s/it]"
          ],
          "name": "stderr"
        },
        {
          "output_type": "stream",
          "text": [
            "\n",
            "Accuracy on validation set:  5.040387722132472\n",
            "--------------------\n",
            "\n",
            "Loss on training set:  1.8579017580629424\n",
            "Accuracy on training set:  51.33196215549157\n"
          ],
          "name": "stdout"
        },
        {
          "output_type": "stream",
          "text": [
            "\r 70%|███████   | 7/10 [02:37<01:07, 22.47s/it]"
          ],
          "name": "stderr"
        },
        {
          "output_type": "stream",
          "text": [
            "\n",
            "Accuracy on validation set:  4.749596122778676\n",
            "--------------------\n",
            "\n",
            "Loss on training set:  1.7120674191968817\n",
            "Accuracy on training set:  55.555738379267794\n"
          ],
          "name": "stdout"
        },
        {
          "output_type": "stream",
          "text": [
            "\r 80%|████████  | 8/10 [02:59<00:44, 22.45s/it]"
          ],
          "name": "stderr"
        },
        {
          "output_type": "stream",
          "text": [
            "\n",
            "Accuracy on validation set:  4.878836833602585\n",
            "--------------------\n",
            "\n",
            "Loss on training set:  1.5950831554711773\n",
            "Accuracy on training set:  58.82517482517483\n"
          ],
          "name": "stdout"
        },
        {
          "output_type": "stream",
          "text": [
            "\r 90%|█████████ | 9/10 [03:21<00:22, 22.45s/it]"
          ],
          "name": "stderr"
        },
        {
          "output_type": "stream",
          "text": [
            "\n",
            "Accuracy on validation set:  5.621970920840065\n",
            "--------------------\n",
            "\n",
            "Loss on training set:  1.4921360309836993\n",
            "Accuracy on training set:  61.77704648292884\n"
          ],
          "name": "stdout"
        },
        {
          "output_type": "stream",
          "text": [
            "100%|██████████| 10/10 [03:44<00:00, 22.43s/it]"
          ],
          "name": "stderr"
        },
        {
          "output_type": "stream",
          "text": [
            "\n",
            "Accuracy on validation set:  5.912762520193861\n",
            "--------------------\n"
          ],
          "name": "stdout"
        },
        {
          "output_type": "stream",
          "text": [
            "\n"
          ],
          "name": "stderr"
        }
      ]
    },
    {
      "cell_type": "markdown",
      "metadata": {
        "id": "c4RreOQTeBQQ"
      },
      "source": [
        "## Hidden size: 256, Learning rate: 0.001 "
      ]
    },
    {
      "cell_type": "code",
      "metadata": {
        "colab": {
          "base_uri": "https://localhost:8080/"
        },
        "id": "0iTMoUOegRXX",
        "outputId": "4d953e8c-3398-4b81-ed28-ea377599f3de"
      },
      "source": [
        "model = RNN(n_output=32, n_hidden=256, device=device)\n",
        "model.to(device)\n",
        "optimizer = Adam(model.parameters(), lr=0.001, weight_decay=0.0001)\n",
        "scheduler = lr_scheduler.StepLR(optimizer, step_size=20, gamma=0.1)\n",
        "train_network(model, train_loader, val_loader, correct_index, 10, optimizer=optimizer, print_results=True)"
      ],
      "execution_count": null,
      "outputs": [
        {
          "output_type": "stream",
          "text": [
            "\r  0%|          | 0/10 [00:00<?, ?it/s]"
          ],
          "name": "stderr"
        },
        {
          "output_type": "stream",
          "text": [
            "\n",
            "Loss on training set:  3.4136468289193673\n",
            "Accuracy on training set:  5.446318387494858\n"
          ],
          "name": "stdout"
        },
        {
          "output_type": "stream",
          "text": [
            "\r 10%|█         | 1/10 [00:23<03:29, 23.29s/it]"
          ],
          "name": "stderr"
        },
        {
          "output_type": "stream",
          "text": [
            "\n",
            "Accuracy on validation set:  2.3909531502423262\n",
            "--------------------\n",
            "\n",
            "Loss on training set:  3.2384971882001405\n",
            "Accuracy on training set:  11.164129987659399\n"
          ],
          "name": "stdout"
        },
        {
          "output_type": "stream",
          "text": [
            "\r 20%|██        | 2/10 [00:46<03:06, 23.33s/it]"
          ],
          "name": "stderr"
        },
        {
          "output_type": "stream",
          "text": [
            "\n",
            "Accuracy on validation set:  3.8449111470113086\n",
            "--------------------\n",
            "\n",
            "Loss on training set:  2.9316902912089677\n",
            "Accuracy on training set:  19.888111888111887\n"
          ],
          "name": "stdout"
        },
        {
          "output_type": "stream",
          "text": [
            "\r 30%|███       | 3/10 [01:10<02:43, 23.33s/it]"
          ],
          "name": "stderr"
        },
        {
          "output_type": "stream",
          "text": [
            "\n",
            "Accuracy on validation set:  5.363489499192245\n",
            "--------------------\n",
            "\n",
            "Loss on training set:  2.588783091961332\n",
            "Accuracy on training set:  29.525298231180585\n"
          ],
          "name": "stdout"
        },
        {
          "output_type": "stream",
          "text": [
            "\r 40%|████      | 4/10 [01:33<02:19, 23.33s/it]"
          ],
          "name": "stderr"
        },
        {
          "output_type": "stream",
          "text": [
            "\n",
            "Accuracy on validation set:  4.878836833602585\n",
            "--------------------\n",
            "\n",
            "Loss on training set:  2.2973461369946384\n",
            "Accuracy on training set:  38.09296585767174\n"
          ],
          "name": "stdout"
        },
        {
          "output_type": "stream",
          "text": [
            "\r 50%|█████     | 5/10 [01:56<01:56, 23.33s/it]"
          ],
          "name": "stderr"
        },
        {
          "output_type": "stream",
          "text": [
            "\n",
            "Accuracy on validation set:  5.815831987075929\n",
            "--------------------\n",
            "\n",
            "Loss on training set:  2.062887517049547\n",
            "Accuracy on training set:  44.988893459481694\n"
          ],
          "name": "stdout"
        },
        {
          "output_type": "stream",
          "text": [
            "\r 60%|██████    | 6/10 [02:19<01:33, 23.30s/it]"
          ],
          "name": "stderr"
        },
        {
          "output_type": "stream",
          "text": [
            "\n",
            "Accuracy on validation set:  5.4927302100161555\n",
            "--------------------\n",
            "\n",
            "Loss on training set:  1.8789597425143054\n",
            "Accuracy on training set:  50.29206088029618\n"
          ],
          "name": "stdout"
        },
        {
          "output_type": "stream",
          "text": [
            "\r 70%|███████   | 7/10 [02:43<01:09, 23.31s/it]"
          ],
          "name": "stderr"
        },
        {
          "output_type": "stream",
          "text": [
            "\n",
            "Accuracy on validation set:  5.105008077544427\n",
            "--------------------\n",
            "\n",
            "Loss on training set:  1.7289373279353415\n",
            "Accuracy on training set:  54.617852735499795\n"
          ],
          "name": "stdout"
        },
        {
          "output_type": "stream",
          "text": [
            "\r 80%|████████  | 8/10 [03:06<00:46, 23.31s/it]"
          ],
          "name": "stderr"
        },
        {
          "output_type": "stream",
          "text": [
            "\n",
            "Accuracy on validation set:  5.4927302100161555\n",
            "--------------------\n",
            "\n",
            "Loss on training set:  1.6032931194223037\n",
            "Accuracy on training set:  58.13903743315508\n"
          ],
          "name": "stdout"
        },
        {
          "output_type": "stream",
          "text": [
            "\r 90%|█████████ | 9/10 [03:29<00:23, 23.26s/it]"
          ],
          "name": "stderr"
        },
        {
          "output_type": "stream",
          "text": [
            "\n",
            "Accuracy on validation set:  5.880452342487883\n",
            "--------------------\n",
            "\n",
            "Loss on training set:  1.5069775782902513\n",
            "Accuracy on training set:  60.872069107363224\n"
          ],
          "name": "stdout"
        },
        {
          "output_type": "stream",
          "text": [
            "100%|██████████| 10/10 [03:53<00:00, 23.31s/it]"
          ],
          "name": "stderr"
        },
        {
          "output_type": "stream",
          "text": [
            "\n",
            "Accuracy on validation set:  6.3974151857835215\n",
            "--------------------\n"
          ],
          "name": "stdout"
        },
        {
          "output_type": "stream",
          "text": [
            "\n"
          ],
          "name": "stderr"
        }
      ]
    },
    {
      "cell_type": "markdown",
      "metadata": {
        "id": "Wtq8OHKGgaA4"
      },
      "source": [
        "## Summary of hidden size impact on acc"
      ]
    },
    {
      "cell_type": "code",
      "metadata": {
        "colab": {
          "base_uri": "https://localhost:8080/",
          "height": 295
        },
        "id": "UogTUf8beBld",
        "outputId": "2b4b8da5-6d2b-4c2f-9dba-e9b262004c79"
      },
      "source": [
        "import matplotlib.pyplot as plt\n",
        "hs = [16, 32, 64, 128, 256]\n",
        "accs_tr = [29.14, 43.56, 55.95, 61.78, 60.87]\n",
        "accs_val = [4.49, 4.33, 5.20, 5.91, 6.40]\n",
        "plt.plot(hs, accs_tr)\n",
        "plt.plot(hs, accs_val)\n",
        "plt.title('How hidden size affects acc')\n",
        "plt.ylabel('Acc')\n",
        "plt.xlabel('Hidden size (log scale)')\n",
        "plt.legend(['Training','Validation'])\n",
        "plt.show()"
      ],
      "execution_count": null,
      "outputs": [
        {
          "output_type": "display_data",
          "data": {
            "image/png": "[encoded data removed]",
            "text/plain": [
              "<Figure size 432x288 with 1 Axes>"
            ]
          },
          "metadata": {
            "tags": [],
            "needs_background": "light"
          }
        }
      ]
    },
    {
      "cell_type": "markdown",
      "metadata": {
        "id": "fwP4V3TnjNHj"
      },
      "source": [
        "# Different learning rates and optimizers"
      ]
    },
    {
      "cell_type": "markdown",
      "metadata": {
        "id": "hshvbr61bA4h"
      },
      "source": [
        "## Adam, Learning rate: 0.01"
      ]
    },
    {
      "cell_type": "code",
      "metadata": {
        "id": "C50_VcIXjMEG",
        "colab": {
          "base_uri": "https://localhost:8080/"
        },
        "outputId": "ecd82b47-2a68-4950-f764-e2890db1dfde"
      },
      "source": [
        "model = RNN(n_output=32, n_hidden=500, device=device)\n",
        "model.to(device)\n",
        "optimizer = Adam(model.parameters(), lr=0.01, weight_decay=0.0001)\n",
        "scheduler = lr_scheduler.StepLR(optimizer, step_size=20, gamma=0.1)\n",
        "train_network(model, train_loader, val_loader, correct_index, 10, optimizer=optimizer, print_results=True)"
      ],
      "execution_count": 6,
      "outputs": [
        {
          "output_type": "stream",
          "text": [
            "\r  0%|          | 0/10 [00:00<?, ?it/s]"
          ],
          "name": "stderr"
        },
        {
          "output_type": "stream",
          "text": [
            "\n",
            "Loss on training set:  3.4354411122162416\n",
            "Accuracy on training set:  5.903743315508021\n"
          ],
          "name": "stdout"
        },
        {
          "output_type": "stream",
          "text": [
            "\r 10%|█         | 1/10 [00:32<04:52, 32.52s/it]"
          ],
          "name": "stderr"
        },
        {
          "output_type": "stream",
          "text": [
            "\n",
            "Accuracy on validation set:  2.1647819063004845\n",
            "--------------------\n",
            "\n",
            "Loss on training set:  3.392301762265857\n",
            "Accuracy on training set:  6.779103249691485\n"
          ],
          "name": "stdout"
        },
        {
          "output_type": "stream",
          "text": [
            "\r 20%|██        | 2/10 [01:04<04:19, 32.44s/it]"
          ],
          "name": "stderr"
        },
        {
          "output_type": "stream",
          "text": [
            "\n",
            "Accuracy on validation set:  4.20032310177706\n",
            "--------------------\n",
            "\n",
            "Loss on training set:  3.381138109644957\n",
            "Accuracy on training set:  7.081859317153435\n"
          ],
          "name": "stdout"
        },
        {
          "output_type": "stream",
          "text": [
            "\r 30%|███       | 3/10 [01:37<03:46, 32.43s/it]"
          ],
          "name": "stderr"
        },
        {
          "output_type": "stream",
          "text": [
            "\n",
            "Accuracy on validation set:  3.8126009693053313\n",
            "--------------------\n",
            "\n",
            "Loss on training set:  3.3729476290090443\n",
            "Accuracy on training set:  7.200329082682024\n"
          ],
          "name": "stdout"
        },
        {
          "output_type": "stream",
          "text": [
            "\r 40%|████      | 4/10 [02:09<03:14, 32.42s/it]"
          ],
          "name": "stderr"
        },
        {
          "output_type": "stream",
          "text": [
            "\n",
            "Accuracy on validation set:  2.617124394184168\n",
            "--------------------\n",
            "\n",
            "Loss on training set:  3.370186387147986\n",
            "Accuracy on training set:  7.284245166598108\n"
          ],
          "name": "stdout"
        },
        {
          "output_type": "stream",
          "text": [
            "\r 50%|█████     | 5/10 [02:42<02:42, 32.46s/it]"
          ],
          "name": "stderr"
        },
        {
          "output_type": "stream",
          "text": [
            "\n",
            "Accuracy on validation set:  2.3909531502423262\n",
            "--------------------\n",
            "\n",
            "Loss on training set:  3.3688090073096317\n",
            "Accuracy on training set:  7.3944878650761\n"
          ],
          "name": "stdout"
        },
        {
          "output_type": "stream",
          "text": [
            "\r 60%|██████    | 6/10 [03:14<02:10, 32.53s/it]"
          ],
          "name": "stderr"
        },
        {
          "output_type": "stream",
          "text": [
            "\n",
            "Accuracy on validation set:  3.5864297253634896\n",
            "--------------------\n",
            "\n",
            "Loss on training set:  3.3608559543965826\n",
            "Accuracy on training set:  7.549156725627314\n"
          ],
          "name": "stdout"
        },
        {
          "output_type": "stream",
          "text": [
            "\r 70%|███████   | 7/10 [03:47<01:37, 32.55s/it]"
          ],
          "name": "stderr"
        },
        {
          "output_type": "stream",
          "text": [
            "\n",
            "Accuracy on validation set:  4.006462035541196\n",
            "--------------------\n",
            "\n",
            "Loss on training set:  3.358269202582682\n",
            "Accuracy on training set:  7.420814479638009\n"
          ],
          "name": "stdout"
        },
        {
          "output_type": "stream",
          "text": [
            "\r 80%|████████  | 8/10 [04:20<01:05, 32.57s/it]"
          ],
          "name": "stderr"
        },
        {
          "output_type": "stream",
          "text": [
            "\n",
            "Accuracy on validation set:  3.974151857835218\n",
            "--------------------\n",
            "\n",
            "Loss on training set:  3.3576401445552775\n",
            "Accuracy on training set:  7.427396133278486\n"
          ],
          "name": "stdout"
        },
        {
          "output_type": "stream",
          "text": [
            "\r 90%|█████████ | 9/10 [04:52<00:32, 32.54s/it]"
          ],
          "name": "stderr"
        },
        {
          "output_type": "stream",
          "text": [
            "\n",
            "Accuracy on validation set:  3.134087237479806\n",
            "--------------------\n",
            "\n",
            "Loss on training set:  3.3580312799691465\n",
            "Accuracy on training set:  7.157548334018922\n"
          ],
          "name": "stdout"
        },
        {
          "output_type": "stream",
          "text": [
            "100%|██████████| 10/10 [05:24<00:00, 32.50s/it]"
          ],
          "name": "stderr"
        },
        {
          "output_type": "stream",
          "text": [
            "\n",
            "Accuracy on validation set:  3.1987075928917608\n",
            "--------------------\n"
          ],
          "name": "stdout"
        },
        {
          "output_type": "stream",
          "text": [
            "\n"
          ],
          "name": "stderr"
        }
      ]
    },
    {
      "cell_type": "code",
      "metadata": {
        "colab": {
          "base_uri": "https://localhost:8080/"
        },
        "id": "m_SCD_06bVBw",
        "outputId": "e38ebf52-86d6-4f4f-a9b0-173f959768ce"
      },
      "source": [
        "evaluate_network(model, test_loader, correct_index)"
      ],
      "execution_count": 9,
      "outputs": [
        {
          "output_type": "stream",
          "text": [
            "Accuracy o test set:  3.2414910858995136\n"
          ],
          "name": "stdout"
        }
      ]
    },
    {
      "cell_type": "markdown",
      "metadata": {
        "id": "dXhjoHYobIAg"
      },
      "source": [
        "## Adam, Learning rate: 0.001"
      ]
    },
    {
      "cell_type": "code",
      "metadata": {
        "colab": {
          "base_uri": "https://localhost:8080/"
        },
        "id": "2K9YqJbXXdOq",
        "outputId": "fb5bb870-cf3f-4aa6-b4b3-6a21d64a88bc"
      },
      "source": [
        "model2 = RNN(n_output=32, n_hidden=500, device=device)\n",
        "model2.to(device)\n",
        "optimizer = Adam(model2.parameters(), lr=0.001, weight_decay=0.0001)\n",
        "scheduler = lr_scheduler.StepLR(optimizer, step_size=20, gamma=0.1)\n",
        "train_network(model2, train_loader, val_loader, correct_index, 10, optimizer=optimizer, print_results=True)"
      ],
      "execution_count": 7,
      "outputs": [
        {
          "output_type": "stream",
          "text": [
            "\r  0%|          | 0/10 [00:00<?, ?it/s]"
          ],
          "name": "stderr"
        },
        {
          "output_type": "stream",
          "text": [
            "\n",
            "Loss on training set:  3.4184837212595904\n",
            "Accuracy on training set:  5.398601398601398\n"
          ],
          "name": "stdout"
        },
        {
          "output_type": "stream",
          "text": [
            "\r 10%|█         | 1/10 [00:32<04:53, 32.63s/it]"
          ],
          "name": "stderr"
        },
        {
          "output_type": "stream",
          "text": [
            "\n",
            "Accuracy on validation set:  2.3909531502423262\n",
            "--------------------\n",
            "\n",
            "Loss on training set:  3.291911107608194\n",
            "Accuracy on training set:  9.467708761826408\n"
          ],
          "name": "stdout"
        },
        {
          "output_type": "stream",
          "text": [
            "\r 20%|██        | 2/10 [01:05<04:21, 32.70s/it]"
          ],
          "name": "stderr"
        },
        {
          "output_type": "stream",
          "text": [
            "\n",
            "Accuracy on validation set:  3.295638126009693\n",
            "--------------------\n",
            "\n",
            "Loss on training set:  3.0504266716059907\n",
            "Accuracy on training set:  16.02303578774167\n"
          ],
          "name": "stdout"
        },
        {
          "output_type": "stream",
          "text": [
            "\r 30%|███       | 3/10 [01:38<03:49, 32.74s/it]"
          ],
          "name": "stderr"
        },
        {
          "output_type": "stream",
          "text": [
            "\n",
            "Accuracy on validation set:  5.072697899838449\n",
            "--------------------\n",
            "\n",
            "Loss on training set:  2.7499592473309797\n",
            "Accuracy on training set:  24.727272727272727\n"
          ],
          "name": "stdout"
        },
        {
          "output_type": "stream",
          "text": [
            "\r 40%|████      | 4/10 [02:10<03:16, 32.69s/it]"
          ],
          "name": "stderr"
        },
        {
          "output_type": "stream",
          "text": [
            "\n",
            "Accuracy on validation set:  4.975767366720517\n",
            "--------------------\n",
            "\n",
            "Loss on training set:  2.448201000644365\n",
            "Accuracy on training set:  33.571369806663924\n"
          ],
          "name": "stdout"
        },
        {
          "output_type": "stream",
          "text": [
            "\r 50%|█████     | 5/10 [02:43<02:43, 32.65s/it]"
          ],
          "name": "stderr"
        },
        {
          "output_type": "stream",
          "text": [
            "\n",
            "Accuracy on validation set:  5.201938610662359\n",
            "--------------------\n",
            "\n",
            "Loss on training set:  2.1905935399476415\n",
            "Accuracy on training set:  41.02838338132456\n"
          ],
          "name": "stdout"
        },
        {
          "output_type": "stream",
          "text": [
            "\r 60%|██████    | 6/10 [03:15<02:10, 32.56s/it]"
          ],
          "name": "stderr"
        },
        {
          "output_type": "stream",
          "text": [
            "\n",
            "Accuracy on validation set:  5.363489499192245\n",
            "--------------------\n",
            "\n",
            "Loss on training set:  1.98276212848395\n",
            "Accuracy on training set:  47.18881118881119\n"
          ],
          "name": "stdout"
        },
        {
          "output_type": "stream",
          "text": [
            "\r 70%|███████   | 7/10 [03:48<01:37, 32.57s/it]"
          ],
          "name": "stderr"
        },
        {
          "output_type": "stream",
          "text": [
            "\n",
            "Accuracy on validation set:  5.4927302100161555\n",
            "--------------------\n",
            "\n",
            "Loss on training set:  1.8152131871223842\n",
            "Accuracy on training set:  51.87988482106129\n"
          ],
          "name": "stdout"
        },
        {
          "output_type": "stream",
          "text": [
            "\r 80%|████████  | 8/10 [04:21<01:05, 32.67s/it]"
          ],
          "name": "stderr"
        },
        {
          "output_type": "stream",
          "text": [
            "\n",
            "Accuracy on validation set:  5.331179321486268\n",
            "--------------------\n",
            "\n",
            "Loss on training set:  1.677021314498575\n",
            "Accuracy on training set:  56.100370218017275\n"
          ],
          "name": "stdout"
        },
        {
          "output_type": "stream",
          "text": [
            "\r 90%|█████████ | 9/10 [04:53<00:32, 32.67s/it]"
          ],
          "name": "stderr"
        },
        {
          "output_type": "stream",
          "text": [
            "\n",
            "Accuracy on validation set:  5.4281098546042\n",
            "--------------------\n",
            "\n",
            "Loss on training set:  1.5686081764071333\n",
            "Accuracy on training set:  59.086795557383795\n"
          ],
          "name": "stdout"
        },
        {
          "output_type": "stream",
          "text": [
            "100%|██████████| 10/10 [05:26<00:00, 32.65s/it]"
          ],
          "name": "stderr"
        },
        {
          "output_type": "stream",
          "text": [
            "\n",
            "Accuracy on validation set:  5.55735056542811\n",
            "--------------------\n"
          ],
          "name": "stdout"
        },
        {
          "output_type": "stream",
          "text": [
            "\n"
          ],
          "name": "stderr"
        }
      ]
    },
    {
      "cell_type": "code",
      "metadata": {
        "colab": {
          "base_uri": "https://localhost:8080/"
        },
        "id": "9DBd3kUKbW0R",
        "outputId": "13009b52-370e-4ec9-f40c-d19559e551fc"
      },
      "source": [
        "evaluate_network(model2, test_loader, correct_index)"
      ],
      "execution_count": 10,
      "outputs": [
        {
          "output_type": "stream",
          "text": [
            "Accuracy o test set:  5.672609400324149\n"
          ],
          "name": "stdout"
        }
      ]
    },
    {
      "cell_type": "markdown",
      "metadata": {
        "id": "nRnSpsgubXmG"
      },
      "source": [
        "## Adam, Learning rate: 0.0001"
      ]
    },
    {
      "cell_type": "code",
      "metadata": {
        "colab": {
          "base_uri": "https://localhost:8080/"
        },
        "id": "lYsQBi3GXm0v",
        "outputId": "e9fb10e8-4e8c-4e13-8090-3dd3344aa365"
      },
      "source": [
        "model3 = RNN(n_output=32, n_hidden=500, device=device)\n",
        "model3.to(device)\n",
        "optimizer = Adam(model3.parameters(), lr=0.0001, weight_decay=0.0001)\n",
        "scheduler = lr_scheduler.StepLR(optimizer, step_size=20, gamma=0.1)\n",
        "train_network(model3, train_loader, val_loader, correct_index, 10, optimizer=optimizer, print_results=True)"
      ],
      "execution_count": 12,
      "outputs": [
        {
          "output_type": "stream",
          "text": [
            "\r  0%|          | 0/10 [00:00<?, ?it/s]"
          ],
          "name": "stderr"
        },
        {
          "output_type": "stream",
          "text": [
            "\n",
            "Loss on training set:  3.444149767947462\n",
            "Accuracy on training set:  4.523241464417935\n"
          ],
          "name": "stdout"
        },
        {
          "output_type": "stream",
          "text": [
            "\r 10%|█         | 1/10 [00:32<04:53, 32.63s/it]"
          ],
          "name": "stderr"
        },
        {
          "output_type": "stream",
          "text": [
            "\n",
            "Accuracy on validation set:  1.5508885298869144\n",
            "--------------------\n",
            "\n",
            "Loss on training set:  3.3641683679272343\n",
            "Accuracy on training set:  10.64911559029206\n"
          ],
          "name": "stdout"
        },
        {
          "output_type": "stream",
          "text": [
            "\r 20%|██        | 2/10 [01:05<04:21, 32.65s/it]"
          ],
          "name": "stderr"
        },
        {
          "output_type": "stream",
          "text": [
            "\n",
            "Accuracy on validation set:  1.615508885298869\n",
            "--------------------\n",
            "\n",
            "Loss on training set:  3.2764780475690207\n",
            "Accuracy on training set:  13.742492801316331\n"
          ],
          "name": "stdout"
        },
        {
          "output_type": "stream",
          "text": [
            "\r 30%|███       | 3/10 [01:38<03:48, 32.69s/it]"
          ],
          "name": "stderr"
        },
        {
          "output_type": "stream",
          "text": [
            "\n",
            "Accuracy on validation set:  2.035541195476575\n",
            "--------------------\n",
            "\n",
            "Loss on training set:  3.163500600788928\n",
            "Accuracy on training set:  17.276840806252572\n"
          ],
          "name": "stdout"
        },
        {
          "output_type": "stream",
          "text": [
            "\r 40%|████      | 4/10 [02:11<03:16, 32.82s/it]"
          ],
          "name": "stderr"
        },
        {
          "output_type": "stream",
          "text": [
            "\n",
            "Accuracy on validation set:  2.9402261712439417\n",
            "--------------------\n",
            "\n",
            "Loss on training set:  3.033065974456398\n",
            "Accuracy on training set:  20.88358700123406\n"
          ],
          "name": "stdout"
        },
        {
          "output_type": "stream",
          "text": [
            "\r 50%|█████     | 5/10 [02:44<02:44, 32.98s/it]"
          ],
          "name": "stderr"
        },
        {
          "output_type": "stream",
          "text": [
            "\n",
            "Accuracy on validation set:  3.4248788368336025\n",
            "--------------------\n",
            "\n",
            "Loss on training set:  2.9034208049130803\n",
            "Accuracy on training set:  24.422871246400657\n"
          ],
          "name": "stdout"
        },
        {
          "output_type": "stream",
          "text": [
            "\r 60%|██████    | 6/10 [03:17<02:12, 33.05s/it]"
          ],
          "name": "stderr"
        },
        {
          "output_type": "stream",
          "text": [
            "\n",
            "Accuracy on validation set:  3.6510500807754442\n",
            "--------------------\n",
            "\n",
            "Loss on training set:  2.7842257288207444\n",
            "Accuracy on training set:  27.46524064171123\n"
          ],
          "name": "stdout"
        },
        {
          "output_type": "stream",
          "text": [
            "\r 70%|███████   | 7/10 [03:50<01:39, 33.03s/it]"
          ],
          "name": "stderr"
        },
        {
          "output_type": "stream",
          "text": [
            "\n",
            "Accuracy on validation set:  3.9095315024232633\n",
            "--------------------\n",
            "\n",
            "Loss on training set:  2.6756259509870812\n",
            "Accuracy on training set:  30.352941176470587\n"
          ],
          "name": "stdout"
        },
        {
          "output_type": "stream",
          "text": [
            "\r 80%|████████  | 8/10 [04:23<01:06, 33.04s/it]"
          ],
          "name": "stderr"
        },
        {
          "output_type": "stream",
          "text": [
            "\n",
            "Accuracy on validation set:  4.426494345718901\n",
            "--------------------\n",
            "\n",
            "Loss on training set:  2.576517813579382\n",
            "Accuracy on training set:  33.22912381735911\n"
          ],
          "name": "stdout"
        },
        {
          "output_type": "stream",
          "text": [
            "\r 90%|█████████ | 9/10 [04:56<00:33, 33.02s/it]"
          ],
          "name": "stderr"
        },
        {
          "output_type": "stream",
          "text": [
            "\n",
            "Accuracy on validation set:  4.555735056542811\n",
            "--------------------\n",
            "\n",
            "Loss on training set:  2.485510066305841\n",
            "Accuracy on training set:  35.63800904977376\n"
          ],
          "name": "stdout"
        },
        {
          "output_type": "stream",
          "text": [
            "100%|██████████| 10/10 [05:29<00:00, 33.00s/it]"
          ],
          "name": "stderr"
        },
        {
          "output_type": "stream",
          "text": [
            "\n",
            "Accuracy on validation set:  4.684975767366721\n",
            "--------------------\n"
          ],
          "name": "stdout"
        },
        {
          "output_type": "stream",
          "text": [
            "\n"
          ],
          "name": "stderr"
        }
      ]
    },
    {
      "cell_type": "code",
      "metadata": {
        "colab": {
          "base_uri": "https://localhost:8080/"
        },
        "id": "-T2HIdBfd4Ol",
        "outputId": "884355f5-151a-46f6-f2cd-8d566fa3c57b"
      },
      "source": [
        "evaluate_network(model3, test_loader, correct_index)"
      ],
      "execution_count": 13,
      "outputs": [
        {
          "output_type": "stream",
          "text": [
            "Accuracy o test set:  4.894651539708266\n"
          ],
          "name": "stdout"
        }
      ]
    },
    {
      "cell_type": "markdown",
      "metadata": {
        "id": "hNZ4bbUrbNt2"
      },
      "source": [
        "## Comparing training for Adam"
      ]
    },
    {
      "cell_type": "code",
      "metadata": {
        "colab": {
          "base_uri": "https://localhost:8080/",
          "height": 295
        },
        "id": "bpuTHPM2V6cw",
        "outputId": "822c246c-5019-4201-d4e7-966af8bc9de9"
      },
      "source": [
        "import matplotlib.pyplot as plt\n",
        "epochs = [i for i in range(10)]\n",
        "plt.plot(epochs, model.train_accuracy)\n",
        "plt.plot(epochs, model2.train_accuracy)\n",
        "plt.plot(epochs, model3.train_accuracy)\n",
        "plt.plot(epochs, model.val_accuracy)\n",
        "plt.plot(epochs, model2.val_accuracy)\n",
        "plt.plot(epochs, model3.val_accuracy)\n",
        "\n",
        "plt.title('Acc during training for different learning rates')\n",
        "plt.ylabel('Acc')\n",
        "plt.xlabel('Epochs')\n",
        "plt.legend(['Train, 0.01', 'Train, 0.001', 'Train, 0.0001',\n",
        "            'Valid, 0.01', 'Valid, 0.001', 'Valid, 0.0001'])\n",
        "plt.show()"
      ],
      "execution_count": 15,
      "outputs": [
        {
          "output_type": "display_data",
          "data": {
            "image/png": "[encoded data removed]",
            "text/plain": [
              "<Figure size 432x288 with 1 Axes>"
            ]
          },
          "metadata": {
            "tags": [],
            "needs_background": "light"
          }
        }
      ]
    },
    {
      "cell_type": "markdown",
      "metadata": {
        "id": "Hgitw7ToeDSi"
      },
      "source": [
        "## RMSProp, Learning rate: 0.01"
      ]
    },
    {
      "cell_type": "code",
      "metadata": {
        "colab": {
          "base_uri": "https://localhost:8080/"
        },
        "id": "fsX9d8IIGktd",
        "outputId": "69f63169-5fc0-4e5c-e866-7f897862f39a"
      },
      "source": [
        "model = RNN(n_output=32, n_hidden=256, device=device)\n",
        "model.to(device)\n",
        "optimizer = RMSprop(model.parameters(), lr=0.0001, weight_decay=0.0001)\n",
        "scheduler = lr_scheduler.StepLR(optimizer, step_size=20, gamma=0.1)\n",
        "train_network(model, train_loader, val_loader, correct_index, 10, optimizer=optimizer, print_results=True)"
      ],
      "execution_count": 6,
      "outputs": [
        {
          "output_type": "stream",
          "text": [
            "\r  0%|          | 0/10 [00:00<?, ?it/s]"
          ],
          "name": "stderr"
        },
        {
          "output_type": "stream",
          "text": [
            "\n",
            "Loss on training set:  3.445383280703483\n",
            "Accuracy on training set:  4.691073632250103\n"
          ],
          "name": "stdout"
        },
        {
          "output_type": "stream",
          "text": [
            "\r 10%|█         | 1/10 [00:27<04:05, 27.23s/it]"
          ],
          "name": "stderr"
        },
        {
          "output_type": "stream",
          "text": [
            "\n",
            "Accuracy on validation set:  1.518578352180937\n",
            "--------------------\n",
            "\n",
            "Loss on training set:  3.379016904340561\n",
            "Accuracy on training set:  10.522418757712876\n"
          ],
          "name": "stdout"
        },
        {
          "output_type": "stream",
          "text": [
            "\r 20%|██        | 2/10 [00:46<03:19, 24.97s/it]"
          ],
          "name": "stderr"
        },
        {
          "output_type": "stream",
          "text": [
            "\n",
            "Accuracy on validation set:  1.4216478190630049\n",
            "--------------------\n",
            "\n",
            "Loss on training set:  3.3152926087389263\n",
            "Accuracy on training set:  13.360756890168656\n"
          ],
          "name": "stdout"
        },
        {
          "output_type": "stream",
          "text": [
            "\r 30%|███       | 3/10 [01:06<02:43, 23.42s/it]"
          ],
          "name": "stderr"
        },
        {
          "output_type": "stream",
          "text": [
            "\n",
            "Accuracy on validation set:  1.6478190630048466\n",
            "--------------------\n",
            "\n",
            "Loss on training set:  3.239763004023663\n",
            "Accuracy on training set:  16.095433977786918\n"
          ],
          "name": "stdout"
        },
        {
          "output_type": "stream",
          "text": [
            "\r 40%|████      | 4/10 [01:26<02:13, 22.30s/it]"
          ],
          "name": "stderr"
        },
        {
          "output_type": "stream",
          "text": [
            "\n",
            "Accuracy on validation set:  2.003231017770598\n",
            "--------------------\n",
            "\n",
            "Loss on training set:  3.149742600422541\n",
            "Accuracy on training set:  18.9337721102427\n"
          ],
          "name": "stdout"
        },
        {
          "output_type": "stream",
          "text": [
            "\r 50%|█████     | 5/10 [01:46<01:47, 21.50s/it]"
          ],
          "name": "stderr"
        },
        {
          "output_type": "stream",
          "text": [
            "\n",
            "Accuracy on validation set:  2.4878836833602587\n",
            "--------------------\n",
            "\n",
            "Loss on training set:  3.0487947357676735\n",
            "Accuracy on training set:  21.849444672974084\n"
          ],
          "name": "stdout"
        },
        {
          "output_type": "stream",
          "text": [
            "\r 60%|██████    | 6/10 [02:05<01:24, 21.00s/it]"
          ],
          "name": "stderr"
        },
        {
          "output_type": "stream",
          "text": [
            "\n",
            "Accuracy on validation set:  3.134087237479806\n",
            "--------------------\n",
            "\n",
            "Loss on training set:  2.9438478146007356\n",
            "Accuracy on training set:  24.725627313862606\n"
          ],
          "name": "stdout"
        },
        {
          "output_type": "stream",
          "text": [
            "\r 70%|███████   | 7/10 [02:25<01:01, 20.63s/it]"
          ],
          "name": "stderr"
        },
        {
          "output_type": "stream",
          "text": [
            "\n",
            "Accuracy on validation set:  3.4248788368336025\n",
            "--------------------\n",
            "\n",
            "Loss on training set:  2.839798484117295\n",
            "Accuracy on training set:  27.389551624845744\n"
          ],
          "name": "stdout"
        },
        {
          "output_type": "stream",
          "text": [
            "\r 80%|████████  | 8/10 [02:45<00:40, 20.41s/it]"
          ],
          "name": "stderr"
        },
        {
          "output_type": "stream",
          "text": [
            "\n",
            "Accuracy on validation set:  4.168012924071083\n",
            "--------------------\n",
            "\n",
            "Loss on training set:  2.741390087381894\n",
            "Accuracy on training set:  29.754010695187166\n"
          ],
          "name": "stdout"
        },
        {
          "output_type": "stream",
          "text": [
            "\r 90%|█████████ | 9/10 [03:05<00:20, 20.23s/it]"
          ],
          "name": "stderr"
        },
        {
          "output_type": "stream",
          "text": [
            "\n",
            "Accuracy on validation set:  4.329563812600969\n",
            "--------------------\n",
            "\n",
            "Loss on training set:  2.648708031923866\n",
            "Accuracy on training set:  32.100370218017275\n"
          ],
          "name": "stdout"
        },
        {
          "output_type": "stream",
          "text": [
            "100%|██████████| 10/10 [03:25<00:00, 20.51s/it]"
          ],
          "name": "stderr"
        },
        {
          "output_type": "stream",
          "text": [
            "\n",
            "Accuracy on validation set:  4.652665589660743\n",
            "--------------------\n"
          ],
          "name": "stdout"
        },
        {
          "output_type": "stream",
          "text": [
            "\n"
          ],
          "name": "stderr"
        }
      ]
    },
    {
      "cell_type": "code",
      "metadata": {
        "colab": {
          "base_uri": "https://localhost:8080/"
        },
        "id": "EOi8-f2DUuH0",
        "outputId": "c0e52ab7-34bb-4228-8a34-8e7a1ede189e"
      },
      "source": [
        "evaluate_network(model, test_loader, correct_index)"
      ],
      "execution_count": 7,
      "outputs": [
        {
          "output_type": "stream",
          "text": [
            "Accuracy o test set:  4.1491085899513775\n"
          ],
          "name": "stdout"
        }
      ]
    },
    {
      "cell_type": "markdown",
      "metadata": {
        "id": "PprZXa_deO7s"
      },
      "source": [
        "## RMSProp, Learning rate: 0.001"
      ]
    },
    {
      "cell_type": "code",
      "metadata": {
        "colab": {
          "base_uri": "https://localhost:8080/"
        },
        "id": "93Cc9j_AeQpd",
        "outputId": "c4ddb2c1-37b2-4938-f55c-bc0a58a8f64b"
      },
      "source": [
        "model2 = RNN(n_output=32, n_hidden=500, device=device)\n",
        "model2.to(device)\n",
        "optimizer = RMSprop(model2.parameters(), lr=0.001, weight_decay=0.0001)\n",
        "scheduler = lr_scheduler.StepLR(optimizer, step_size=20, gamma=0.1)\n",
        "train_network(model2, train_loader, val_loader, correct_index, 10, optimizer=optimizer, print_results=True)"
      ],
      "execution_count": 8,
      "outputs": [
        {
          "output_type": "stream",
          "text": [
            "\r  0%|          | 0/10 [00:00<?, ?it/s]"
          ],
          "name": "stderr"
        },
        {
          "output_type": "stream",
          "text": [
            "\n",
            "Loss on training set:  3.4132712072563094\n",
            "Accuracy on training set:  5.3689839572192515\n"
          ],
          "name": "stdout"
        },
        {
          "output_type": "stream",
          "text": [
            "\r 10%|█         | 1/10 [00:21<03:13, 21.55s/it]"
          ],
          "name": "stderr"
        },
        {
          "output_type": "stream",
          "text": [
            "\n",
            "Accuracy on validation set:  2.4232633279483036\n",
            "--------------------\n",
            "\n",
            "Loss on training set:  3.2554363330721805\n",
            "Accuracy on training set:  10.644179350061703\n"
          ],
          "name": "stdout"
        },
        {
          "output_type": "stream",
          "text": [
            "\r 20%|██        | 2/10 [00:43<02:52, 21.53s/it]"
          ],
          "name": "stderr"
        },
        {
          "output_type": "stream",
          "text": [
            "\n",
            "Accuracy on validation set:  3.6833602584814216\n",
            "--------------------\n",
            "\n",
            "Loss on training set:  2.983532564217345\n",
            "Accuracy on training set:  18.41546688605512\n"
          ],
          "name": "stdout"
        },
        {
          "output_type": "stream",
          "text": [
            "\r 30%|███       | 3/10 [01:04<02:30, 21.54s/it]"
          ],
          "name": "stderr"
        },
        {
          "output_type": "stream",
          "text": [
            "\n",
            "Accuracy on validation set:  4.81421647819063\n",
            "--------------------\n",
            "\n",
            "Loss on training set:  2.673862613856866\n",
            "Accuracy on training set:  26.869600987248045\n"
          ],
          "name": "stdout"
        },
        {
          "output_type": "stream",
          "text": [
            "\r 40%|████      | 4/10 [01:26<02:09, 21.50s/it]"
          ],
          "name": "stderr"
        },
        {
          "output_type": "stream",
          "text": [
            "\n",
            "Accuracy on validation set:  5.460420032310178\n",
            "--------------------\n",
            "\n",
            "Loss on training set:  2.391609041181821\n",
            "Accuracy on training set:  35.21349238996298\n"
          ],
          "name": "stdout"
        },
        {
          "output_type": "stream",
          "text": [
            "\r 50%|█████     | 5/10 [01:47<01:47, 21.52s/it]"
          ],
          "name": "stderr"
        },
        {
          "output_type": "stream",
          "text": [
            "\n",
            "Accuracy on validation set:  5.589660743134087\n",
            "--------------------\n",
            "\n",
            "Loss on training set:  2.1564135401634363\n",
            "Accuracy on training set:  41.96955985191279\n"
          ],
          "name": "stdout"
        },
        {
          "output_type": "stream",
          "text": [
            "\r 60%|██████    | 6/10 [02:09<01:26, 21.54s/it]"
          ],
          "name": "stderr"
        },
        {
          "output_type": "stream",
          "text": [
            "\n",
            "Accuracy on validation set:  5.977382875605816\n",
            "--------------------\n",
            "\n",
            "Loss on training set:  1.9566322740141329\n",
            "Accuracy on training set:  47.93089263677499\n"
          ],
          "name": "stdout"
        },
        {
          "output_type": "stream",
          "text": [
            "\r 70%|███████   | 7/10 [02:31<01:05, 21.72s/it]"
          ],
          "name": "stderr"
        },
        {
          "output_type": "stream",
          "text": [
            "\n",
            "Accuracy on validation set:  5.525040387722132\n",
            "--------------------\n",
            "\n",
            "Loss on training set:  1.8010938595842796\n",
            "Accuracy on training set:  52.49197860962567\n"
          ],
          "name": "stdout"
        },
        {
          "output_type": "stream",
          "text": [
            "\r 80%|████████  | 8/10 [02:53<00:43, 21.80s/it]"
          ],
          "name": "stderr"
        },
        {
          "output_type": "stream",
          "text": [
            "\n",
            "Accuracy on validation set:  5.298869143780291\n",
            "--------------------\n",
            "\n",
            "Loss on training set:  1.6704742094853542\n",
            "Accuracy on training set:  56.126696832579185\n"
          ],
          "name": "stdout"
        },
        {
          "output_type": "stream",
          "text": [
            "\r 90%|█████████ | 9/10 [03:15<00:21, 21.87s/it]"
          ],
          "name": "stderr"
        },
        {
          "output_type": "stream",
          "text": [
            "\n",
            "Accuracy on validation set:  6.3974151857835215\n",
            "--------------------\n",
            "\n",
            "Loss on training set:  1.5627799643807232\n",
            "Accuracy on training set:  59.086795557383795\n"
          ],
          "name": "stdout"
        },
        {
          "output_type": "stream",
          "text": [
            "100%|██████████| 10/10 [03:37<00:00, 21.73s/it]"
          ],
          "name": "stderr"
        },
        {
          "output_type": "stream",
          "text": [
            "\n",
            "Accuracy on validation set:  6.365105008077545\n",
            "--------------------\n"
          ],
          "name": "stdout"
        },
        {
          "output_type": "stream",
          "text": [
            "\n"
          ],
          "name": "stderr"
        }
      ]
    },
    {
      "cell_type": "code",
      "metadata": {
        "colab": {
          "base_uri": "https://localhost:8080/"
        },
        "id": "ONT0qLRaeQ3Z",
        "outputId": "4575bc57-287e-44c8-d629-01d4d590491d"
      },
      "source": [
        "evaluate_network(model2, test_loader, correct_index)"
      ],
      "execution_count": 9,
      "outputs": [
        {
          "output_type": "stream",
          "text": [
            "Accuracy o test set:  5.4457050243111835\n"
          ],
          "name": "stdout"
        }
      ]
    },
    {
      "cell_type": "markdown",
      "metadata": {
        "id": "mLgoXKmyeRKR"
      },
      "source": [
        "## RMSProp, Learning rate: 0.0001"
      ]
    },
    {
      "cell_type": "code",
      "metadata": {
        "colab": {
          "base_uri": "https://localhost:8080/"
        },
        "id": "WvnIQhP2eTH7",
        "outputId": "7a341a46-5a18-4d32-8f16-e5187e9f73b0"
      },
      "source": [
        "model3 = RNN(n_output=32, n_hidden=500, device=device)\n",
        "model3.to(device)\n",
        "optimizer = RMSprop(model3.parameters(), lr=0.0001, weight_decay=0.0001)\n",
        "scheduler = lr_scheduler.StepLR(optimizer, step_size=20, gamma=0.1)\n",
        "train_network(model3, train_loader, val_loader, correct_index, 10, optimizer=optimizer, print_results=True)"
      ],
      "execution_count": 10,
      "outputs": [
        {
          "output_type": "stream",
          "text": [
            "\r  0%|          | 0/10 [00:00<?, ?it/s]"
          ],
          "name": "stderr"
        },
        {
          "output_type": "stream",
          "text": [
            "\n",
            "Loss on training set:  3.4405279202463204\n",
            "Accuracy on training set:  4.998765939942411\n"
          ],
          "name": "stdout"
        },
        {
          "output_type": "stream",
          "text": [
            "\r 10%|█         | 1/10 [00:22<03:21, 22.44s/it]"
          ],
          "name": "stderr"
        },
        {
          "output_type": "stream",
          "text": [
            "\n",
            "Accuracy on validation set:  1.4539579967689822\n",
            "--------------------\n",
            "\n",
            "Loss on training set:  3.3572566835912645\n",
            "Accuracy on training set:  10.86137392019745\n"
          ],
          "name": "stdout"
        },
        {
          "output_type": "stream",
          "text": [
            "\r 20%|██        | 2/10 [00:44<02:59, 22.39s/it]"
          ],
          "name": "stderr"
        },
        {
          "output_type": "stream",
          "text": [
            "\n",
            "Accuracy on validation set:  1.615508885298869\n",
            "--------------------\n",
            "\n",
            "Loss on training set:  3.2748156798028103\n",
            "Accuracy on training set:  14.16536404771699\n"
          ],
          "name": "stdout"
        },
        {
          "output_type": "stream",
          "text": [
            "\r 30%|███       | 3/10 [01:06<02:36, 22.30s/it]"
          ],
          "name": "stderr"
        },
        {
          "output_type": "stream",
          "text": [
            "\n",
            "Accuracy on validation set:  2.003231017770598\n",
            "--------------------\n",
            "\n",
            "Loss on training set:  3.174677626053917\n",
            "Accuracy on training set:  17.28013163307281\n"
          ],
          "name": "stdout"
        },
        {
          "output_type": "stream",
          "text": [
            "\r 40%|████      | 4/10 [01:28<02:13, 22.24s/it]"
          ],
          "name": "stderr"
        },
        {
          "output_type": "stream",
          "text": [
            "\n",
            "Accuracy on validation set:  2.5848142164781907\n",
            "--------------------\n",
            "\n",
            "Loss on training set:  3.059322728804726\n",
            "Accuracy on training set:  20.541341011929248\n"
          ],
          "name": "stdout"
        },
        {
          "output_type": "stream",
          "text": [
            "\r 50%|█████     | 5/10 [01:51<01:51, 22.25s/it]"
          ],
          "name": "stderr"
        },
        {
          "output_type": "stream",
          "text": [
            "\n",
            "Accuracy on validation set:  3.263327948303716\n",
            "--------------------\n",
            "\n",
            "Loss on training set:  2.941974892426008\n",
            "Accuracy on training set:  23.633072809543396\n"
          ],
          "name": "stdout"
        },
        {
          "output_type": "stream",
          "text": [
            "\r 60%|██████    | 6/10 [02:13<01:29, 22.33s/it]"
          ],
          "name": "stderr"
        },
        {
          "output_type": "stream",
          "text": [
            "\n",
            "Accuracy on validation set:  3.974151857835218\n",
            "--------------------\n",
            "\n",
            "Loss on training set:  2.82953937558763\n",
            "Accuracy on training set:  26.36445907034142\n"
          ],
          "name": "stdout"
        },
        {
          "output_type": "stream",
          "text": [
            "\r 70%|███████   | 7/10 [02:35<01:06, 22.31s/it]"
          ],
          "name": "stderr"
        },
        {
          "output_type": "stream",
          "text": [
            "\n",
            "Accuracy on validation set:  4.168012924071083\n",
            "--------------------\n",
            "\n",
            "Loss on training set:  2.7247624201521567\n",
            "Accuracy on training set:  29.030028794734676\n"
          ],
          "name": "stdout"
        },
        {
          "output_type": "stream",
          "text": [
            "\r 80%|████████  | 8/10 [02:58<00:44, 22.26s/it]"
          ],
          "name": "stderr"
        },
        {
          "output_type": "stream",
          "text": [
            "\n",
            "Accuracy on validation set:  4.684975767366721\n",
            "--------------------\n",
            "\n",
            "Loss on training set:  2.628027285819483\n",
            "Accuracy on training set:  31.728506787330318\n"
          ],
          "name": "stdout"
        },
        {
          "output_type": "stream",
          "text": [
            "\r 90%|█████████ | 9/10 [03:20<00:22, 22.24s/it]"
          ],
          "name": "stderr"
        },
        {
          "output_type": "stream",
          "text": [
            "\n",
            "Accuracy on validation set:  4.975767366720517\n",
            "--------------------\n",
            "\n",
            "Loss on training set:  2.5380363002072532\n",
            "Accuracy on training set:  33.99917729329494\n"
          ],
          "name": "stdout"
        },
        {
          "output_type": "stream",
          "text": [
            "100%|██████████| 10/10 [03:42<00:00, 22.23s/it]"
          ],
          "name": "stderr"
        },
        {
          "output_type": "stream",
          "text": [
            "\n",
            "Accuracy on validation set:  4.7819063004846525\n",
            "--------------------\n"
          ],
          "name": "stdout"
        },
        {
          "output_type": "stream",
          "text": [
            "\n"
          ],
          "name": "stderr"
        }
      ]
    },
    {
      "cell_type": "code",
      "metadata": {
        "colab": {
          "base_uri": "https://localhost:8080/"
        },
        "id": "-WBGx7szeTP4",
        "outputId": "6e885ed8-056e-466d-9809-e9f6e367448e"
      },
      "source": [
        "evaluate_network(model3, test_loader, correct_index)"
      ],
      "execution_count": 11,
      "outputs": [
        {
          "output_type": "stream",
          "text": [
            "Accuracy o test set:  4.700162074554295\n"
          ],
          "name": "stdout"
        }
      ]
    },
    {
      "cell_type": "markdown",
      "metadata": {
        "id": "yS3qI8eryfsm"
      },
      "source": [
        "## Comparing training for RMSprop"
      ]
    },
    {
      "cell_type": "code",
      "metadata": {
        "colab": {
          "base_uri": "https://localhost:8080/",
          "height": 295
        },
        "id": "zli7CNxhyf5k",
        "outputId": "e0834b52-090a-4a84-e0a8-bc07dd46b36c"
      },
      "source": [
        "import matplotlib.pyplot as plt\n",
        "epochs = [i for i in range(10)]\n",
        "plt.plot(epochs, model.train_accuracy)\n",
        "plt.plot(epochs, model2.train_accuracy)\n",
        "plt.plot(epochs, model3.train_accuracy)\n",
        "plt.plot(epochs, model.val_accuracy)\n",
        "plt.plot(epochs, model2.val_accuracy)\n",
        "plt.plot(epochs, model3.val_accuracy)\n",
        "\n",
        "plt.title('Acc during training for different learning rates')\n",
        "plt.ylabel('Acc')\n",
        "plt.xlabel('Epochs')\n",
        "plt.legend(['Train, 0.01', 'Train, 0.001', 'Train, 0.0001',\n",
        "            'Valid, 0.01', 'Valid, 0.001', 'Valid, 0.0001'])\n",
        "plt.show()"
      ],
      "execution_count": 12,
      "outputs": [
        {
          "output_type": "display_data",
          "data": {
            "image/png": "[encoded data removed]",
            "text/plain": [
              "<Figure size 432x288 with 1 Axes>"
            ]
          },
          "metadata": {
            "tags": [],
            "needs_background": "light"
          }
        }
      ]
    },
    {
      "cell_type": "markdown",
      "metadata": {
        "id": "INBYOTU-68m8"
      },
      "source": [
        "# Stacked LSTMs\n",
        "So far the best score of 7.95 on validation set"
      ]
    },
    {
      "cell_type": "code",
      "metadata": {
        "colab": {
          "base_uri": "https://localhost:8080/"
        },
        "id": "5n-MJnUB64yB",
        "outputId": "b29c7b48-49c4-4e43-a601-5e5668cc8a7d"
      },
      "source": [
        "model = RNN(n_output=32, n_hidden=500, n_layers=2, device=device)\n",
        "model.to(device)\n",
        "optimizer = Adam(model.parameters(), lr=0.001, weight_decay=0.0001)\n",
        "scheduler = lr_scheduler.StepLR(optimizer, step_size=20, gamma=0.1)\n",
        "train_network(model, train_loader, val_loader, correct_index, 10, optimizer=optimizer, print_results=True)"
      ],
      "execution_count": 13,
      "outputs": [
        {
          "output_type": "stream",
          "text": [
            "\r  0%|          | 0/10 [00:00<?, ?it/s]"
          ],
          "name": "stderr"
        },
        {
          "output_type": "stream",
          "text": [
            "\n",
            "Loss on training set:  3.421681362396893\n",
            "Accuracy on training set:  4.417935006170301\n"
          ],
          "name": "stdout"
        },
        {
          "output_type": "stream",
          "text": [
            "\r 10%|█         | 1/10 [00:23<03:29, 23.27s/it]"
          ],
          "name": "stderr"
        },
        {
          "output_type": "stream",
          "text": [
            "\n",
            "Accuracy on validation set:  1.8416801292407108\n",
            "--------------------\n",
            "\n",
            "Loss on training set:  3.367376969124446\n",
            "Accuracy on training set:  5.90703414232826\n"
          ],
          "name": "stdout"
        },
        {
          "output_type": "stream",
          "text": [
            "\r 20%|██        | 2/10 [00:46<03:06, 23.29s/it]"
          ],
          "name": "stderr"
        },
        {
          "output_type": "stream",
          "text": [
            "\n",
            "Accuracy on validation set:  3.295638126009693\n",
            "--------------------\n",
            "\n",
            "Loss on training set:  3.180160608527004\n",
            "Accuracy on training set:  9.06951871657754\n"
          ],
          "name": "stdout"
        },
        {
          "output_type": "stream",
          "text": [
            "\r 30%|███       | 3/10 [01:09<02:42, 23.25s/it]"
          ],
          "name": "stderr"
        },
        {
          "output_type": "stream",
          "text": [
            "\n",
            "Accuracy on validation set:  4.555735056542811\n",
            "--------------------\n",
            "\n",
            "Loss on training set:  2.97158780442006\n",
            "Accuracy on training set:  12.681201151789388\n"
          ],
          "name": "stdout"
        },
        {
          "output_type": "stream",
          "text": [
            "\r 40%|████      | 4/10 [01:33<02:19, 23.25s/it]"
          ],
          "name": "stderr"
        },
        {
          "output_type": "stream",
          "text": [
            "\n",
            "Accuracy on validation set:  6.30048465266559\n",
            "--------------------\n",
            "\n",
            "Loss on training set:  2.7498268399577923\n",
            "Accuracy on training set:  17.777046482928835\n"
          ],
          "name": "stdout"
        },
        {
          "output_type": "stream",
          "text": [
            "\r 50%|█████     | 5/10 [01:56<01:56, 23.25s/it]"
          ],
          "name": "stderr"
        },
        {
          "output_type": "stream",
          "text": [
            "\n",
            "Accuracy on validation set:  4.2326332794830375\n",
            "--------------------\n",
            "\n",
            "Loss on training set:  2.480809577559797\n",
            "Accuracy on training set:  25.494035376388318\n"
          ],
          "name": "stdout"
        },
        {
          "output_type": "stream",
          "text": [
            "\r 60%|██████    | 6/10 [02:19<01:32, 23.24s/it]"
          ],
          "name": "stderr"
        },
        {
          "output_type": "stream",
          "text": [
            "\n",
            "Accuracy on validation set:  5.621970920840065\n",
            "--------------------\n",
            "\n",
            "Loss on training set:  2.171699165075907\n",
            "Accuracy on training set:  34.96668037844508\n"
          ],
          "name": "stdout"
        },
        {
          "output_type": "stream",
          "text": [
            "\r 70%|███████   | 7/10 [02:42<01:09, 23.24s/it]"
          ],
          "name": "stderr"
        },
        {
          "output_type": "stream",
          "text": [
            "\n",
            "Accuracy on validation set:  7.399030694668821\n",
            "--------------------\n",
            "\n",
            "Loss on training set:  1.8737634667169405\n",
            "Accuracy on training set:  44.25174825174825\n"
          ],
          "name": "stdout"
        },
        {
          "output_type": "stream",
          "text": [
            "\r 80%|████████  | 8/10 [03:05<00:46, 23.22s/it]"
          ],
          "name": "stderr"
        },
        {
          "output_type": "stream",
          "text": [
            "\n",
            "Accuracy on validation set:  7.754442649434572\n",
            "--------------------\n",
            "\n",
            "Loss on training set:  1.6328460430108387\n",
            "Accuracy on training set:  51.67091731797614\n"
          ],
          "name": "stdout"
        },
        {
          "output_type": "stream",
          "text": [
            "\r 90%|█████████ | 9/10 [03:29<00:23, 23.25s/it]"
          ],
          "name": "stderr"
        },
        {
          "output_type": "stream",
          "text": [
            "\n",
            "Accuracy on validation set:  6.558966074313409\n",
            "--------------------\n",
            "\n",
            "Loss on training set:  1.4503417473023734\n",
            "Accuracy on training set:  57.10736322501028\n"
          ],
          "name": "stdout"
        },
        {
          "output_type": "stream",
          "text": [
            "100%|██████████| 10/10 [03:52<00:00, 23.23s/it]"
          ],
          "name": "stderr"
        },
        {
          "output_type": "stream",
          "text": [
            "\n",
            "Accuracy on validation set:  7.948303715670436\n",
            "--------------------\n"
          ],
          "name": "stdout"
        },
        {
          "output_type": "stream",
          "text": [
            "\n"
          ],
          "name": "stderr"
        }
      ]
    },
    {
      "cell_type": "code",
      "metadata": {
        "colab": {
          "base_uri": "https://localhost:8080/"
        },
        "id": "7B_zT6BF72v3",
        "outputId": "d766d62d-dde2-45f4-8c12-f1248f46f392"
      },
      "source": [
        "evaluate_network(model, test_loader, correct_index)"
      ],
      "execution_count": 14,
      "outputs": [
        {
          "output_type": "stream",
          "text": [
            "Accuracy o test set:  7.163695299837926\n"
          ],
          "name": "stdout"
        }
      ]
    },
    {
      "cell_type": "code",
      "metadata": {
        "colab": {
          "base_uri": "https://localhost:8080/"
        },
        "id": "04E4zBWR8SFa",
        "outputId": "fad09a58-cd18-40b7-e8b8-f054922d30db"
      },
      "source": [
        "model2 = RNN(n_output=32, n_hidden=500, device=device)\n",
        "model2.to(device)\n",
        "optimizer = Adam(model2.parameters(), lr=0.001, weight_decay=0.0001)\n",
        "scheduler = lr_scheduler.StepLR(optimizer, step_size=20, gamma=0.1)\n",
        "train_network(model2, train_loader, val_loader, correct_index, 10, optimizer=optimizer, print_results=True)"
      ],
      "execution_count": 15,
      "outputs": [
        {
          "output_type": "stream",
          "text": [
            "\r  0%|          | 0/10 [00:00<?, ?it/s]"
          ],
          "name": "stderr"
        },
        {
          "output_type": "stream",
          "text": [
            "\n",
            "Loss on training set:  3.4182172853610293\n",
            "Accuracy on training set:  5.352529823118059\n"
          ],
          "name": "stdout"
        },
        {
          "output_type": "stream",
          "text": [
            "\r 10%|█         | 1/10 [00:22<03:23, 22.57s/it]"
          ],
          "name": "stderr"
        },
        {
          "output_type": "stream",
          "text": [
            "\n",
            "Accuracy on validation set:  2.4232633279483036\n",
            "--------------------\n",
            "\n",
            "Loss on training set:  3.290105615978327\n",
            "Accuracy on training set:  9.563142739613328\n"
          ],
          "name": "stdout"
        },
        {
          "output_type": "stream",
          "text": [
            "\r 20%|██        | 2/10 [00:45<03:00, 22.56s/it]"
          ],
          "name": "stderr"
        },
        {
          "output_type": "stream",
          "text": [
            "\n",
            "Accuracy on validation set:  3.8449111470113086\n",
            "--------------------\n",
            "\n",
            "Loss on training set:  3.051558304664678\n",
            "Accuracy on training set:  16.06910736322501\n"
          ],
          "name": "stdout"
        },
        {
          "output_type": "stream",
          "text": [
            "\r 30%|███       | 3/10 [01:07<02:38, 22.59s/it]"
          ],
          "name": "stderr"
        },
        {
          "output_type": "stream",
          "text": [
            "\n",
            "Accuracy on validation set:  5.363489499192245\n",
            "--------------------\n",
            "\n",
            "Loss on training set:  2.751955269080334\n",
            "Accuracy on training set:  24.552858905800083\n"
          ],
          "name": "stdout"
        },
        {
          "output_type": "stream",
          "text": [
            "\r 40%|████      | 4/10 [01:30<02:15, 22.55s/it]"
          ],
          "name": "stderr"
        },
        {
          "output_type": "stream",
          "text": [
            "\n",
            "Accuracy on validation set:  5.621970920840065\n",
            "--------------------\n",
            "\n",
            "Loss on training set:  2.4488390425858992\n",
            "Accuracy on training set:  33.34594816947758\n"
          ],
          "name": "stdout"
        },
        {
          "output_type": "stream",
          "text": [
            "\r 50%|█████     | 5/10 [01:52<01:52, 22.57s/it]"
          ],
          "name": "stderr"
        },
        {
          "output_type": "stream",
          "text": [
            "\n",
            "Accuracy on validation set:  4.94345718901454\n",
            "--------------------\n",
            "\n",
            "Loss on training set:  2.192943857966603\n",
            "Accuracy on training set:  41.07116412998766\n"
          ],
          "name": "stdout"
        },
        {
          "output_type": "stream",
          "text": [
            "\r 60%|██████    | 6/10 [02:15<01:30, 22.57s/it]"
          ],
          "name": "stderr"
        },
        {
          "output_type": "stream",
          "text": [
            "\n",
            "Accuracy on validation set:  6.17124394184168\n",
            "--------------------\n",
            "\n",
            "Loss on training set:  1.976740724594198\n",
            "Accuracy on training set:  47.211846976552856\n"
          ],
          "name": "stdout"
        },
        {
          "output_type": "stream",
          "text": [
            "\r 70%|███████   | 7/10 [02:37<01:07, 22.55s/it]"
          ],
          "name": "stderr"
        },
        {
          "output_type": "stream",
          "text": [
            "\n",
            "Accuracy on validation set:  5.815831987075929\n",
            "--------------------\n",
            "\n",
            "Loss on training set:  1.8139181207227688\n",
            "Accuracy on training set:  52.01480872069107\n"
          ],
          "name": "stdout"
        },
        {
          "output_type": "stream",
          "text": [
            "\r 80%|████████  | 8/10 [03:00<00:45, 22.53s/it]"
          ],
          "name": "stderr"
        },
        {
          "output_type": "stream",
          "text": [
            "\n",
            "Accuracy on validation set:  5.395799676898223\n",
            "--------------------\n",
            "\n",
            "Loss on training set:  1.6801864544014438\n",
            "Accuracy on training set:  55.9572192513369\n"
          ],
          "name": "stdout"
        },
        {
          "output_type": "stream",
          "text": [
            "\r 90%|█████████ | 9/10 [03:22<00:22, 22.47s/it]"
          ],
          "name": "stderr"
        },
        {
          "output_type": "stream",
          "text": [
            "\n",
            "Accuracy on validation set:  5.783521809369952\n",
            "--------------------\n",
            "\n",
            "Loss on training set:  1.5604958561583833\n",
            "Accuracy on training set:  59.31879884821061\n"
          ],
          "name": "stdout"
        },
        {
          "output_type": "stream",
          "text": [
            "100%|██████████| 10/10 [03:45<00:00, 22.53s/it]"
          ],
          "name": "stderr"
        },
        {
          "output_type": "stream",
          "text": [
            "\n",
            "Accuracy on validation set:  5.751211631663974\n",
            "--------------------\n"
          ],
          "name": "stdout"
        },
        {
          "output_type": "stream",
          "text": [
            "\n"
          ],
          "name": "stderr"
        }
      ]
    },
    {
      "cell_type": "code",
      "metadata": {
        "colab": {
          "base_uri": "https://localhost:8080/",
          "height": 295
        },
        "id": "qfIMe07I8SZB",
        "outputId": "e2bb6603-558b-484e-9038-5de196daf3d3"
      },
      "source": [
        "import matplotlib.pyplot as plt\n",
        "epochs = [i for i in range(10)]\n",
        "plt.plot(epochs, model.train_accuracy)\n",
        "plt.plot(epochs, model2.train_accuracy)\n",
        "plt.plot(epochs, model.val_accuracy)\n",
        "plt.plot(epochs, model2.val_accuracy)\n",
        "\n",
        "plt.title('Comparing single and stacked LSTM')\n",
        "plt.ylabel('Acc')\n",
        "plt.xlabel('Epochs')\n",
        "plt.legend(['Single LSTM layer, train', 'Stacked LSTM, train',\n",
        "            'Single LSTM layer, valid', 'Stacked LSTM, valid'])\n",
        "plt.show()"
      ],
      "execution_count": 16,
      "outputs": [
        {
          "output_type": "display_data",
          "data": {
            "image/png": "[encoded data removed]",
            "text/plain": [
              "<Figure size 432x288 with 1 Axes>"
            ]
          },
          "metadata": {
            "tags": [],
            "needs_background": "light"
          }
        }
      ]
    },
    {
      "cell_type": "markdown",
      "metadata": {
        "id": "Ks7xqwzVdL9x"
      },
      "source": [
        "# Weight decay = 0.00001 instead of 0.0001"
      ]
    },
    {
      "cell_type": "code",
      "metadata": {
        "colab": {
          "base_uri": "https://localhost:8080/"
        },
        "id": "bGloUqj9dPdk",
        "outputId": "3b05dd66-20a8-4963-a2ec-137e1214eefa"
      },
      "source": [
        "model = RNN(n_output=32, n_hidden=500, n_layers=2, device=device)\n",
        "model.to(device)\n",
        "optimizer = Adam(model.parameters(), lr=0.001, weight_decay=0.00001)\n",
        "scheduler = lr_scheduler.StepLR(optimizer, step_size=20, gamma=0.1)\n",
        "train_network(model, train_loader, val_loader, correct_index, 10, optimizer=optimizer, print_results=True)"
      ],
      "execution_count": 4,
      "outputs": [
        {
          "output_type": "stream",
          "text": [
            "\r  0%|          | 0/10 [00:00<?, ?it/s]"
          ],
          "name": "stderr"
        },
        {
          "output_type": "stream",
          "text": [
            "\n",
            "Loss on training set:  3.3601398509601075\n",
            "Accuracy on training set:  5.74578362813657\n"
          ],
          "name": "stdout"
        },
        {
          "output_type": "stream",
          "text": [
            "\r 10%|█         | 1/10 [00:23<03:29, 23.25s/it]"
          ],
          "name": "stderr"
        },
        {
          "output_type": "stream",
          "text": [
            "\n",
            "Accuracy on validation set:  4.038772213247173\n",
            "--------------------\n",
            "\n",
            "Loss on training set:  2.9145968640561657\n",
            "Accuracy on training set:  15.83710407239819\n"
          ],
          "name": "stdout"
        },
        {
          "output_type": "stream",
          "text": [
            "\r 20%|██        | 2/10 [00:43<02:58, 22.28s/it]"
          ],
          "name": "stderr"
        },
        {
          "output_type": "stream",
          "text": [
            "\n",
            "Accuracy on validation set:  5.718901453957997\n",
            "--------------------\n",
            "\n",
            "Loss on training set:  2.014230381345023\n",
            "Accuracy on training set:  41.81489099136158\n"
          ],
          "name": "stdout"
        },
        {
          "output_type": "stream",
          "text": [
            "\r 30%|███       | 3/10 [01:03<02:31, 21.62s/it]"
          ],
          "name": "stderr"
        },
        {
          "output_type": "stream",
          "text": [
            "\n",
            "Accuracy on validation set:  6.591276252019386\n",
            "--------------------\n",
            "\n",
            "Loss on training set:  1.2126617586401842\n",
            "Accuracy on training set:  65.48251748251748\n"
          ],
          "name": "stdout"
        },
        {
          "output_type": "stream",
          "text": [
            "\r 40%|████      | 4/10 [01:23<02:06, 21.12s/it]"
          ],
          "name": "stderr"
        },
        {
          "output_type": "stream",
          "text": [
            "\n",
            "Accuracy on validation set:  7.625201938610663\n",
            "--------------------\n",
            "\n",
            "Loss on training set:  0.8213413612874925\n",
            "Accuracy on training set:  77.0234471410942\n"
          ],
          "name": "stdout"
        },
        {
          "output_type": "stream",
          "text": [
            "\r 50%|█████     | 5/10 [01:43<01:43, 20.78s/it]"
          ],
          "name": "stderr"
        },
        {
          "output_type": "stream",
          "text": [
            "\n",
            "Accuracy on validation set:  6.720516962843296\n",
            "--------------------\n",
            "\n",
            "Loss on training set:  0.6593125150999087\n",
            "Accuracy on training set:  81.47099958864665\n"
          ],
          "name": "stdout"
        },
        {
          "output_type": "stream",
          "text": [
            "\r 60%|██████    | 6/10 [02:03<01:22, 20.54s/it]"
          ],
          "name": "stderr"
        },
        {
          "output_type": "stream",
          "text": [
            "\n",
            "Accuracy on validation set:  7.915993537964459\n",
            "--------------------\n",
            "\n",
            "Loss on training set:  0.552692046418498\n",
            "Accuracy on training set:  84.57095845331139\n"
          ],
          "name": "stdout"
        },
        {
          "output_type": "stream",
          "text": [
            "\r 70%|███████   | 7/10 [02:23<01:01, 20.34s/it]"
          ],
          "name": "stderr"
        },
        {
          "output_type": "stream",
          "text": [
            "\n",
            "Accuracy on validation set:  5.8481421647819065\n",
            "--------------------\n",
            "\n",
            "Loss on training set:  0.43047856674327717\n",
            "Accuracy on training set:  88.01151789387083\n"
          ],
          "name": "stdout"
        },
        {
          "output_type": "stream",
          "text": [
            "\r 80%|████████  | 8/10 [02:43<00:40, 20.28s/it]"
          ],
          "name": "stderr"
        },
        {
          "output_type": "stream",
          "text": [
            "\n",
            "Accuracy on validation set:  7.237479806138934\n",
            "--------------------\n",
            "\n",
            "Loss on training set:  0.3761841849401035\n",
            "Accuracy on training set:  89.49568078979844\n"
          ],
          "name": "stdout"
        },
        {
          "output_type": "stream",
          "text": [
            "\r 90%|█████████ | 9/10 [03:03<00:20, 20.19s/it]"
          ],
          "name": "stderr"
        },
        {
          "output_type": "stream",
          "text": [
            "\n",
            "Accuracy on validation set:  7.1082390953150245\n",
            "--------------------\n",
            "\n",
            "Loss on training set:  0.36831719921430606\n",
            "Accuracy on training set:  89.7145207733443\n"
          ],
          "name": "stdout"
        },
        {
          "output_type": "stream",
          "text": [
            "100%|██████████| 10/10 [03:23<00:00, 20.32s/it]"
          ],
          "name": "stderr"
        },
        {
          "output_type": "stream",
          "text": [
            "\n",
            "Accuracy on validation set:  6.074313408723748\n",
            "--------------------\n"
          ],
          "name": "stdout"
        },
        {
          "output_type": "stream",
          "text": [
            "\n"
          ],
          "name": "stderr"
        }
      ]
    },
    {
      "cell_type": "code",
      "metadata": {
        "colab": {
          "base_uri": "https://localhost:8080/"
        },
        "id": "KbcI44TxeWlZ",
        "outputId": "16d0caba-05b7-4c07-c8a0-c31c5932e2e2"
      },
      "source": [
        "evaluate_network(model, test_loader, correct_index)"
      ],
      "execution_count": 5,
      "outputs": [
        {
          "output_type": "stream",
          "text": [
            "Accuracy o test set:  5.478119935170178\n"
          ],
          "name": "stdout"
        }
      ]
    },
    {
      "cell_type": "markdown",
      "metadata": {
        "id": "XxDEj0e2ewpD"
      },
      "source": [
        "## For smaller number of features in hidden state"
      ]
    },
    {
      "cell_type": "code",
      "metadata": {
        "colab": {
          "base_uri": "https://localhost:8080/"
        },
        "id": "_mylwuIrfoMx",
        "outputId": "cdc7889b-f535-4007-a4ea-5a6a2c6b59ea"
      },
      "source": [
        "model = RNN(n_output=32, n_hidden=128, n_layers=2, device=device)\n",
        "model.to(device)\n",
        "optimizer = Adam(model.parameters(), lr=0.001, weight_decay=0.00001)\n",
        "scheduler = lr_scheduler.StepLR(optimizer, step_size=20, gamma=0.1)\n",
        "train_network(model, train_loader, val_loader, correct_index, 10, optimizer=optimizer, print_results=True)"
      ],
      "execution_count": 7,
      "outputs": [
        {
          "output_type": "stream",
          "text": [
            "\r  0%|          | 0/10 [00:00<?, ?it/s]"
          ],
          "name": "stderr"
        },
        {
          "output_type": "stream",
          "text": [
            "\n",
            "Loss on training set:  3.3693829147553847\n",
            "Accuracy on training set:  5.6964212258329905\n"
          ],
          "name": "stdout"
        },
        {
          "output_type": "stream",
          "text": [
            "\r 10%|█         | 1/10 [00:18<02:47, 18.66s/it]"
          ],
          "name": "stderr"
        },
        {
          "output_type": "stream",
          "text": [
            "\n",
            "Accuracy on validation set:  2.9402261712439417\n",
            "--------------------\n",
            "\n",
            "Loss on training set:  2.9975102885727627\n",
            "Accuracy on training set:  12.761826408885232\n"
          ],
          "name": "stdout"
        },
        {
          "output_type": "stream",
          "text": [
            "\r 20%|██        | 2/10 [00:37<02:29, 18.68s/it]"
          ],
          "name": "stderr"
        },
        {
          "output_type": "stream",
          "text": [
            "\n",
            "Accuracy on validation set:  4.7819063004846525\n",
            "--------------------\n",
            "\n",
            "Loss on training set:  2.439117609739598\n",
            "Accuracy on training set:  27.700534759358288\n"
          ],
          "name": "stdout"
        },
        {
          "output_type": "stream",
          "text": [
            "\r 30%|███       | 3/10 [00:56<02:10, 18.71s/it]"
          ],
          "name": "stderr"
        },
        {
          "output_type": "stream",
          "text": [
            "\n",
            "Accuracy on validation set:  6.009693053311794\n",
            "--------------------\n",
            "\n",
            "Loss on training set:  1.8013460324517694\n",
            "Accuracy on training set:  47.39613327848622\n"
          ],
          "name": "stdout"
        },
        {
          "output_type": "stream",
          "text": [
            "\r 40%|████      | 4/10 [01:14<01:52, 18.75s/it]"
          ],
          "name": "stderr"
        },
        {
          "output_type": "stream",
          "text": [
            "\n",
            "Accuracy on validation set:  6.138933764135703\n",
            "--------------------\n",
            "\n",
            "Loss on training set:  1.3052132389722955\n",
            "Accuracy on training set:  62.34800493624023\n"
          ],
          "name": "stdout"
        },
        {
          "output_type": "stream",
          "text": [
            "\r 50%|█████     | 5/10 [01:33<01:33, 18.76s/it]"
          ],
          "name": "stderr"
        },
        {
          "output_type": "stream",
          "text": [
            "\n",
            "Accuracy on validation set:  6.623586429725363\n",
            "--------------------\n",
            "\n",
            "Loss on training set:  0.9825448053964908\n",
            "Accuracy on training set:  72.36692719045661\n"
          ],
          "name": "stdout"
        },
        {
          "output_type": "stream",
          "text": [
            "\r 60%|██████    | 6/10 [01:52<01:15, 18.78s/it]"
          ],
          "name": "stderr"
        },
        {
          "output_type": "stream",
          "text": [
            "\n",
            "Accuracy on validation set:  7.4959612277867524\n",
            "--------------------\n",
            "\n",
            "Loss on training set:  0.787255366936185\n",
            "Accuracy on training set:  78.00740436034553\n"
          ],
          "name": "stdout"
        },
        {
          "output_type": "stream",
          "text": [
            "\r 70%|███████   | 7/10 [02:11<00:56, 18.78s/it]"
          ],
          "name": "stderr"
        },
        {
          "output_type": "stream",
          "text": [
            "\n",
            "Accuracy on validation set:  6.138933764135703\n",
            "--------------------\n",
            "\n",
            "Loss on training set:  0.6710641859029851\n",
            "Accuracy on training set:  81.21760592348828\n"
          ],
          "name": "stdout"
        },
        {
          "output_type": "stream",
          "text": [
            "\r 80%|████████  | 8/10 [02:30<00:37, 18.79s/it]"
          ],
          "name": "stderr"
        },
        {
          "output_type": "stream",
          "text": [
            "\n",
            "Accuracy on validation set:  6.17124394184168\n",
            "--------------------\n",
            "\n",
            "Loss on training set:  0.5823010190079507\n",
            "Accuracy on training set:  83.83710407239819\n"
          ],
          "name": "stdout"
        },
        {
          "output_type": "stream",
          "text": [
            "\r 90%|█████████ | 9/10 [02:49<00:18, 18.81s/it]"
          ],
          "name": "stderr"
        },
        {
          "output_type": "stream",
          "text": [
            "\n",
            "Accuracy on validation set:  5.460420032310178\n",
            "--------------------\n",
            "\n",
            "Loss on training set:  0.5055809228060325\n",
            "Accuracy on training set:  86.02879473467709\n"
          ],
          "name": "stdout"
        },
        {
          "output_type": "stream",
          "text": [
            "100%|██████████| 10/10 [03:07<00:00, 18.78s/it]"
          ],
          "name": "stderr"
        },
        {
          "output_type": "stream",
          "text": [
            "\n",
            "Accuracy on validation set:  6.332794830371567\n",
            "--------------------\n"
          ],
          "name": "stdout"
        },
        {
          "output_type": "stream",
          "text": [
            "\n"
          ],
          "name": "stderr"
        }
      ]
    },
    {
      "cell_type": "code",
      "metadata": {
        "colab": {
          "base_uri": "https://localhost:8080/"
        },
        "id": "zkqvfUnSfoT0",
        "outputId": "8d786db4-e987-429e-f6d8-6d9f72aa0531"
      },
      "source": [
        "evaluate_network(model, test_loader, correct_index)"
      ],
      "execution_count": 8,
      "outputs": [
        {
          "output_type": "stream",
          "text": [
            "Accuracy o test set:  5.478119935170178\n"
          ],
          "name": "stdout"
        }
      ]
    },
    {
      "cell_type": "markdown",
      "metadata": {
        "id": "5FJcqpa_fogO"
      },
      "source": [
        "## Dropout = 0.2"
      ]
    },
    {
      "cell_type": "code",
      "metadata": {
        "colab": {
          "base_uri": "https://localhost:8080/"
        },
        "id": "35F8AWe7etgO",
        "outputId": "d4f33e35-204b-4c40-b838-4f1e9f3da902"
      },
      "source": [
        "class RNN(nn.Module):\n",
        "    def __init__(self, device, n_input=16000, n_hidden=128, n_layers=2, n_classes=30):\n",
        "        super(RNN, self).__init__()\n",
        "        self.n_hidden = n_hidden\n",
        "        self.n_layers = n_layers\n",
        "        self.lstm = nn.LSTM(n_input, n_hidden, n_layers, batch_first=True, dropout=0.2)\n",
        "        self.fc = nn.Linear(n_hidden, n_classes)\n",
        "        self.device = device\n",
        "\n",
        "    def forward(self, x):\n",
        "        # Set initial hidden and cell states\n",
        "        batch_size = x.size(0)\n",
        "        h0 = torch.zeros(self.n_layers, batch_size, self.n_hidden).requires_grad_().to(self.device) \n",
        "        c0 = torch.zeros(self.n_layers, batch_size, self.n_hidden).requires_grad_().to(self.device)\n",
        "\n",
        "        # Forward propagate LSTM\n",
        "        x, _ = self.lstm(x, (h0.detach(), c0.detach()))  # shape = (batch_size, seq_length, hidden_size)\n",
        "        x = self.fc(x[:, -1, :])\n",
        "        return F.log_softmax(x, dim=1) \n",
        "\n",
        "model = RNN(n_classes=32, device=device)\n",
        "\n",
        "model.to(device)\n",
        "optimizer = Adam(model.parameters(), lr=0.001, weight_decay=0.00001)\n",
        "scheduler = lr_scheduler.StepLR(optimizer, step_size=20, gamma=0.1)\n",
        "train_network(model, train_loader, val_loader, correct_index, 10, optimizer=optimizer, print_results=True)"
      ],
      "execution_count": 9,
      "outputs": [
        {
          "output_type": "stream",
          "text": [
            "\r  0%|          | 0/10 [00:00<?, ?it/s]"
          ],
          "name": "stderr"
        },
        {
          "output_type": "stream",
          "text": [
            "\n",
            "Loss on training set:  3.3831686420707436\n",
            "Accuracy on training set:  5.385438091320444\n"
          ],
          "name": "stdout"
        },
        {
          "output_type": "stream",
          "text": [
            "\r 10%|█         | 1/10 [00:18<02:50, 18.89s/it]"
          ],
          "name": "stderr"
        },
        {
          "output_type": "stream",
          "text": [
            "\n",
            "Accuracy on validation set:  2.1647819063004845\n",
            "--------------------\n",
            "\n",
            "Loss on training set:  3.0470312237043236\n",
            "Accuracy on training set:  11.995063759769643\n"
          ],
          "name": "stdout"
        },
        {
          "output_type": "stream",
          "text": [
            "\r 20%|██        | 2/10 [00:37<02:30, 18.87s/it]"
          ],
          "name": "stderr"
        },
        {
          "output_type": "stream",
          "text": [
            "\n",
            "Accuracy on validation set:  5.525040387722132\n",
            "--------------------\n",
            "\n",
            "Loss on training set:  2.6058034144816995\n",
            "Accuracy on training set:  23.30234471410942\n"
          ],
          "name": "stdout"
        },
        {
          "output_type": "stream",
          "text": [
            "\r 30%|███       | 3/10 [00:56<02:12, 18.88s/it]"
          ],
          "name": "stderr"
        },
        {
          "output_type": "stream",
          "text": [
            "\n",
            "Accuracy on validation set:  6.365105008077545\n",
            "--------------------\n",
            "\n",
            "Loss on training set:  2.153928619535408\n",
            "Accuracy on training set:  36.584121760592346\n"
          ],
          "name": "stdout"
        },
        {
          "output_type": "stream",
          "text": [
            "\r 40%|████      | 4/10 [01:15<01:53, 18.86s/it]"
          ],
          "name": "stderr"
        },
        {
          "output_type": "stream",
          "text": [
            "\n",
            "Accuracy on validation set:  6.332794830371567\n",
            "--------------------\n",
            "\n",
            "Loss on training set:  1.7907226070735935\n",
            "Accuracy on training set:  47.5820649938297\n"
          ],
          "name": "stdout"
        },
        {
          "output_type": "stream",
          "text": [
            "\r 50%|█████     | 5/10 [01:34<01:34, 18.85s/it]"
          ],
          "name": "stderr"
        },
        {
          "output_type": "stream",
          "text": [
            "\n",
            "Accuracy on validation set:  6.235864297253635\n",
            "--------------------\n",
            "\n",
            "Loss on training set:  1.5212174670346132\n",
            "Accuracy on training set:  55.287535993418345\n"
          ],
          "name": "stdout"
        },
        {
          "output_type": "stream",
          "text": [
            "\r 60%|██████    | 6/10 [01:53<01:15, 18.85s/it]"
          ],
          "name": "stderr"
        },
        {
          "output_type": "stream",
          "text": [
            "\n",
            "Accuracy on validation set:  6.17124394184168\n",
            "--------------------\n",
            "\n",
            "Loss on training set:  1.3364919827142305\n",
            "Accuracy on training set:  60.94117647058823\n"
          ],
          "name": "stdout"
        },
        {
          "output_type": "stream",
          "text": [
            "\r 70%|███████   | 7/10 [02:11<00:56, 18.82s/it]"
          ],
          "name": "stderr"
        },
        {
          "output_type": "stream",
          "text": [
            "\n",
            "Accuracy on validation set:  7.172859450726979\n",
            "--------------------\n",
            "\n",
            "Loss on training set:  1.1960265170885476\n",
            "Accuracy on training set:  64.78650761003702\n"
          ],
          "name": "stdout"
        },
        {
          "output_type": "stream",
          "text": [
            "\r 80%|████████  | 8/10 [02:30<00:37, 18.81s/it]"
          ],
          "name": "stderr"
        },
        {
          "output_type": "stream",
          "text": [
            "\n",
            "Accuracy on validation set:  6.365105008077545\n",
            "--------------------\n",
            "\n",
            "Loss on training set:  1.101200696932637\n",
            "Accuracy on training set:  67.64129987659399\n"
          ],
          "name": "stdout"
        },
        {
          "output_type": "stream",
          "text": [
            "\r 90%|█████████ | 9/10 [02:49<00:18, 18.84s/it]"
          ],
          "name": "stderr"
        },
        {
          "output_type": "stream",
          "text": [
            "\n",
            "Accuracy on validation set:  6.462035541195476\n",
            "--------------------\n",
            "\n",
            "Loss on training set:  1.0173734874795954\n",
            "Accuracy on training set:  70.04360345536816\n"
          ],
          "name": "stdout"
        },
        {
          "output_type": "stream",
          "text": [
            "100%|██████████| 10/10 [03:08<00:00, 18.84s/it]"
          ],
          "name": "stderr"
        },
        {
          "output_type": "stream",
          "text": [
            "\n",
            "Accuracy on validation set:  6.752827140549273\n",
            "--------------------\n"
          ],
          "name": "stdout"
        },
        {
          "output_type": "stream",
          "text": [
            "\n"
          ],
          "name": "stderr"
        }
      ]
    },
    {
      "cell_type": "code",
      "metadata": {
        "colab": {
          "base_uri": "https://localhost:8080/"
        },
        "id": "VO-4hbffeu-C",
        "outputId": "890dd40c-c2d1-4add-cbb5-d6157b22ba99"
      },
      "source": [
        "evaluate_network(model, test_loader, correct_index)"
      ],
      "execution_count": 10,
      "outputs": [
        {
          "output_type": "stream",
          "text": [
            "Accuracy o test set:  5.834683954619125\n"
          ],
          "name": "stdout"
        }
      ]
    },
    {
      "cell_type": "markdown",
      "metadata": {
        "id": "2rXm9AwNzECL"
      },
      "source": [
        "No improvement, stacked LSTMs for 500 features in hidden state and decay = 0.0001 gave better results.\n"
      ]
    }
  ]
}
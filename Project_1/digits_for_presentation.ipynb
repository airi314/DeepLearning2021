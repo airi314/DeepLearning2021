{
 "cells": [
  {
   "cell_type": "code",
   "execution_count": 3,
   "id": "dressed-bottom",
   "metadata": {},
   "outputs": [],
   "source": [
    "import numpy as np\n",
    "import matplotlib.pyplot as plt\n",
    "import math\n",
    "import pandas as pd\n",
    "# import seaborn as sns\n",
    "# from sklearn.metrics import confusion_matrix\n",
    "\n",
    "# %%\n",
    "from evaluation import *\n",
    "from activation import *\n",
    "from utils import read_data, split_data, scale, load_mnist\n",
    "from plots import *\n",
    "\n",
    "# %%\n",
    "from mlp import MLP"
   ]
  },
  {
   "cell_type": "code",
   "execution_count": 4,
   "id": "pleasant-anatomy",
   "metadata": {},
   "outputs": [],
   "source": [
    "x, y, x_test, y_test = load_mnist('data/MNIST')"
   ]
  },
  {
   "cell_type": "code",
   "execution_count": 58,
   "id": "wooden-belize",
   "metadata": {},
   "outputs": [
    {
     "data": {
      "text/html": [
       "<div>\n",
       "<style scoped>\n",
       "    .dataframe tbody tr th:only-of-type {\n",
       "        vertical-align: middle;\n",
       "    }\n",
       "\n",
       "    .dataframe tbody tr th {\n",
       "        vertical-align: top;\n",
       "    }\n",
       "\n",
       "    .dataframe thead th {\n",
       "        text-align: right;\n",
       "    }\n",
       "</style>\n",
       "<table border=\"1\" class=\"dataframe\">\n",
       "  <thead>\n",
       "    <tr style=\"text-align: right;\">\n",
       "      <th></th>\n",
       "      <th>Real</th>\n",
       "      <th>Predicted</th>\n",
       "    </tr>\n",
       "  </thead>\n",
       "  <tbody>\n",
       "    <tr>\n",
       "      <th>0</th>\n",
       "      <td>7.0</td>\n",
       "      <td>7.0</td>\n",
       "    </tr>\n",
       "    <tr>\n",
       "      <th>1</th>\n",
       "      <td>2.0</td>\n",
       "      <td>2.0</td>\n",
       "    </tr>\n",
       "    <tr>\n",
       "      <th>2</th>\n",
       "      <td>1.0</td>\n",
       "      <td>1.0</td>\n",
       "    </tr>\n",
       "    <tr>\n",
       "      <th>3</th>\n",
       "      <td>0.0</td>\n",
       "      <td>0.0</td>\n",
       "    </tr>\n",
       "    <tr>\n",
       "      <th>4</th>\n",
       "      <td>4.0</td>\n",
       "      <td>4.0</td>\n",
       "    </tr>\n",
       "    <tr>\n",
       "      <th>...</th>\n",
       "      <td>...</td>\n",
       "      <td>...</td>\n",
       "    </tr>\n",
       "    <tr>\n",
       "      <th>9995</th>\n",
       "      <td>2.0</td>\n",
       "      <td>2.0</td>\n",
       "    </tr>\n",
       "    <tr>\n",
       "      <th>9996</th>\n",
       "      <td>3.0</td>\n",
       "      <td>3.0</td>\n",
       "    </tr>\n",
       "    <tr>\n",
       "      <th>9997</th>\n",
       "      <td>4.0</td>\n",
       "      <td>4.0</td>\n",
       "    </tr>\n",
       "    <tr>\n",
       "      <th>9998</th>\n",
       "      <td>5.0</td>\n",
       "      <td>5.0</td>\n",
       "    </tr>\n",
       "    <tr>\n",
       "      <th>9999</th>\n",
       "      <td>6.0</td>\n",
       "      <td>6.0</td>\n",
       "    </tr>\n",
       "  </tbody>\n",
       "</table>\n",
       "<p>10000 rows × 2 columns</p>\n",
       "</div>"
      ],
      "text/plain": [
       "      Real  Predicted\n",
       "0      7.0        7.0\n",
       "1      2.0        2.0\n",
       "2      1.0        1.0\n",
       "3      0.0        0.0\n",
       "4      4.0        4.0\n",
       "...    ...        ...\n",
       "9995   2.0        2.0\n",
       "9996   3.0        3.0\n",
       "9997   4.0        4.0\n",
       "9998   5.0        5.0\n",
       "9999   6.0        6.0\n",
       "\n",
       "[10000 rows x 2 columns]"
      ]
     },
     "execution_count": 58,
     "metadata": {},
     "output_type": "execute_result"
    }
   ],
   "source": [
    "labels = np.loadtxt('labels.csv', delimiter=',').reshape(-1, 1)\n",
    "summary = np.concatenate((y_test, labels), axis=1)\n",
    "summary = pd.DataFrame(summary, columns = ['Real','Predicted'])\n",
    "summary"
   ]
  },
  {
   "cell_type": "code",
   "execution_count": 37,
   "id": "internal-calcium",
   "metadata": {},
   "outputs": [
    {
     "data": {
      "image/png": "[encoded data removed]",
      "text/plain": [
       "<Figure size 432x288 with 1 Axes>"
      ]
     },
     "metadata": {
      "needs_background": "light"
     },
     "output_type": "display_data"
    }
   ],
   "source": [
    "indicies = np.where((summary['Real'] == 4) & (summary['Predicted'] == 9))\n",
    "tmp = x_test[indicies,:]\n",
    "single = tmp[0, 0, :]\n",
    "single = single.reshape((28, 28))\n",
    "plt.imshow(single, cmap='gray')\n",
    "plt.savefig('fourprednine.png')"
   ]
  },
  {
   "cell_type": "code",
   "execution_count": 38,
   "id": "damaged-tutorial",
   "metadata": {},
   "outputs": [
    {
     "data": {
      "image/png": "[encoded data removed]",
      "text/plain": [
       "<Figure size 432x288 with 1 Axes>"
      ]
     },
     "metadata": {
      "needs_background": "light"
     },
     "output_type": "display_data"
    }
   ],
   "source": [
    "indicies = np.where((summary['Real'] == 4) & (summary['Predicted'] == 9))\n",
    "tmp = x_test[indicies,:]\n",
    "single = tmp[0, 1, :]\n",
    "single = single.reshape((28, 28))\n",
    "plt.imshow(single, cmap='gray')\n",
    "plt.savefig('fourprednine2.png')"
   ]
  },
  {
   "cell_type": "code",
   "execution_count": 39,
   "id": "accessory-drilling",
   "metadata": {},
   "outputs": [
    {
     "data": {
      "image/png": "[encoded data removed]",
      "text/plain": [
       "<Figure size 432x288 with 1 Axes>"
      ]
     },
     "metadata": {
      "needs_background": "light"
     },
     "output_type": "display_data"
    }
   ],
   "source": [
    "indicies = np.where((summary['Real'] == 4) & (summary['Predicted'] == 9))\n",
    "tmp = x_test[indicies,:]\n",
    "single = tmp[0, 2, :]\n",
    "single = single.reshape((28, 28))\n",
    "plt.imshow(single, cmap='gray')\n",
    "plt.savefig('fourprednine3.png')"
   ]
  },
  {
   "cell_type": "code",
   "execution_count": 43,
   "id": "listed-lease",
   "metadata": {},
   "outputs": [
    {
     "data": {
      "image/png": "[encoded data removed]",
      "text/plain": [
       "<Figure size 432x288 with 1 Axes>"
      ]
     },
     "metadata": {
      "needs_background": "light"
     },
     "output_type": "display_data"
    }
   ],
   "source": [
    "indicies = np.where((summary['Real'] == 4) & (summary['Predicted'] == 9))\n",
    "tmp = x_test[indicies,:]\n",
    "single = tmp[0, 3, :]\n",
    "single = single.reshape((28, 28))\n",
    "plt.imshow(single, cmap='gray')\n",
    "plt.savefig('fourprednine4.png')"
   ]
  },
  {
   "cell_type": "code",
   "execution_count": 44,
   "id": "final-envelope",
   "metadata": {},
   "outputs": [
    {
     "data": {
      "image/png": "[encoded data removed]",
      "text/plain": [
       "<Figure size 432x288 with 1 Axes>"
      ]
     },
     "metadata": {
      "needs_background": "light"
     },
     "output_type": "display_data"
    }
   ],
   "source": [
    "indicies = np.where((summary['Real'] == 9) & (summary['Predicted'] == 4))\n",
    "tmp = x_test[indicies,:]\n",
    "single = tmp[0, 0, :]\n",
    "single = single.reshape((28, 28))\n",
    "plt.imshow(single, cmap='gray')\n",
    "plt.savefig('ninepredfour.png')"
   ]
  },
  {
   "cell_type": "code",
   "execution_count": 45,
   "id": "opposite-villa",
   "metadata": {},
   "outputs": [
    {
     "data": {
      "image/png": "[encoded data removed]",
      "text/plain": [
       "<Figure size 432x288 with 1 Axes>"
      ]
     },
     "metadata": {
      "needs_background": "light"
     },
     "output_type": "display_data"
    }
   ],
   "source": [
    "indicies = np.where((summary['Real'] == 9) & (summary['Predicted'] == 4))\n",
    "tmp = x_test[indicies,:]\n",
    "single = tmp[0, 1, :]\n",
    "single = single.reshape((28, 28))\n",
    "plt.imshow(single, cmap='gray')\n",
    "plt.savefig('ninepredfour2.png')"
   ]
  },
  {
   "cell_type": "code",
   "execution_count": 40,
   "id": "absolute-bouquet",
   "metadata": {},
   "outputs": [
    {
     "data": {
      "image/png": "[encoded data removed]",
      "text/plain": [
       "<Figure size 432x288 with 1 Axes>"
      ]
     },
     "metadata": {
      "needs_background": "light"
     },
     "output_type": "display_data"
    }
   ],
   "source": [
    "indicies = np.where((summary['Real'] == 2) & (summary['Predicted'] == 7))\n",
    "tmp = x_test[indicies,:]\n",
    "single = tmp[0, 0, :]\n",
    "single = single.reshape((28, 28))\n",
    "plt.imshow(single, cmap='gray')\n",
    "plt.savefig('twopredseven.png')"
   ]
  },
  {
   "cell_type": "code",
   "execution_count": 42,
   "id": "everyday-benefit",
   "metadata": {},
   "outputs": [
    {
     "data": {
      "image/png": "[encoded data removed]",
      "text/plain": [
       "<Figure size 432x288 with 1 Axes>"
      ]
     },
     "metadata": {
      "needs_background": "light"
     },
     "output_type": "display_data"
    }
   ],
   "source": [
    "indicies = np.where((summary['Real'] == 2) & (summary['Predicted'] == 7))\n",
    "tmp = x_test[indicies,:]\n",
    "single = tmp[0, 1, :]\n",
    "single = single.reshape((28, 28))\n",
    "plt.imshow(single, cmap='gray')\n",
    "plt.savefig('twopredseven2.png')"
   ]
  },
  {
   "cell_type": "code",
   "execution_count": 50,
   "id": "median-wright",
   "metadata": {},
   "outputs": [
    {
     "data": {
      "image/png": "[encoded data removed]",
      "text/plain": [
       "<Figure size 432x288 with 1 Axes>"
      ]
     },
     "metadata": {
      "needs_background": "light"
     },
     "output_type": "display_data"
    }
   ],
   "source": [
    "indicies = np.where((summary['Real'] == 2) & (summary['Predicted'] == 7))\n",
    "tmp = x_test[indicies,:]\n",
    "single = tmp[0, 2, :]\n",
    "single = single.reshape((28, 28))\n",
    "plt.imshow(single, cmap='gray')\n",
    "plt.savefig('twopredseven3.png')"
   ]
  },
  {
   "cell_type": "code",
   "execution_count": 51,
   "id": "infectious-ottawa",
   "metadata": {},
   "outputs": [
    {
     "data": {
      "image/png": "[encoded data removed]",
      "text/plain": [
       "<Figure size 432x288 with 1 Axes>"
      ]
     },
     "metadata": {
      "needs_background": "light"
     },
     "output_type": "display_data"
    }
   ],
   "source": [
    "indicies = np.where((summary['Real'] == 2) & (summary['Predicted'] == 7))\n",
    "tmp = x_test[indicies,:]\n",
    "single = tmp[0, 3, :]\n",
    "single = single.reshape((28, 28))\n",
    "plt.imshow(single, cmap='gray')\n",
    "plt.savefig('twopredseven4.png')"
   ]
  },
  {
   "cell_type": "code",
   "execution_count": 48,
   "id": "creative-driving",
   "metadata": {},
   "outputs": [
    {
     "data": {
      "image/png": "[encoded data removed]",
      "text/plain": [
       "<Figure size 432x288 with 1 Axes>"
      ]
     },
     "metadata": {
      "needs_background": "light"
     },
     "output_type": "display_data"
    }
   ],
   "source": [
    "indicies = np.where((summary['Real'] == 7) & (summary['Predicted'] == 2))\n",
    "tmp = x_test[indicies,:]\n",
    "single = tmp[0, 0, :]\n",
    "single = single.reshape((28, 28))\n",
    "plt.imshow(single, cmap='gray')\n",
    "plt.savefig('sevenpredtwo.png')"
   ]
  },
  {
   "cell_type": "code",
   "execution_count": 49,
   "id": "african-hours",
   "metadata": {},
   "outputs": [
    {
     "data": {
      "image/png": "[encoded data removed]",
      "text/plain": [
       "<Figure size 432x288 with 1 Axes>"
      ]
     },
     "metadata": {
      "needs_background": "light"
     },
     "output_type": "display_data"
    }
   ],
   "source": [
    "indicies = np.where((summary['Real'] == 7) & (summary['Predicted'] == 2))\n",
    "tmp = x_test[indicies,:]\n",
    "single = tmp[0, 1, :]\n",
    "single = single.reshape((28, 28))\n",
    "plt.imshow(single, cmap='gray')\n",
    "plt.savefig('sevenpredtwo2.png')"
   ]
  },
  {
   "cell_type": "code",
   "execution_count": 52,
   "id": "piano-links",
   "metadata": {},
   "outputs": [
    {
     "data": {
      "image/png": "[encoded data removed]",
      "text/plain": [
       "<Figure size 432x288 with 1 Axes>"
      ]
     },
     "metadata": {
      "needs_background": "light"
     },
     "output_type": "display_data"
    }
   ],
   "source": [
    "indicies = np.where((summary['Real'] == 3) & (summary['Predicted'] == 9))\n",
    "tmp = x_test[indicies,:]\n",
    "single = tmp[0, 0, :]\n",
    "single = single.reshape((28, 28))\n",
    "plt.imshow(single, cmap='gray')\n",
    "plt.savefig('threeprednine.png')"
   ]
  },
  {
   "cell_type": "code",
   "execution_count": 53,
   "id": "eight-horse",
   "metadata": {},
   "outputs": [
    {
     "data": {
      "image/png": "[encoded data removed]",
      "text/plain": [
       "<Figure size 432x288 with 1 Axes>"
      ]
     },
     "metadata": {
      "needs_background": "light"
     },
     "output_type": "display_data"
    }
   ],
   "source": [
    "indicies = np.where((summary['Real'] == 3) & (summary['Predicted'] == 9))\n",
    "tmp = x_test[indicies,:]\n",
    "single = tmp[0, 1, :]\n",
    "single = single.reshape((28, 28))\n",
    "plt.imshow(single, cmap='gray')\n",
    "plt.savefig('threeprednine2.png')"
   ]
  },
  {
   "cell_type": "code",
   "execution_count": 54,
   "id": "muslim-greene",
   "metadata": {},
   "outputs": [
    {
     "data": {
      "image/png": "[encoded data removed]",
      "text/plain": [
       "<Figure size 432x288 with 1 Axes>"
      ]
     },
     "metadata": {
      "needs_background": "light"
     },
     "output_type": "display_data"
    }
   ],
   "source": [
    "indicies = np.where((summary['Real'] == 3) & (summary['Predicted'] == 9))\n",
    "tmp = x_test[indicies,:]\n",
    "single = tmp[0, 2, :]\n",
    "single = single.reshape((28, 28))\n",
    "plt.imshow(single, cmap='gray')\n",
    "plt.savefig('threeprednine3.png')"
   ]
  },
  {
   "cell_type": "code",
   "execution_count": 55,
   "id": "wooden-eleven",
   "metadata": {},
   "outputs": [
    {
     "data": {
      "image/png": "[encoded data removed]",
      "text/plain": [
       "<Figure size 432x288 with 1 Axes>"
      ]
     },
     "metadata": {
      "needs_background": "light"
     },
     "output_type": "display_data"
    }
   ],
   "source": [
    "indicies = np.where((summary['Real'] == 3) & (summary['Predicted'] == 9))\n",
    "tmp = x_test[indicies,:]\n",
    "single = tmp[0, 3, :]\n",
    "single = single.reshape((28, 28))\n",
    "plt.imshow(single, cmap='gray')\n",
    "plt.savefig('threeprednine4.png')"
   ]
  },
  {
   "cell_type": "code",
   "execution_count": 56,
   "id": "fabulous-foster",
   "metadata": {},
   "outputs": [
    {
     "data": {
      "image/png": "[encoded data removed]",
      "text/plain": [
       "<Figure size 432x288 with 1 Axes>"
      ]
     },
     "metadata": {
      "needs_background": "light"
     },
     "output_type": "display_data"
    }
   ],
   "source": [
    "indicies = np.where((summary['Real'] == 9) & (summary['Predicted'] == 3))\n",
    "tmp = x_test[indicies,:]\n",
    "single = tmp[0, 0, :]\n",
    "single = single.reshape((28, 28))\n",
    "plt.imshow(single, cmap='gray')\n",
    "plt.savefig('ninepredthree.png')"
   ]
  },
  {
   "cell_type": "code",
   "execution_count": 57,
   "id": "fitting-sweden",
   "metadata": {},
   "outputs": [
    {
     "data": {
      "image/png": "[encoded data removed]",
      "text/plain": [
       "<Figure size 432x288 with 1 Axes>"
      ]
     },
     "metadata": {
      "needs_background": "light"
     },
     "output_type": "display_data"
    }
   ],
   "source": [
    "indicies = np.where((summary['Real'] == 9) & (summary['Predicted'] == 3))\n",
    "tmp = x_test[indicies,:]\n",
    "single = tmp[0, 1, :]\n",
    "single = single.reshape((28, 28))\n",
    "plt.imshow(single, cmap='gray')\n",
    "plt.savefig('ninepredthree2.png')"
   ]
  }
 ],
 "metadata": {
  "kernelspec": {
   "display_name": "Python 3",
   "language": "python",
   "name": "python3"
  },
  "language_info": {
   "codemirror_mode": {
    "name": "ipython",
    "version": 3
   },
   "file_extension": ".py",
   "mimetype": "text/x-python",
   "name": "python",
   "nbconvert_exporter": "python",
   "pygments_lexer": "ipython3",
   "version": "3.7.4"
  }
 },
 "nbformat": 4,
 "nbformat_minor": 5
}

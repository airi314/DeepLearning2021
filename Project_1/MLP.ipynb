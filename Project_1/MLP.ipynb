{
 "cells": [
  {
   "cell_type": "code",
   "execution_count": 1,
   "metadata": {},
   "outputs": [],
   "source": [
    "import numpy as np\n",
    "import matplotlib.pyplot as plt"
   ]
  },
  {
   "cell_type": "code",
   "execution_count": 2,
   "metadata": {},
   "outputs": [],
   "source": [
    "# activation.py\n",
    "def sigmoid(x, derivative=False):\n",
    "    if derivative:\n",
    "        return np.exp(x) / ((1 + np.exp(x)) ** 2)\n",
    "    return 1/(1+np.exp(-x))"
   ]
  },
  {
   "cell_type": "code",
   "execution_count": 3,
   "metadata": {},
   "outputs": [],
   "source": [
    "# utils.py\n",
    "def scale(X):\n",
    "    return (X-np.mean(X, 0))/np.std(X, 0)\n",
    "\n",
    "def shuffle_data(x, y):\n",
    "    t = np.arange(x.shape[0])\n",
    "    np.random.shuffle(t)\n",
    "    return x[t], y[t]\n",
    "\n",
    "def split_batches(x, y, bs):\n",
    "    batch_nr = np.shape(x)[0]//bs\n",
    "    batch_x = np.array_split(x, batch_nr)\n",
    "    batch_y = np.array_split(y, batch_nr)\n",
    "    return batch_x, batch_y"
   ]
  },
  {
   "cell_type": "code",
   "execution_count": 10,
   "metadata": {},
   "outputs": [],
   "source": [
    "# evaluation.py\n",
    "def MSE(x, y):\n",
    "    return np.mean((x - y) ** 2)"
   ]
  },
  {
   "cell_type": "code",
   "execution_count": 12,
   "metadata": {},
   "outputs": [],
   "source": [
    "class MLP:\n",
    "    def __init__(self, layers, act_fn, batch_size, epoq, eta=0.01, alpha=0.9, bias=True, regression=True):\n",
    "        '''\n",
    "        layers - a list of int-s, i-th place corresponds to i-th layer size, including input and output layers\n",
    "        epoq - # of epoques\n",
    "        eta - learning rate\n",
    "        alpha - momentum rate, when equal to 0 it's inactive\n",
    "        bias, regression take boolean values\n",
    "        '''\n",
    "        self.af = act_fn\n",
    "        self.bias = bias\n",
    "        self.bs = batch_size\n",
    "        self.epoq = epoq\n",
    "        self.eta = eta\n",
    "        self.alpha = alpha\n",
    "        self.regr = regression\n",
    "        \n",
    "        # initialize weights randomly\n",
    "        if self.bias:\n",
    "            self.W = [np.random.rand(layers[i-1]+1, layers[i]) for i in range(1, len(layers))]\n",
    "        else:\n",
    "            self.W = [np.random.rand(layers[i-1], layers[i]) for i in range(1, len(layers))]\n",
    "        \n",
    "        # derivatives of weights\n",
    "        self.dW = [np.zeros_like(w) for w in self.W]\n",
    "        \n",
    "        # momentum\n",
    "        self.mW = [np.zeros_like(w) for w in self.W]\n",
    "        \n",
    "    \n",
    "    def forward(self, x): \n",
    "        z = [0]*len(self.W)\n",
    "        for i in range(len(self.W)):\n",
    "            z[i] = np.c_[x, np.ones(x.shape[0])] @ self.W[i]\n",
    "            x = self.af(z[i])    \n",
    "        return z\n",
    "    \n",
    "    \n",
    "    def backprop(self, x, y):\n",
    "        for j in range(self.epoq):\n",
    "            x, y = shuffle_data(x, y)\n",
    "            batch_x, batch_y = split_batches(x, y, self.bs)\n",
    "            \n",
    "            for b_x, b_y in zip(batch_x, batch_y):\n",
    "                z = self.forward(b_x)\n",
    "                e = z[-1] - b_y\n",
    "                for i in reversed(range(len(self.W)-1)):\n",
    "                    self.dW[i+1] = (np.c_[self.af(z[i]), np.ones(z[i].shape[0])].T @ e)/z[i].shape[0]\n",
    "                    if i != 0:\n",
    "                        e =  e @ self.W[i+1][:-1,:].T * self.af(z[i], True)\n",
    "                        \n",
    "                for i in range(len(self.W)):\n",
    "                    self.mW[i] = self.alpha * self.mW[i] + (1-self.alpha) * self.dW[i]\n",
    "                    self.W[i] -= self.eta * self.mW[i]\n",
    "                        \n",
    "    # to do: classification, forward and backprop without bias\n",
    "    # can we assume last hidden layer has sigmoid activation function always? That allows for e = z[-1] - b_y"
   ]
  },
  {
   "cell_type": "code",
   "execution_count": 5,
   "metadata": {},
   "outputs": [
    {
     "data": {
      "text/plain": [
       "<matplotlib.collections.PathCollection at 0x7fa315647990>"
      ]
     },
     "execution_count": 5,
     "metadata": {},
     "output_type": "execute_result"
    },
    {
     "data": {
      "image/png": "[encoded data removed]",
      "text/plain": [
       "<Figure size 432x288 with 1 Axes>"
      ]
     },
     "metadata": {
      "needs_background": "light"
     },
     "output_type": "display_data"
    }
   ],
   "source": [
    "from numpy import genfromtxt\n",
    "\n",
    "# import train data\n",
    "path = '/Users/Gonia_Wachulec/Desktop/Python/MIO/mio1/regression/square-simple-training.csv'\n",
    "data = scale(np.genfromtxt(path, delimiter=',')[1:, 1:])\n",
    "X_train = data[:,0].reshape(-1,1)\n",
    "Y_train = data[:,1].reshape(-1,1)\n",
    "plt.scatter(X_train, Y_train) # it's scaled\n",
    "\n",
    "# import test data\n",
    "path = '/Users/Gonia_Wachulec/Desktop/Python/MIO/mio1/regression/square-simple-test.csv'\n",
    "data = scale(np.genfromtxt(path, delimiter=',')[1:, 1:])\n",
    "X_test = data[:,0].reshape(-1,1)\n",
    "Y_test = data[:,1].reshape(-1,1)\n",
    "plt.scatter(X_test, Y_test)"
   ]
  },
  {
   "cell_type": "code",
   "execution_count": 17,
   "metadata": {},
   "outputs": [
    {
     "data": {
      "text/plain": [
       "<matplotlib.collections.PathCollection at 0x7fa31601f590>"
      ]
     },
     "execution_count": 17,
     "metadata": {},
     "output_type": "execute_result"
    },
    {
     "data": {
      "image/png": "[encoded data removed]",
      "text/plain": [
       "<Figure size 432x288 with 1 Axes>"
      ]
     },
     "metadata": {
      "needs_background": "light"
     },
     "output_type": "display_data"
    }
   ],
   "source": [
    "mlp = MLP([1,10,1],sigmoid,1,10000)\n",
    "mlp.backprop(X_train,Y_train)\n",
    "pred = mlp.forward(X_test)[-1]\n",
    "plt.scatter(X_test, pred)\n",
    "plt.scatter(X_test, Y_test)"
   ]
  },
  {
   "cell_type": "code",
   "execution_count": 18,
   "metadata": {},
   "outputs": [
    {
     "name": "stdout",
     "output_type": "stream",
     "text": [
      "MSE on test set: 0.07432046194625724\n"
     ]
    }
   ],
   "source": [
    "print(\"MSE on test set: \" + str(MSE(Y_test,pred)))"
   ]
  }
 ],
 "metadata": {
  "kernelspec": {
   "display_name": "Python 3",
   "language": "python",
   "name": "python3"
  },
  "language_info": {
   "codemirror_mode": {
    "name": "ipython",
    "version": 3
   },
   "file_extension": ".py",
   "mimetype": "text/x-python",
   "name": "python",
   "nbconvert_exporter": "python",
   "pygments_lexer": "ipython3",
   "version": "3.7.4"
  }
 },
 "nbformat": 4,
 "nbformat_minor": 2
}

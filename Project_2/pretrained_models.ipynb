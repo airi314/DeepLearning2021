{
  "nbformat": 4,
  "nbformat_minor": 0,
  "metadata": {
    "accelerator": "GPU",
    "colab": {
      "name": "pretrained_models.ipynb",
      "provenance": [],
      "collapsed_sections": []
    },
    "kernelspec": {
      "display_name": "Python 3",
      "name": "python3"
    },
    "widgets": {
      "application/vnd.jupyter.widget-state+json": {
        "4d97cbf9db0d405b8fedef19c180488a": {
          "model_module": "@jupyter-widgets/controls",
          "model_name": "HBoxModel",
          "state": {
            "_view_name": "HBoxView",
            "_dom_classes": [],
            "_model_name": "HBoxModel",
            "_view_module": "@jupyter-widgets/controls",
            "_model_module_version": "1.5.0",
            "_view_count": null,
            "_view_module_version": "1.5.0",
            "box_style": "",
            "layout": "IPY_MODEL_3b119ab69bda4e2eb60d1f4f1313b024",
            "_model_module": "@jupyter-widgets/controls",
            "children": [
              "IPY_MODEL_87863ad20d7a44848176c506a6e7811f",
              "IPY_MODEL_bfdef340965d42a587ee605318e8b78d"
            ]
          }
        },
        "3b119ab69bda4e2eb60d1f4f1313b024": {
          "model_module": "@jupyter-widgets/base",
          "model_name": "LayoutModel",
          "state": {
            "_view_name": "LayoutView",
            "grid_template_rows": null,
            "right": null,
            "justify_content": null,
            "_view_module": "@jupyter-widgets/base",
            "overflow": null,
            "_model_module_version": "1.2.0",
            "_view_count": null,
            "flex_flow": null,
            "width": null,
            "min_width": null,
            "border": null,
            "align_items": null,
            "bottom": null,
            "_model_module": "@jupyter-widgets/base",
            "top": null,
            "grid_column": null,
            "overflow_y": null,
            "overflow_x": null,
            "grid_auto_flow": null,
            "grid_area": null,
            "grid_template_columns": null,
            "flex": null,
            "_model_name": "LayoutModel",
            "justify_items": null,
            "grid_row": null,
            "max_height": null,
            "align_content": null,
            "visibility": null,
            "align_self": null,
            "height": null,
            "min_height": null,
            "padding": null,
            "grid_auto_rows": null,
            "grid_gap": null,
            "max_width": null,
            "order": null,
            "_view_module_version": "1.2.0",
            "grid_template_areas": null,
            "object_position": null,
            "object_fit": null,
            "grid_auto_columns": null,
            "margin": null,
            "display": null,
            "left": null
          }
        },
        "87863ad20d7a44848176c506a6e7811f": {
          "model_module": "@jupyter-widgets/controls",
          "model_name": "FloatProgressModel",
          "state": {
            "_view_name": "ProgressView",
            "style": "IPY_MODEL_26cdf3927e9e4f2b8d06ef6f8e50747a",
            "_dom_classes": [],
            "description": "100%",
            "_model_name": "FloatProgressModel",
            "bar_style": "success",
            "max": 46827520,
            "_view_module": "@jupyter-widgets/controls",
            "_model_module_version": "1.5.0",
            "value": 46827520,
            "_view_count": null,
            "_view_module_version": "1.5.0",
            "orientation": "horizontal",
            "min": 0,
            "description_tooltip": null,
            "_model_module": "@jupyter-widgets/controls",
            "layout": "IPY_MODEL_58286d9459e5438d9e879482b61a4d5f"
          }
        },
        "bfdef340965d42a587ee605318e8b78d": {
          "model_module": "@jupyter-widgets/controls",
          "model_name": "HTMLModel",
          "state": {
            "_view_name": "HTMLView",
            "style": "IPY_MODEL_2a36bf0f2c9e4b269bafc9aa6e1e8a35",
            "_dom_classes": [],
            "description": "",
            "_model_name": "HTMLModel",
            "placeholder": "​",
            "_view_module": "@jupyter-widgets/controls",
            "_model_module_version": "1.5.0",
            "value": " 44.7M/44.7M [06:31&lt;00:00, 119kB/s]",
            "_view_count": null,
            "_view_module_version": "1.5.0",
            "description_tooltip": null,
            "_model_module": "@jupyter-widgets/controls",
            "layout": "IPY_MODEL_052156f050b147caaed72b1d8da82bf5"
          }
        },
        "26cdf3927e9e4f2b8d06ef6f8e50747a": {
          "model_module": "@jupyter-widgets/controls",
          "model_name": "ProgressStyleModel",
          "state": {
            "_view_name": "StyleView",
            "_model_name": "ProgressStyleModel",
            "description_width": "initial",
            "_view_module": "@jupyter-widgets/base",
            "_model_module_version": "1.5.0",
            "_view_count": null,
            "_view_module_version": "1.2.0",
            "bar_color": null,
            "_model_module": "@jupyter-widgets/controls"
          }
        },
        "58286d9459e5438d9e879482b61a4d5f": {
          "model_module": "@jupyter-widgets/base",
          "model_name": "LayoutModel",
          "state": {
            "_view_name": "LayoutView",
            "grid_template_rows": null,
            "right": null,
            "justify_content": null,
            "_view_module": "@jupyter-widgets/base",
            "overflow": null,
            "_model_module_version": "1.2.0",
            "_view_count": null,
            "flex_flow": null,
            "width": null,
            "min_width": null,
            "border": null,
            "align_items": null,
            "bottom": null,
            "_model_module": "@jupyter-widgets/base",
            "top": null,
            "grid_column": null,
            "overflow_y": null,
            "overflow_x": null,
            "grid_auto_flow": null,
            "grid_area": null,
            "grid_template_columns": null,
            "flex": null,
            "_model_name": "LayoutModel",
            "justify_items": null,
            "grid_row": null,
            "max_height": null,
            "align_content": null,
            "visibility": null,
            "align_self": null,
            "height": null,
            "min_height": null,
            "padding": null,
            "grid_auto_rows": null,
            "grid_gap": null,
            "max_width": null,
            "order": null,
            "_view_module_version": "1.2.0",
            "grid_template_areas": null,
            "object_position": null,
            "object_fit": null,
            "grid_auto_columns": null,
            "margin": null,
            "display": null,
            "left": null
          }
        },
        "2a36bf0f2c9e4b269bafc9aa6e1e8a35": {
          "model_module": "@jupyter-widgets/controls",
          "model_name": "DescriptionStyleModel",
          "state": {
            "_view_name": "StyleView",
            "_model_name": "DescriptionStyleModel",
            "description_width": "",
            "_view_module": "@jupyter-widgets/base",
            "_model_module_version": "1.5.0",
            "_view_count": null,
            "_view_module_version": "1.2.0",
            "_model_module": "@jupyter-widgets/controls"
          }
        },
        "052156f050b147caaed72b1d8da82bf5": {
          "model_module": "@jupyter-widgets/base",
          "model_name": "LayoutModel",
          "state": {
            "_view_name": "LayoutView",
            "grid_template_rows": null,
            "right": null,
            "justify_content": null,
            "_view_module": "@jupyter-widgets/base",
            "overflow": null,
            "_model_module_version": "1.2.0",
            "_view_count": null,
            "flex_flow": null,
            "width": null,
            "min_width": null,
            "border": null,
            "align_items": null,
            "bottom": null,
            "_model_module": "@jupyter-widgets/base",
            "top": null,
            "grid_column": null,
            "overflow_y": null,
            "overflow_x": null,
            "grid_auto_flow": null,
            "grid_area": null,
            "grid_template_columns": null,
            "flex": null,
            "_model_name": "LayoutModel",
            "justify_items": null,
            "grid_row": null,
            "max_height": null,
            "align_content": null,
            "visibility": null,
            "align_self": null,
            "height": null,
            "min_height": null,
            "padding": null,
            "grid_auto_rows": null,
            "grid_gap": null,
            "max_width": null,
            "order": null,
            "_view_module_version": "1.2.0",
            "grid_template_areas": null,
            "object_position": null,
            "object_fit": null,
            "grid_auto_columns": null,
            "margin": null,
            "display": null,
            "left": null
          }
        }
      }
    }
  },
  "cells": [
    {
      "cell_type": "markdown",
      "metadata": {
        "id": "Q6R3BNivN1Z1"
      },
      "source": [
        "# Importing libraries"
      ]
    },
    {
      "cell_type": "code",
      "metadata": {
        "id": "BZl7QCp5D4XV"
      },
      "source": [
        "import torch\n",
        "import torchvision\n",
        "import torchvision.transforms as transforms\n",
        "from torchvision import models\n",
        "import matplotlib.pyplot as plt\n",
        "import numpy as np\n",
        "import torch.nn as nn\n",
        "import torch.nn.functional as F\n",
        "import torch.optim as optim\n",
        "from torch.utils.data import random_split\n",
        "from torch.optim import SGD, Adam, lr_scheduler\n",
        "from copy import deepcopy"
      ],
      "execution_count": 21,
      "outputs": []
    },
    {
      "cell_type": "markdown",
      "metadata": {
        "id": "2ixPo7lyNxRb"
      },
      "source": [
        "# Downloading and loading dataset\n",
        "\n"
      ]
    },
    {
      "cell_type": "code",
      "metadata": {
        "colab": {
          "base_uri": "https://localhost:8080/"
        },
        "id": "VTBOzS-nPrvC",
        "outputId": "da0739cf-5bbc-4dc1-a239-2fed568f5ba5"
      },
      "source": [
        "train_transform = transforms.Compose([                                      \n",
        "    transforms.Resize(224),\n",
        "    transforms.ToTensor(),\n",
        "    transforms.Normalize([0.485, 0.456, 0.406], [0.229, 0.224, 0.225])])\n",
        "\n",
        "test_transform = transforms.Compose([\n",
        "    transforms.Resize(224),\n",
        "    transforms.ToTensor(),\n",
        "    transforms.Normalize([0.485, 0.456, 0.406], [0.229, 0.224, 0.225])])\n",
        "\n",
        "train = torchvision.datasets.CIFAR10(root='./data', train=True,\n",
        "                                        download=True, transform=train_transform)\n",
        "\n",
        "test = torchvision.datasets.CIFAR10(root='./data', train=False,\n",
        "                                       download=True, transform=test_transform)\n",
        "\n",
        "train, val = random_split(train, [45000, 5000], generator = torch.manual_seed(0))\n",
        "\n",
        "train_loader = torch.utils.data.DataLoader(train, batch_size=64,\n",
        "                                          shuffle=False, num_workers=2)\n",
        "\n",
        "val_loader = torch.utils.data.DataLoader(val, batch_size=64,\n",
        "                                          shuffle=False, num_workers=2)\n",
        "\n",
        "test_loader = torch.utils.data.DataLoader(test, batch_size=64,\n",
        "                                         shuffle=False, num_workers=2)\n",
        "\n",
        "classes_names = ('plane', 'car', 'bird', 'cat',\n",
        "           'deer', 'dog', 'frog', 'horse', 'ship', 'truck')\n",
        "\n",
        "size_train = len(train)\n",
        "size_val = len(val)\n",
        "size_test = len(test)"
      ],
      "execution_count": 6,
      "outputs": [
        {
          "output_type": "stream",
          "text": [
            "Files already downloaded and verified\n",
            "Files already downloaded and verified\n"
          ],
          "name": "stdout"
        }
      ]
    },
    {
      "cell_type": "markdown",
      "metadata": {
        "id": "AW_hyHNwh2wC"
      },
      "source": [
        "# Pretrained Resnet (changing only last layer), finetuning all layers"
      ]
    },
    {
      "cell_type": "code",
      "metadata": {
        "id": "G14h6Chz2pUS"
      },
      "source": [
        "class ResnetCNN(nn.Module):\n",
        "    def __init__(self):\n",
        "\n",
        "        super(ResnetCNN, self).__init__()\n",
        "        pretrained_model = models.resnet18(pretrained=True)\n",
        "\n",
        "        self.pretrained_model = nn.Sequential(*list(pretrained_model.children())[:-1])\n",
        "        in_features = pretrained_model.fc.in_features\n",
        "        self.dropout = nn.Dropout()\n",
        "        self.final_layer = nn.Linear(in_features = in_features, out_features = 10)\n",
        "    \n",
        "    def forward(self,x):\n",
        "        x = self.pretrained_model(x)\n",
        "        x = self.dropout(x.view(-1, self.final_layer.in_features))\n",
        "        return self.final_layer(x)\n",
        "    "
      ],
      "execution_count": 7,
      "outputs": []
    },
    {
      "cell_type": "code",
      "metadata": {
        "id": "YLqcx3Eml3bJ",
        "colab": {
          "base_uri": "https://localhost:8080/",
          "height": 83,
          "referenced_widgets": [
            "4d97cbf9db0d405b8fedef19c180488a",
            "3b119ab69bda4e2eb60d1f4f1313b024",
            "87863ad20d7a44848176c506a6e7811f",
            "bfdef340965d42a587ee605318e8b78d",
            "26cdf3927e9e4f2b8d06ef6f8e50747a",
            "58286d9459e5438d9e879482b61a4d5f",
            "2a36bf0f2c9e4b269bafc9aa6e1e8a35",
            "052156f050b147caaed72b1d8da82bf5"
          ]
        },
        "outputId": "07ee7873-45a9-489c-f7db-c259685146d2"
      },
      "source": [
        "model = ResnetCNN().cuda()\n",
        "criterion = nn.CrossEntropyLoss()\n",
        "optimizer = Adam(model.parameters(), lr=0.001)\n",
        "scheduler = lr_scheduler.StepLR(optimizer, step_size=1, gamma=0.1)"
      ],
      "execution_count": 8,
      "outputs": [
        {
          "output_type": "stream",
          "text": [
            "Downloading: \"https://download.pytorch.org/models/resnet18-5c106cde.pth\" to /root/.cache/torch/hub/checkpoints/resnet18-5c106cde.pth\n"
          ],
          "name": "stderr"
        },
        {
          "output_type": "display_data",
          "data": {
            "application/vnd.jupyter.widget-view+json": {
              "model_id": "4d97cbf9db0d405b8fedef19c180488a",
              "version_minor": 0,
              "version_major": 2
            },
            "text/plain": [
              "HBox(children=(FloatProgress(value=0.0, max=46827520.0), HTML(value='')))"
            ]
          },
          "metadata": {
            "tags": []
          }
        },
        {
          "output_type": "stream",
          "text": [
            "\n"
          ],
          "name": "stdout"
        }
      ]
    },
    {
      "cell_type": "code",
      "metadata": {
        "colab": {
          "base_uri": "https://localhost:8080/"
        },
        "id": "AHoNmSXW4vnn",
        "outputId": "6f65f7f2-bd54-49e8-a1d7-339e7379a872"
      },
      "source": [
        "best_accuracy = -1\n",
        "best_model = None\n",
        "model.train_loss = list()\n",
        "model.train_accuracy = list()\n",
        "model.val_accuracy = list()\n",
        "\n",
        "for epoch in range(2):  \n",
        "\n",
        "    model.train(True)\n",
        "    training_loss = 0\n",
        "    training_correct = 0\n",
        "\n",
        "    for i, data in enumerate(train_loader, 0):\n",
        "\n",
        "        inputs, labels = data\n",
        "        inputs, labels = inputs.cuda(), labels.cuda()\n",
        "        optimizer.zero_grad()\n",
        "\n",
        "        outputs = model(inputs)\n",
        "        loss = criterion(outputs, labels)\n",
        "        loss.backward()\n",
        "        optimizer.step()\n",
        "\n",
        "        training_loss += loss.item() * inputs.size(0)\n",
        "        predicted = torch.argmax(outputs.detach(),dim=1)\n",
        "        training_correct += (predicted == labels).sum().item()\n",
        "    \n",
        "    training_loss = training_loss/size_train\n",
        "    training_accuracy = training_correct*100/size_train\n",
        "    \n",
        "    model.train_loss.append(training_loss)\n",
        "    model.train_accuracy.append(training_accuracy)\n",
        "\n",
        "    print(f\"Epoch {epoch+1}\")\n",
        "    print(f\"Training loss: {training_loss}\")\n",
        "    print(f\"Training accuracy: {training_accuracy}%\")    \n",
        "\n",
        "    validation_correct = 0\n",
        "    model.train(False)\n",
        "    with torch.no_grad():\n",
        "        for inputs,labels in val_loader:\n",
        "            outputs = model(inputs.cuda()).cpu()\n",
        "            predicted = torch.argmax(outputs.detach(), dim=1)\n",
        "            validation_correct += (predicted == labels).sum().item()\n",
        "\n",
        "    val_accuracy = validation_correct*100/size_val\n",
        "    model.val_accuracy.append(val_accuracy)\n",
        "\n",
        "    print(f\"Validation accuracy: {val_accuracy}%\")\n",
        "\n",
        "    if validation_correct > best_accuracy:\n",
        "        best_accuracy = validation_correct\n",
        "        best_model = deepcopy(model.state_dict())\n",
        "\n",
        "    test_correct = 0\n",
        "    with torch.no_grad():\n",
        "        for inputs, labels in test_loader:\n",
        "            outputs = model(inputs.cuda()).cpu()\n",
        "            predicted = torch.argmax(outputs, dim=1)\n",
        "            test_correct += (predicted == labels).sum().item()\n",
        "\n",
        "    print(f\"Test accuracy: {test_correct*100/size_test}%\")\n",
        "\n",
        "    scheduler.step()\n",
        "    print('-'*30)\n",
        "\n",
        "print('Finished Training')"
      ],
      "execution_count": 9,
      "outputs": [
        {
          "output_type": "stream",
          "text": [
            "Epoch 1\n",
            "Training loss: 0.6104563399473826\n",
            "Training accuracy: 79.25555555555556%\n",
            "Validation accuracy: 84.2%\n",
            "Test accuracy: 84.35%\n",
            "------------------------------\n",
            "Epoch 2\n",
            "Training loss: 0.20437041378716628\n",
            "Training accuracy: 93.34666666666666%\n",
            "Validation accuracy: 92.56%\n",
            "Test accuracy: 92.71%\n",
            "------------------------------\n",
            "Finished Training\n"
          ],
          "name": "stdout"
        }
      ]
    },
    {
      "cell_type": "code",
      "metadata": {
        "colab": {
          "base_uri": "https://localhost:8080/"
        },
        "id": "XkTBsruQ9UGK",
        "outputId": "b8b515fe-fc68-4fda-ea7b-9d89dcebc49f"
      },
      "source": [
        "model.load_state_dict(best_model)\n",
        "\n",
        "test_correct = 0\n",
        "with torch.no_grad():\n",
        "    for inputs, labels in test_loader:\n",
        "        outputs = model(inputs.cuda()).cpu()\n",
        "        predicted = torch.argmax(outputs, dim=1)\n",
        "        test_correct += (predicted == labels).sum().item()\n",
        "\n",
        "print(f\"Test accuracy: {test_correct*100/size_test}%\")"
      ],
      "execution_count": 10,
      "outputs": [
        {
          "output_type": "stream",
          "text": [
            "Test accuracy: 92.71%\n"
          ],
          "name": "stdout"
        }
      ]
    },
    {
      "cell_type": "code",
      "metadata": {
        "id": "EnrWHq-0gC7f"
      },
      "source": [
        ""
      ],
      "execution_count": null,
      "outputs": []
    },
    {
      "cell_type": "markdown",
      "metadata": {
        "id": "frqRyUFuh-zD"
      },
      "source": [
        "# Pretrained Resnet (changing only last layer), finetuning all layers, simple data augmentation"
      ]
    },
    {
      "cell_type": "code",
      "metadata": {
        "colab": {
          "base_uri": "https://localhost:8080/"
        },
        "id": "Chwag5TJgHYJ",
        "outputId": "4e861b50-f5d7-4b76-96cf-f8a7b20ae882"
      },
      "source": [
        "train_transform = transforms.Compose([                                      \n",
        "    transforms.Resize(256),\n",
        "    transforms.CenterCrop(224),\n",
        "    transforms.RandomHorizontalFlip(p=0.4),\n",
        "    transforms.ToTensor(),\n",
        "    transforms.Normalize([0.485, 0.456, 0.406], [0.229, 0.224, 0.225])])\n",
        "\n",
        "test_transform = transforms.Compose([\n",
        "    transforms.Resize(224),\n",
        "    transforms.ToTensor(),\n",
        "    transforms.Normalize([0.485, 0.456, 0.406], [0.229, 0.224, 0.225])])\n",
        "\n",
        "train = torchvision.datasets.CIFAR10(root='./data', train=True,\n",
        "                                        download=True, transform=train_transform)\n",
        "\n",
        "test = torchvision.datasets.CIFAR10(root='./data', train=False,\n",
        "                                       download=True, transform=test_transform)\n",
        "\n",
        "train, val = random_split(train, [45000, 5000], generator = torch.manual_seed(0))\n",
        "\n",
        "train_loader = torch.utils.data.DataLoader(train, batch_size=64,\n",
        "                                          shuffle=False, num_workers=2)\n",
        "\n",
        "val_loader = torch.utils.data.DataLoader(val, batch_size=64,\n",
        "                                          shuffle=False, num_workers=2)\n",
        "\n",
        "test_loader = torch.utils.data.DataLoader(test, batch_size=64,\n",
        "                                         shuffle=False, num_workers=2)\n",
        "\n",
        "classes_names = ('plane', 'car', 'bird', 'cat',\n",
        "           'deer', 'dog', 'frog', 'horse', 'ship', 'truck')\n",
        "\n",
        "size_train = len(train)\n",
        "size_val = len(val)\n",
        "size_test = len(test)"
      ],
      "execution_count": null,
      "outputs": [
        {
          "output_type": "stream",
          "text": [
            "Files already downloaded and verified\n",
            "Files already downloaded and verified\n"
          ],
          "name": "stdout"
        }
      ]
    },
    {
      "cell_type": "code",
      "metadata": {
        "id": "YH-jDr7QgHYM"
      },
      "source": [
        "class ResnetCNN(nn.Module):\n",
        "    def __init__(self):\n",
        "\n",
        "        super(ResnetCNN, self).__init__()\n",
        "        pretrained_model = models.resnet18(pretrained=True)\n",
        "\n",
        "        self.pretrained_model = nn.Sequential(*list(pretrained_model.children())[:-1])\n",
        "        in_features = pretrained_model.fc.in_features\n",
        "        self.dropout = nn.Dropout()\n",
        "        self.final_layer = nn.Linear(in_features = in_features, out_features = 10)\n",
        "    \n",
        "    def forward(self,x):\n",
        "        x = self.pretrained_model(x)\n",
        "        x = self.dropout(x.view(-1, self.final_layer.in_features))\n",
        "        return self.final_layer(x)"
      ],
      "execution_count": null,
      "outputs": []
    },
    {
      "cell_type": "code",
      "metadata": {
        "id": "vesfPKrpgHYN"
      },
      "source": [
        "model = ResnetCNN().cuda()\n",
        "criterion = nn.CrossEntropyLoss()\n",
        "optimizer = Adam(model.parameters(), lr=0.001)\n",
        "scheduler = lr_scheduler.StepLR(optimizer, step_size=1, gamma=0.1)"
      ],
      "execution_count": null,
      "outputs": []
    },
    {
      "cell_type": "code",
      "metadata": {
        "colab": {
          "background_save": true,
          "base_uri": "https://localhost:8080/"
        },
        "id": "GATE-GjKgHYN",
        "outputId": "527a6e5d-4d9f-47b0-87b2-d9d894f5d0aa"
      },
      "source": [
        "best_accuracy = -1\n",
        "best_model = None\n",
        "model.train_loss = list()\n",
        "model.train_accuracy = list()\n",
        "model.val_accuracy = list()\n",
        "\n",
        "for epoch in range(10):  \n",
        "\n",
        "    model.train(True)\n",
        "    training_loss = 0\n",
        "    training_correct = 0\n",
        "\n",
        "    for i, data in enumerate(train_loader, 0):\n",
        "\n",
        "        inputs, labels = data\n",
        "        inputs, labels = inputs.cuda(), labels.cuda()\n",
        "        optimizer.zero_grad()\n",
        "\n",
        "        outputs = model(inputs)\n",
        "        loss = criterion(outputs, labels)\n",
        "        loss.backward()\n",
        "        optimizer.step()\n",
        "\n",
        "        training_loss += loss.item() * inputs.size(0)\n",
        "        predicted = torch.argmax(outputs.detach(),dim=1)\n",
        "        training_correct += (predicted == labels).sum().item()\n",
        "    \n",
        "    training_loss = training_loss/size_train\n",
        "    training_accuracy = training_correct*100/size_train\n",
        "    \n",
        "    model.train_loss.append(training_loss)\n",
        "    model.train_accuracy.append(training_accuracy)\n",
        "\n",
        "    print(f\"Epoch {epoch+1}\")\n",
        "    print(f\"Training loss: {training_loss}\")\n",
        "    print(f\"Training accuracy: {training_accuracy}%\")    \n",
        "\n",
        "    validation_correct = 0\n",
        "    model.train(False)\n",
        "    with torch.no_grad():\n",
        "        for inputs,labels in val_loader:\n",
        "            outputs = model(inputs.cuda()).cpu()\n",
        "            predicted = torch.argmax(outputs.detach(), dim=1)\n",
        "            validation_correct += (predicted == labels).sum().item()\n",
        "\n",
        "    val_accuracy = validation_correct*100/size_val\n",
        "    model.val_accuracy.append(val_accuracy)\n",
        "\n",
        "    print(f\"Validation accuracy: {val_accuracy}%\")\n",
        "\n",
        "    if validation_correct > best_accuracy:\n",
        "        best_accuracy = validation_correct\n",
        "        best_model = deepcopy(model.state_dict())\n",
        "\n",
        "    test_correct = 0\n",
        "    with torch.no_grad():\n",
        "        for inputs, labels in test_loader:\n",
        "            outputs = model(inputs.cuda()).cpu()\n",
        "            predicted = torch.argmax(outputs, dim=1)\n",
        "            test_correct += (predicted == labels).sum().item()\n",
        "\n",
        "    print(f\"Test accuracy: {test_correct*100/size_test}%\")\n",
        "\n",
        "    scheduler.step()\n",
        "    print('-'*30)\n",
        "\n",
        "print('Finished Training')"
      ],
      "execution_count": null,
      "outputs": [
        {
          "output_type": "stream",
          "text": [
            "Epoch 1\n",
            "Training loss: 0.6427051045099894\n",
            "Training accuracy: 78.3%\n",
            "Validation accuracy: 82.2%\n",
            "Test accuracy: 81.56%\n",
            "------------------------------\n",
            "Epoch 2\n",
            "Training loss: 0.25763239153756035\n",
            "Training accuracy: 91.42666666666666%\n",
            "Validation accuracy: 91.66%\n",
            "Test accuracy: 91.13%\n",
            "------------------------------\n",
            "Epoch 3\n",
            "Training loss: 0.17460074328316583\n",
            "Training accuracy: 94.38222222222223%\n",
            "Validation accuracy: 91.84%\n",
            "Test accuracy: 91.62%\n",
            "------------------------------\n",
            "Epoch 4\n",
            "Training loss: 0.16187369538148244\n",
            "Training accuracy: 94.84%\n",
            "Validation accuracy: 91.72%\n",
            "Test accuracy: 91.67%\n",
            "------------------------------\n",
            "Epoch 5\n",
            "Training loss: 0.16086355093452664\n",
            "Training accuracy: 94.88%\n",
            "Validation accuracy: 92.4%\n",
            "Test accuracy: 91.67%\n",
            "------------------------------\n",
            "Epoch 6\n",
            "Training loss: 0.1606909229464001\n",
            "Training accuracy: 94.7688888888889%\n",
            "Validation accuracy: 92.2%\n",
            "Test accuracy: 91.64%\n",
            "------------------------------\n",
            "Epoch 7\n",
            "Training loss: 0.1617557296925121\n",
            "Training accuracy: 94.83777777777777%\n",
            "Validation accuracy: 92.14%\n",
            "Test accuracy: 91.65%\n",
            "------------------------------\n",
            "Epoch 8\n",
            "Training loss: 0.16192224277390374\n",
            "Training accuracy: 94.9%\n",
            "Validation accuracy: 92.08%\n",
            "Test accuracy: 91.67%\n",
            "------------------------------\n",
            "Epoch 9\n",
            "Training loss: 0.16294739469952055\n",
            "Training accuracy: 94.83333333333333%\n",
            "Validation accuracy: 92.02%\n",
            "Test accuracy: 91.72%\n",
            "------------------------------\n",
            "Epoch 10\n",
            "Training loss: 0.15962268036206564\n",
            "Training accuracy: 94.96444444444444%\n",
            "Validation accuracy: 92.1%\n",
            "Test accuracy: 91.61%\n",
            "------------------------------\n",
            "Finished Training\n"
          ],
          "name": "stdout"
        }
      ]
    },
    {
      "cell_type": "code",
      "metadata": {
        "colab": {
          "background_save": true
        },
        "id": "qWORmitxgHYP",
        "outputId": "9ee952cd-3188-4e25-fc07-94420dac4a80"
      },
      "source": [
        "model.load_state_dict(best_model)\n",
        "\n",
        "test_correct = 0\n",
        "with torch.no_grad():\n",
        "    for inputs, labels in test_loader:\n",
        "        outputs = model(inputs.cuda()).cpu()\n",
        "        predicted = torch.argmax(outputs, dim=1)\n",
        "        test_correct += (predicted == labels).sum().item()\n",
        "\n",
        "print(f\"Test accuracy: {test_correct*100/size_test}%\")"
      ],
      "execution_count": null,
      "outputs": [
        {
          "output_type": "stream",
          "text": [
            "Test accuracy: 91.67%\n"
          ],
          "name": "stdout"
        }
      ]
    },
    {
      "cell_type": "code",
      "metadata": {
        "colab": {
          "background_save": true
        },
        "id": "WS5FZxehgHYQ",
        "outputId": "57132025-c43e-44e8-82f8-24438dac7e5b"
      },
      "source": [
        "plt.figure()\n",
        "plt.plot([i for i in range(10)], model.train_accuracy)\n",
        "plt.plot([i for i in range(10)], model.val_accuracy)\n",
        "plt.xlabel('Epochs')\n",
        "plt.ylabel('Accuracy')\n",
        "plt.legend(['Train', 'Validation'])\n",
        "plt.title('Accuracy for train and test set for simple CNN model with Adam optimizer and simple data augmentation')\n",
        "plt.show()"
      ],
      "execution_count": null,
      "outputs": [
        {
          "output_type": "display_data",
          "data": {
            "image/png": "[encoded data removed]",
            "text/plain": [
              "<Figure size 432x288 with 1 Axes>"
            ]
          },
          "metadata": {
            "tags": []
          }
        }
      ]
    },
    {
      "cell_type": "code",
      "metadata": {
        "colab": {
          "background_save": true
        },
        "id": "rCE7RLD_gHYR",
        "outputId": "b3f23551-830d-4b04-c708-1cea8c8eff54"
      },
      "source": [
        "plt.figure()\n",
        "plt.plot([i for i in range(10)], model.train_loss)\n",
        "plt.xlabel('Epochs')\n",
        "plt.ylabel('Loss')\n",
        "plt.title('Loss for train and for simple CNN model with Adam optimizer and simple data augmentation')\n",
        "plt.show()"
      ],
      "execution_count": null,
      "outputs": [
        {
          "output_type": "display_data",
          "data": {
            "image/png": "[encoded data removed]",
            "text/plain": [
              "<Figure size 432x288 with 1 Axes>"
            ]
          },
          "metadata": {
            "tags": []
          }
        }
      ]
    },
    {
      "cell_type": "code",
      "metadata": {
        "id": "1mXvOW-8gHYR"
      },
      "source": [
        ""
      ],
      "execution_count": null,
      "outputs": []
    },
    {
      "cell_type": "markdown",
      "metadata": {
        "id": "Qs445BsDiD7u"
      },
      "source": [
        "# Pretrained Resnet (changing fc layer, tuning fc and layer4) "
      ]
    },
    {
      "cell_type": "code",
      "metadata": {
        "id": "cYZfcB5T4gNd"
      },
      "source": [
        "class ResnetCNN(nn.Module):\n",
        "    def __init__(self):\n",
        "\n",
        "        super(ResnetCNN, self).__init__()\n",
        "        self.pretrained_model = models.resnet18(pretrained=True)\n",
        "\n",
        "        for param in self.pretrained_model.parameters():\n",
        "            param.requires_grad = False\n",
        "\n",
        "        for param in self.pretrained_model.layer4.parameters():\n",
        "            param.requires_grad = True\n",
        "\n",
        "        self.pretrained_model.fc = nn.Linear(512, 10)\n",
        "    \n",
        "    def forward(self,x):\n",
        "        x = self.pretrained_model(x)\n",
        "        return x\n",
        "\n",
        "model = ResnetCNN().cuda()\n"
      ],
      "execution_count": null,
      "outputs": []
    },
    {
      "cell_type": "code",
      "metadata": {
        "colab": {
          "base_uri": "https://localhost:8080/"
        },
        "id": "_P1r-Qgz4gN_",
        "outputId": "f7e8fe9d-c939-420c-a8b6-c3c482a33562"
      },
      "source": [
        "train_transform = transforms.Compose([                                      \n",
        "    transforms.Resize(224),\n",
        "    transforms.ToTensor(),\n",
        "    transforms.Normalize([0.485, 0.456, 0.406], [0.229, 0.224, 0.225])])\n",
        "\n",
        "test_transform = transforms.Compose([\n",
        "    transforms.Resize(224),\n",
        "    transforms.ToTensor(),\n",
        "    transforms.Normalize([0.485, 0.456, 0.406], [0.229, 0.224, 0.225])])\n",
        "\n",
        "train = torchvision.datasets.CIFAR10(root='./data', train=True,\n",
        "                                        download=True, transform=train_transform)\n",
        "\n",
        "test = torchvision.datasets.CIFAR10(root='./data', train=False,\n",
        "                                       download=True, transform=test_transform)\n",
        "\n",
        "train, val = random_split(train, [45000, 5000], generator = torch.manual_seed(0))\n",
        "\n",
        "train_loader = torch.utils.data.DataLoader(train, batch_size=64,\n",
        "                                          shuffle=False, num_workers=2)\n",
        "\n",
        "val_loader = torch.utils.data.DataLoader(val, batch_size=64,\n",
        "                                          shuffle=False, num_workers=2)\n",
        "\n",
        "test_loader = torch.utils.data.DataLoader(test, batch_size=64,\n",
        "                                         shuffle=False, num_workers=2)\n",
        "\n",
        "classes_names = ('plane', 'car', 'bird', 'cat',\n",
        "           'deer', 'dog', 'frog', 'horse', 'ship', 'truck')\n",
        "\n",
        "size_train = len(train)\n",
        "size_val = len(val)\n",
        "size_test = len(test)"
      ],
      "execution_count": null,
      "outputs": [
        {
          "output_type": "stream",
          "text": [
            "Files already downloaded and verified\n",
            "Files already downloaded and verified\n"
          ],
          "name": "stdout"
        }
      ]
    },
    {
      "cell_type": "code",
      "metadata": {
        "id": "cC0OFxfQ4gOB"
      },
      "source": [
        "model = ResnetCNN().cuda()\n",
        "criterion = nn.CrossEntropyLoss()\n",
        "optimizer = Adam(filter(lambda p: p.requires_grad, model.pretrained_model.parameters()), lr = 0.001)\n",
        "scheduler = lr_scheduler.StepLR(optimizer, step_size=3, gamma=0.1)"
      ],
      "execution_count": null,
      "outputs": []
    },
    {
      "cell_type": "code",
      "metadata": {
        "colab": {
          "base_uri": "https://localhost:8080/"
        },
        "id": "1s7ZakYX4gOC",
        "outputId": "621ab9d6-e444-44a4-e84c-7e7ceb26de6a"
      },
      "source": [
        "best_accuracy = -1\n",
        "best_model = None\n",
        "model.train_loss = list()\n",
        "model.train_accuracy = list()\n",
        "model.val_accuracy = list()\n",
        "\n",
        "for epoch in range(10):  \n",
        "\n",
        "    model.train(True)\n",
        "    training_loss = 0\n",
        "    training_correct = 0\n",
        "\n",
        "    for i, data in enumerate(train_loader, 0):\n",
        "\n",
        "        inputs, labels = data\n",
        "        inputs, labels = inputs.cuda(), labels.cuda()\n",
        "        optimizer.zero_grad()\n",
        "\n",
        "        outputs = model(inputs)\n",
        "        loss = criterion(outputs, labels)\n",
        "        loss.backward()\n",
        "        optimizer.step()\n",
        "\n",
        "        training_loss += loss.item() * inputs.size(0)\n",
        "        predicted = torch.argmax(outputs.detach(),dim=1)\n",
        "        training_correct += (predicted == labels).sum().item()\n",
        "    \n",
        "    training_loss = training_loss/size_train\n",
        "    training_accuracy = training_correct*100/size_train\n",
        "    \n",
        "    model.train_loss.append(training_loss)\n",
        "    model.train_accuracy.append(training_accuracy)\n",
        "\n",
        "    print(f\"Epoch {epoch+1}\")\n",
        "    print(f\"Training loss: {training_loss}\")\n",
        "    print(f\"Training accuracy: {training_accuracy}%\")    \n",
        "\n",
        "    validation_correct = 0\n",
        "    model.train(False)\n",
        "    with torch.no_grad():\n",
        "        for inputs,labels in val_loader:\n",
        "            outputs = model(inputs.cuda()).cpu()\n",
        "            predicted = torch.argmax(outputs.detach(), dim=1)\n",
        "            validation_correct += (predicted == labels).sum().item()\n",
        "\n",
        "    val_accuracy = validation_correct*100/size_val\n",
        "    model.val_accuracy.append(val_accuracy)\n",
        "\n",
        "    print(f\"Validation accuracy: {val_accuracy}%\")\n",
        "\n",
        "    if validation_correct > best_accuracy:\n",
        "        best_accuracy = validation_correct\n",
        "        best_model = deepcopy(model.state_dict())\n",
        "\n",
        "    test_correct = 0\n",
        "    with torch.no_grad():\n",
        "        for inputs, labels in test_loader:\n",
        "            outputs = model(inputs.cuda()).cpu()\n",
        "            predicted = torch.argmax(outputs, dim=1)\n",
        "            test_correct += (predicted == labels).sum().item()\n",
        "\n",
        "    print(f\"Test accuracy: {test_correct*100/size_test}%\")\n",
        "\n",
        "    scheduler.step()\n",
        "    print('-'*30)\n",
        "\n",
        "print('Finished Training')"
      ],
      "execution_count": null,
      "outputs": [
        {
          "output_type": "stream",
          "text": [
            "Epoch 1\n",
            "Training loss: 0.6563594793637594\n",
            "Training accuracy: 78.38%\n",
            "Validation accuracy: 85.8%\n",
            "Test accuracy: 85.22%\n",
            "------------------------------\n",
            "Epoch 2\n",
            "Training loss: 0.3427034184926086\n",
            "Training accuracy: 88.43777777777778%\n",
            "Validation accuracy: 86.12%\n",
            "Test accuracy: 85.61%\n",
            "------------------------------\n",
            "Epoch 3\n",
            "Training loss: 0.21862452816168468\n",
            "Training accuracy: 92.56444444444445%\n",
            "Validation accuracy: 85.7%\n",
            "Test accuracy: 85.75%\n",
            "------------------------------\n",
            "Epoch 4\n",
            "Training loss: 0.08444217401515795\n",
            "Training accuracy: 97.15333333333334%\n",
            "Validation accuracy: 90.56%\n",
            "Test accuracy: 90.32%\n",
            "------------------------------\n",
            "Epoch 5\n",
            "Training loss: 0.03409126376344745\n",
            "Training accuracy: 98.99555555555555%\n",
            "Validation accuracy: 90.66%\n",
            "Test accuracy: 90.3%\n",
            "------------------------------\n",
            "Epoch 6\n",
            "Training loss: 0.010936034187962327\n",
            "Training accuracy: 99.75333333333333%\n",
            "Validation accuracy: 90.7%\n",
            "Test accuracy: 90.01%\n",
            "------------------------------\n",
            "Epoch 7\n",
            "Training loss: 0.002978268820918068\n",
            "Training accuracy: 99.97333333333333%\n",
            "Validation accuracy: 91.0%\n",
            "Test accuracy: 90.07%\n",
            "------------------------------\n",
            "Epoch 8\n",
            "Training loss: 0.002291024211988002\n",
            "Training accuracy: 99.98222222222222%\n",
            "Validation accuracy: 91.04%\n",
            "Test accuracy: 90.09%\n",
            "------------------------------\n",
            "Epoch 9\n",
            "Training loss: 0.0018371844001369836\n",
            "Training accuracy: 99.9888888888889%\n",
            "Validation accuracy: 90.98%\n",
            "Test accuracy: 90.08%\n",
            "------------------------------\n",
            "Epoch 10\n",
            "Training loss: 0.00149095183389533\n",
            "Training accuracy: 99.99777777777778%\n",
            "Validation accuracy: 91.04%\n",
            "Test accuracy: 90.08%\n",
            "------------------------------\n",
            "Finished Training\n"
          ],
          "name": "stdout"
        }
      ]
    },
    {
      "cell_type": "code",
      "metadata": {
        "colab": {
          "base_uri": "https://localhost:8080/"
        },
        "id": "9QvbQJCU4gOD",
        "outputId": "d0e0edf0-6056-4b4d-e302-4b187bf6d483"
      },
      "source": [
        "model.load_state_dict(best_model)\n",
        "\n",
        "test_correct = 0\n",
        "with torch.no_grad():\n",
        "    for inputs, labels in test_loader:\n",
        "        outputs = model(inputs.cuda()).cpu()\n",
        "        predicted = torch.argmax(outputs, dim=1)\n",
        "        test_correct += (predicted == labels).sum().item()\n",
        "\n",
        "print(f\"Test accuracy: {test_correct*100/size_test}%\")"
      ],
      "execution_count": null,
      "outputs": [
        {
          "output_type": "stream",
          "text": [
            "Test accuracy: 90.09%\n"
          ],
          "name": "stdout"
        }
      ]
    },
    {
      "cell_type": "code",
      "metadata": {
        "colab": {
          "base_uri": "https://localhost:8080/",
          "height": 285
        },
        "id": "b_j1UX7i4kzC",
        "outputId": "23c4bc16-806d-4619-dc96-e9b53cf64a14"
      },
      "source": [
        "plt.figure()\n",
        "plt.plot([i for i in range(10)], model.train_accuracy)\n",
        "plt.plot([i for i in range(10)], model.val_accuracy)\n",
        "plt.xlabel('Epochs')\n",
        "plt.ylabel('Accuracy')\n",
        "plt.legend(['Train', 'Validation'])\n",
        "plt.title('Accuracy for train and test set for simple CNN model with Adam optimizer and simple data augmentation')\n",
        "plt.show()"
      ],
      "execution_count": null,
      "outputs": [
        {
          "output_type": "display_data",
          "data": {
            "image/png": "[encoded data removed]",
            "text/plain": [
              "<Figure size 432x288 with 1 Axes>"
            ]
          },
          "metadata": {
            "tags": []
          }
        }
      ]
    },
    {
      "cell_type": "code",
      "metadata": {
        "colab": {
          "base_uri": "https://localhost:8080/",
          "height": 295
        },
        "id": "nprjhqTr4k1u",
        "outputId": "347f7f24-5782-4c72-ff93-4ed2acf50865"
      },
      "source": [
        "plt.figure()\n",
        "plt.plot([i for i in range(10)], model.train_loss)\n",
        "plt.xlabel('Epochs')\n",
        "plt.ylabel('Loss')\n",
        "plt.title('Loss for train and for simple CNN model with Adam optimizer and simple data augmentation')\n",
        "plt.show()"
      ],
      "execution_count": null,
      "outputs": [
        {
          "output_type": "display_data",
          "data": {
            "image/png": "[encoded data removed]",
            "text/plain": [
              "<Figure size 432x288 with 1 Axes>"
            ]
          },
          "metadata": {
            "tags": []
          }
        }
      ]
    },
    {
      "cell_type": "code",
      "metadata": {
        "id": "jTtjwaOp4gOD"
      },
      "source": [
        ""
      ],
      "execution_count": null,
      "outputs": []
    }
  ]
}
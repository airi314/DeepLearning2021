{
  "nbformat": 4,
  "nbformat_minor": 0,
  "metadata": {
    "accelerator": "GPU",
    "colab": {
      "name": "pretrained_models.ipynb",
      "provenance": [],
      "collapsed_sections": [],
      "toc_visible": true
    },
    "kernelspec": {
      "display_name": "Python 3",
      "name": "python3"
    },
    "widgets": {
      "application/vnd.jupyter.widget-state+json": {
        "c27751b7d7f245d991f3358525e899b4": {
          "model_module": "@jupyter-widgets/controls",
          "model_name": "HBoxModel",
          "state": {
            "_view_name": "HBoxView",
            "_dom_classes": [],
            "_model_name": "HBoxModel",
            "_view_module": "@jupyter-widgets/controls",
            "_model_module_version": "1.5.0",
            "_view_count": null,
            "_view_module_version": "1.5.0",
            "box_style": "",
            "layout": "IPY_MODEL_bc3b80d4978e4fa8a5e5053022c8bd93",
            "_model_module": "@jupyter-widgets/controls",
            "children": [
              "IPY_MODEL_458e33383d0a435693cb83495fd2d387",
              "IPY_MODEL_f59262856a4c4cd0ba2651317cd73cab"
            ]
          }
        },
        "bc3b80d4978e4fa8a5e5053022c8bd93": {
          "model_module": "@jupyter-widgets/base",
          "model_name": "LayoutModel",
          "state": {
            "_view_name": "LayoutView",
            "grid_template_rows": null,
            "right": null,
            "justify_content": null,
            "_view_module": "@jupyter-widgets/base",
            "overflow": null,
            "_model_module_version": "1.2.0",
            "_view_count": null,
            "flex_flow": null,
            "width": null,
            "min_width": null,
            "border": null,
            "align_items": null,
            "bottom": null,
            "_model_module": "@jupyter-widgets/base",
            "top": null,
            "grid_column": null,
            "overflow_y": null,
            "overflow_x": null,
            "grid_auto_flow": null,
            "grid_area": null,
            "grid_template_columns": null,
            "flex": null,
            "_model_name": "LayoutModel",
            "justify_items": null,
            "grid_row": null,
            "max_height": null,
            "align_content": null,
            "visibility": null,
            "align_self": null,
            "height": null,
            "min_height": null,
            "padding": null,
            "grid_auto_rows": null,
            "grid_gap": null,
            "max_width": null,
            "order": null,
            "_view_module_version": "1.2.0",
            "grid_template_areas": null,
            "object_position": null,
            "object_fit": null,
            "grid_auto_columns": null,
            "margin": null,
            "display": null,
            "left": null
          }
        },
        "458e33383d0a435693cb83495fd2d387": {
          "model_module": "@jupyter-widgets/controls",
          "model_name": "FloatProgressModel",
          "state": {
            "_view_name": "ProgressView",
            "style": "IPY_MODEL_f7c0f4a63f59495dbbc4a37ed5a3f329",
            "_dom_classes": [],
            "description": "100%",
            "_model_name": "FloatProgressModel",
            "bar_style": "success",
            "max": 46827520,
            "_view_module": "@jupyter-widgets/controls",
            "_model_module_version": "1.5.0",
            "value": 46827520,
            "_view_count": null,
            "_view_module_version": "1.5.0",
            "orientation": "horizontal",
            "min": 0,
            "description_tooltip": null,
            "_model_module": "@jupyter-widgets/controls",
            "layout": "IPY_MODEL_2896d7981aaf48c786635a47a764ae3e"
          }
        },
        "f59262856a4c4cd0ba2651317cd73cab": {
          "model_module": "@jupyter-widgets/controls",
          "model_name": "HTMLModel",
          "state": {
            "_view_name": "HTMLView",
            "style": "IPY_MODEL_0d6e6646c3eb4b11b807febfa97aa8b4",
            "_dom_classes": [],
            "description": "",
            "_model_name": "HTMLModel",
            "placeholder": "​",
            "_view_module": "@jupyter-widgets/controls",
            "_model_module_version": "1.5.0",
            "value": " 44.7M/44.7M [16:24&lt;00:00, 47.6kB/s]",
            "_view_count": null,
            "_view_module_version": "1.5.0",
            "description_tooltip": null,
            "_model_module": "@jupyter-widgets/controls",
            "layout": "IPY_MODEL_f8771157901a40feaa5597f07030198a"
          }
        },
        "f7c0f4a63f59495dbbc4a37ed5a3f329": {
          "model_module": "@jupyter-widgets/controls",
          "model_name": "ProgressStyleModel",
          "state": {
            "_view_name": "StyleView",
            "_model_name": "ProgressStyleModel",
            "description_width": "initial",
            "_view_module": "@jupyter-widgets/base",
            "_model_module_version": "1.5.0",
            "_view_count": null,
            "_view_module_version": "1.2.0",
            "bar_color": null,
            "_model_module": "@jupyter-widgets/controls"
          }
        },
        "2896d7981aaf48c786635a47a764ae3e": {
          "model_module": "@jupyter-widgets/base",
          "model_name": "LayoutModel",
          "state": {
            "_view_name": "LayoutView",
            "grid_template_rows": null,
            "right": null,
            "justify_content": null,
            "_view_module": "@jupyter-widgets/base",
            "overflow": null,
            "_model_module_version": "1.2.0",
            "_view_count": null,
            "flex_flow": null,
            "width": null,
            "min_width": null,
            "border": null,
            "align_items": null,
            "bottom": null,
            "_model_module": "@jupyter-widgets/base",
            "top": null,
            "grid_column": null,
            "overflow_y": null,
            "overflow_x": null,
            "grid_auto_flow": null,
            "grid_area": null,
            "grid_template_columns": null,
            "flex": null,
            "_model_name": "LayoutModel",
            "justify_items": null,
            "grid_row": null,
            "max_height": null,
            "align_content": null,
            "visibility": null,
            "align_self": null,
            "height": null,
            "min_height": null,
            "padding": null,
            "grid_auto_rows": null,
            "grid_gap": null,
            "max_width": null,
            "order": null,
            "_view_module_version": "1.2.0",
            "grid_template_areas": null,
            "object_position": null,
            "object_fit": null,
            "grid_auto_columns": null,
            "margin": null,
            "display": null,
            "left": null
          }
        },
        "0d6e6646c3eb4b11b807febfa97aa8b4": {
          "model_module": "@jupyter-widgets/controls",
          "model_name": "DescriptionStyleModel",
          "state": {
            "_view_name": "StyleView",
            "_model_name": "DescriptionStyleModel",
            "description_width": "",
            "_view_module": "@jupyter-widgets/base",
            "_model_module_version": "1.5.0",
            "_view_count": null,
            "_view_module_version": "1.2.0",
            "_model_module": "@jupyter-widgets/controls"
          }
        },
        "f8771157901a40feaa5597f07030198a": {
          "model_module": "@jupyter-widgets/base",
          "model_name": "LayoutModel",
          "state": {
            "_view_name": "LayoutView",
            "grid_template_rows": null,
            "right": null,
            "justify_content": null,
            "_view_module": "@jupyter-widgets/base",
            "overflow": null,
            "_model_module_version": "1.2.0",
            "_view_count": null,
            "flex_flow": null,
            "width": null,
            "min_width": null,
            "border": null,
            "align_items": null,
            "bottom": null,
            "_model_module": "@jupyter-widgets/base",
            "top": null,
            "grid_column": null,
            "overflow_y": null,
            "overflow_x": null,
            "grid_auto_flow": null,
            "grid_area": null,
            "grid_template_columns": null,
            "flex": null,
            "_model_name": "LayoutModel",
            "justify_items": null,
            "grid_row": null,
            "max_height": null,
            "align_content": null,
            "visibility": null,
            "align_self": null,
            "height": null,
            "min_height": null,
            "padding": null,
            "grid_auto_rows": null,
            "grid_gap": null,
            "max_width": null,
            "order": null,
            "_view_module_version": "1.2.0",
            "grid_template_areas": null,
            "object_position": null,
            "object_fit": null,
            "grid_auto_columns": null,
            "margin": null,
            "display": null,
            "left": null
          }
        },
        "2c4bd7627c374cf0a3d47dbd8581801b": {
          "model_module": "@jupyter-widgets/controls",
          "model_name": "HBoxModel",
          "state": {
            "_view_name": "HBoxView",
            "_dom_classes": [],
            "_model_name": "HBoxModel",
            "_view_module": "@jupyter-widgets/controls",
            "_model_module_version": "1.5.0",
            "_view_count": null,
            "_view_module_version": "1.5.0",
            "box_style": "",
            "layout": "IPY_MODEL_7a0e3677e7c842baac7d431f6006d1b1",
            "_model_module": "@jupyter-widgets/controls",
            "children": [
              "IPY_MODEL_f403c0a2af204a929a9d7d424869b22f",
              "IPY_MODEL_c934d784bc684d12bde09061e5deb3c1"
            ]
          }
        },
        "7a0e3677e7c842baac7d431f6006d1b1": {
          "model_module": "@jupyter-widgets/base",
          "model_name": "LayoutModel",
          "state": {
            "_view_name": "LayoutView",
            "grid_template_rows": null,
            "right": null,
            "justify_content": null,
            "_view_module": "@jupyter-widgets/base",
            "overflow": null,
            "_model_module_version": "1.2.0",
            "_view_count": null,
            "flex_flow": null,
            "width": null,
            "min_width": null,
            "border": null,
            "align_items": null,
            "bottom": null,
            "_model_module": "@jupyter-widgets/base",
            "top": null,
            "grid_column": null,
            "overflow_y": null,
            "overflow_x": null,
            "grid_auto_flow": null,
            "grid_area": null,
            "grid_template_columns": null,
            "flex": null,
            "_model_name": "LayoutModel",
            "justify_items": null,
            "grid_row": null,
            "max_height": null,
            "align_content": null,
            "visibility": null,
            "align_self": null,
            "height": null,
            "min_height": null,
            "padding": null,
            "grid_auto_rows": null,
            "grid_gap": null,
            "max_width": null,
            "order": null,
            "_view_module_version": "1.2.0",
            "grid_template_areas": null,
            "object_position": null,
            "object_fit": null,
            "grid_auto_columns": null,
            "margin": null,
            "display": null,
            "left": null
          }
        },
        "f403c0a2af204a929a9d7d424869b22f": {
          "model_module": "@jupyter-widgets/controls",
          "model_name": "FloatProgressModel",
          "state": {
            "_view_name": "ProgressView",
            "style": "IPY_MODEL_8405413214624a85a77bd1f01b50431e",
            "_dom_classes": [],
            "description": "100%",
            "_model_name": "FloatProgressModel",
            "bar_style": "success",
            "max": 87306240,
            "_view_module": "@jupyter-widgets/controls",
            "_model_module_version": "1.5.0",
            "value": 87306240,
            "_view_count": null,
            "_view_module_version": "1.5.0",
            "orientation": "horizontal",
            "min": 0,
            "description_tooltip": null,
            "_model_module": "@jupyter-widgets/controls",
            "layout": "IPY_MODEL_8ae21bfa66174bef84c6b526b2ca0b66"
          }
        },
        "c934d784bc684d12bde09061e5deb3c1": {
          "model_module": "@jupyter-widgets/controls",
          "model_name": "HTMLModel",
          "state": {
            "_view_name": "HTMLView",
            "style": "IPY_MODEL_06019b3edcb2469db23901d143c0f9ff",
            "_dom_classes": [],
            "description": "",
            "_model_name": "HTMLModel",
            "placeholder": "​",
            "_view_module": "@jupyter-widgets/controls",
            "_model_module_version": "1.5.0",
            "value": " 83.3M/83.3M [16:22&lt;00:00, 88.9kB/s]",
            "_view_count": null,
            "_view_module_version": "1.5.0",
            "description_tooltip": null,
            "_model_module": "@jupyter-widgets/controls",
            "layout": "IPY_MODEL_1abb493da0284f989764cd921f48a66f"
          }
        },
        "8405413214624a85a77bd1f01b50431e": {
          "model_module": "@jupyter-widgets/controls",
          "model_name": "ProgressStyleModel",
          "state": {
            "_view_name": "StyleView",
            "_model_name": "ProgressStyleModel",
            "description_width": "initial",
            "_view_module": "@jupyter-widgets/base",
            "_model_module_version": "1.5.0",
            "_view_count": null,
            "_view_module_version": "1.2.0",
            "bar_color": null,
            "_model_module": "@jupyter-widgets/controls"
          }
        },
        "8ae21bfa66174bef84c6b526b2ca0b66": {
          "model_module": "@jupyter-widgets/base",
          "model_name": "LayoutModel",
          "state": {
            "_view_name": "LayoutView",
            "grid_template_rows": null,
            "right": null,
            "justify_content": null,
            "_view_module": "@jupyter-widgets/base",
            "overflow": null,
            "_model_module_version": "1.2.0",
            "_view_count": null,
            "flex_flow": null,
            "width": null,
            "min_width": null,
            "border": null,
            "align_items": null,
            "bottom": null,
            "_model_module": "@jupyter-widgets/base",
            "top": null,
            "grid_column": null,
            "overflow_y": null,
            "overflow_x": null,
            "grid_auto_flow": null,
            "grid_area": null,
            "grid_template_columns": null,
            "flex": null,
            "_model_name": "LayoutModel",
            "justify_items": null,
            "grid_row": null,
            "max_height": null,
            "align_content": null,
            "visibility": null,
            "align_self": null,
            "height": null,
            "min_height": null,
            "padding": null,
            "grid_auto_rows": null,
            "grid_gap": null,
            "max_width": null,
            "order": null,
            "_view_module_version": "1.2.0",
            "grid_template_areas": null,
            "object_position": null,
            "object_fit": null,
            "grid_auto_columns": null,
            "margin": null,
            "display": null,
            "left": null
          }
        },
        "06019b3edcb2469db23901d143c0f9ff": {
          "model_module": "@jupyter-widgets/controls",
          "model_name": "DescriptionStyleModel",
          "state": {
            "_view_name": "StyleView",
            "_model_name": "DescriptionStyleModel",
            "description_width": "",
            "_view_module": "@jupyter-widgets/base",
            "_model_module_version": "1.5.0",
            "_view_count": null,
            "_view_module_version": "1.2.0",
            "_model_module": "@jupyter-widgets/controls"
          }
        },
        "1abb493da0284f989764cd921f48a66f": {
          "model_module": "@jupyter-widgets/base",
          "model_name": "LayoutModel",
          "state": {
            "_view_name": "LayoutView",
            "grid_template_rows": null,
            "right": null,
            "justify_content": null,
            "_view_module": "@jupyter-widgets/base",
            "overflow": null,
            "_model_module_version": "1.2.0",
            "_view_count": null,
            "flex_flow": null,
            "width": null,
            "min_width": null,
            "border": null,
            "align_items": null,
            "bottom": null,
            "_model_module": "@jupyter-widgets/base",
            "top": null,
            "grid_column": null,
            "overflow_y": null,
            "overflow_x": null,
            "grid_auto_flow": null,
            "grid_area": null,
            "grid_template_columns": null,
            "flex": null,
            "_model_name": "LayoutModel",
            "justify_items": null,
            "grid_row": null,
            "max_height": null,
            "align_content": null,
            "visibility": null,
            "align_self": null,
            "height": null,
            "min_height": null,
            "padding": null,
            "grid_auto_rows": null,
            "grid_gap": null,
            "max_width": null,
            "order": null,
            "_view_module_version": "1.2.0",
            "grid_template_areas": null,
            "object_position": null,
            "object_fit": null,
            "grid_auto_columns": null,
            "margin": null,
            "display": null,
            "left": null
          }
        }
      }
    }
  },
  "cells": [
    {
      "cell_type": "markdown",
      "metadata": {
        "id": "Q6R3BNivN1Z1"
      },
      "source": [
        "# Importing libraries"
      ]
    },
    {
      "cell_type": "code",
      "metadata": {
        "id": "BZl7QCp5D4XV"
      },
      "source": [
        "import torch\n",
        "import torchvision\n",
        "import torchvision.transforms as transforms\n",
        "from torchvision import models\n",
        "import matplotlib.pyplot as plt\n",
        "import numpy as np\n",
        "import torch.nn as nn\n",
        "import torch.nn.functional as F\n",
        "import torch.optim as optim\n",
        "from torch.utils.data import random_split\n",
        "from torch.optim import SGD, Adam, lr_scheduler\n",
        "from copy import deepcopy\n",
        "from utils import *\n",
        "from tta import *\n",
        "device = torch.device(\"cuda:0\" if torch.cuda.is_available() else \"cpu\")"
      ],
      "execution_count": 2,
      "outputs": []
    },
    {
      "cell_type": "code",
      "metadata": {
        "id": "Faw34UV2jRUM"
      },
      "source": [
        "train_transform = transforms.Compose([                                      \n",
        "    transforms.Resize(224),\n",
        "    transforms.ToTensor(),\n",
        "    transforms.Normalize([0.485, 0.456, 0.406], [0.229, 0.224, 0.225])])\n",
        "\n",
        "test_transform = transforms.Compose([\n",
        "    transforms.Resize(224),\n",
        "    transforms.ToTensor(),\n",
        "    transforms.Normalize([0.485, 0.456, 0.406], [0.229, 0.224, 0.225])])"
      ],
      "execution_count": 3,
      "outputs": []
    },
    {
      "cell_type": "markdown",
      "metadata": {
        "id": "AW_hyHNwh2wC"
      },
      "source": [
        "# Pretrained Resnet, changing only last layer, finetuning all layers"
      ]
    },
    {
      "cell_type": "code",
      "metadata": {
        "id": "aYIUAXaTzI6R",
        "colab": {
          "base_uri": "https://localhost:8080/",
          "height": 746,
          "referenced_widgets": [
            "c27751b7d7f245d991f3358525e899b4",
            "bc3b80d4978e4fa8a5e5053022c8bd93",
            "458e33383d0a435693cb83495fd2d387",
            "f59262856a4c4cd0ba2651317cd73cab",
            "f7c0f4a63f59495dbbc4a37ed5a3f329",
            "2896d7981aaf48c786635a47a764ae3e",
            "0d6e6646c3eb4b11b807febfa97aa8b4",
            "f8771157901a40feaa5597f07030198a"
          ]
        },
        "outputId": "2935b2ee-7b26-4bef-b801-0643553a5e33"
      },
      "source": [
        "class ResnetCNN(nn.Module):\n",
        "    def __init__(self):\n",
        "\n",
        "        super(ResnetCNN, self).__init__()\n",
        "        self.pretrained_model = models.resnet18(pretrained=True)\n",
        "\n",
        "        in_features = self.pretrained_model.fc.in_features\n",
        "        self.pretrained_model.fc = nn.Linear(in_features = in_features, out_features = 10)\n",
        "    \n",
        "    def forward(self,x):\n",
        "        return self.pretrained_model(x)\n",
        "\n",
        "model = ResnetCNN().to(device)\n",
        "criterion = nn.CrossEntropyLoss()\n",
        "optimizer = Adam(model.parameters(), lr=0.001)\n",
        "scheduler = lr_scheduler.StepLR(optimizer, step_size=1, gamma=0.1)\n",
        "train_loader, val_loader, test_loader = load_data(train_transform, test_transform)\n",
        "\n",
        "train_network(model, train_loader, val_loader, epochs = 5, print_results=False, \n",
        "              criterion = criterion, optimizer = optimizer, scheduler=scheduler)\n",
        "print('Accuracy on validation set: ', evaluate_network(model, val_loader))\n",
        "print('Accuracy on test set: ', evaluate_network(model, test_loader))\n",
        "plot_loss(model)\n",
        "plot_accuracy(model)"
      ],
      "execution_count": null,
      "outputs": [
        {
          "output_type": "stream",
          "text": [
            "Downloading: \"https://download.pytorch.org/models/resnet18-5c106cde.pth\" to /root/.cache/torch/hub/checkpoints/resnet18-5c106cde.pth\n"
          ],
          "name": "stderr"
        },
        {
          "output_type": "display_data",
          "data": {
            "application/vnd.jupyter.widget-view+json": {
              "model_id": "c27751b7d7f245d991f3358525e899b4",
              "version_minor": 0,
              "version_major": 2
            },
            "text/plain": [
              "HBox(children=(FloatProgress(value=0.0, max=46827520.0), HTML(value='')))"
            ]
          },
          "metadata": {
            "tags": []
          }
        },
        {
          "output_type": "stream",
          "text": [
            "\n",
            "Files already downloaded and verified\n",
            "Files already downloaded and verified\n",
            "Files already downloaded and verified\n"
          ],
          "name": "stdout"
        },
        {
          "output_type": "stream",
          "text": [
            "100%|██████████| 5/5 [15:45<00:00, 189.06s/it]\n"
          ],
          "name": "stderr"
        },
        {
          "output_type": "stream",
          "text": [
            "Accuracy on validation set:  92.74\n",
            "Accuracy on test set:  92.89\n"
          ],
          "name": "stdout"
        },
        {
          "output_type": "display_data",
          "data": {
            "image/png": "[encoded data removed]",
            "text/plain": [
              "<Figure size 432x288 with 1 Axes>"
            ]
          },
          "metadata": {
            "tags": [],
            "needs_background": "light"
          }
        },
        {
          "output_type": "display_data",
          "data": {
            "image/png": "[encoded data removed]",
            "text/plain": [
              "<Figure size 432x288 with 1 Axes>"
            ]
          },
          "metadata": {
            "tags": [],
            "needs_background": "light"
          }
        }
      ]
    },
    {
      "cell_type": "markdown",
      "metadata": {
        "id": "ciV34rg43G4L"
      },
      "source": [
        "# Pretrained Resnet, changing only last layer, finetuning all layers, dropout before last layer"
      ]
    },
    {
      "cell_type": "code",
      "metadata": {
        "id": "DN6u_w5c1IXU",
        "colab": {
          "base_uri": "https://localhost:8080/",
          "height": 680
        },
        "outputId": "4ba15e3d-146c-4f56-8e84-374d58462e77"
      },
      "source": [
        "class ResnetCNN(nn.Module):\n",
        "    def __init__(self):\n",
        "\n",
        "        super(ResnetCNN, self).__init__()\n",
        "        self.pretrained_model = models.resnet18(pretrained=True)\n",
        "\n",
        "        in_features = self.pretrained_model.fc.in_features\n",
        "        self.pretrained_model.fc = nn.Sequential(\n",
        "                                  nn.Dropout(),\n",
        "                                  nn.Linear(in_features, 10)\n",
        "                              )\n",
        "    \n",
        "    def forward(self,x):\n",
        "        return self.pretrained_model(x)\n",
        "\n",
        "model = ResnetCNN().to(device)\n",
        "criterion = nn.CrossEntropyLoss()\n",
        "optimizer = Adam(model.parameters(), lr=0.001)\n",
        "scheduler = lr_scheduler.StepLR(optimizer, step_size=1, gamma=0.1)\n",
        "train_loader, val_loader, test_loader = load_data(train_transform, test_transform)\n",
        "train_network(model, train_loader, val_loader, epochs = 5, print_results=False, \n",
        "              criterion = criterion, optimizer = optimizer, scheduler=scheduler)\n",
        "print('Accuracy on validation set: ', evaluate_network(model, val_loader))\n",
        "print('Accuracy on test set: ', evaluate_network(model, test_loader))\n",
        "plot_loss(model)\n",
        "plot_accuracy(model)"
      ],
      "execution_count": null,
      "outputs": [
        {
          "output_type": "stream",
          "text": [
            "Files already downloaded and verified\n",
            "Files already downloaded and verified\n",
            "Files already downloaded and verified\n"
          ],
          "name": "stdout"
        },
        {
          "output_type": "stream",
          "text": [
            "100%|██████████| 5/5 [15:46<00:00, 189.39s/it]\n"
          ],
          "name": "stderr"
        },
        {
          "output_type": "stream",
          "text": [
            "Accuracy on validation set:  92.52\n",
            "Accuracy on test set:  92.82\n"
          ],
          "name": "stdout"
        },
        {
          "output_type": "display_data",
          "data": {
            "image/png": "[encoded data removed]",
            "text/plain": [
              "<Figure size 432x288 with 1 Axes>"
            ]
          },
          "metadata": {
            "tags": [],
            "needs_background": "light"
          }
        },
        {
          "output_type": "display_data",
          "data": {
            "image/png": "[encoded data removed]",
            "text/plain": [
              "<Figure size 432x288 with 1 Axes>"
            ]
          },
          "metadata": {
            "tags": [],
            "needs_background": "light"
          }
        }
      ]
    },
    {
      "cell_type": "markdown",
      "metadata": {
        "id": "fhtiIUWaQDmC"
      },
      "source": [
        "# Pretrained Resnet, changing only last layer, finetuning last layer only"
      ]
    },
    {
      "cell_type": "code",
      "metadata": {
        "colab": {
          "base_uri": "https://localhost:8080/",
          "height": 680
        },
        "id": "6cBSF4v3YaJZ",
        "outputId": "07688992-b788-4815-c72e-8dc4a786924e"
      },
      "source": [
        "class ResnetCNN(nn.Module):\n",
        "    def __init__(self):\n",
        "\n",
        "        super(ResnetCNN, self).__init__()\n",
        "        self.pretrained_model = models.resnet18(pretrained=True)\n",
        "\n",
        "        in_features = self.pretrained_model.fc.in_features\n",
        "        self.pretrained_model.fc = nn.Linear(in_features, 10)\n",
        "    \n",
        "        for param in self.pretrained_model.parameters():\n",
        "            param.requires_grad = False\n",
        "\n",
        "        for param in self.pretrained_model.fc.parameters():\n",
        "            param.requires_grad = True\n",
        "\n",
        "    def forward(self,x):\n",
        "        return self.pretrained_model(x)\n",
        "\n",
        "model = ResnetCNN().to(device)\n",
        "criterion = nn.CrossEntropyLoss()\n",
        "optimizer = Adam(model.parameters(), lr=0.001)\n",
        "scheduler = lr_scheduler.StepLR(optimizer, step_size=1, gamma=0.1)\n",
        "train_loader, val_loader, test_loader = load_data(train_transform, test_transform)\n",
        "train_network(model, train_loader, val_loader, epochs = 5, print_results=False, \n",
        "              criterion = criterion, optimizer = optimizer, scheduler=scheduler)\n",
        "print('Accuracy on validation set: ', evaluate_network(model, val_loader))\n",
        "print('Accuracy on test set: ', evaluate_network(model, test_loader))\n",
        "plot_loss(model)\n",
        "plot_accuracy(model)"
      ],
      "execution_count": null,
      "outputs": [
        {
          "output_type": "stream",
          "text": [
            "Files already downloaded and verified\n",
            "Files already downloaded and verified\n",
            "Files already downloaded and verified\n"
          ],
          "name": "stdout"
        },
        {
          "output_type": "stream",
          "text": [
            "100%|██████████| 5/5 [07:01<00:00, 84.35s/it]\n"
          ],
          "name": "stderr"
        },
        {
          "output_type": "stream",
          "text": [
            "Accuracy on validation set:  77.44\n",
            "Accuracy on test set:  77.64\n"
          ],
          "name": "stdout"
        },
        {
          "output_type": "display_data",
          "data": {
            "image/png": "[encoded data removed]",
            "text/plain": [
              "<Figure size 432x288 with 1 Axes>"
            ]
          },
          "metadata": {
            "tags": [],
            "needs_background": "light"
          }
        },
        {
          "output_type": "display_data",
          "data": {
            "image/png": "[encoded data removed]",
            "text/plain": [
              "<Figure size 432x288 with 1 Axes>"
            ]
          },
          "metadata": {
            "tags": [],
            "needs_background": "light"
          }
        }
      ]
    },
    {
      "cell_type": "markdown",
      "metadata": {
        "id": "mhZoO44UQJJi"
      },
      "source": [
        "# Pretrained Resnet, changing only last layer, finetuning last few layers"
      ]
    },
    {
      "cell_type": "code",
      "metadata": {
        "colab": {
          "base_uri": "https://localhost:8080/",
          "height": 786
        },
        "id": "J60c9TJYYoV1",
        "outputId": "83d53e7c-0436-4b2f-cd1d-adbf0d411896"
      },
      "source": [
        "class ResnetCNN(nn.Module):\n",
        "    def __init__(self):\n",
        "\n",
        "        super(ResnetCNN, self).__init__()\n",
        "        self.pretrained_model = models.resnet18(pretrained=True)\n",
        "\n",
        "        in_features = self.pretrained_model.fc.in_features\n",
        "        self.pretrained_model.fc = nn.Linear(in_features, 10)\n",
        "    \n",
        "        for param in self.pretrained_model.parameters():\n",
        "            param.requires_grad = False\n",
        "\n",
        "        for param in self.pretrained_model.fc.parameters():\n",
        "            param.requires_grad = True\n",
        "\n",
        "        for param in self.pretrained_model.layer4.parameters():\n",
        "            param.requires_grad = True\n",
        "\n",
        "    def forward(self,x):\n",
        "        return self.pretrained_model(x)\n",
        "\n",
        "model = ResnetCNN().to(device)\n",
        "criterion = nn.CrossEntropyLoss()\n",
        "optimizer = Adam(model.parameters(), lr=0.001)\n",
        "scheduler = lr_scheduler.StepLR(optimizer, step_size=1, gamma=0.1)\n",
        "train_loader, val_loader, test_loader = load_data(train_transform, test_transform)\n",
        "train_network(model, train_loader, val_loader, epochs = 5, print_results=False, \n",
        "              criterion = criterion, optimizer = optimizer, scheduler=scheduler)\n",
        "print('Accuracy on validation set: ', evaluate_network(model, val_loader))\n",
        "print('Accuracy on test set: ', evaluate_network(model, test_loader))\n",
        "plot_loss(model)\n",
        "plot_accuracy(model)"
      ],
      "execution_count": null,
      "outputs": [
        {
          "output_type": "stream",
          "text": [
            "Files already downloaded and verified\n",
            "Files already downloaded and verified\n",
            "Files already downloaded and verified\n"
          ],
          "name": "stdout"
        },
        {
          "output_type": "stream",
          "text": [
            "\n",
            "  0%|          | 0/5 [00:00<?, ?it/s]\u001b[A\n",
            " 20%|██        | 1/5 [01:33<06:15, 93.98s/it]\u001b[A\n",
            " 40%|████      | 2/5 [03:07<04:41, 93.99s/it]\u001b[A\n",
            " 60%|██████    | 3/5 [04:42<03:08, 94.10s/it]\u001b[A\n",
            " 80%|████████  | 4/5 [06:16<01:34, 94.07s/it]\u001b[A\n",
            "100%|██████████| 5/5 [07:50<00:00, 94.15s/it]\n"
          ],
          "name": "stderr"
        },
        {
          "output_type": "stream",
          "text": [
            "Accuracy on validation set:  91.8\n",
            "Accuracy on test set:  91.53\n"
          ],
          "name": "stdout"
        },
        {
          "output_type": "display_data",
          "data": {
            "image/png": "[encoded data removed]",
            "text/plain": [
              "<Figure size 432x288 with 1 Axes>"
            ]
          },
          "metadata": {
            "tags": [],
            "needs_background": "light"
          }
        },
        {
          "output_type": "display_data",
          "data": {
            "image/png": "[encoded data removed]",
            "text/plain": [
              "<Figure size 432x288 with 1 Axes>"
            ]
          },
          "metadata": {
            "tags": [],
            "needs_background": "light"
          }
        }
      ]
    },
    {
      "cell_type": "markdown",
      "metadata": {
        "id": "jOsd2c5EQO18"
      },
      "source": [
        "# Different optimizers"
      ]
    },
    {
      "cell_type": "code",
      "metadata": {
        "colab": {
          "base_uri": "https://localhost:8080/",
          "height": 1000
        },
        "id": "Qj3olNkJ_B82",
        "outputId": "ffc74f63-db4b-40f9-fb43-080439086536"
      },
      "source": [
        "class ResnetCNN(nn.Module):\n",
        "    def __init__(self):\n",
        "\n",
        "        super(ResnetCNN, self).__init__()\n",
        "        self.pretrained_model = models.resnet18(pretrained=True)\n",
        "\n",
        "        in_features = self.pretrained_model.fc.in_features\n",
        "        self.pretrained_model.fc = nn.Linear(in_features, 10)\n",
        "    \n",
        "    def forward(self,x):\n",
        "        return self.pretrained_model(x)\n",
        "\n",
        "train_loader, val_loader, test_loader = load_data(train_transform, test_transform)\n",
        "\n",
        "model = ResnetCNN().to(device)\n",
        "\n",
        "optimizer = optim.SGD(model.parameters(), lr=0.001,\n",
        "                      momentum=0.9, weight_decay=5e-4)\n",
        "scheduler = torch.optim.lr_scheduler.CosineAnnealingLR(optimizer, T_max=200)\n",
        "\n",
        "train_network(model, train_loader, val_loader, epochs = 5, print_results=True, \n",
        "            optimizer = optimizer, scheduler=scheduler)\n",
        "print('Accuracy on validation set: ', evaluate_network(model, val_loader))\n",
        "print('Accuracy on test set: ', evaluate_network(model, test_loader))\n",
        "plot_loss(model)\n",
        "plot_accuracy(model)"
      ],
      "execution_count": null,
      "outputs": [
        {
          "output_type": "stream",
          "text": [
            "Files already downloaded and verified\n",
            "Files already downloaded and verified\n",
            "Files already downloaded and verified\n"
          ],
          "name": "stdout"
        },
        {
          "output_type": "stream",
          "text": [
            "\n",
            "  0%|          | 0/5 [00:00<?, ?it/s]\u001b[A"
          ],
          "name": "stderr"
        },
        {
          "output_type": "stream",
          "text": [
            "Epoch 1\n",
            "Training loss: 0.51616947338846\n",
            "Training accuracy: 83.63777777777777%\n"
          ],
          "name": "stdout"
        },
        {
          "output_type": "stream",
          "text": [
            "\n",
            " 20%|██        | 1/5 [03:00<12:00, 180.12s/it]\u001b[A"
          ],
          "name": "stderr"
        },
        {
          "output_type": "stream",
          "text": [
            "Validation accuracy: 92.42%\n",
            "------------------------------\n",
            "Epoch 2\n",
            "Training loss: 0.1730376293003559\n",
            "Training accuracy: 94.48222222222222%\n"
          ],
          "name": "stdout"
        },
        {
          "output_type": "stream",
          "text": [
            "\n",
            " 40%|████      | 2/5 [06:07<09:06, 182.20s/it]\u001b[A"
          ],
          "name": "stderr"
        },
        {
          "output_type": "stream",
          "text": [
            "Validation accuracy: 93.62%\n",
            "------------------------------\n",
            "Epoch 3\n",
            "Training loss: 0.09210525992628601\n",
            "Training accuracy: 97.55555555555556%\n"
          ],
          "name": "stdout"
        },
        {
          "output_type": "stream",
          "text": [
            "\n",
            " 60%|██████    | 3/5 [09:14<06:07, 183.87s/it]\u001b[A"
          ],
          "name": "stderr"
        },
        {
          "output_type": "stream",
          "text": [
            "Validation accuracy: 93.7%\n",
            "------------------------------\n",
            "Epoch 4\n",
            "Training loss: 0.0460669477554659\n",
            "Training accuracy: 99.18222222222222%\n"
          ],
          "name": "stdout"
        },
        {
          "output_type": "stream",
          "text": [
            "\n",
            " 80%|████████  | 4/5 [12:23<03:05, 185.17s/it]\u001b[A"
          ],
          "name": "stderr"
        },
        {
          "output_type": "stream",
          "text": [
            "Validation accuracy: 93.84%\n",
            "------------------------------\n",
            "Epoch 5\n",
            "Training loss: 0.022684238435948887\n",
            "Training accuracy: 99.82444444444444%\n"
          ],
          "name": "stdout"
        },
        {
          "output_type": "stream",
          "text": [
            "\n",
            "100%|██████████| 5/5 [15:31<00:00, 186.23s/it]"
          ],
          "name": "stderr"
        },
        {
          "output_type": "stream",
          "text": [
            "Validation accuracy: 94.2%\n",
            "------------------------------\n",
            "Finished Training\n"
          ],
          "name": "stdout"
        },
        {
          "output_type": "stream",
          "text": [
            "\n"
          ],
          "name": "stderr"
        },
        {
          "output_type": "stream",
          "text": [
            "Accuracy on validation set:  94.2\n",
            "Accuracy on test set:  93.92\n"
          ],
          "name": "stdout"
        },
        {
          "output_type": "display_data",
          "data": {
            "image/png": "[encoded data removed]",
            "text/plain": [
              "<Figure size 432x288 with 1 Axes>"
            ]
          },
          "metadata": {
            "tags": [],
            "needs_background": "light"
          }
        },
        {
          "output_type": "display_data",
          "data": {
            "image/png": "[encoded data removed]",
            "text/plain": [
              "<Figure size 432x288 with 1 Axes>"
            ]
          },
          "metadata": {
            "tags": [],
            "needs_background": "light"
          }
        }
      ]
    },
    {
      "cell_type": "markdown",
      "metadata": {
        "id": "WUZ5aCmCQVO5"
      },
      "source": [
        "# Different augmentations on training set"
      ]
    },
    {
      "cell_type": "code",
      "metadata": {
        "colab": {
          "base_uri": "https://localhost:8080/",
          "height": 1000
        },
        "id": "-OhBypfISP6Y",
        "outputId": "3760ad73-0c55-4f82-d4d3-c38f37c8944b"
      },
      "source": [
        "train_transform = transforms.Compose([                                      \n",
        "    transforms.Resize(224),\n",
        "    transforms.RandomHorizontalFlip(0.5),\n",
        "    transforms.RandomRotation(10),\n",
        "    transforms.ToTensor(),\n",
        "    transforms.Normalize([0.485, 0.456, 0.406], [0.229, 0.224, 0.225])])\n",
        "\n",
        "class ResnetCNN(nn.Module):\n",
        "    def __init__(self):\n",
        "\n",
        "        super(ResnetCNN, self).__init__()\n",
        "        self.pretrained_model = models.resnet18(pretrained=True)\n",
        "\n",
        "        in_features = self.pretrained_model.fc.in_features\n",
        "        self.pretrained_model.fc = nn.Linear(in_features, 10)\n",
        "    \n",
        "    def forward(self,x):\n",
        "        return self.pretrained_model(x)\n",
        "\n",
        "train_loader, val_loader, test_loader = load_data(train_transform, test_transform)\n",
        "\n",
        "model = ResnetCNN().to(device)\n",
        "\n",
        "optimizer = optim.SGD(model.parameters(), lr=0.005,\n",
        "                      momentum=0.9, weight_decay=5e-4)\n",
        "scheduler = torch.optim.lr_scheduler.CosineAnnealingLR(optimizer, T_max=200)\n",
        "\n",
        "train_network(model, train_loader, val_loader, epochs = 5, print_results=True, \n",
        "            optimizer = optimizer, scheduler=scheduler)\n",
        "print('Accuracy on validation set: ', evaluate_network(model, val_loader))\n",
        "print('Accuracy on test set: ', evaluate_network(model, test_loader))\n",
        "plot_loss(model)\n",
        "plot_accuracy(model)"
      ],
      "execution_count": null,
      "outputs": [
        {
          "output_type": "stream",
          "text": [
            "Files already downloaded and verified\n",
            "Files already downloaded and verified\n",
            "Files already downloaded and verified\n"
          ],
          "name": "stdout"
        },
        {
          "output_type": "stream",
          "text": [
            "\r  0%|          | 0/5 [00:00<?, ?it/s]"
          ],
          "name": "stderr"
        },
        {
          "output_type": "stream",
          "text": [
            "Epoch 1\n",
            "Training loss: 0.38411310708787705\n",
            "Training accuracy: 86.88888888888889%\n"
          ],
          "name": "stdout"
        },
        {
          "output_type": "stream",
          "text": [
            "\r 20%|██        | 1/5 [03:17<13:08, 197.02s/it]"
          ],
          "name": "stderr"
        },
        {
          "output_type": "stream",
          "text": [
            "Validation accuracy: 91.24%\n",
            "------------------------------\n",
            "Epoch 2\n",
            "Training loss: 0.17071699479164348\n",
            "Training accuracy: 94.14888888888889%\n"
          ],
          "name": "stdout"
        },
        {
          "output_type": "stream",
          "text": [
            "\r 40%|████      | 2/5 [06:32<09:49, 196.48s/it]"
          ],
          "name": "stderr"
        },
        {
          "output_type": "stream",
          "text": [
            "Validation accuracy: 92.58%\n",
            "------------------------------\n",
            "Epoch 3\n",
            "Training loss: 0.1147017698218425\n",
            "Training accuracy: 96.01333333333334%\n"
          ],
          "name": "stdout"
        },
        {
          "output_type": "stream",
          "text": [
            "\r 60%|██████    | 3/5 [09:47<06:32, 196.04s/it]"
          ],
          "name": "stderr"
        },
        {
          "output_type": "stream",
          "text": [
            "Validation accuracy: 92.74%\n",
            "------------------------------\n",
            "Epoch 4\n",
            "Training loss: 0.08289549877262778\n",
            "Training accuracy: 97.16666666666667%\n"
          ],
          "name": "stdout"
        },
        {
          "output_type": "stream",
          "text": [
            "\r 80%|████████  | 4/5 [13:02<03:15, 195.71s/it]"
          ],
          "name": "stderr"
        },
        {
          "output_type": "stream",
          "text": [
            "Validation accuracy: 93.48%\n",
            "------------------------------\n",
            "Epoch 5\n",
            "Training loss: 0.06339027717080381\n",
            "Training accuracy: 97.86888888888889%\n"
          ],
          "name": "stdout"
        },
        {
          "output_type": "stream",
          "text": [
            "100%|██████████| 5/5 [16:17<00:00, 195.50s/it]"
          ],
          "name": "stderr"
        },
        {
          "output_type": "stream",
          "text": [
            "Validation accuracy: 94.28%\n",
            "------------------------------\n",
            "Finished Training\n"
          ],
          "name": "stdout"
        },
        {
          "output_type": "stream",
          "text": [
            "\n"
          ],
          "name": "stderr"
        },
        {
          "output_type": "stream",
          "text": [
            "Accuracy on validation set:  94.28\n",
            "Accuracy on test set:  94.58\n"
          ],
          "name": "stdout"
        },
        {
          "output_type": "display_data",
          "data": {
            "image/png": "[encoded data removed]",
            "text/plain": [
              "<Figure size 432x288 with 1 Axes>"
            ]
          },
          "metadata": {
            "tags": [],
            "needs_background": "light"
          }
        },
        {
          "output_type": "display_data",
          "data": {
            "image/png": "[encoded data removed]",
            "text/plain": [
              "<Figure size 432x288 with 1 Axes>"
            ]
          },
          "metadata": {
            "tags": [],
            "needs_background": "light"
          }
        }
      ]
    },
    {
      "cell_type": "code",
      "metadata": {
        "colab": {
          "base_uri": "https://localhost:8080/",
          "height": 1000
        },
        "id": "vR3X6vyIrduz",
        "outputId": "01ef005f-f080-41a0-b81e-fda465997cda"
      },
      "source": [
        "train_transform = transforms.Compose([                                      \n",
        "    transforms.Resize(224),\n",
        "    transforms.RandomHorizontalFlip(p=0.5),\n",
        "    transforms.RandomRotation(10),\n",
        "    transforms.ToTensor(),\n",
        "    transforms.Normalize([0.485, 0.456, 0.406], [0.229, 0.224, 0.225])])\n",
        "\n",
        "test_transform = transforms.Compose([\n",
        "    transforms.Resize(224),\n",
        "    transforms.ToTensor(),\n",
        "    transforms.Normalize([0.485, 0.456, 0.406], [0.229, 0.224, 0.225])])\n",
        "\n",
        "class ResnetCNN(nn.Module):\n",
        "    def __init__(self):\n",
        "\n",
        "        super(ResnetCNN, self).__init__()\n",
        "        self.pretrained_model = models.resnet18(pretrained=True)\n",
        "\n",
        "        in_features = self.pretrained_model.fc.in_features\n",
        "        self.pretrained_model.fc = nn.Linear(in_features, 10)\n",
        "    \n",
        "    def forward(self,x):\n",
        "        return self.pretrained_model(x)\n",
        "\n",
        "train_loader, val_loader, test_loader = load_data(train_transform, test_transform)\n",
        "\n",
        "model = ResnetCNN().to(device)\n",
        "\n",
        "optimizer = optim.SGD(model.parameters(), lr=0.005,\n",
        "                      momentum=0.9, weight_decay=5e-4)\n",
        "scheduler = torch.optim.lr_scheduler.CosineAnnealingLR(optimizer, T_max=200)\n",
        "\n",
        "train_network(model, train_loader, val_loader, epochs = 5, print_results=True, \n",
        "            optimizer = optimizer, scheduler=scheduler)\n",
        "print('Accuracy on validation set: ', evaluate_network(model, val_loader))\n",
        "print('Accuracy on test set: ', evaluate_network(model, test_loader))\n",
        "plot_loss(model)\n",
        "plot_accuracy(model)"
      ],
      "execution_count": null,
      "outputs": [
        {
          "output_type": "stream",
          "text": [
            "Files already downloaded and verified\n",
            "Files already downloaded and verified\n",
            "Files already downloaded and verified\n"
          ],
          "name": "stdout"
        },
        {
          "output_type": "stream",
          "text": [
            "\r  0%|          | 0/5 [00:00<?, ?it/s]"
          ],
          "name": "stderr"
        },
        {
          "output_type": "stream",
          "text": [
            "Epoch 1\n",
            "Training loss: 0.38411310708787705\n",
            "Training accuracy: 86.88888888888889%\n"
          ],
          "name": "stdout"
        },
        {
          "output_type": "stream",
          "text": [
            "\r 20%|██        | 1/5 [03:12<12:48, 192.06s/it]"
          ],
          "name": "stderr"
        },
        {
          "output_type": "stream",
          "text": [
            "Validation accuracy: 91.24%\n",
            "------------------------------\n",
            "Epoch 2\n",
            "Training loss: 0.17071699479164348\n",
            "Training accuracy: 94.14888888888889%\n"
          ],
          "name": "stdout"
        },
        {
          "output_type": "stream",
          "text": [
            "\r 40%|████      | 2/5 [06:23<09:35, 191.94s/it]"
          ],
          "name": "stderr"
        },
        {
          "output_type": "stream",
          "text": [
            "Validation accuracy: 92.58%\n",
            "------------------------------\n",
            "Epoch 3\n",
            "Training loss: 0.1147017698218425\n",
            "Training accuracy: 96.01333333333334%\n"
          ],
          "name": "stdout"
        },
        {
          "output_type": "stream",
          "text": [
            "\r 60%|██████    | 3/5 [09:36<06:24, 192.06s/it]"
          ],
          "name": "stderr"
        },
        {
          "output_type": "stream",
          "text": [
            "Validation accuracy: 92.74%\n",
            "------------------------------\n",
            "Epoch 4\n",
            "Training loss: 0.08289549877262778\n",
            "Training accuracy: 97.16666666666667%\n"
          ],
          "name": "stdout"
        },
        {
          "output_type": "stream",
          "text": [
            "\r 80%|████████  | 4/5 [12:48<03:12, 192.08s/it]"
          ],
          "name": "stderr"
        },
        {
          "output_type": "stream",
          "text": [
            "Validation accuracy: 93.48%\n",
            "------------------------------\n",
            "Epoch 5\n",
            "Training loss: 0.06339027717080381\n",
            "Training accuracy: 97.86888888888889%\n"
          ],
          "name": "stdout"
        },
        {
          "output_type": "stream",
          "text": [
            "100%|██████████| 5/5 [15:59<00:00, 191.89s/it]"
          ],
          "name": "stderr"
        },
        {
          "output_type": "stream",
          "text": [
            "Validation accuracy: 94.28%\n",
            "------------------------------\n",
            "Finished Training\n"
          ],
          "name": "stdout"
        },
        {
          "output_type": "stream",
          "text": [
            "\n"
          ],
          "name": "stderr"
        },
        {
          "output_type": "stream",
          "text": [
            "Accuracy on validation set:  94.28\n",
            "Accuracy on test set:  94.58\n"
          ],
          "name": "stdout"
        },
        {
          "output_type": "display_data",
          "data": {
            "image/png": "[encoded data removed]",
            "text/plain": [
              "<Figure size 432x288 with 1 Axes>"
            ]
          },
          "metadata": {
            "tags": [],
            "needs_background": "light"
          }
        },
        {
          "output_type": "display_data",
          "data": {
            "image/png": "[encoded data removed]",
            "text/plain": [
              "<Figure size 432x288 with 1 Axes>"
            ]
          },
          "metadata": {
            "tags": [],
            "needs_background": "light"
          }
        }
      ]
    },
    {
      "cell_type": "markdown",
      "metadata": {
        "id": "5enfTTLHQbwR"
      },
      "source": [
        "# Test time Augmentations"
      ]
    },
    {
      "cell_type": "code",
      "metadata": {
        "colab": {
          "base_uri": "https://localhost:8080/"
        },
        "id": "7Ng6i_uhmnT_",
        "outputId": "7a605a3c-2be1-4708-f60d-d8c363e2f64d"
      },
      "source": [
        "tta = [transforms.Compose([\n",
        "    transforms.RandomHorizontalFlip(p=1),\n",
        "])]\n",
        "\n",
        "train_loader, val_loader, test_loader = load_data(train_transform, test_transform)\n",
        "print('TTA: HorizontalFlip')\n",
        "print('validation with tta: ', evaluate_tta(model, val_loader, tta, 5000))\n",
        "print('test with tta: ', evaluate_tta(model, test_loader, tta, 10000))\n",
        "print('-'*50)\n",
        "print()\n",
        "\n",
        "\n",
        "tta = [\n",
        "    transforms.Compose([\n",
        "        transforms.RandomHorizontalFlip(p=1),\n",
        "]), \n",
        "    transforms.Compose([\n",
        "        transforms.RandomRotation(10),\n",
        "])\n",
        "]\n",
        "\n",
        "train_loader, val_loader, test_loader = load_data(train_transform, test_transform)\n",
        "print('TTA: HorizontalFlip and Rotation')\n",
        "print('validation with tta: ', evaluate_tta(model, val_loader, tta, 5000))\n",
        "print('test with tta: ', evaluate_tta(model, test_loader, tta, 10000))\n",
        "print('-'*50)\n",
        "print()\n",
        "\n",
        "\n",
        "tta = [\n",
        "    transforms.Compose([\n",
        "        transforms.RandomHorizontalFlip(p=1),\n",
        "]), \n",
        "    transforms.Compose([\n",
        "    transforms.RandomCrop(224, padding=4, padding_mode='reflect'),\n",
        "])\n",
        "]\n",
        "\n",
        "train_loader, val_loader, test_loader = load_data(train_transform, test_transform)\n",
        "print('TTA: HorizontalFlip and crop')\n",
        "print('validation with tta: ', evaluate_tta(model, val_loader, tta, 5000))\n",
        "print('test with tta: ', evaluate_tta(model, test_loader, tta, 10000))\n",
        "print('-'*50)\n",
        "print()\n",
        "\n",
        "\n",
        "\n",
        "tta = [\n",
        "    transforms.Compose([\n",
        "        transforms.RandomHorizontalFlip(p=1),\n",
        "]), \n",
        "    transforms.Compose([\n",
        "    transforms.RandomHorizontalFlip(p=1),\n",
        "    transforms.RandomCrop(224, padding=4, padding_mode='reflect'),\n",
        "])\n",
        "]\n",
        "\n",
        "train_loader, val_loader, test_loader = load_data(train_transform, test_transform)\n",
        "print('TTA: HorizontalFlip with crop')\n",
        "print('validation with tta: ', evaluate_tta(model, val_loader, tta, 5000))\n",
        "print('test with tta: ', evaluate_tta(model, test_loader, tta, 10000))\n",
        "print('-'*50)\n",
        "print()\n",
        "\n",
        "\n",
        "tta = [\n",
        "    transforms.Compose([\n",
        "    transforms.RandomHorizontalFlip(p=1),\n",
        "]), \n",
        "    transforms.Compose([\n",
        "    transforms.RandomHorizontalFlip(p=1),\n",
        "    transforms.RandomRotation(10),\n",
        "]), \n",
        "    transforms.Compose([\n",
        "    transforms.RandomHorizontalFlip(p=1),\n",
        "    transforms.RandomCrop(224, padding=4, padding_mode='reflect'),\n",
        "]),\n",
        "    transforms.Compose([\n",
        "    transforms.RandomHorizontalFlip(p=1),\n",
        "    transforms.RandomCrop(224, padding=4, padding_mode='reflect'),\n",
        "]),\n",
        "    transforms.Compose([\n",
        "    transforms.RandomHorizontalFlip(p=1),\n",
        "    transforms.RandomCrop(224, padding=4, padding_mode='reflect'),\n",
        "    transforms.RandomRotation(10),\n",
        "]),\n",
        "    transforms.Compose([\n",
        "    transforms.RandomCrop(224, padding=4, padding_mode='reflect'),\n",
        "]),\n",
        "    transforms.Compose([\n",
        "    transforms.RandomRotation(10),\n",
        "])\n",
        "]\n",
        "train_loader, val_loader, test_loader = load_data(train_transform, test_transform)\n",
        "print('TTA: all combined')\n",
        "print('validation with tta: ', evaluate_tta(model, val_loader, tta, 5000))\n",
        "print('test with tta: ', evaluate_tta(model, test_loader, tta, 10000))\n",
        "print('-'*50)\n",
        "print()\n",
        "\n"
      ],
      "execution_count": null,
      "outputs": [
        {
          "output_type": "stream",
          "text": [
            "Files already downloaded and verified\n",
            "Files already downloaded and verified\n",
            "Files already downloaded and verified\n",
            "TTA: HorizontalFlip\n",
            "validation with tta:  0.9496\n",
            "test with tta:  0.9506\n",
            "--------------------------------------------------\n",
            "\n",
            "Files already downloaded and verified\n",
            "Files already downloaded and verified\n",
            "Files already downloaded and verified\n",
            "TTA: HorizontalFlip and Rotation\n",
            "validation with tta:  0.948\n",
            "test with tta:  0.9487\n",
            "--------------------------------------------------\n",
            "\n",
            "Files already downloaded and verified\n",
            "Files already downloaded and verified\n",
            "Files already downloaded and verified\n",
            "TTA: HorizontalFlip and crop\n",
            "validation with tta:  0.9492\n",
            "test with tta:  0.9495\n",
            "--------------------------------------------------\n",
            "\n",
            "Files already downloaded and verified\n",
            "Files already downloaded and verified\n",
            "Files already downloaded and verified\n",
            "TTA: HorizontalFlip with crop\n",
            "validation with tta:  0.9484\n",
            "test with tta:  0.9502\n",
            "--------------------------------------------------\n",
            "\n",
            "Files already downloaded and verified\n",
            "Files already downloaded and verified\n",
            "Files already downloaded and verified\n",
            "TTA: all combined\n",
            "validation with tta:  0.949\n",
            "test with tta:  0.9496\n",
            "--------------------------------------------------\n",
            "\n"
          ],
          "name": "stdout"
        }
      ]
    },
    {
      "cell_type": "markdown",
      "metadata": {
        "id": "W_VAxCeyQgpm"
      },
      "source": [
        "# ResNet34"
      ]
    },
    {
      "cell_type": "code",
      "metadata": {
        "colab": {
          "base_uri": "https://localhost:8080/",
          "height": 1000,
          "referenced_widgets": [
            "2c4bd7627c374cf0a3d47dbd8581801b",
            "7a0e3677e7c842baac7d431f6006d1b1",
            "f403c0a2af204a929a9d7d424869b22f",
            "c934d784bc684d12bde09061e5deb3c1",
            "8405413214624a85a77bd1f01b50431e",
            "8ae21bfa66174bef84c6b526b2ca0b66",
            "06019b3edcb2469db23901d143c0f9ff",
            "1abb493da0284f989764cd921f48a66f"
          ]
        },
        "id": "y3QY4E1cr2vX",
        "outputId": "ff4b7d5c-26a4-4db0-ba02-5492d7e0f988"
      },
      "source": [
        "train_transform = transforms.Compose([                                      \n",
        "    transforms.Resize(224),\n",
        "    transforms.ToTensor(),\n",
        "    transforms.Normalize([0.485, 0.456, 0.406], [0.229, 0.224, 0.225])])\n",
        "\n",
        "test_transform = transforms.Compose([\n",
        "    transforms.Resize(224),\n",
        "    transforms.ToTensor(),\n",
        "    transforms.Normalize([0.485, 0.456, 0.406], [0.229, 0.224, 0.225])])\n",
        "\n",
        "class ResnetCNN(nn.Module):\n",
        "    def __init__(self):\n",
        "\n",
        "        super(ResnetCNN, self).__init__()\n",
        "        self.pretrained_model = models.resnet34(pretrained=True)\n",
        "\n",
        "        in_features = self.pretrained_model.fc.in_features\n",
        "        self.pretrained_model.fc = nn.Linear(in_features, 10)\n",
        "    \n",
        "    def forward(self,x):\n",
        "        return self.pretrained_model(x)\n",
        "\n",
        "train_loader, val_loader, test_loader = load_data(train_transform, test_transform)\n",
        "\n",
        "model = ResnetCNN().to(device)\n",
        "\n",
        "optimizer = optim.SGD(model.parameters(), lr=0.005,\n",
        "                      momentum=0.9, weight_decay=5e-4)\n",
        "scheduler = torch.optim.lr_scheduler.CosineAnnealingLR(optimizer, T_max=200)\n",
        "\n",
        "train_network(model, train_loader, val_loader, epochs = 15, print_results=True, \n",
        "            optimizer = optimizer, scheduler=scheduler)\n"
      ],
      "execution_count": null,
      "outputs": [
        {
          "output_type": "stream",
          "text": [
            "Files already downloaded and verified\n",
            "Files already downloaded and verified\n",
            "Files already downloaded and verified\n"
          ],
          "name": "stdout"
        },
        {
          "output_type": "stream",
          "text": [
            "Downloading: \"https://download.pytorch.org/models/resnet34-333f7ec4.pth\" to /root/.cache/torch/hub/checkpoints/resnet34-333f7ec4.pth\n"
          ],
          "name": "stderr"
        },
        {
          "output_type": "display_data",
          "data": {
            "application/vnd.jupyter.widget-view+json": {
              "model_id": "2c4bd7627c374cf0a3d47dbd8581801b",
              "version_minor": 0,
              "version_major": 2
            },
            "text/plain": [
              "HBox(children=(FloatProgress(value=0.0, max=87306240.0), HTML(value='')))"
            ]
          },
          "metadata": {
            "tags": []
          }
        },
        {
          "output_type": "stream",
          "text": [
            "\n"
          ],
          "name": "stdout"
        },
        {
          "output_type": "stream",
          "text": [
            "\r  0%|          | 0/15 [00:00<?, ?it/s]"
          ],
          "name": "stderr"
        },
        {
          "output_type": "stream",
          "text": [
            "Epoch 1\n",
            "Training loss: 0.3120052908261617\n",
            "Training accuracy: 89.41555555555556%\n"
          ],
          "name": "stdout"
        },
        {
          "output_type": "stream",
          "text": [
            "\r  7%|▋         | 1/15 [05:20<1:14:53, 320.96s/it]"
          ],
          "name": "stderr"
        },
        {
          "output_type": "stream",
          "text": [
            "Validation accuracy: 94.06%\n",
            "------------------------------\n",
            "Epoch 2\n",
            "Training loss: 0.07602461816000028\n",
            "Training accuracy: 97.38888888888889%\n"
          ],
          "name": "stdout"
        },
        {
          "output_type": "stream",
          "text": [
            "\r 13%|█▎        | 2/15 [10:46<1:09:48, 322.22s/it]"
          ],
          "name": "stderr"
        },
        {
          "output_type": "stream",
          "text": [
            "Validation accuracy: 94.86%\n",
            "------------------------------\n",
            "Epoch 3\n",
            "Training loss: 0.02681786700743768\n",
            "Training accuracy: 99.2088888888889%\n"
          ],
          "name": "stdout"
        },
        {
          "output_type": "stream",
          "text": [
            "\r 20%|██        | 3/15 [16:11<1:04:37, 323.15s/it]"
          ],
          "name": "stderr"
        },
        {
          "output_type": "stream",
          "text": [
            "Validation accuracy: 95.06%\n",
            "------------------------------\n",
            "Epoch 4\n",
            "Training loss: 0.013146078828577367\n",
            "Training accuracy: 99.61111111111111%\n"
          ],
          "name": "stdout"
        },
        {
          "output_type": "stream",
          "text": [
            "\r 27%|██▋       | 4/15 [21:36<59:22, 323.83s/it]  "
          ],
          "name": "stderr"
        },
        {
          "output_type": "stream",
          "text": [
            "Validation accuracy: 95.42%\n",
            "------------------------------\n",
            "Epoch 5\n",
            "Training loss: 0.006821463493759641\n",
            "Training accuracy: 99.83333333333333%\n"
          ],
          "name": "stdout"
        },
        {
          "output_type": "stream",
          "text": [
            "\r 33%|███▎      | 5/15 [27:01<54:02, 324.22s/it]"
          ],
          "name": "stderr"
        },
        {
          "output_type": "stream",
          "text": [
            "Validation accuracy: 96.0%\n",
            "------------------------------\n",
            "Epoch 6\n",
            "Training loss: 0.004017500536754313\n",
            "Training accuracy: 99.92%\n"
          ],
          "name": "stdout"
        },
        {
          "output_type": "stream",
          "text": [
            "\r 40%|████      | 6/15 [32:27<48:40, 324.51s/it]"
          ],
          "name": "stderr"
        },
        {
          "output_type": "stream",
          "text": [
            "Validation accuracy: 96.14%\n",
            "------------------------------\n",
            "Epoch 7\n",
            "Training loss: 0.0007348971455720149\n",
            "Training accuracy: 100.0%\n"
          ],
          "name": "stdout"
        },
        {
          "output_type": "stream",
          "text": [
            "\r 47%|████▋     | 7/15 [37:52<43:17, 324.71s/it]"
          ],
          "name": "stderr"
        },
        {
          "output_type": "stream",
          "text": [
            "Validation accuracy: 96.8%\n",
            "------------------------------\n",
            "Epoch 8\n",
            "Training loss: 0.0003236093496075935\n",
            "Training accuracy: 100.0%\n"
          ],
          "name": "stdout"
        },
        {
          "output_type": "stream",
          "text": [
            "\r 53%|█████▎    | 8/15 [43:17<37:53, 324.78s/it]"
          ],
          "name": "stderr"
        },
        {
          "output_type": "stream",
          "text": [
            "Validation accuracy: 96.8%\n",
            "------------------------------\n",
            "Epoch 9\n",
            "Training loss: 0.0002875566631814258\n",
            "Training accuracy: 100.0%\n"
          ],
          "name": "stdout"
        },
        {
          "output_type": "stream",
          "text": [
            "\r 60%|██████    | 9/15 [48:42<32:29, 324.88s/it]"
          ],
          "name": "stderr"
        },
        {
          "output_type": "stream",
          "text": [
            "Validation accuracy: 96.82%\n",
            "------------------------------\n",
            "Epoch 10\n",
            "Training loss: 0.0002824431675175826\n",
            "Training accuracy: 100.0%\n"
          ],
          "name": "stdout"
        },
        {
          "output_type": "stream",
          "text": [
            "\r 67%|██████▋   | 10/15 [54:07<27:04, 324.97s/it]"
          ],
          "name": "stderr"
        },
        {
          "output_type": "stream",
          "text": [
            "Validation accuracy: 96.82%\n",
            "------------------------------\n",
            "Epoch 11\n",
            "Training loss: 0.0002847439161812266\n",
            "Training accuracy: 100.0%\n"
          ],
          "name": "stdout"
        },
        {
          "output_type": "stream",
          "text": [
            "\r 73%|███████▎  | 11/15 [59:32<21:40, 325.04s/it]"
          ],
          "name": "stderr"
        },
        {
          "output_type": "stream",
          "text": [
            "Validation accuracy: 96.82%\n",
            "------------------------------\n",
            "Epoch 12\n",
            "Training loss: 0.0002906624368650632\n",
            "Training accuracy: 100.0%\n"
          ],
          "name": "stdout"
        },
        {
          "output_type": "stream",
          "text": [
            "\r 80%|████████  | 12/15 [1:04:57<16:15, 325.05s/it]"
          ],
          "name": "stderr"
        },
        {
          "output_type": "stream",
          "text": [
            "Validation accuracy: 96.8%\n",
            "------------------------------\n",
            "Epoch 13\n",
            "Training loss: 0.0002985356722596205\n",
            "Training accuracy: 100.0%\n"
          ],
          "name": "stdout"
        },
        {
          "output_type": "stream",
          "text": [
            "\r 87%|████████▋ | 13/15 [1:10:23<10:50, 325.12s/it]"
          ],
          "name": "stderr"
        },
        {
          "output_type": "stream",
          "text": [
            "Validation accuracy: 96.8%\n",
            "------------------------------\n"
          ],
          "name": "stdout"
        }
      ]
    }
  ]
}
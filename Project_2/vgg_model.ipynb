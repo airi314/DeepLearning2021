{
  "nbformat": 4,
  "nbformat_minor": 0,
  "metadata": {
    "accelerator": "GPU",
    "colab": {
      "name": "vgg_model.ipynb",
      "provenance": [],
      "collapsed_sections": [
        "Pk7piq6wQp8c",
        "W5y7jriuRT-w",
        "_rb0_Ii7RqIA",
        "Eu4GbVMQE3oP",
        "qHXJFdlSVGJd",
        "aV8wY7M49Rw3",
        "CmrqhhXk6FAk",
        "aweIegLn2MRJ",
        "RaPfwSwi_6lL"
      ],
      "toc_visible": true
    },
    "kernelspec": {
      "display_name": "Python 3",
      "name": "python3"
    },
    "language_info": {
      "name": "python"
    },
    "widgets": {
      "application/vnd.jupyter.widget-state+json": {
        "716f24898c4246daba9c790d719cedda": {
          "model_module": "@jupyter-widgets/controls",
          "model_name": "HBoxModel",
          "state": {
            "_dom_classes": [],
            "_model_module": "@jupyter-widgets/controls",
            "_model_module_version": "1.5.0",
            "_model_name": "HBoxModel",
            "_view_count": null,
            "_view_module": "@jupyter-widgets/controls",
            "_view_module_version": "1.5.0",
            "_view_name": "HBoxView",
            "box_style": "",
            "children": [
              "IPY_MODEL_8e5fbb60efcb487bb90bdbc6e38a4c62",
              "IPY_MODEL_3575106ccb5845d3a60a25ea4bf7fc22"
            ],
            "layout": "IPY_MODEL_99f872a15dd7496ba010c9531dca8196"
          }
        },
        "8e5fbb60efcb487bb90bdbc6e38a4c62": {
          "model_module": "@jupyter-widgets/controls",
          "model_name": "FloatProgressModel",
          "state": {
            "_dom_classes": [],
            "_model_module": "@jupyter-widgets/controls",
            "_model_module_version": "1.5.0",
            "_model_name": "FloatProgressModel",
            "_view_count": null,
            "_view_module": "@jupyter-widgets/controls",
            "_view_module_version": "1.5.0",
            "_view_name": "ProgressView",
            "bar_style": "success",
            "description": "",
            "description_tooltip": null,
            "layout": "IPY_MODEL_a2934831522242b08455d1e1207b19e6",
            "max": 170498071,
            "min": 0,
            "orientation": "horizontal",
            "style": "IPY_MODEL_a9902918ddfe4d4db9a74564d2328b38",
            "value": 170498071
          }
        },
        "3575106ccb5845d3a60a25ea4bf7fc22": {
          "model_module": "@jupyter-widgets/controls",
          "model_name": "HTMLModel",
          "state": {
            "_dom_classes": [],
            "_model_module": "@jupyter-widgets/controls",
            "_model_module_version": "1.5.0",
            "_model_name": "HTMLModel",
            "_view_count": null,
            "_view_module": "@jupyter-widgets/controls",
            "_view_module_version": "1.5.0",
            "_view_name": "HTMLView",
            "description": "",
            "description_tooltip": null,
            "layout": "IPY_MODEL_abe68c7f92e748c4bf4e74cceac307f8",
            "placeholder": "​",
            "style": "IPY_MODEL_680e9292fb9e4ff9bd131dc8af5776c7",
            "value": " 170499072/? [54:38&lt;00:00, 52008.12it/s]"
          }
        },
        "99f872a15dd7496ba010c9531dca8196": {
          "model_module": "@jupyter-widgets/base",
          "model_name": "LayoutModel",
          "state": {
            "_model_module": "@jupyter-widgets/base",
            "_model_module_version": "1.2.0",
            "_model_name": "LayoutModel",
            "_view_count": null,
            "_view_module": "@jupyter-widgets/base",
            "_view_module_version": "1.2.0",
            "_view_name": "LayoutView",
            "align_content": null,
            "align_items": null,
            "align_self": null,
            "border": null,
            "bottom": null,
            "display": null,
            "flex": null,
            "flex_flow": null,
            "grid_area": null,
            "grid_auto_columns": null,
            "grid_auto_flow": null,
            "grid_auto_rows": null,
            "grid_column": null,
            "grid_gap": null,
            "grid_row": null,
            "grid_template_areas": null,
            "grid_template_columns": null,
            "grid_template_rows": null,
            "height": null,
            "justify_content": null,
            "justify_items": null,
            "left": null,
            "margin": null,
            "max_height": null,
            "max_width": null,
            "min_height": null,
            "min_width": null,
            "object_fit": null,
            "object_position": null,
            "order": null,
            "overflow": null,
            "overflow_x": null,
            "overflow_y": null,
            "padding": null,
            "right": null,
            "top": null,
            "visibility": null,
            "width": null
          }
        },
        "a2934831522242b08455d1e1207b19e6": {
          "model_module": "@jupyter-widgets/base",
          "model_name": "LayoutModel",
          "state": {
            "_model_module": "@jupyter-widgets/base",
            "_model_module_version": "1.2.0",
            "_model_name": "LayoutModel",
            "_view_count": null,
            "_view_module": "@jupyter-widgets/base",
            "_view_module_version": "1.2.0",
            "_view_name": "LayoutView",
            "align_content": null,
            "align_items": null,
            "align_self": null,
            "border": null,
            "bottom": null,
            "display": null,
            "flex": null,
            "flex_flow": null,
            "grid_area": null,
            "grid_auto_columns": null,
            "grid_auto_flow": null,
            "grid_auto_rows": null,
            "grid_column": null,
            "grid_gap": null,
            "grid_row": null,
            "grid_template_areas": null,
            "grid_template_columns": null,
            "grid_template_rows": null,
            "height": null,
            "justify_content": null,
            "justify_items": null,
            "left": null,
            "margin": null,
            "max_height": null,
            "max_width": null,
            "min_height": null,
            "min_width": null,
            "object_fit": null,
            "object_position": null,
            "order": null,
            "overflow": null,
            "overflow_x": null,
            "overflow_y": null,
            "padding": null,
            "right": null,
            "top": null,
            "visibility": null,
            "width": null
          }
        },
        "a9902918ddfe4d4db9a74564d2328b38": {
          "model_module": "@jupyter-widgets/controls",
          "model_name": "ProgressStyleModel",
          "state": {
            "_model_module": "@jupyter-widgets/controls",
            "_model_module_version": "1.5.0",
            "_model_name": "ProgressStyleModel",
            "_view_count": null,
            "_view_module": "@jupyter-widgets/base",
            "_view_module_version": "1.2.0",
            "_view_name": "StyleView",
            "bar_color": null,
            "description_width": "initial"
          }
        },
        "abe68c7f92e748c4bf4e74cceac307f8": {
          "model_module": "@jupyter-widgets/base",
          "model_name": "LayoutModel",
          "state": {
            "_model_module": "@jupyter-widgets/base",
            "_model_module_version": "1.2.0",
            "_model_name": "LayoutModel",
            "_view_count": null,
            "_view_module": "@jupyter-widgets/base",
            "_view_module_version": "1.2.0",
            "_view_name": "LayoutView",
            "align_content": null,
            "align_items": null,
            "align_self": null,
            "border": null,
            "bottom": null,
            "display": null,
            "flex": null,
            "flex_flow": null,
            "grid_area": null,
            "grid_auto_columns": null,
            "grid_auto_flow": null,
            "grid_auto_rows": null,
            "grid_column": null,
            "grid_gap": null,
            "grid_row": null,
            "grid_template_areas": null,
            "grid_template_columns": null,
            "grid_template_rows": null,
            "height": null,
            "justify_content": null,
            "justify_items": null,
            "left": null,
            "margin": null,
            "max_height": null,
            "max_width": null,
            "min_height": null,
            "min_width": null,
            "object_fit": null,
            "object_position": null,
            "order": null,
            "overflow": null,
            "overflow_x": null,
            "overflow_y": null,
            "padding": null,
            "right": null,
            "top": null,
            "visibility": null,
            "width": null
          }
        },
        "680e9292fb9e4ff9bd131dc8af5776c7": {
          "model_module": "@jupyter-widgets/controls",
          "model_name": "DescriptionStyleModel",
          "state": {
            "_model_module": "@jupyter-widgets/controls",
            "_model_module_version": "1.5.0",
            "_model_name": "DescriptionStyleModel",
            "_view_count": null,
            "_view_module": "@jupyter-widgets/base",
            "_view_module_version": "1.2.0",
            "_view_name": "StyleView",
            "description_width": ""
          }
        },
        "cf3ed6c2b2694e6eb6272a9f8c4c16ee": {
          "model_module": "@jupyter-widgets/controls",
          "model_name": "HBoxModel",
          "state": {
            "_dom_classes": [],
            "_model_module": "@jupyter-widgets/controls",
            "_model_module_version": "1.5.0",
            "_model_name": "HBoxModel",
            "_view_count": null,
            "_view_module": "@jupyter-widgets/controls",
            "_view_module_version": "1.5.0",
            "_view_name": "HBoxView",
            "box_style": "",
            "children": [
              "IPY_MODEL_1bf2e25e6a434fbcbd1cee300621e096",
              "IPY_MODEL_da2ed78b0e97450183f777e01c2030d2"
            ],
            "layout": "IPY_MODEL_2df2f5feaac9403d873008dab538e86e"
          }
        },
        "1bf2e25e6a434fbcbd1cee300621e096": {
          "model_module": "@jupyter-widgets/controls",
          "model_name": "FloatProgressModel",
          "state": {
            "_dom_classes": [],
            "_model_module": "@jupyter-widgets/controls",
            "_model_module_version": "1.5.0",
            "_model_name": "FloatProgressModel",
            "_view_count": null,
            "_view_module": "@jupyter-widgets/controls",
            "_view_module_version": "1.5.0",
            "_view_name": "ProgressView",
            "bar_style": "success",
            "description": "100%",
            "description_tooltip": null,
            "layout": "IPY_MODEL_ccb5e06b0c8342648fda9ac7d1f20e39",
            "max": 553507836,
            "min": 0,
            "orientation": "horizontal",
            "style": "IPY_MODEL_bf319d82f41545ac83a56052be8e5907",
            "value": 553507836
          }
        },
        "da2ed78b0e97450183f777e01c2030d2": {
          "model_module": "@jupyter-widgets/controls",
          "model_name": "HTMLModel",
          "state": {
            "_dom_classes": [],
            "_model_module": "@jupyter-widgets/controls",
            "_model_module_version": "1.5.0",
            "_model_name": "HTMLModel",
            "_view_count": null,
            "_view_module": "@jupyter-widgets/controls",
            "_view_module_version": "1.5.0",
            "_view_name": "HTMLView",
            "description": "",
            "description_tooltip": null,
            "layout": "IPY_MODEL_45d8714a5ca24e29aaacdba20ade79f0",
            "placeholder": "​",
            "style": "IPY_MODEL_8e8951a1a3954a4ba64b355b7744a725",
            "value": " 528M/528M [54:30&lt;00:00, 169kB/s]"
          }
        },
        "2df2f5feaac9403d873008dab538e86e": {
          "model_module": "@jupyter-widgets/base",
          "model_name": "LayoutModel",
          "state": {
            "_model_module": "@jupyter-widgets/base",
            "_model_module_version": "1.2.0",
            "_model_name": "LayoutModel",
            "_view_count": null,
            "_view_module": "@jupyter-widgets/base",
            "_view_module_version": "1.2.0",
            "_view_name": "LayoutView",
            "align_content": null,
            "align_items": null,
            "align_self": null,
            "border": null,
            "bottom": null,
            "display": null,
            "flex": null,
            "flex_flow": null,
            "grid_area": null,
            "grid_auto_columns": null,
            "grid_auto_flow": null,
            "grid_auto_rows": null,
            "grid_column": null,
            "grid_gap": null,
            "grid_row": null,
            "grid_template_areas": null,
            "grid_template_columns": null,
            "grid_template_rows": null,
            "height": null,
            "justify_content": null,
            "justify_items": null,
            "left": null,
            "margin": null,
            "max_height": null,
            "max_width": null,
            "min_height": null,
            "min_width": null,
            "object_fit": null,
            "object_position": null,
            "order": null,
            "overflow": null,
            "overflow_x": null,
            "overflow_y": null,
            "padding": null,
            "right": null,
            "top": null,
            "visibility": null,
            "width": null
          }
        },
        "ccb5e06b0c8342648fda9ac7d1f20e39": {
          "model_module": "@jupyter-widgets/base",
          "model_name": "LayoutModel",
          "state": {
            "_model_module": "@jupyter-widgets/base",
            "_model_module_version": "1.2.0",
            "_model_name": "LayoutModel",
            "_view_count": null,
            "_view_module": "@jupyter-widgets/base",
            "_view_module_version": "1.2.0",
            "_view_name": "LayoutView",
            "align_content": null,
            "align_items": null,
            "align_self": null,
            "border": null,
            "bottom": null,
            "display": null,
            "flex": null,
            "flex_flow": null,
            "grid_area": null,
            "grid_auto_columns": null,
            "grid_auto_flow": null,
            "grid_auto_rows": null,
            "grid_column": null,
            "grid_gap": null,
            "grid_row": null,
            "grid_template_areas": null,
            "grid_template_columns": null,
            "grid_template_rows": null,
            "height": null,
            "justify_content": null,
            "justify_items": null,
            "left": null,
            "margin": null,
            "max_height": null,
            "max_width": null,
            "min_height": null,
            "min_width": null,
            "object_fit": null,
            "object_position": null,
            "order": null,
            "overflow": null,
            "overflow_x": null,
            "overflow_y": null,
            "padding": null,
            "right": null,
            "top": null,
            "visibility": null,
            "width": null
          }
        },
        "bf319d82f41545ac83a56052be8e5907": {
          "model_module": "@jupyter-widgets/controls",
          "model_name": "ProgressStyleModel",
          "state": {
            "_model_module": "@jupyter-widgets/controls",
            "_model_module_version": "1.5.0",
            "_model_name": "ProgressStyleModel",
            "_view_count": null,
            "_view_module": "@jupyter-widgets/base",
            "_view_module_version": "1.2.0",
            "_view_name": "StyleView",
            "bar_color": null,
            "description_width": "initial"
          }
        },
        "45d8714a5ca24e29aaacdba20ade79f0": {
          "model_module": "@jupyter-widgets/base",
          "model_name": "LayoutModel",
          "state": {
            "_model_module": "@jupyter-widgets/base",
            "_model_module_version": "1.2.0",
            "_model_name": "LayoutModel",
            "_view_count": null,
            "_view_module": "@jupyter-widgets/base",
            "_view_module_version": "1.2.0",
            "_view_name": "LayoutView",
            "align_content": null,
            "align_items": null,
            "align_self": null,
            "border": null,
            "bottom": null,
            "display": null,
            "flex": null,
            "flex_flow": null,
            "grid_area": null,
            "grid_auto_columns": null,
            "grid_auto_flow": null,
            "grid_auto_rows": null,
            "grid_column": null,
            "grid_gap": null,
            "grid_row": null,
            "grid_template_areas": null,
            "grid_template_columns": null,
            "grid_template_rows": null,
            "height": null,
            "justify_content": null,
            "justify_items": null,
            "left": null,
            "margin": null,
            "max_height": null,
            "max_width": null,
            "min_height": null,
            "min_width": null,
            "object_fit": null,
            "object_position": null,
            "order": null,
            "overflow": null,
            "overflow_x": null,
            "overflow_y": null,
            "padding": null,
            "right": null,
            "top": null,
            "visibility": null,
            "width": null
          }
        },
        "8e8951a1a3954a4ba64b355b7744a725": {
          "model_module": "@jupyter-widgets/controls",
          "model_name": "DescriptionStyleModel",
          "state": {
            "_model_module": "@jupyter-widgets/controls",
            "_model_module_version": "1.5.0",
            "_model_name": "DescriptionStyleModel",
            "_view_count": null,
            "_view_module": "@jupyter-widgets/base",
            "_view_module_version": "1.2.0",
            "_view_name": "StyleView",
            "description_width": ""
          }
        },
        "a1bc357798294bebb2e87a487c409239": {
          "model_module": "@jupyter-widgets/controls",
          "model_name": "HBoxModel",
          "state": {
            "_dom_classes": [],
            "_model_module": "@jupyter-widgets/controls",
            "_model_module_version": "1.5.0",
            "_model_name": "HBoxModel",
            "_view_count": null,
            "_view_module": "@jupyter-widgets/controls",
            "_view_module_version": "1.5.0",
            "_view_name": "HBoxView",
            "box_style": "",
            "children": [
              "IPY_MODEL_e1e1b144123542a4850b2cf03a5419bb",
              "IPY_MODEL_39bbc30827284200808e8d12e6078435"
            ],
            "layout": "IPY_MODEL_d5faf3541a3d4829971b6d11b87692ab"
          }
        },
        "e1e1b144123542a4850b2cf03a5419bb": {
          "model_module": "@jupyter-widgets/controls",
          "model_name": "FloatProgressModel",
          "state": {
            "_dom_classes": [],
            "_model_module": "@jupyter-widgets/controls",
            "_model_module_version": "1.5.0",
            "_model_name": "FloatProgressModel",
            "_view_count": null,
            "_view_module": "@jupyter-widgets/controls",
            "_view_module_version": "1.5.0",
            "_view_name": "ProgressView",
            "bar_style": "success",
            "description": "",
            "description_tooltip": null,
            "layout": "IPY_MODEL_7a3b267d21a94de0ad30329eb82a721d",
            "max": 170498071,
            "min": 0,
            "orientation": "horizontal",
            "style": "IPY_MODEL_a5f04de19fc248adacf21fd5091f6619",
            "value": 170498071
          }
        },
        "39bbc30827284200808e8d12e6078435": {
          "model_module": "@jupyter-widgets/controls",
          "model_name": "HTMLModel",
          "state": {
            "_dom_classes": [],
            "_model_module": "@jupyter-widgets/controls",
            "_model_module_version": "1.5.0",
            "_model_name": "HTMLModel",
            "_view_count": null,
            "_view_module": "@jupyter-widgets/controls",
            "_view_module_version": "1.5.0",
            "_view_name": "HTMLView",
            "description": "",
            "description_tooltip": null,
            "layout": "IPY_MODEL_10eeee36dfed4f5ea0c5b444b7a8a647",
            "placeholder": "​",
            "style": "IPY_MODEL_b9e37fec6eb54e3db6d99aa34da18862",
            "value": " 170499072/? [00:03&lt;00:00, 48260482.50it/s]"
          }
        },
        "d5faf3541a3d4829971b6d11b87692ab": {
          "model_module": "@jupyter-widgets/base",
          "model_name": "LayoutModel",
          "state": {
            "_model_module": "@jupyter-widgets/base",
            "_model_module_version": "1.2.0",
            "_model_name": "LayoutModel",
            "_view_count": null,
            "_view_module": "@jupyter-widgets/base",
            "_view_module_version": "1.2.0",
            "_view_name": "LayoutView",
            "align_content": null,
            "align_items": null,
            "align_self": null,
            "border": null,
            "bottom": null,
            "display": null,
            "flex": null,
            "flex_flow": null,
            "grid_area": null,
            "grid_auto_columns": null,
            "grid_auto_flow": null,
            "grid_auto_rows": null,
            "grid_column": null,
            "grid_gap": null,
            "grid_row": null,
            "grid_template_areas": null,
            "grid_template_columns": null,
            "grid_template_rows": null,
            "height": null,
            "justify_content": null,
            "justify_items": null,
            "left": null,
            "margin": null,
            "max_height": null,
            "max_width": null,
            "min_height": null,
            "min_width": null,
            "object_fit": null,
            "object_position": null,
            "order": null,
            "overflow": null,
            "overflow_x": null,
            "overflow_y": null,
            "padding": null,
            "right": null,
            "top": null,
            "visibility": null,
            "width": null
          }
        },
        "7a3b267d21a94de0ad30329eb82a721d": {
          "model_module": "@jupyter-widgets/base",
          "model_name": "LayoutModel",
          "state": {
            "_model_module": "@jupyter-widgets/base",
            "_model_module_version": "1.2.0",
            "_model_name": "LayoutModel",
            "_view_count": null,
            "_view_module": "@jupyter-widgets/base",
            "_view_module_version": "1.2.0",
            "_view_name": "LayoutView",
            "align_content": null,
            "align_items": null,
            "align_self": null,
            "border": null,
            "bottom": null,
            "display": null,
            "flex": null,
            "flex_flow": null,
            "grid_area": null,
            "grid_auto_columns": null,
            "grid_auto_flow": null,
            "grid_auto_rows": null,
            "grid_column": null,
            "grid_gap": null,
            "grid_row": null,
            "grid_template_areas": null,
            "grid_template_columns": null,
            "grid_template_rows": null,
            "height": null,
            "justify_content": null,
            "justify_items": null,
            "left": null,
            "margin": null,
            "max_height": null,
            "max_width": null,
            "min_height": null,
            "min_width": null,
            "object_fit": null,
            "object_position": null,
            "order": null,
            "overflow": null,
            "overflow_x": null,
            "overflow_y": null,
            "padding": null,
            "right": null,
            "top": null,
            "visibility": null,
            "width": null
          }
        },
        "a5f04de19fc248adacf21fd5091f6619": {
          "model_module": "@jupyter-widgets/controls",
          "model_name": "ProgressStyleModel",
          "state": {
            "_model_module": "@jupyter-widgets/controls",
            "_model_module_version": "1.5.0",
            "_model_name": "ProgressStyleModel",
            "_view_count": null,
            "_view_module": "@jupyter-widgets/base",
            "_view_module_version": "1.2.0",
            "_view_name": "StyleView",
            "bar_color": null,
            "description_width": "initial"
          }
        },
        "10eeee36dfed4f5ea0c5b444b7a8a647": {
          "model_module": "@jupyter-widgets/base",
          "model_name": "LayoutModel",
          "state": {
            "_model_module": "@jupyter-widgets/base",
            "_model_module_version": "1.2.0",
            "_model_name": "LayoutModel",
            "_view_count": null,
            "_view_module": "@jupyter-widgets/base",
            "_view_module_version": "1.2.0",
            "_view_name": "LayoutView",
            "align_content": null,
            "align_items": null,
            "align_self": null,
            "border": null,
            "bottom": null,
            "display": null,
            "flex": null,
            "flex_flow": null,
            "grid_area": null,
            "grid_auto_columns": null,
            "grid_auto_flow": null,
            "grid_auto_rows": null,
            "grid_column": null,
            "grid_gap": null,
            "grid_row": null,
            "grid_template_areas": null,
            "grid_template_columns": null,
            "grid_template_rows": null,
            "height": null,
            "justify_content": null,
            "justify_items": null,
            "left": null,
            "margin": null,
            "max_height": null,
            "max_width": null,
            "min_height": null,
            "min_width": null,
            "object_fit": null,
            "object_position": null,
            "order": null,
            "overflow": null,
            "overflow_x": null,
            "overflow_y": null,
            "padding": null,
            "right": null,
            "top": null,
            "visibility": null,
            "width": null
          }
        },
        "b9e37fec6eb54e3db6d99aa34da18862": {
          "model_module": "@jupyter-widgets/controls",
          "model_name": "DescriptionStyleModel",
          "state": {
            "_model_module": "@jupyter-widgets/controls",
            "_model_module_version": "1.5.0",
            "_model_name": "DescriptionStyleModel",
            "_view_count": null,
            "_view_module": "@jupyter-widgets/base",
            "_view_module_version": "1.2.0",
            "_view_name": "StyleView",
            "description_width": ""
          }
        },
        "5e0dbc07b85b4b299d5a6ee3bcb8070d": {
          "model_module": "@jupyter-widgets/controls",
          "model_name": "HBoxModel",
          "state": {
            "_dom_classes": [],
            "_model_module": "@jupyter-widgets/controls",
            "_model_module_version": "1.5.0",
            "_model_name": "HBoxModel",
            "_view_count": null,
            "_view_module": "@jupyter-widgets/controls",
            "_view_module_version": "1.5.0",
            "_view_name": "HBoxView",
            "box_style": "",
            "children": [
              "IPY_MODEL_9c06de526d2a4975862600fd0314f9e4",
              "IPY_MODEL_6c4e65b18b7b49e687455853c66fca46"
            ],
            "layout": "IPY_MODEL_42c80a203864460689ea958af6d3ff2c"
          }
        },
        "9c06de526d2a4975862600fd0314f9e4": {
          "model_module": "@jupyter-widgets/controls",
          "model_name": "FloatProgressModel",
          "state": {
            "_dom_classes": [],
            "_model_module": "@jupyter-widgets/controls",
            "_model_module_version": "1.5.0",
            "_model_name": "FloatProgressModel",
            "_view_count": null,
            "_view_module": "@jupyter-widgets/controls",
            "_view_module_version": "1.5.0",
            "_view_name": "ProgressView",
            "bar_style": "success",
            "description": "100%",
            "description_tooltip": null,
            "layout": "IPY_MODEL_86bbb74585654041bcb8f0d03039e9c9",
            "max": 553433881,
            "min": 0,
            "orientation": "horizontal",
            "style": "IPY_MODEL_c0f7257da6d94c43ba2011ccd5674197",
            "value": 553433881
          }
        },
        "6c4e65b18b7b49e687455853c66fca46": {
          "model_module": "@jupyter-widgets/controls",
          "model_name": "HTMLModel",
          "state": {
            "_dom_classes": [],
            "_model_module": "@jupyter-widgets/controls",
            "_model_module_version": "1.5.0",
            "_model_name": "HTMLModel",
            "_view_count": null,
            "_view_module": "@jupyter-widgets/controls",
            "_view_module_version": "1.5.0",
            "_view_name": "HTMLView",
            "description": "",
            "description_tooltip": null,
            "layout": "IPY_MODEL_d90adbb383794fe7b88a496ae694afc3",
            "placeholder": "​",
            "style": "IPY_MODEL_1110b65adf4c4533a610706898e8d220",
            "value": " 528M/528M [00:02&lt;00:00, 235MB/s]"
          }
        },
        "42c80a203864460689ea958af6d3ff2c": {
          "model_module": "@jupyter-widgets/base",
          "model_name": "LayoutModel",
          "state": {
            "_model_module": "@jupyter-widgets/base",
            "_model_module_version": "1.2.0",
            "_model_name": "LayoutModel",
            "_view_count": null,
            "_view_module": "@jupyter-widgets/base",
            "_view_module_version": "1.2.0",
            "_view_name": "LayoutView",
            "align_content": null,
            "align_items": null,
            "align_self": null,
            "border": null,
            "bottom": null,
            "display": null,
            "flex": null,
            "flex_flow": null,
            "grid_area": null,
            "grid_auto_columns": null,
            "grid_auto_flow": null,
            "grid_auto_rows": null,
            "grid_column": null,
            "grid_gap": null,
            "grid_row": null,
            "grid_template_areas": null,
            "grid_template_columns": null,
            "grid_template_rows": null,
            "height": null,
            "justify_content": null,
            "justify_items": null,
            "left": null,
            "margin": null,
            "max_height": null,
            "max_width": null,
            "min_height": null,
            "min_width": null,
            "object_fit": null,
            "object_position": null,
            "order": null,
            "overflow": null,
            "overflow_x": null,
            "overflow_y": null,
            "padding": null,
            "right": null,
            "top": null,
            "visibility": null,
            "width": null
          }
        },
        "86bbb74585654041bcb8f0d03039e9c9": {
          "model_module": "@jupyter-widgets/base",
          "model_name": "LayoutModel",
          "state": {
            "_model_module": "@jupyter-widgets/base",
            "_model_module_version": "1.2.0",
            "_model_name": "LayoutModel",
            "_view_count": null,
            "_view_module": "@jupyter-widgets/base",
            "_view_module_version": "1.2.0",
            "_view_name": "LayoutView",
            "align_content": null,
            "align_items": null,
            "align_self": null,
            "border": null,
            "bottom": null,
            "display": null,
            "flex": null,
            "flex_flow": null,
            "grid_area": null,
            "grid_auto_columns": null,
            "grid_auto_flow": null,
            "grid_auto_rows": null,
            "grid_column": null,
            "grid_gap": null,
            "grid_row": null,
            "grid_template_areas": null,
            "grid_template_columns": null,
            "grid_template_rows": null,
            "height": null,
            "justify_content": null,
            "justify_items": null,
            "left": null,
            "margin": null,
            "max_height": null,
            "max_width": null,
            "min_height": null,
            "min_width": null,
            "object_fit": null,
            "object_position": null,
            "order": null,
            "overflow": null,
            "overflow_x": null,
            "overflow_y": null,
            "padding": null,
            "right": null,
            "top": null,
            "visibility": null,
            "width": null
          }
        },
        "c0f7257da6d94c43ba2011ccd5674197": {
          "model_module": "@jupyter-widgets/controls",
          "model_name": "ProgressStyleModel",
          "state": {
            "_model_module": "@jupyter-widgets/controls",
            "_model_module_version": "1.5.0",
            "_model_name": "ProgressStyleModel",
            "_view_count": null,
            "_view_module": "@jupyter-widgets/base",
            "_view_module_version": "1.2.0",
            "_view_name": "StyleView",
            "bar_color": null,
            "description_width": "initial"
          }
        },
        "d90adbb383794fe7b88a496ae694afc3": {
          "model_module": "@jupyter-widgets/base",
          "model_name": "LayoutModel",
          "state": {
            "_model_module": "@jupyter-widgets/base",
            "_model_module_version": "1.2.0",
            "_model_name": "LayoutModel",
            "_view_count": null,
            "_view_module": "@jupyter-widgets/base",
            "_view_module_version": "1.2.0",
            "_view_name": "LayoutView",
            "align_content": null,
            "align_items": null,
            "align_self": null,
            "border": null,
            "bottom": null,
            "display": null,
            "flex": null,
            "flex_flow": null,
            "grid_area": null,
            "grid_auto_columns": null,
            "grid_auto_flow": null,
            "grid_auto_rows": null,
            "grid_column": null,
            "grid_gap": null,
            "grid_row": null,
            "grid_template_areas": null,
            "grid_template_columns": null,
            "grid_template_rows": null,
            "height": null,
            "justify_content": null,
            "justify_items": null,
            "left": null,
            "margin": null,
            "max_height": null,
            "max_width": null,
            "min_height": null,
            "min_width": null,
            "object_fit": null,
            "object_position": null,
            "order": null,
            "overflow": null,
            "overflow_x": null,
            "overflow_y": null,
            "padding": null,
            "right": null,
            "top": null,
            "visibility": null,
            "width": null
          }
        },
        "1110b65adf4c4533a610706898e8d220": {
          "model_module": "@jupyter-widgets/controls",
          "model_name": "DescriptionStyleModel",
          "state": {
            "_model_module": "@jupyter-widgets/controls",
            "_model_module_version": "1.5.0",
            "_model_name": "DescriptionStyleModel",
            "_view_count": null,
            "_view_module": "@jupyter-widgets/base",
            "_view_module_version": "1.2.0",
            "_view_name": "StyleView",
            "description_width": ""
          }
        },
        "0f1dc32cfd1c4d9682c519f2bf840b91": {
          "model_module": "@jupyter-widgets/controls",
          "model_name": "HBoxModel",
          "state": {
            "_view_name": "HBoxView",
            "_dom_classes": [],
            "_model_name": "HBoxModel",
            "_view_module": "@jupyter-widgets/controls",
            "_model_module_version": "1.5.0",
            "_view_count": null,
            "_view_module_version": "1.5.0",
            "box_style": "",
            "layout": "IPY_MODEL_e11bb9959f974393b223f84c045c5429",
            "_model_module": "@jupyter-widgets/controls",
            "children": [
              "IPY_MODEL_b7980ed1b9cf40dea6bdf03c338629f6",
              "IPY_MODEL_19159d4701a244c0aae3be937115f950"
            ]
          }
        },
        "e11bb9959f974393b223f84c045c5429": {
          "model_module": "@jupyter-widgets/base",
          "model_name": "LayoutModel",
          "state": {
            "_view_name": "LayoutView",
            "grid_template_rows": null,
            "right": null,
            "justify_content": null,
            "_view_module": "@jupyter-widgets/base",
            "overflow": null,
            "_model_module_version": "1.2.0",
            "_view_count": null,
            "flex_flow": null,
            "width": null,
            "min_width": null,
            "border": null,
            "align_items": null,
            "bottom": null,
            "_model_module": "@jupyter-widgets/base",
            "top": null,
            "grid_column": null,
            "overflow_y": null,
            "overflow_x": null,
            "grid_auto_flow": null,
            "grid_area": null,
            "grid_template_columns": null,
            "flex": null,
            "_model_name": "LayoutModel",
            "justify_items": null,
            "grid_row": null,
            "max_height": null,
            "align_content": null,
            "visibility": null,
            "align_self": null,
            "height": null,
            "min_height": null,
            "padding": null,
            "grid_auto_rows": null,
            "grid_gap": null,
            "max_width": null,
            "order": null,
            "_view_module_version": "1.2.0",
            "grid_template_areas": null,
            "object_position": null,
            "object_fit": null,
            "grid_auto_columns": null,
            "margin": null,
            "display": null,
            "left": null
          }
        },
        "b7980ed1b9cf40dea6bdf03c338629f6": {
          "model_module": "@jupyter-widgets/controls",
          "model_name": "FloatProgressModel",
          "state": {
            "_view_name": "ProgressView",
            "style": "IPY_MODEL_9aaa67f87b3f40918c9fcdd72d10fd99",
            "_dom_classes": [],
            "description": "",
            "_model_name": "FloatProgressModel",
            "bar_style": "success",
            "max": 170498071,
            "_view_module": "@jupyter-widgets/controls",
            "_model_module_version": "1.5.0",
            "value": 170498071,
            "_view_count": null,
            "_view_module_version": "1.5.0",
            "orientation": "horizontal",
            "min": 0,
            "description_tooltip": null,
            "_model_module": "@jupyter-widgets/controls",
            "layout": "IPY_MODEL_53f9a9852537457d95a8df00a74b6753"
          }
        },
        "19159d4701a244c0aae3be937115f950": {
          "model_module": "@jupyter-widgets/controls",
          "model_name": "HTMLModel",
          "state": {
            "_view_name": "HTMLView",
            "style": "IPY_MODEL_3cad60e3375f4c62a64196e1cc86fbda",
            "_dom_classes": [],
            "description": "",
            "_model_name": "HTMLModel",
            "placeholder": "​",
            "_view_module": "@jupyter-widgets/controls",
            "_model_module_version": "1.5.0",
            "value": " 170499072/? [00:08&lt;00:00, 20229741.99it/s]",
            "_view_count": null,
            "_view_module_version": "1.5.0",
            "description_tooltip": null,
            "_model_module": "@jupyter-widgets/controls",
            "layout": "IPY_MODEL_44c09cbbcc0f40c09656d1ad69b27124"
          }
        },
        "9aaa67f87b3f40918c9fcdd72d10fd99": {
          "model_module": "@jupyter-widgets/controls",
          "model_name": "ProgressStyleModel",
          "state": {
            "_view_name": "StyleView",
            "_model_name": "ProgressStyleModel",
            "description_width": "initial",
            "_view_module": "@jupyter-widgets/base",
            "_model_module_version": "1.5.0",
            "_view_count": null,
            "_view_module_version": "1.2.0",
            "bar_color": null,
            "_model_module": "@jupyter-widgets/controls"
          }
        },
        "53f9a9852537457d95a8df00a74b6753": {
          "model_module": "@jupyter-widgets/base",
          "model_name": "LayoutModel",
          "state": {
            "_view_name": "LayoutView",
            "grid_template_rows": null,
            "right": null,
            "justify_content": null,
            "_view_module": "@jupyter-widgets/base",
            "overflow": null,
            "_model_module_version": "1.2.0",
            "_view_count": null,
            "flex_flow": null,
            "width": null,
            "min_width": null,
            "border": null,
            "align_items": null,
            "bottom": null,
            "_model_module": "@jupyter-widgets/base",
            "top": null,
            "grid_column": null,
            "overflow_y": null,
            "overflow_x": null,
            "grid_auto_flow": null,
            "grid_area": null,
            "grid_template_columns": null,
            "flex": null,
            "_model_name": "LayoutModel",
            "justify_items": null,
            "grid_row": null,
            "max_height": null,
            "align_content": null,
            "visibility": null,
            "align_self": null,
            "height": null,
            "min_height": null,
            "padding": null,
            "grid_auto_rows": null,
            "grid_gap": null,
            "max_width": null,
            "order": null,
            "_view_module_version": "1.2.0",
            "grid_template_areas": null,
            "object_position": null,
            "object_fit": null,
            "grid_auto_columns": null,
            "margin": null,
            "display": null,
            "left": null
          }
        },
        "3cad60e3375f4c62a64196e1cc86fbda": {
          "model_module": "@jupyter-widgets/controls",
          "model_name": "DescriptionStyleModel",
          "state": {
            "_view_name": "StyleView",
            "_model_name": "DescriptionStyleModel",
            "description_width": "",
            "_view_module": "@jupyter-widgets/base",
            "_model_module_version": "1.5.0",
            "_view_count": null,
            "_view_module_version": "1.2.0",
            "_model_module": "@jupyter-widgets/controls"
          }
        },
        "44c09cbbcc0f40c09656d1ad69b27124": {
          "model_module": "@jupyter-widgets/base",
          "model_name": "LayoutModel",
          "state": {
            "_view_name": "LayoutView",
            "grid_template_rows": null,
            "right": null,
            "justify_content": null,
            "_view_module": "@jupyter-widgets/base",
            "overflow": null,
            "_model_module_version": "1.2.0",
            "_view_count": null,
            "flex_flow": null,
            "width": null,
            "min_width": null,
            "border": null,
            "align_items": null,
            "bottom": null,
            "_model_module": "@jupyter-widgets/base",
            "top": null,
            "grid_column": null,
            "overflow_y": null,
            "overflow_x": null,
            "grid_auto_flow": null,
            "grid_area": null,
            "grid_template_columns": null,
            "flex": null,
            "_model_name": "LayoutModel",
            "justify_items": null,
            "grid_row": null,
            "max_height": null,
            "align_content": null,
            "visibility": null,
            "align_self": null,
            "height": null,
            "min_height": null,
            "padding": null,
            "grid_auto_rows": null,
            "grid_gap": null,
            "max_width": null,
            "order": null,
            "_view_module_version": "1.2.0",
            "grid_template_areas": null,
            "object_position": null,
            "object_fit": null,
            "grid_auto_columns": null,
            "margin": null,
            "display": null,
            "left": null
          }
        },
        "9eb71f4621224f9482176236ef81c5a4": {
          "model_module": "@jupyter-widgets/controls",
          "model_name": "HBoxModel",
          "state": {
            "_view_name": "HBoxView",
            "_dom_classes": [],
            "_model_name": "HBoxModel",
            "_view_module": "@jupyter-widgets/controls",
            "_model_module_version": "1.5.0",
            "_view_count": null,
            "_view_module_version": "1.5.0",
            "box_style": "",
            "layout": "IPY_MODEL_1ff3b3c6a99047629d82397c40bcb8ea",
            "_model_module": "@jupyter-widgets/controls",
            "children": [
              "IPY_MODEL_8b21f681f98245abaa0c8419960a7e46",
              "IPY_MODEL_83388361a5054bcfaa65f573db4e7e1a"
            ]
          }
        },
        "1ff3b3c6a99047629d82397c40bcb8ea": {
          "model_module": "@jupyter-widgets/base",
          "model_name": "LayoutModel",
          "state": {
            "_view_name": "LayoutView",
            "grid_template_rows": null,
            "right": null,
            "justify_content": null,
            "_view_module": "@jupyter-widgets/base",
            "overflow": null,
            "_model_module_version": "1.2.0",
            "_view_count": null,
            "flex_flow": null,
            "width": null,
            "min_width": null,
            "border": null,
            "align_items": null,
            "bottom": null,
            "_model_module": "@jupyter-widgets/base",
            "top": null,
            "grid_column": null,
            "overflow_y": null,
            "overflow_x": null,
            "grid_auto_flow": null,
            "grid_area": null,
            "grid_template_columns": null,
            "flex": null,
            "_model_name": "LayoutModel",
            "justify_items": null,
            "grid_row": null,
            "max_height": null,
            "align_content": null,
            "visibility": null,
            "align_self": null,
            "height": null,
            "min_height": null,
            "padding": null,
            "grid_auto_rows": null,
            "grid_gap": null,
            "max_width": null,
            "order": null,
            "_view_module_version": "1.2.0",
            "grid_template_areas": null,
            "object_position": null,
            "object_fit": null,
            "grid_auto_columns": null,
            "margin": null,
            "display": null,
            "left": null
          }
        },
        "8b21f681f98245abaa0c8419960a7e46": {
          "model_module": "@jupyter-widgets/controls",
          "model_name": "FloatProgressModel",
          "state": {
            "_view_name": "ProgressView",
            "style": "IPY_MODEL_df03aa74bc6942c1af5e808e3a6f1e5e",
            "_dom_classes": [],
            "description": "100%",
            "_model_name": "FloatProgressModel",
            "bar_style": "success",
            "max": 553433881,
            "_view_module": "@jupyter-widgets/controls",
            "_model_module_version": "1.5.0",
            "value": 553433881,
            "_view_count": null,
            "_view_module_version": "1.5.0",
            "orientation": "horizontal",
            "min": 0,
            "description_tooltip": null,
            "_model_module": "@jupyter-widgets/controls",
            "layout": "IPY_MODEL_430826fa5e5b4cb9baf512c4258f3804"
          }
        },
        "83388361a5054bcfaa65f573db4e7e1a": {
          "model_module": "@jupyter-widgets/controls",
          "model_name": "HTMLModel",
          "state": {
            "_view_name": "HTMLView",
            "style": "IPY_MODEL_8878334db6804b39af40bd17bc0bf4ff",
            "_dom_classes": [],
            "description": "",
            "_model_name": "HTMLModel",
            "placeholder": "​",
            "_view_module": "@jupyter-widgets/controls",
            "_model_module_version": "1.5.0",
            "value": " 528M/528M [00:02&lt;00:00, 203MB/s]",
            "_view_count": null,
            "_view_module_version": "1.5.0",
            "description_tooltip": null,
            "_model_module": "@jupyter-widgets/controls",
            "layout": "IPY_MODEL_0d5731f9da074a6f8137a6c9f74757c1"
          }
        },
        "df03aa74bc6942c1af5e808e3a6f1e5e": {
          "model_module": "@jupyter-widgets/controls",
          "model_name": "ProgressStyleModel",
          "state": {
            "_view_name": "StyleView",
            "_model_name": "ProgressStyleModel",
            "description_width": "initial",
            "_view_module": "@jupyter-widgets/base",
            "_model_module_version": "1.5.0",
            "_view_count": null,
            "_view_module_version": "1.2.0",
            "bar_color": null,
            "_model_module": "@jupyter-widgets/controls"
          }
        },
        "430826fa5e5b4cb9baf512c4258f3804": {
          "model_module": "@jupyter-widgets/base",
          "model_name": "LayoutModel",
          "state": {
            "_view_name": "LayoutView",
            "grid_template_rows": null,
            "right": null,
            "justify_content": null,
            "_view_module": "@jupyter-widgets/base",
            "overflow": null,
            "_model_module_version": "1.2.0",
            "_view_count": null,
            "flex_flow": null,
            "width": null,
            "min_width": null,
            "border": null,
            "align_items": null,
            "bottom": null,
            "_model_module": "@jupyter-widgets/base",
            "top": null,
            "grid_column": null,
            "overflow_y": null,
            "overflow_x": null,
            "grid_auto_flow": null,
            "grid_area": null,
            "grid_template_columns": null,
            "flex": null,
            "_model_name": "LayoutModel",
            "justify_items": null,
            "grid_row": null,
            "max_height": null,
            "align_content": null,
            "visibility": null,
            "align_self": null,
            "height": null,
            "min_height": null,
            "padding": null,
            "grid_auto_rows": null,
            "grid_gap": null,
            "max_width": null,
            "order": null,
            "_view_module_version": "1.2.0",
            "grid_template_areas": null,
            "object_position": null,
            "object_fit": null,
            "grid_auto_columns": null,
            "margin": null,
            "display": null,
            "left": null
          }
        },
        "8878334db6804b39af40bd17bc0bf4ff": {
          "model_module": "@jupyter-widgets/controls",
          "model_name": "DescriptionStyleModel",
          "state": {
            "_view_name": "StyleView",
            "_model_name": "DescriptionStyleModel",
            "description_width": "",
            "_view_module": "@jupyter-widgets/base",
            "_model_module_version": "1.5.0",
            "_view_count": null,
            "_view_module_version": "1.2.0",
            "_model_module": "@jupyter-widgets/controls"
          }
        },
        "0d5731f9da074a6f8137a6c9f74757c1": {
          "model_module": "@jupyter-widgets/base",
          "model_name": "LayoutModel",
          "state": {
            "_view_name": "LayoutView",
            "grid_template_rows": null,
            "right": null,
            "justify_content": null,
            "_view_module": "@jupyter-widgets/base",
            "overflow": null,
            "_model_module_version": "1.2.0",
            "_view_count": null,
            "flex_flow": null,
            "width": null,
            "min_width": null,
            "border": null,
            "align_items": null,
            "bottom": null,
            "_model_module": "@jupyter-widgets/base",
            "top": null,
            "grid_column": null,
            "overflow_y": null,
            "overflow_x": null,
            "grid_auto_flow": null,
            "grid_area": null,
            "grid_template_columns": null,
            "flex": null,
            "_model_name": "LayoutModel",
            "justify_items": null,
            "grid_row": null,
            "max_height": null,
            "align_content": null,
            "visibility": null,
            "align_self": null,
            "height": null,
            "min_height": null,
            "padding": null,
            "grid_auto_rows": null,
            "grid_gap": null,
            "max_width": null,
            "order": null,
            "_view_module_version": "1.2.0",
            "grid_template_areas": null,
            "object_position": null,
            "object_fit": null,
            "grid_auto_columns": null,
            "margin": null,
            "display": null,
            "left": null
          }
        },
        "7ed6fcb2fb034075a35163bb286f2f7e": {
          "model_module": "@jupyter-widgets/controls",
          "model_name": "HBoxModel",
          "state": {
            "_view_name": "HBoxView",
            "_dom_classes": [],
            "_model_name": "HBoxModel",
            "_view_module": "@jupyter-widgets/controls",
            "_model_module_version": "1.5.0",
            "_view_count": null,
            "_view_module_version": "1.5.0",
            "box_style": "",
            "layout": "IPY_MODEL_359bcb31839647ccabe65602977ef119",
            "_model_module": "@jupyter-widgets/controls",
            "children": [
              "IPY_MODEL_790a09942c8e49cb8961ff5b53cce963",
              "IPY_MODEL_851efcc623834a22b67c4e2c0f604ece"
            ]
          }
        },
        "359bcb31839647ccabe65602977ef119": {
          "model_module": "@jupyter-widgets/base",
          "model_name": "LayoutModel",
          "state": {
            "_view_name": "LayoutView",
            "grid_template_rows": null,
            "right": null,
            "justify_content": null,
            "_view_module": "@jupyter-widgets/base",
            "overflow": null,
            "_model_module_version": "1.2.0",
            "_view_count": null,
            "flex_flow": null,
            "width": null,
            "min_width": null,
            "border": null,
            "align_items": null,
            "bottom": null,
            "_model_module": "@jupyter-widgets/base",
            "top": null,
            "grid_column": null,
            "overflow_y": null,
            "overflow_x": null,
            "grid_auto_flow": null,
            "grid_area": null,
            "grid_template_columns": null,
            "flex": null,
            "_model_name": "LayoutModel",
            "justify_items": null,
            "grid_row": null,
            "max_height": null,
            "align_content": null,
            "visibility": null,
            "align_self": null,
            "height": null,
            "min_height": null,
            "padding": null,
            "grid_auto_rows": null,
            "grid_gap": null,
            "max_width": null,
            "order": null,
            "_view_module_version": "1.2.0",
            "grid_template_areas": null,
            "object_position": null,
            "object_fit": null,
            "grid_auto_columns": null,
            "margin": null,
            "display": null,
            "left": null
          }
        },
        "790a09942c8e49cb8961ff5b53cce963": {
          "model_module": "@jupyter-widgets/controls",
          "model_name": "FloatProgressModel",
          "state": {
            "_view_name": "ProgressView",
            "style": "IPY_MODEL_eaa0e2a45c814fa7828115118f596fa1",
            "_dom_classes": [],
            "description": "",
            "_model_name": "FloatProgressModel",
            "bar_style": "success",
            "max": 170498071,
            "_view_module": "@jupyter-widgets/controls",
            "_model_module_version": "1.5.0",
            "value": 170498071,
            "_view_count": null,
            "_view_module_version": "1.5.0",
            "orientation": "horizontal",
            "min": 0,
            "description_tooltip": null,
            "_model_module": "@jupyter-widgets/controls",
            "layout": "IPY_MODEL_16253c3ee1d14b14ad9223c0a0ba839a"
          }
        },
        "851efcc623834a22b67c4e2c0f604ece": {
          "model_module": "@jupyter-widgets/controls",
          "model_name": "HTMLModel",
          "state": {
            "_view_name": "HTMLView",
            "style": "IPY_MODEL_47f7aa0aa856429ebb79007cb4e25414",
            "_dom_classes": [],
            "description": "",
            "_model_name": "HTMLModel",
            "placeholder": "​",
            "_view_module": "@jupyter-widgets/controls",
            "_model_module_version": "1.5.0",
            "value": " 170499072/? [37:43&lt;00:00, 75336.65it/s]",
            "_view_count": null,
            "_view_module_version": "1.5.0",
            "description_tooltip": null,
            "_model_module": "@jupyter-widgets/controls",
            "layout": "IPY_MODEL_47c7c351b5a848b488f30cf729aeffc4"
          }
        },
        "eaa0e2a45c814fa7828115118f596fa1": {
          "model_module": "@jupyter-widgets/controls",
          "model_name": "ProgressStyleModel",
          "state": {
            "_view_name": "StyleView",
            "_model_name": "ProgressStyleModel",
            "description_width": "initial",
            "_view_module": "@jupyter-widgets/base",
            "_model_module_version": "1.5.0",
            "_view_count": null,
            "_view_module_version": "1.2.0",
            "bar_color": null,
            "_model_module": "@jupyter-widgets/controls"
          }
        },
        "16253c3ee1d14b14ad9223c0a0ba839a": {
          "model_module": "@jupyter-widgets/base",
          "model_name": "LayoutModel",
          "state": {
            "_view_name": "LayoutView",
            "grid_template_rows": null,
            "right": null,
            "justify_content": null,
            "_view_module": "@jupyter-widgets/base",
            "overflow": null,
            "_model_module_version": "1.2.0",
            "_view_count": null,
            "flex_flow": null,
            "width": null,
            "min_width": null,
            "border": null,
            "align_items": null,
            "bottom": null,
            "_model_module": "@jupyter-widgets/base",
            "top": null,
            "grid_column": null,
            "overflow_y": null,
            "overflow_x": null,
            "grid_auto_flow": null,
            "grid_area": null,
            "grid_template_columns": null,
            "flex": null,
            "_model_name": "LayoutModel",
            "justify_items": null,
            "grid_row": null,
            "max_height": null,
            "align_content": null,
            "visibility": null,
            "align_self": null,
            "height": null,
            "min_height": null,
            "padding": null,
            "grid_auto_rows": null,
            "grid_gap": null,
            "max_width": null,
            "order": null,
            "_view_module_version": "1.2.0",
            "grid_template_areas": null,
            "object_position": null,
            "object_fit": null,
            "grid_auto_columns": null,
            "margin": null,
            "display": null,
            "left": null
          }
        },
        "47f7aa0aa856429ebb79007cb4e25414": {
          "model_module": "@jupyter-widgets/controls",
          "model_name": "DescriptionStyleModel",
          "state": {
            "_view_name": "StyleView",
            "_model_name": "DescriptionStyleModel",
            "description_width": "",
            "_view_module": "@jupyter-widgets/base",
            "_model_module_version": "1.5.0",
            "_view_count": null,
            "_view_module_version": "1.2.0",
            "_model_module": "@jupyter-widgets/controls"
          }
        },
        "47c7c351b5a848b488f30cf729aeffc4": {
          "model_module": "@jupyter-widgets/base",
          "model_name": "LayoutModel",
          "state": {
            "_view_name": "LayoutView",
            "grid_template_rows": null,
            "right": null,
            "justify_content": null,
            "_view_module": "@jupyter-widgets/base",
            "overflow": null,
            "_model_module_version": "1.2.0",
            "_view_count": null,
            "flex_flow": null,
            "width": null,
            "min_width": null,
            "border": null,
            "align_items": null,
            "bottom": null,
            "_model_module": "@jupyter-widgets/base",
            "top": null,
            "grid_column": null,
            "overflow_y": null,
            "overflow_x": null,
            "grid_auto_flow": null,
            "grid_area": null,
            "grid_template_columns": null,
            "flex": null,
            "_model_name": "LayoutModel",
            "justify_items": null,
            "grid_row": null,
            "max_height": null,
            "align_content": null,
            "visibility": null,
            "align_self": null,
            "height": null,
            "min_height": null,
            "padding": null,
            "grid_auto_rows": null,
            "grid_gap": null,
            "max_width": null,
            "order": null,
            "_view_module_version": "1.2.0",
            "grid_template_areas": null,
            "object_position": null,
            "object_fit": null,
            "grid_auto_columns": null,
            "margin": null,
            "display": null,
            "left": null
          }
        },
        "1b1a9d3276bd487383a7998e50e51b74": {
          "model_module": "@jupyter-widgets/controls",
          "model_name": "HBoxModel",
          "state": {
            "_view_name": "HBoxView",
            "_dom_classes": [],
            "_model_name": "HBoxModel",
            "_view_module": "@jupyter-widgets/controls",
            "_model_module_version": "1.5.0",
            "_view_count": null,
            "_view_module_version": "1.5.0",
            "box_style": "",
            "layout": "IPY_MODEL_2562868c6e31425582d34cb3c3959e5e",
            "_model_module": "@jupyter-widgets/controls",
            "children": [
              "IPY_MODEL_0c45c1350ebb4a049044ffe7c2d0e8fc",
              "IPY_MODEL_806cb9c5a6a246a0be33892c10272b18"
            ]
          }
        },
        "2562868c6e31425582d34cb3c3959e5e": {
          "model_module": "@jupyter-widgets/base",
          "model_name": "LayoutModel",
          "state": {
            "_view_name": "LayoutView",
            "grid_template_rows": null,
            "right": null,
            "justify_content": null,
            "_view_module": "@jupyter-widgets/base",
            "overflow": null,
            "_model_module_version": "1.2.0",
            "_view_count": null,
            "flex_flow": null,
            "width": null,
            "min_width": null,
            "border": null,
            "align_items": null,
            "bottom": null,
            "_model_module": "@jupyter-widgets/base",
            "top": null,
            "grid_column": null,
            "overflow_y": null,
            "overflow_x": null,
            "grid_auto_flow": null,
            "grid_area": null,
            "grid_template_columns": null,
            "flex": null,
            "_model_name": "LayoutModel",
            "justify_items": null,
            "grid_row": null,
            "max_height": null,
            "align_content": null,
            "visibility": null,
            "align_self": null,
            "height": null,
            "min_height": null,
            "padding": null,
            "grid_auto_rows": null,
            "grid_gap": null,
            "max_width": null,
            "order": null,
            "_view_module_version": "1.2.0",
            "grid_template_areas": null,
            "object_position": null,
            "object_fit": null,
            "grid_auto_columns": null,
            "margin": null,
            "display": null,
            "left": null
          }
        },
        "0c45c1350ebb4a049044ffe7c2d0e8fc": {
          "model_module": "@jupyter-widgets/controls",
          "model_name": "FloatProgressModel",
          "state": {
            "_view_name": "ProgressView",
            "style": "IPY_MODEL_affe749f067f4ade8124e1ee79114d3e",
            "_dom_classes": [],
            "description": "100%",
            "_model_name": "FloatProgressModel",
            "bar_style": "success",
            "max": 553507836,
            "_view_module": "@jupyter-widgets/controls",
            "_model_module_version": "1.5.0",
            "value": 553507836,
            "_view_count": null,
            "_view_module_version": "1.5.0",
            "orientation": "horizontal",
            "min": 0,
            "description_tooltip": null,
            "_model_module": "@jupyter-widgets/controls",
            "layout": "IPY_MODEL_2562605c8be748b59229aacb754f2ef4"
          }
        },
        "806cb9c5a6a246a0be33892c10272b18": {
          "model_module": "@jupyter-widgets/controls",
          "model_name": "HTMLModel",
          "state": {
            "_view_name": "HTMLView",
            "style": "IPY_MODEL_17b062dcc23044f7a0800c3bc9125c03",
            "_dom_classes": [],
            "description": "",
            "_model_name": "HTMLModel",
            "placeholder": "​",
            "_view_module": "@jupyter-widgets/controls",
            "_model_module_version": "1.5.0",
            "value": " 528M/528M [37:28&lt;00:00, 246kB/s]",
            "_view_count": null,
            "_view_module_version": "1.5.0",
            "description_tooltip": null,
            "_model_module": "@jupyter-widgets/controls",
            "layout": "IPY_MODEL_b85ef899be104004894eecfc31647260"
          }
        },
        "affe749f067f4ade8124e1ee79114d3e": {
          "model_module": "@jupyter-widgets/controls",
          "model_name": "ProgressStyleModel",
          "state": {
            "_view_name": "StyleView",
            "_model_name": "ProgressStyleModel",
            "description_width": "initial",
            "_view_module": "@jupyter-widgets/base",
            "_model_module_version": "1.5.0",
            "_view_count": null,
            "_view_module_version": "1.2.0",
            "bar_color": null,
            "_model_module": "@jupyter-widgets/controls"
          }
        },
        "2562605c8be748b59229aacb754f2ef4": {
          "model_module": "@jupyter-widgets/base",
          "model_name": "LayoutModel",
          "state": {
            "_view_name": "LayoutView",
            "grid_template_rows": null,
            "right": null,
            "justify_content": null,
            "_view_module": "@jupyter-widgets/base",
            "overflow": null,
            "_model_module_version": "1.2.0",
            "_view_count": null,
            "flex_flow": null,
            "width": null,
            "min_width": null,
            "border": null,
            "align_items": null,
            "bottom": null,
            "_model_module": "@jupyter-widgets/base",
            "top": null,
            "grid_column": null,
            "overflow_y": null,
            "overflow_x": null,
            "grid_auto_flow": null,
            "grid_area": null,
            "grid_template_columns": null,
            "flex": null,
            "_model_name": "LayoutModel",
            "justify_items": null,
            "grid_row": null,
            "max_height": null,
            "align_content": null,
            "visibility": null,
            "align_self": null,
            "height": null,
            "min_height": null,
            "padding": null,
            "grid_auto_rows": null,
            "grid_gap": null,
            "max_width": null,
            "order": null,
            "_view_module_version": "1.2.0",
            "grid_template_areas": null,
            "object_position": null,
            "object_fit": null,
            "grid_auto_columns": null,
            "margin": null,
            "display": null,
            "left": null
          }
        },
        "17b062dcc23044f7a0800c3bc9125c03": {
          "model_module": "@jupyter-widgets/controls",
          "model_name": "DescriptionStyleModel",
          "state": {
            "_view_name": "StyleView",
            "_model_name": "DescriptionStyleModel",
            "description_width": "",
            "_view_module": "@jupyter-widgets/base",
            "_model_module_version": "1.5.0",
            "_view_count": null,
            "_view_module_version": "1.2.0",
            "_model_module": "@jupyter-widgets/controls"
          }
        },
        "b85ef899be104004894eecfc31647260": {
          "model_module": "@jupyter-widgets/base",
          "model_name": "LayoutModel",
          "state": {
            "_view_name": "LayoutView",
            "grid_template_rows": null,
            "right": null,
            "justify_content": null,
            "_view_module": "@jupyter-widgets/base",
            "overflow": null,
            "_model_module_version": "1.2.0",
            "_view_count": null,
            "flex_flow": null,
            "width": null,
            "min_width": null,
            "border": null,
            "align_items": null,
            "bottom": null,
            "_model_module": "@jupyter-widgets/base",
            "top": null,
            "grid_column": null,
            "overflow_y": null,
            "overflow_x": null,
            "grid_auto_flow": null,
            "grid_area": null,
            "grid_template_columns": null,
            "flex": null,
            "_model_name": "LayoutModel",
            "justify_items": null,
            "grid_row": null,
            "max_height": null,
            "align_content": null,
            "visibility": null,
            "align_self": null,
            "height": null,
            "min_height": null,
            "padding": null,
            "grid_auto_rows": null,
            "grid_gap": null,
            "max_width": null,
            "order": null,
            "_view_module_version": "1.2.0",
            "grid_template_areas": null,
            "object_position": null,
            "object_fit": null,
            "grid_auto_columns": null,
            "margin": null,
            "display": null,
            "left": null
          }
        }
      }
    }
  },
  "cells": [
    {
      "cell_type": "markdown",
      "metadata": {
        "id": "Pk7piq6wQp8c"
      },
      "source": [
        "# Importing libraries"
      ]
    },
    {
      "cell_type": "code",
      "metadata": {
        "id": "pUziEcPlQe8t"
      },
      "source": [
        "import torch\n",
        "import torchvision\n",
        "import torchvision.transforms as transforms\n",
        "from torchvision import models\n",
        "import matplotlib.pyplot as plt\n",
        "import numpy as np\n",
        "import random\n",
        "import torch.nn as nn\n",
        "import torch.nn.functional as F\n",
        "import torch.optim as optim\n",
        "from torch.utils.data import random_split\n",
        "from torch.optim import SGD, Adam, lr_scheduler\n",
        "from copy import deepcopy\n",
        "from torch.nn.init import xavier_uniform_ as xavier"
      ],
      "execution_count": null,
      "outputs": []
    },
    {
      "cell_type": "code",
      "metadata": {
        "colab": {
          "base_uri": "https://localhost:8080/"
        },
        "id": "PJFw462MQu1r",
        "outputId": "697265a3-1890-42b7-bc4b-c6dff02bb978"
      },
      "source": [
        "device = torch.device(\"cuda:0\" if torch.cuda.is_available() else \"cpu\")\n",
        "print(device)"
      ],
      "execution_count": null,
      "outputs": [
        {
          "output_type": "stream",
          "text": [
            "cuda:0\n"
          ],
          "name": "stdout"
        }
      ]
    },
    {
      "cell_type": "markdown",
      "metadata": {
        "id": "W5y7jriuRT-w"
      },
      "source": [
        "# Utils"
      ]
    },
    {
      "cell_type": "code",
      "metadata": {
        "id": "HPXNveZUyhIQ"
      },
      "source": [
        "def get_test_accuracy(model, best_model, test_loader):\n",
        "    model.load_state_dict(best_model)\n",
        "    size_test = len(test_loader.dataset)\n",
        "\n",
        "    test_correct = 0\n",
        "    with torch.no_grad():\n",
        "        for inputs, labels in test_loader:\n",
        "            outputs = model(inputs.to(device)).cpu()\n",
        "            predicted = torch.argmax(outputs, dim=1)\n",
        "            test_correct += (predicted == labels).sum().item()\n",
        "\n",
        "    print(f\"Test accuracy: {test_correct*100/size_test}%\")\n",
        "    return test_correct*100/size_test\n",
        "            \n",
        "def plot_accuracy(model, epochs = 2):\n",
        "    plt.figure()\n",
        "    plt.plot([i for i in range(epochs)], model.train_accuracy)\n",
        "    plt.plot([i for i in range(epochs)], model.val_accuracy)\n",
        "    plt.xlabel('Epochs')\n",
        "    plt.ylabel('Accuracy')\n",
        "    plt.legend(['Train', 'Validation'])\n",
        "    plt.title('Accuracy for train and test sets')\n",
        "    plt.show()\n",
        "\n",
        "def plot_loss(model, epochs = 2):\n",
        "    plt.figure()\n",
        "    plt.plot([i for i in range(epochs)], model.train_loss)\n",
        "    plt.xlabel('Epochs')\n",
        "    plt.ylabel('Loss')\n",
        "    plt.title('Loss function value on training set during training')\n",
        "    plt.show()\n",
        "\n",
        "def xavier_weights_init(m):\n",
        "    if isinstance(m, nn.Conv2d):\n",
        "        xavier(m.weight.data)\n",
        "\n",
        "def seed_worker(worker_id):\n",
        "    worker_seed = torch.initial_seed() % 2**32\n",
        "    np.random.seed(worker_seed)\n",
        "    random.seed(worker_seed)"
      ],
      "execution_count": null,
      "outputs": []
    },
    {
      "cell_type": "code",
      "metadata": {
        "id": "J5OMJU78iaT3"
      },
      "source": [
        "def load_data(random_seed = 0):\n",
        "    random.seed(random_seed)\n",
        "    np.random.seed(random_seed)\n",
        "    torch.manual_seed(random_seed)\n",
        "\n",
        "    train_transform = transforms.Compose([                                      \n",
        "        transforms.Resize(224),\n",
        "        transforms.ToTensor(),\n",
        "        transforms.Normalize([0.485, 0.456, 0.406], [0.229, 0.224, 0.225])])\n",
        "\n",
        "    test_transform = transforms.Compose([\n",
        "        transforms.Resize(224),\n",
        "        transforms.ToTensor(),\n",
        "        transforms.Normalize([0.485, 0.456, 0.406], [0.229, 0.224, 0.225])])\n",
        "\n",
        "    train = torchvision.datasets.CIFAR10(root='./data', train=True,\n",
        "                                        download=True, transform=train_transform)\n",
        "\n",
        "    test = torchvision.datasets.CIFAR10(root='./data', train=False,\n",
        "                                       download=True, transform=test_transform)\n",
        "\n",
        "    train, val = random_split(train, [45000, 5000], generator = torch.manual_seed(random_seed))\n",
        "\n",
        "    train_loader = torch.utils.data.DataLoader(train, batch_size=64,\n",
        "                                          shuffle=False, num_workers=2,\n",
        "                                           worker_init_fn=seed_worker)\n",
        "\n",
        "    val_loader = torch.utils.data.DataLoader(val, batch_size=64,\n",
        "                                         shuffle=False, num_workers=2,\n",
        "                                         worker_init_fn=seed_worker)\n",
        "\n",
        "    test_loader = torch.utils.data.DataLoader(test, batch_size=64,\n",
        "                                         shuffle=False, num_workers=2,\n",
        "                                          worker_init_fn=seed_worker)\n",
        "    \n",
        "    return train_loader, val_loader, test_loader"
      ],
      "execution_count": null,
      "outputs": []
    },
    {
      "cell_type": "code",
      "metadata": {
        "id": "3WAaPiskguIk"
      },
      "source": [
        "def train_cnn(cnn, train_loader, val_loader, test_loader, criterion, optimizer, epochs = 2):\n",
        "    best_accuracy = -1\n",
        "    best_model = None\n",
        "    model.train_loss = list()\n",
        "    model.train_accuracy = list()\n",
        "    model.val_accuracy = list()\n",
        "\n",
        "    size_train = len(train_loader.dataset)\n",
        "    size_val = len(val_loader.dataset)\n",
        "    size_test = len(test_loader.dataset)\n",
        "\n",
        "    for epoch in range(epochs):  \n",
        "\n",
        "        model.train(True)\n",
        "        training_loss = 0\n",
        "        training_correct = 0\n",
        "\n",
        "        for i, data in enumerate(train_loader, 0):\n",
        "\n",
        "            inputs, labels = data\n",
        "            inputs, labels = inputs.cuda(), labels.cuda()\n",
        "            optimizer.zero_grad()\n",
        "\n",
        "            outputs = model(inputs)\n",
        "            loss = criterion(outputs, labels)\n",
        "            loss.backward()\n",
        "            optimizer.step()\n",
        "\n",
        "            training_loss += loss.item() * inputs.size(0)\n",
        "            predicted = torch.argmax(outputs.detach(),dim=1)\n",
        "            training_correct += (predicted == labels).sum().item()\n",
        "    \n",
        "        training_loss = training_loss/size_train\n",
        "        training_accuracy = training_correct*100/size_train\n",
        "    \n",
        "        model.train_loss.append(training_loss)\n",
        "        model.train_accuracy.append(training_accuracy)\n",
        "\n",
        "        print(f\"Epoch {epoch+1}\")\n",
        "        print(f\"Training loss: {training_loss}\")\n",
        "        print(f\"Training accuracy: {training_accuracy}%\")    \n",
        "\n",
        "        validation_correct = 0\n",
        "        model.train(False)\n",
        "        with torch.no_grad():\n",
        "            for inputs,labels in val_loader:\n",
        "                outputs = model(inputs.cuda()).cpu()\n",
        "                predicted = torch.argmax(outputs.detach(), dim=1)\n",
        "                validation_correct += (predicted == labels).sum().item()\n",
        "\n",
        "        val_accuracy = validation_correct*100/size_val\n",
        "        model.val_accuracy.append(val_accuracy)\n",
        "\n",
        "        print(f\"Validation accuracy: {val_accuracy}%\")\n",
        "\n",
        "        if validation_correct > best_accuracy:\n",
        "            best_accuracy = validation_correct\n",
        "            best_model = deepcopy(model.state_dict())\n",
        "\n",
        "        # test_correct = 0\n",
        "        # with torch.no_grad():\n",
        "        #     for inputs, labels in test_loader:\n",
        "        #         outputs = model(inputs.cuda()).cpu()\n",
        "        #         predicted = torch.argmax(outputs, dim=1)\n",
        "        #         test_correct += (predicted == labels).sum().item()\n",
        "\n",
        "        # print(f\"Test accuracy: {test_correct*100/size_test}%\")\n",
        "\n",
        "        scheduler.step()\n",
        "        print('-'*30)\n",
        "\n",
        "    print('Finished Training')\n",
        "    return best_model"
      ],
      "execution_count": null,
      "outputs": []
    },
    {
      "cell_type": "markdown",
      "metadata": {
        "id": "_rb0_Ii7RqIA"
      },
      "source": [
        "# VGG pretrained on ImageNet, only last layer changed, Adam optimizer"
      ]
    },
    {
      "cell_type": "code",
      "metadata": {
        "id": "9814lFG4SY_a"
      },
      "source": [
        "class VGG16CNN(nn.Module):\n",
        "    def __init__(self):\n",
        "        super(VGG16CNN, self).__init__()\n",
        "        pretrained_model = models.vgg16_bn(pretrained=True)\n",
        "        # print(pretrained_model.classifier)\n",
        "        # change last layer to classify into 10 instead of 1000\n",
        "        pretrained_model.classifier[6] = nn.Sequential(\n",
        "                      nn.Linear(4096, 10))\n",
        "\n",
        "        # freeze weights of all the models\n",
        "        for param in pretrained_model.parameters():\n",
        "            param.requires_grad = False\n",
        "        # unfreeze the last layer so it can be trained\n",
        "        for param in pretrained_model.classifier[6].parameters():\n",
        "            param.requires_grad = True\n",
        "\n",
        "        self.pretrained_model = pretrained_model\n",
        "    \n",
        "    def forward(self,x):\n",
        "        x = self.pretrained_model(x)\n",
        "        return x"
      ],
      "execution_count": null,
      "outputs": []
    },
    {
      "cell_type": "code",
      "metadata": {
        "colab": {
          "base_uri": "https://localhost:8080/"
        },
        "id": "7zByy2HKgU_g",
        "outputId": "71c27768-9d55-4e3c-8714-d4733c7d540f"
      },
      "source": [
        "train_loader, val_loader, test_loader = load_data(0)\n",
        "model = VGG16CNN().cuda()\n",
        "criterion = nn.CrossEntropyLoss()\n",
        "optimizer = Adam(model.parameters(), lr=0.001)\n",
        "scheduler = lr_scheduler.StepLR(optimizer, step_size=1, gamma=0.1)\n",
        "best_model = train_cnn(model, train_loader, val_loader, test_loader, criterion, optimizer, epochs = 5)"
      ],
      "execution_count": null,
      "outputs": [
        {
          "output_type": "stream",
          "text": [
            "Files already downloaded and verified\n",
            "Files already downloaded and verified\n",
            "Epoch 1\n",
            "Training loss: 0.8305161094029745\n",
            "Training accuracy: 70.9888888888889%\n",
            "Validation accuracy: 77.32%\n",
            "Test accuracy: 77.87%\n",
            "------------------------------\n",
            "Epoch 2\n",
            "Training loss: 0.7109052604251438\n",
            "Training accuracy: 75.00444444444445%\n",
            "Validation accuracy: 78.78%\n",
            "Test accuracy: 78.66%\n",
            "------------------------------\n",
            "Epoch 3\n",
            "Training loss: 0.6909681445121765\n",
            "Training accuracy: 75.74%\n",
            "Validation accuracy: 79.08%\n",
            "Test accuracy: 78.84%\n",
            "------------------------------\n",
            "Epoch 4\n",
            "Training loss: 0.692745089424981\n",
            "Training accuracy: 75.66%\n",
            "Validation accuracy: 79.02%\n",
            "Test accuracy: 78.9%\n",
            "------------------------------\n",
            "Epoch 5\n",
            "Training loss: 0.6905946236292522\n",
            "Training accuracy: 75.9888888888889%\n",
            "Validation accuracy: 79.02%\n",
            "Test accuracy: 78.91%\n",
            "------------------------------\n",
            "Finished Training\n"
          ],
          "name": "stdout"
        }
      ]
    },
    {
      "cell_type": "code",
      "metadata": {
        "colab": {
          "base_uri": "https://localhost:8080/"
        },
        "id": "cx-frMDV0MAc",
        "outputId": "59d656b1-482b-4405-b94a-95626dd55f30"
      },
      "source": [
        "get_test_accuracy(model, best_model, test_loader)"
      ],
      "execution_count": null,
      "outputs": [
        {
          "output_type": "stream",
          "text": [
            "Test accuracy: 78.84%\n"
          ],
          "name": "stdout"
        },
        {
          "output_type": "execute_result",
          "data": {
            "text/plain": [
              "78.84"
            ]
          },
          "metadata": {
            "tags": []
          },
          "execution_count": 13
        }
      ]
    },
    {
      "cell_type": "code",
      "metadata": {
        "colab": {
          "base_uri": "https://localhost:8080/",
          "height": 295
        },
        "id": "0LDSCGtmq-Zn",
        "outputId": "99d8b9ac-a8b2-4408-e09f-2556401d3cbb"
      },
      "source": [
        "plot_accuracy(model, epochs = 5)"
      ],
      "execution_count": null,
      "outputs": [
        {
          "output_type": "display_data",
          "data": {
            "image/png": "[encoded data removed]",
            "text/plain": [
              "<Figure size 432x288 with 1 Axes>"
            ]
          },
          "metadata": {
            "tags": []
          }
        }
      ]
    },
    {
      "cell_type": "code",
      "metadata": {
        "colab": {
          "base_uri": "https://localhost:8080/",
          "height": 1000,
          "referenced_widgets": [
            "716f24898c4246daba9c790d719cedda",
            "8e5fbb60efcb487bb90bdbc6e38a4c62",
            "3575106ccb5845d3a60a25ea4bf7fc22",
            "99f872a15dd7496ba010c9531dca8196",
            "a2934831522242b08455d1e1207b19e6",
            "a9902918ddfe4d4db9a74564d2328b38",
            "abe68c7f92e748c4bf4e74cceac307f8",
            "680e9292fb9e4ff9bd131dc8af5776c7",
            "cf3ed6c2b2694e6eb6272a9f8c4c16ee",
            "1bf2e25e6a434fbcbd1cee300621e096",
            "da2ed78b0e97450183f777e01c2030d2",
            "2df2f5feaac9403d873008dab538e86e",
            "ccb5e06b0c8342648fda9ac7d1f20e39",
            "bf319d82f41545ac83a56052be8e5907",
            "45d8714a5ca24e29aaacdba20ade79f0",
            "8e8951a1a3954a4ba64b355b7744a725"
          ]
        },
        "id": "ZFkSWvUWzclp",
        "outputId": "ea03278e-f913-4b32-fd49-4a24469b70c0"
      },
      "source": [
        "test_acc = [78.84]\n",
        "for i in range(1, 3):\n",
        "    train_loader, val_loader, test_loader = load_data(i)\n",
        "    model = VGG16CNN().cuda()\n",
        "    criterion = nn.CrossEntropyLoss()\n",
        "    optimizer = Adam(model.parameters(), lr=0.001)\n",
        "    scheduler = lr_scheduler.StepLR(optimizer, step_size=1, gamma=0.1)\n",
        "    best_model = train_cnn(model, train_loader, val_loader, test_loader, criterion, optimizer, epochs = 5)\n",
        "    test_acc.append(get_test_accuracy(model, best_model, test_loader))\n",
        "print(test_acc)"
      ],
      "execution_count": null,
      "outputs": [
        {
          "output_type": "stream",
          "text": [
            "Downloading https://www.cs.toronto.edu/~kriz/cifar-10-python.tar.gz to ./data/cifar-10-python.tar.gz\n"
          ],
          "name": "stdout"
        },
        {
          "output_type": "display_data",
          "data": {
            "application/vnd.jupyter.widget-view+json": {
              "model_id": "716f24898c4246daba9c790d719cedda",
              "version_major": 2,
              "version_minor": 0
            },
            "text/plain": [
              "HBox(children=(FloatProgress(value=0.0, max=170498071.0), HTML(value='')))"
            ]
          },
          "metadata": {
            "tags": []
          }
        },
        {
          "output_type": "stream",
          "text": [
            "\n",
            "Extracting ./data/cifar-10-python.tar.gz to ./data\n",
            "Files already downloaded and verified\n"
          ],
          "name": "stdout"
        },
        {
          "output_type": "stream",
          "text": [
            "Downloading: \"https://download.pytorch.org/models/vgg16_bn-6c64b313.pth\" to /root/.cache/torch/hub/checkpoints/vgg16_bn-6c64b313.pth\n"
          ],
          "name": "stderr"
        },
        {
          "output_type": "display_data",
          "data": {
            "application/vnd.jupyter.widget-view+json": {
              "model_id": "cf3ed6c2b2694e6eb6272a9f8c4c16ee",
              "version_major": 2,
              "version_minor": 0
            },
            "text/plain": [
              "HBox(children=(FloatProgress(value=0.0, max=553507836.0), HTML(value='')))"
            ]
          },
          "metadata": {
            "tags": []
          }
        },
        {
          "output_type": "stream",
          "text": [
            "\n",
            "Epoch 1\n",
            "Training loss: 0.8355748741785686\n",
            "Training accuracy: 70.89333333333333%\n",
            "Validation accuracy: 77.86%\n",
            "Test accuracy: 77.16%\n",
            "------------------------------\n",
            "Epoch 2\n",
            "Training loss: 0.7128859334309896\n",
            "Training accuracy: 75.03111111111112%\n",
            "Validation accuracy: 79.4%\n",
            "Test accuracy: 78.44%\n",
            "------------------------------\n",
            "Epoch 3\n",
            "Training loss: 0.6976245868894789\n",
            "Training accuracy: 75.48%\n",
            "Validation accuracy: 79.64%\n",
            "Test accuracy: 78.51%\n",
            "------------------------------\n",
            "Epoch 4\n",
            "Training loss: 0.693813654200236\n",
            "Training accuracy: 75.58222222222223%\n",
            "Validation accuracy: 79.58%\n",
            "Test accuracy: 78.56%\n",
            "------------------------------\n",
            "Epoch 5\n",
            "Training loss: 0.6975862715615166\n",
            "Training accuracy: 75.59333333333333%\n",
            "Validation accuracy: 79.58%\n",
            "Test accuracy: 78.58%\n",
            "------------------------------\n",
            "Finished Training\n",
            "Test accuracy: 78.51%\n",
            "Files already downloaded and verified\n",
            "Files already downloaded and verified\n",
            "Epoch 1\n",
            "Training loss: 0.8332910938051011\n",
            "Training accuracy: 70.9088888888889%\n",
            "Validation accuracy: 76.84%\n",
            "Test accuracy: 76.31%\n",
            "------------------------------\n",
            "Epoch 2\n",
            "Training loss: 0.7057722587373522\n",
            "Training accuracy: 75.19111111111111%\n",
            "Validation accuracy: 78.52%\n",
            "Test accuracy: 78.57%\n",
            "------------------------------\n",
            "Epoch 3\n",
            "Training loss: 0.6991308936225044\n",
            "Training accuracy: 75.56666666666666%\n",
            "Validation accuracy: 78.46%\n",
            "Test accuracy: 78.66%\n",
            "------------------------------\n",
            "Epoch 4\n",
            "Training loss: 0.6945158623443709\n",
            "Training accuracy: 75.63777777777777%\n",
            "Validation accuracy: 78.44%\n",
            "Test accuracy: 78.66%\n",
            "------------------------------\n",
            "Epoch 5\n",
            "Training loss: 0.6931385344187418\n",
            "Training accuracy: 75.43777777777778%\n",
            "Validation accuracy: 78.44%\n",
            "Test accuracy: 78.64%\n",
            "------------------------------\n",
            "Finished Training\n",
            "Test accuracy: 78.57%\n",
            "[78.84, 78.51, 78.57]\n"
          ],
          "name": "stdout"
        }
      ]
    },
    {
      "cell_type": "code",
      "metadata": {
        "colab": {
          "base_uri": "https://localhost:8080/"
        },
        "id": "Xw8nAi4EfqmZ",
        "outputId": "ab594b29-fa3c-44cf-9488-ace9f977848f"
      },
      "source": [
        "print(np.mean(test_acc))"
      ],
      "execution_count": null,
      "outputs": [
        {
          "output_type": "stream",
          "text": [
            "78.64\n",
            "78.64\n"
          ],
          "name": "stdout"
        }
      ]
    },
    {
      "cell_type": "markdown",
      "metadata": {
        "id": "Eu4GbVMQE3oP"
      },
      "source": [
        "# VGG pretrained on ImageNet, all classification layers changed, Adam optimizer"
      ]
    },
    {
      "cell_type": "code",
      "metadata": {
        "id": "ByPdFhUXysCh"
      },
      "source": [
        "class VGG16CNN(nn.Module):\n",
        "    def __init__(self):\n",
        "        super(VGG16CNN, self).__init__()\n",
        "        pretrained_model = models.vgg16_bn(pretrained=True)\n",
        "        # print(pretrained_model.classifier)\n",
        "        # print(pretrained_model.features)\n",
        "\n",
        "        # change last layer to classify into 10 instead of 1000\n",
        "        pretrained_model.classifier[6] = nn.Linear(4096, 10)\n",
        "\n",
        "        # freeze weights of features, train classification layers\n",
        "        for param in pretrained_model.features.parameters():\n",
        "            param.requires_grad = False\n",
        "\n",
        "        self.pretrained_model = pretrained_model\n",
        "    \n",
        "    def forward(self,x):\n",
        "        x = self.pretrained_model(x)\n",
        "        return x"
      ],
      "execution_count": null,
      "outputs": []
    },
    {
      "cell_type": "code",
      "metadata": {
        "colab": {
          "base_uri": "https://localhost:8080/"
        },
        "id": "0vS9zjkXFRak",
        "outputId": "98164efb-0c2c-4821-eee8-2259bfd592f1"
      },
      "source": [
        "test_acc = []\n",
        "for i in range(3):\n",
        "    train_loader, val_loader, test_loader = load_data(i)\n",
        "    model = VGG16CNN().cuda()\n",
        "    criterion = nn.CrossEntropyLoss()\n",
        "    optimizer = Adam(model.parameters(), lr=0.001)\n",
        "    scheduler = lr_scheduler.StepLR(optimizer, step_size=1, gamma=0.1)\n",
        "    best_model = train_cnn(model, train_loader, val_loader, test_loader, criterion, optimizer, epochs = 3)\n",
        "    test_acc.append(get_test_accuracy(model, best_model, test_loader))\n",
        "print(test_acc)"
      ],
      "execution_count": null,
      "outputs": [
        {
          "output_type": "stream",
          "text": [
            "Files already downloaded and verified\n",
            "Files already downloaded and verified\n",
            "Epoch 1\n",
            "Training loss: 0.7800726302040948\n",
            "Training accuracy: 74.15555555555555%\n",
            "Validation accuracy: 80.78%\n",
            "------------------------------\n",
            "Epoch 2\n",
            "Training loss: 0.32613031949996946\n",
            "Training accuracy: 88.99333333333334%\n",
            "Validation accuracy: 85.02%\n",
            "------------------------------\n",
            "Epoch 3\n",
            "Training loss: 0.22820178083843656\n",
            "Training accuracy: 92.34444444444445%\n",
            "Validation accuracy: 85.18%\n",
            "------------------------------\n",
            "Finished Training\n",
            "Test accuracy: 85.64%\n",
            "Files already downloaded and verified\n",
            "Files already downloaded and verified\n",
            "Epoch 1\n",
            "Training loss: 0.7834172583262126\n",
            "Training accuracy: 74.00888888888889%\n",
            "Validation accuracy: 83.66%\n",
            "------------------------------\n",
            "Epoch 2\n",
            "Training loss: 0.32637091528574624\n",
            "Training accuracy: 89.1%\n",
            "Validation accuracy: 86.3%\n",
            "------------------------------\n",
            "Epoch 3\n",
            "Training loss: 0.2286855621125963\n",
            "Training accuracy: 92.21555555555555%\n",
            "Validation accuracy: 86.24%\n",
            "------------------------------\n",
            "Finished Training\n",
            "Test accuracy: 85.35%\n",
            "Files already downloaded and verified\n",
            "Files already downloaded and verified\n",
            "Epoch 1\n",
            "Training loss: 0.7809523599306742\n",
            "Training accuracy: 73.91555555555556%\n",
            "Validation accuracy: 77.08%\n",
            "------------------------------\n",
            "Epoch 2\n",
            "Training loss: 0.3323114376887265\n",
            "Training accuracy: 88.88444444444444%\n",
            "Validation accuracy: 85.78%\n",
            "------------------------------\n",
            "Epoch 3\n",
            "Training loss: 0.2344080914672878\n",
            "Training accuracy: 92.13333333333334%\n",
            "Validation accuracy: 86.26%\n",
            "------------------------------\n",
            "Finished Training\n",
            "Test accuracy: 85.49%\n",
            "[85.64, 85.35, 85.49]\n"
          ],
          "name": "stdout"
        }
      ]
    },
    {
      "cell_type": "code",
      "metadata": {
        "colab": {
          "base_uri": "https://localhost:8080/"
        },
        "id": "acn4Od3FfwKt",
        "outputId": "c821ef0c-d327-4b8b-ebbd-8569f0d063a8"
      },
      "source": [
        "print(np.mean(test_acc))"
      ],
      "execution_count": null,
      "outputs": [
        {
          "output_type": "stream",
          "text": [
            "85.49333333333334\n"
          ],
          "name": "stdout"
        }
      ]
    },
    {
      "cell_type": "code",
      "metadata": {
        "colab": {
          "base_uri": "https://localhost:8080/",
          "height": 295
        },
        "id": "NYM-CcrqfeHf",
        "outputId": "eae6153e-8f7a-4ea4-82ab-373bee203f44"
      },
      "source": [
        "plot_accuracy(model, epochs=3)"
      ],
      "execution_count": null,
      "outputs": [
        {
          "output_type": "display_data",
          "data": {
            "image/png": "[encoded data removed]",
            "text/plain": [
              "<Figure size 432x288 with 1 Axes>"
            ]
          },
          "metadata": {
            "tags": []
          }
        }
      ]
    },
    {
      "cell_type": "markdown",
      "metadata": {
        "id": "qHXJFdlSVGJd"
      },
      "source": [
        "# VGG without batch normalisation, all classification layers changed, Adam optimizer"
      ]
    },
    {
      "cell_type": "code",
      "metadata": {
        "id": "lZC54dGcVCUF"
      },
      "source": [
        "class VGG16CNN(nn.Module):\n",
        "    def __init__(self):\n",
        "        super(VGG16CNN, self).__init__()\n",
        "        pretrained_model = models.vgg16(pretrained=True)\n",
        "        # print(pretrained_model.classifier)\n",
        "        # print(pretrained_model.features)\n",
        "\n",
        "        # change last layer to classify into 10 instead of 1000\n",
        "        pretrained_model.classifier[6] = nn.Linear(4096, 10)\n",
        "\n",
        "        # freeze weights of features, train classification layers\n",
        "        for param in pretrained_model.features.parameters():\n",
        "            param.requires_grad = False\n",
        "\n",
        "        self.pretrained_model = pretrained_model\n",
        "    \n",
        "    def forward(self,x):\n",
        "        x = self.pretrained_model(x)\n",
        "        return x"
      ],
      "execution_count": null,
      "outputs": []
    },
    {
      "cell_type": "code",
      "metadata": {
        "colab": {
          "background_save": true,
          "base_uri": "https://localhost:8080/",
          "height": 914,
          "referenced_widgets": [
            "a1bc357798294bebb2e87a487c409239",
            "e1e1b144123542a4850b2cf03a5419bb",
            "39bbc30827284200808e8d12e6078435",
            "d5faf3541a3d4829971b6d11b87692ab",
            "7a3b267d21a94de0ad30329eb82a721d",
            "a5f04de19fc248adacf21fd5091f6619",
            "10eeee36dfed4f5ea0c5b444b7a8a647",
            "b9e37fec6eb54e3db6d99aa34da18862",
            "5e0dbc07b85b4b299d5a6ee3bcb8070d",
            "9c06de526d2a4975862600fd0314f9e4",
            "6c4e65b18b7b49e687455853c66fca46",
            "42c80a203864460689ea958af6d3ff2c",
            "86bbb74585654041bcb8f0d03039e9c9",
            "c0f7257da6d94c43ba2011ccd5674197",
            "d90adbb383794fe7b88a496ae694afc3",
            "1110b65adf4c4533a610706898e8d220"
          ]
        },
        "id": "GnjkgftmezUX",
        "outputId": "fa50b8b9-7da0-48df-bdd3-d99cf359ff37"
      },
      "source": [
        "test_acc = []\n",
        "for i in range(3):\n",
        "    train_loader, val_loader, test_loader = load_data(i)\n",
        "    model = VGG16CNN().cuda()\n",
        "    criterion = nn.CrossEntropyLoss()\n",
        "    optimizer = Adam(model.parameters(), lr=0.001)\n",
        "    scheduler = lr_scheduler.StepLR(optimizer, step_size=1, gamma=0.1)\n",
        "    best_model = train_cnn(model, train_loader, val_loader, test_loader, criterion, optimizer, epochs = 3)\n",
        "    test_acc.append(get_test_accuracy(model, best_model, test_loader))\n",
        "print(test_acc)"
      ],
      "execution_count": null,
      "outputs": [
        {
          "output_type": "stream",
          "text": [
            "Downloading https://www.cs.toronto.edu/~kriz/cifar-10-python.tar.gz to ./data/cifar-10-python.tar.gz\n"
          ],
          "name": "stdout"
        },
        {
          "output_type": "display_data",
          "data": {
            "application/vnd.jupyter.widget-view+json": {
              "model_id": "a1bc357798294bebb2e87a487c409239",
              "version_major": 2,
              "version_minor": 0
            },
            "text/plain": [
              "HBox(children=(FloatProgress(value=0.0, max=170498071.0), HTML(value='')))"
            ]
          },
          "metadata": {
            "tags": []
          }
        },
        {
          "output_type": "stream",
          "text": [
            "\n",
            "Extracting ./data/cifar-10-python.tar.gz to ./data\n",
            "Files already downloaded and verified\n"
          ],
          "name": "stdout"
        },
        {
          "output_type": "stream",
          "text": [
            "Downloading: \"https://download.pytorch.org/models/vgg16-397923af.pth\" to /root/.cache/torch/hub/checkpoints/vgg16-397923af.pth\n"
          ],
          "name": "stderr"
        },
        {
          "output_type": "display_data",
          "data": {
            "application/vnd.jupyter.widget-view+json": {
              "model_id": "5e0dbc07b85b4b299d5a6ee3bcb8070d",
              "version_major": 2,
              "version_minor": 0
            },
            "text/plain": [
              "HBox(children=(FloatProgress(value=0.0, max=553433881.0), HTML(value='')))"
            ]
          },
          "metadata": {
            "tags": []
          }
        },
        {
          "output_type": "stream",
          "text": [
            "\n",
            "Epoch 1\n",
            "Training loss: 0.7173138912147946\n",
            "Training accuracy: 77.42444444444445%\n",
            "Validation accuracy: 85.78%\n",
            "------------------------------\n",
            "Epoch 2\n",
            "Training loss: 0.2979366521437963\n",
            "Training accuracy: 90.12666666666667%\n",
            "Validation accuracy: 88.5%\n",
            "------------------------------\n",
            "Epoch 3\n",
            "Training loss: 0.21550468161900838\n",
            "Training accuracy: 92.88222222222223%\n",
            "Validation accuracy: 88.7%\n",
            "------------------------------\n",
            "Finished Training\n",
            "Test accuracy: 88.23%\n",
            "Files already downloaded and verified\n",
            "Files already downloaded and verified\n",
            "Epoch 1\n",
            "Training loss: 0.7168943653530545\n",
            "Training accuracy: 77.38%\n",
            "Validation accuracy: 83.66%\n",
            "------------------------------\n",
            "Epoch 2\n",
            "Training loss: 0.3148150984976027\n",
            "Training accuracy: 89.58%\n",
            "Validation accuracy: 87.92%\n",
            "------------------------------\n",
            "Epoch 3\n",
            "Training loss: 0.2225900661892361\n",
            "Training accuracy: 92.56222222222222%\n",
            "Validation accuracy: 88.36%\n",
            "------------------------------\n",
            "Finished Training\n",
            "Test accuracy: 88.06%\n",
            "Files already downloaded and verified\n",
            "Files already downloaded and verified\n",
            "Epoch 1\n",
            "Training loss: 0.710471248737971\n",
            "Training accuracy: 77.57111111111111%\n",
            "Validation accuracy: 83.66%\n",
            "------------------------------\n",
            "Epoch 2\n",
            "Training loss: 0.30941433412730696\n",
            "Training accuracy: 90.02222222222223%\n",
            "Validation accuracy: 88.32%\n",
            "------------------------------\n",
            "Epoch 3\n",
            "Training loss: 0.21561877310540942\n",
            "Training accuracy: 92.92222222222222%\n",
            "Validation accuracy: 88.18%\n",
            "------------------------------\n",
            "Finished Training\n",
            "Test accuracy: 87.78%\n",
            "[88.23, 88.06, 87.78]\n"
          ],
          "name": "stdout"
        }
      ]
    },
    {
      "cell_type": "code",
      "metadata": {
        "id": "-2_EitQUfysM",
        "colab": {
          "base_uri": "https://localhost:8080/"
        },
        "outputId": "fb258a16-ed4b-49f4-f193-259f546d05a1"
      },
      "source": [
        "print(np.mean([88.23, 88.06, 87.78]))"
      ],
      "execution_count": null,
      "outputs": [
        {
          "output_type": "stream",
          "text": [
            "88.02333333333335\n"
          ],
          "name": "stdout"
        }
      ]
    },
    {
      "cell_type": "code",
      "metadata": {
        "id": "uiLyhEUHfbi9"
      },
      "source": [
        "plot_accuracy(model, epochs=3)"
      ],
      "execution_count": null,
      "outputs": []
    },
    {
      "cell_type": "markdown",
      "metadata": {
        "id": "dI1L6jHjAAxF"
      },
      "source": [
        "# VGG without batch normalization, all layers changed, Adam optimizer"
      ]
    },
    {
      "cell_type": "code",
      "metadata": {
        "id": "YahnclUEAEkD"
      },
      "source": [
        "class VGG16CNN(nn.Module):\n",
        "    def __init__(self):\n",
        "        super(VGG16CNN, self).__init__()\n",
        "        pretrained_model = models.vgg16(pretrained=True)\n",
        "        # print(pretrained_model.classifier)\n",
        "        # print(pretrained_model.features)\n",
        "\n",
        "        # change last layer to classify into 10 instead of 1000\n",
        "        pretrained_model.classifier[6] = nn.Linear(4096, 10)\n",
        "\n",
        "        self.pretrained_model = pretrained_model\n",
        "    \n",
        "    def forward(self,x):\n",
        "        x = self.pretrained_model(x)\n",
        "        return x"
      ],
      "execution_count": null,
      "outputs": []
    },
    {
      "cell_type": "code",
      "metadata": {
        "colab": {
          "base_uri": "https://localhost:8080/",
          "height": 1000,
          "referenced_widgets": [
            "0f1dc32cfd1c4d9682c519f2bf840b91",
            "e11bb9959f974393b223f84c045c5429",
            "b7980ed1b9cf40dea6bdf03c338629f6",
            "19159d4701a244c0aae3be937115f950",
            "9aaa67f87b3f40918c9fcdd72d10fd99",
            "53f9a9852537457d95a8df00a74b6753",
            "3cad60e3375f4c62a64196e1cc86fbda",
            "44c09cbbcc0f40c09656d1ad69b27124",
            "9eb71f4621224f9482176236ef81c5a4",
            "1ff3b3c6a99047629d82397c40bcb8ea",
            "8b21f681f98245abaa0c8419960a7e46",
            "83388361a5054bcfaa65f573db4e7e1a",
            "df03aa74bc6942c1af5e808e3a6f1e5e",
            "430826fa5e5b4cb9baf512c4258f3804",
            "8878334db6804b39af40bd17bc0bf4ff",
            "0d5731f9da074a6f8137a6c9f74757c1"
          ]
        },
        "id": "CPtExgkSAExp",
        "outputId": "868cf73a-e568-4d0b-abce-612796575536"
      },
      "source": [
        "test_acc = []\n",
        "for i in range(3):\n",
        "    train_loader, val_loader, test_loader = load_data(i)\n",
        "    model = VGG16CNN().cuda()\n",
        "    criterion = nn.CrossEntropyLoss()\n",
        "    optimizer = Adam(model.parameters(), lr=0.001)\n",
        "    scheduler = lr_scheduler.StepLR(optimizer, step_size=1, gamma=0.1)\n",
        "    best_model = train_cnn(model, train_loader, val_loader, test_loader, criterion, optimizer, epochs = 3)\n",
        "    test_acc.append(get_test_accuracy(model, best_model, test_loader))\n",
        "print(test_acc)"
      ],
      "execution_count": null,
      "outputs": [
        {
          "output_type": "stream",
          "text": [
            "Downloading https://www.cs.toronto.edu/~kriz/cifar-10-python.tar.gz to ./data/cifar-10-python.tar.gz\n"
          ],
          "name": "stdout"
        },
        {
          "output_type": "display_data",
          "data": {
            "application/vnd.jupyter.widget-view+json": {
              "model_id": "0f1dc32cfd1c4d9682c519f2bf840b91",
              "version_minor": 0,
              "version_major": 2
            },
            "text/plain": [
              "HBox(children=(FloatProgress(value=0.0, max=170498071.0), HTML(value='')))"
            ]
          },
          "metadata": {
            "tags": []
          }
        },
        {
          "output_type": "stream",
          "text": [
            "\n",
            "Extracting ./data/cifar-10-python.tar.gz to ./data\n",
            "Files already downloaded and verified\n"
          ],
          "name": "stdout"
        },
        {
          "output_type": "stream",
          "text": [
            "Downloading: \"https://download.pytorch.org/models/vgg16-397923af.pth\" to /root/.cache/torch/hub/checkpoints/vgg16-397923af.pth\n"
          ],
          "name": "stderr"
        },
        {
          "output_type": "display_data",
          "data": {
            "application/vnd.jupyter.widget-view+json": {
              "model_id": "9eb71f4621224f9482176236ef81c5a4",
              "version_minor": 0,
              "version_major": 2
            },
            "text/plain": [
              "HBox(children=(FloatProgress(value=0.0, max=553433881.0), HTML(value='')))"
            ]
          },
          "metadata": {
            "tags": []
          }
        },
        {
          "output_type": "stream",
          "text": [
            "\n",
            "Epoch 1\n",
            "Training loss: 2.31262536438836\n",
            "Training accuracy: 9.782222222222222%\n",
            "Validation accuracy: 9.88%\n",
            "------------------------------\n",
            "Epoch 2\n",
            "Training loss: 2.303683336724175\n",
            "Training accuracy: 9.893333333333333%\n",
            "Validation accuracy: 10.04%\n",
            "------------------------------\n",
            "Epoch 3\n",
            "Training loss: 2.303371834903293\n",
            "Training accuracy: 9.846666666666666%\n",
            "Validation accuracy: 9.34%\n",
            "------------------------------\n",
            "Finished Training\n",
            "Test accuracy: 10.0%\n",
            "Files already downloaded and verified\n",
            "Files already downloaded and verified\n",
            "Epoch 1\n",
            "Training loss: 1.8428346403757732\n",
            "Training accuracy: 30.413333333333334%\n",
            "Validation accuracy: 39.58%\n",
            "------------------------------\n",
            "Epoch 2\n",
            "Training loss: 1.343764072863261\n",
            "Training accuracy: 50.48%\n",
            "Validation accuracy: 57.28%\n",
            "------------------------------\n",
            "Epoch 3\n",
            "Training loss: 1.1277360424889458\n",
            "Training accuracy: 59.15777777777778%\n",
            "Validation accuracy: 59.56%\n",
            "------------------------------\n",
            "Finished Training\n",
            "Test accuracy: 58.54%\n",
            "Files already downloaded and verified\n",
            "Files already downloaded and verified\n",
            "Epoch 1\n",
            "Training loss: 1.7939016029145982\n",
            "Training accuracy: 33.69111111111111%\n",
            "Validation accuracy: 45.98%\n",
            "------------------------------\n",
            "Epoch 2\n",
            "Training loss: 1.2149667433897655\n",
            "Training accuracy: 55.904444444444444%\n",
            "Validation accuracy: 60.44%\n",
            "------------------------------\n",
            "Epoch 3\n",
            "Training loss: 1.0411349255349902\n",
            "Training accuracy: 62.568888888888885%\n",
            "Validation accuracy: 62.8%\n",
            "------------------------------\n",
            "Finished Training\n",
            "Test accuracy: 62.59%\n",
            "[10.0, 58.54, 62.59]\n"
          ],
          "name": "stdout"
        }
      ]
    },
    {
      "cell_type": "code",
      "metadata": {
        "colab": {
          "base_uri": "https://localhost:8080/"
        },
        "id": "KV91S5IOAE70",
        "outputId": "7f2704f3-c363-4f3e-e7a9-2599b2e86ca1"
      },
      "source": [
        "print(np.mean(test_acc))"
      ],
      "execution_count": null,
      "outputs": [
        {
          "output_type": "stream",
          "text": [
            "43.71\n"
          ],
          "name": "stdout"
        }
      ]
    },
    {
      "cell_type": "code",
      "metadata": {
        "colab": {
          "base_uri": "https://localhost:8080/",
          "height": 295
        },
        "id": "C90ONcaoAFGZ",
        "outputId": "d6b67314-bffd-46c8-bd9f-3b8625af9c77"
      },
      "source": [
        "plot_accuracy(model, epochs=3)"
      ],
      "execution_count": null,
      "outputs": [
        {
          "output_type": "display_data",
          "data": {
            "image/png": "[encoded data removed]",
            "text/plain": [
              "<Figure size 432x288 with 1 Axes>"
            ]
          },
          "metadata": {
            "tags": [],
            "needs_background": "light"
          }
        }
      ]
    },
    {
      "cell_type": "markdown",
      "metadata": {
        "id": "aV8wY7M49Rw3"
      },
      "source": [
        "# VGG pretrained on ImageNet, only last layer changed, SGD optimizer"
      ]
    },
    {
      "cell_type": "code",
      "metadata": {
        "id": "rAViUAoE9gAN"
      },
      "source": [
        "class VGG16CNN(nn.Module):\n",
        "    def __init__(self):\n",
        "        super(VGG16CNN, self).__init__()\n",
        "        pretrained_model = models.vgg16_bn(pretrained=True)\n",
        "        # print(pretrained_model.classifier)\n",
        "        # change last layer to classify into 10 instead of 1000\n",
        "        pretrained_model.classifier[6] = nn.Sequential(\n",
        "                      nn.Linear(4096, 10))\n",
        "\n",
        "        # freeze weights of all the models\n",
        "        for param in pretrained_model.parameters():\n",
        "            param.requires_grad = False\n",
        "        # unfreeze the last layer so it can be trained\n",
        "        for param in pretrained_model.classifier[6].parameters():\n",
        "            param.requires_grad = True\n",
        "\n",
        "        self.pretrained_model = pretrained_model\n",
        "    \n",
        "    def forward(self,x):\n",
        "        x = self.pretrained_model(x)\n",
        "        return x"
      ],
      "execution_count": null,
      "outputs": []
    },
    {
      "cell_type": "code",
      "metadata": {
        "colab": {
          "base_uri": "https://localhost:8080/",
          "height": 1000,
          "referenced_widgets": [
            "7ed6fcb2fb034075a35163bb286f2f7e",
            "359bcb31839647ccabe65602977ef119",
            "790a09942c8e49cb8961ff5b53cce963",
            "851efcc623834a22b67c4e2c0f604ece",
            "eaa0e2a45c814fa7828115118f596fa1",
            "16253c3ee1d14b14ad9223c0a0ba839a",
            "47f7aa0aa856429ebb79007cb4e25414",
            "47c7c351b5a848b488f30cf729aeffc4",
            "1b1a9d3276bd487383a7998e50e51b74",
            "2562868c6e31425582d34cb3c3959e5e",
            "0c45c1350ebb4a049044ffe7c2d0e8fc",
            "806cb9c5a6a246a0be33892c10272b18",
            "affe749f067f4ade8124e1ee79114d3e",
            "2562605c8be748b59229aacb754f2ef4",
            "17b062dcc23044f7a0800c3bc9125c03",
            "b85ef899be104004894eecfc31647260"
          ]
        },
        "id": "t-qxi5ox9g9z",
        "outputId": "702fc3f9-feb0-437e-be54-3a0d03dec8f0"
      },
      "source": [
        "test_acc = []\n",
        "for i in range(3):\n",
        "    train_loader, val_loader, test_loader = load_data(i)\n",
        "    model = VGG16CNN().cuda()\n",
        "    criterion = nn.CrossEntropyLoss()\n",
        "    optimizer = SGD(model.parameters(), lr=0.001)\n",
        "    scheduler = lr_scheduler.StepLR(optimizer, step_size=1, gamma=0.1)\n",
        "    best_model = train_cnn(model, train_loader, val_loader, test_loader, criterion, optimizer, epochs = 5)\n",
        "    test_acc.append(get_test_accuracy(model, best_model, test_loader))\n",
        "print(test_acc)"
      ],
      "execution_count": null,
      "outputs": [
        {
          "output_type": "stream",
          "text": [
            "Downloading https://www.cs.toronto.edu/~kriz/cifar-10-python.tar.gz to ./data/cifar-10-python.tar.gz\n"
          ],
          "name": "stdout"
        },
        {
          "output_type": "display_data",
          "data": {
            "application/vnd.jupyter.widget-view+json": {
              "model_id": "7ed6fcb2fb034075a35163bb286f2f7e",
              "version_minor": 0,
              "version_major": 2
            },
            "text/plain": [
              "HBox(children=(FloatProgress(value=0.0, max=170498071.0), HTML(value='')))"
            ]
          },
          "metadata": {
            "tags": []
          }
        },
        {
          "output_type": "stream",
          "text": [
            "\n",
            "Extracting ./data/cifar-10-python.tar.gz to ./data\n",
            "Files already downloaded and verified\n"
          ],
          "name": "stdout"
        },
        {
          "output_type": "stream",
          "text": [
            "Downloading: \"https://download.pytorch.org/models/vgg16_bn-6c64b313.pth\" to /root/.cache/torch/hub/checkpoints/vgg16_bn-6c64b313.pth\n"
          ],
          "name": "stderr"
        },
        {
          "output_type": "display_data",
          "data": {
            "application/vnd.jupyter.widget-view+json": {
              "model_id": "1b1a9d3276bd487383a7998e50e51b74",
              "version_minor": 0,
              "version_major": 2
            },
            "text/plain": [
              "HBox(children=(FloatProgress(value=0.0, max=553507836.0), HTML(value='')))"
            ]
          },
          "metadata": {
            "tags": []
          }
        },
        {
          "output_type": "stream",
          "text": [
            "\n",
            "Epoch 1\n",
            "Training loss: 1.5948932282129924\n",
            "Training accuracy: 54.72888888888889%\n",
            "Validation accuracy: 70.16%\n",
            "------------------------------\n",
            "Epoch 2\n",
            "Training loss: 1.2017885462443034\n",
            "Training accuracy: 66.82444444444444%\n",
            "Validation accuracy: 70.56%\n",
            "------------------------------\n",
            "Epoch 3\n",
            "Training loss: 1.183543518087599\n",
            "Training accuracy: 67.3488888888889%\n",
            "Validation accuracy: 70.54%\n",
            "------------------------------\n",
            "Epoch 4\n",
            "Training loss: 1.1824314615461562\n",
            "Training accuracy: 67.34666666666666%\n",
            "Validation accuracy: 70.56%\n",
            "------------------------------\n",
            "Epoch 5\n",
            "Training loss: 1.1822052436404757\n",
            "Training accuracy: 67.15555555555555%\n",
            "Validation accuracy: 70.56%\n",
            "------------------------------\n",
            "Finished Training\n",
            "Test accuracy: 71.66%\n",
            "Files already downloaded and verified\n",
            "Files already downloaded and verified\n",
            "Epoch 1\n",
            "Training loss: 1.596273055521647\n",
            "Training accuracy: 54.684444444444445%\n",
            "Validation accuracy: 71.38%\n",
            "------------------------------\n",
            "Epoch 2\n",
            "Training loss: 1.2054432658089531\n",
            "Training accuracy: 66.72666666666667%\n",
            "Validation accuracy: 71.64%\n",
            "------------------------------\n",
            "Epoch 3\n",
            "Training loss: 1.1890616399341158\n",
            "Training accuracy: 66.93333333333334%\n",
            "Validation accuracy: 71.7%\n",
            "------------------------------\n",
            "Epoch 4\n",
            "Training loss: 1.1861405285729303\n",
            "Training accuracy: 67.31111111111112%\n",
            "Validation accuracy: 71.7%\n",
            "------------------------------\n",
            "Epoch 5\n",
            "Training loss: 1.1867031266530355\n",
            "Training accuracy: 67.03555555555556%\n",
            "Validation accuracy: 71.7%\n",
            "------------------------------\n",
            "Finished Training\n",
            "Test accuracy: 71.04%\n",
            "Files already downloaded and verified\n",
            "Files already downloaded and verified\n",
            "Epoch 1\n",
            "Training loss: 1.6050870121320089\n",
            "Training accuracy: 54.144444444444446%\n",
            "Validation accuracy: 70.1%\n",
            "------------------------------\n",
            "Epoch 2\n",
            "Training loss: 1.2053800113042195\n",
            "Training accuracy: 67.06444444444445%\n",
            "Validation accuracy: 70.36%\n",
            "------------------------------\n",
            "Epoch 3\n",
            "Training loss: 1.1879036369111804\n",
            "Training accuracy: 67.13111111111111%\n",
            "Validation accuracy: 70.38%\n",
            "------------------------------\n",
            "Epoch 4\n",
            "Training loss: 1.1852408952395121\n",
            "Training accuracy: 67.18222222222222%\n",
            "Validation accuracy: 70.4%\n",
            "------------------------------\n",
            "Epoch 5\n",
            "Training loss: 1.1835859041955736\n",
            "Training accuracy: 67.38%\n",
            "Validation accuracy: 70.38%\n",
            "------------------------------\n",
            "Finished Training\n",
            "Test accuracy: 71.17%\n",
            "[71.66, 71.04, 71.17]\n"
          ],
          "name": "stdout"
        }
      ]
    },
    {
      "cell_type": "code",
      "metadata": {
        "colab": {
          "base_uri": "https://localhost:8080/"
        },
        "id": "NCTkATss92IA",
        "outputId": "092e4f95-60fd-4883-8239-8154ebcefb2c"
      },
      "source": [
        "print(np.mean(test_acc))"
      ],
      "execution_count": null,
      "outputs": [
        {
          "output_type": "stream",
          "text": [
            "71.29\n"
          ],
          "name": "stdout"
        }
      ]
    },
    {
      "cell_type": "code",
      "metadata": {
        "colab": {
          "base_uri": "https://localhost:8080/",
          "height": 295
        },
        "id": "pF58gXoN952-",
        "outputId": "0f73a9a7-3af0-402b-9a73-2d5537cfc6f0"
      },
      "source": [
        "plot_accuracy(model, epochs=5)"
      ],
      "execution_count": null,
      "outputs": [
        {
          "output_type": "display_data",
          "data": {
            "image/png": "[encoded data removed]",
            "text/plain": [
              "<Figure size 432x288 with 1 Axes>"
            ]
          },
          "metadata": {
            "tags": [],
            "needs_background": "light"
          }
        }
      ]
    },
    {
      "cell_type": "markdown",
      "metadata": {
        "id": "CmrqhhXk6FAk"
      },
      "source": [
        "# VGG pretrained on ImageNet, all classification layers changed, SGD optimizer"
      ]
    },
    {
      "cell_type": "code",
      "metadata": {
        "id": "Xpz3SqHEfMPu"
      },
      "source": [
        "class VGG16CNN(nn.Module):\n",
        "    def __init__(self):\n",
        "        super(VGG16CNN, self).__init__()\n",
        "        pretrained_model = models.vgg16_bn(pretrained=True)\n",
        "        # print(pretrained_model.classifier)\n",
        "        # print(pretrained_model.features)\n",
        "\n",
        "        # change last layer to classify into 10 instead of 1000\n",
        "        pretrained_model.classifier[6] = nn.Linear(4096, 10)\n",
        "\n",
        "        # freeze weights of features, train classification layers\n",
        "        for param in pretrained_model.features.parameters():\n",
        "            param.requires_grad = False\n",
        "\n",
        "        self.pretrained_model = pretrained_model\n",
        "    \n",
        "    def forward(self,x):\n",
        "        x = self.pretrained_model(x)\n",
        "        return x"
      ],
      "execution_count": null,
      "outputs": []
    },
    {
      "cell_type": "code",
      "metadata": {
        "colab": {
          "base_uri": "https://localhost:8080/"
        },
        "id": "5ltv7R6ofSK9",
        "outputId": "4fd681c4-ee9b-4a60-9e65-1f1752558635"
      },
      "source": [
        "test_acc = []\n",
        "for i in range(3):\n",
        "    train_loader, val_loader, test_loader = load_data(i)\n",
        "    model = VGG16CNN().cuda()\n",
        "    criterion = nn.CrossEntropyLoss()\n",
        "    optimizer = SGD(model.parameters(), lr=0.001)\n",
        "    scheduler = lr_scheduler.StepLR(optimizer, step_size=1, gamma=0.1)\n",
        "    best_model = train_cnn(model, train_loader, val_loader, test_loader, criterion, optimizer, epochs = 3)\n",
        "    test_acc.append(get_test_accuracy(model, best_model, test_loader))\n",
        "print(test_acc)"
      ],
      "execution_count": null,
      "outputs": [
        {
          "output_type": "stream",
          "text": [
            "Files already downloaded and verified\n",
            "Files already downloaded and verified\n",
            "Epoch 1\n",
            "Training loss: 1.4918576480229695\n",
            "Training accuracy: 56.13333333333333%\n",
            "Validation accuracy: 71.86%\n",
            "------------------------------\n",
            "Epoch 2\n",
            "Training loss: 1.0279060356034173\n",
            "Training accuracy: 68.4088888888889%\n",
            "Validation accuracy: 72.26%\n",
            "------------------------------\n",
            "Epoch 3\n",
            "Training loss: 1.007530436261495\n",
            "Training accuracy: 69.0911111111111%\n",
            "Validation accuracy: 72.36%\n",
            "------------------------------\n",
            "Finished Training\n",
            "Test accuracy: 73.24%\n",
            "Files already downloaded and verified\n",
            "Files already downloaded and verified\n",
            "Epoch 1\n",
            "Training loss: 1.494321931584676\n",
            "Training accuracy: 56.14666666666667%\n",
            "Validation accuracy: 72.46%\n",
            "------------------------------\n",
            "Epoch 2\n",
            "Training loss: 1.0321556302176582\n",
            "Training accuracy: 68.30888888888889%\n",
            "Validation accuracy: 73.32%\n",
            "------------------------------\n",
            "Epoch 3\n",
            "Training loss: 1.0141896556218466\n",
            "Training accuracy: 68.69555555555556%\n",
            "Validation accuracy: 73.34%\n",
            "------------------------------\n",
            "Finished Training\n",
            "Test accuracy: 72.73%\n",
            "Files already downloaded and verified\n",
            "Files already downloaded and verified\n",
            "Epoch 1\n",
            "Training loss: 1.5019185689926147\n",
            "Training accuracy: 55.675555555555555%\n",
            "Validation accuracy: 71.66%\n",
            "------------------------------\n",
            "Epoch 2\n",
            "Training loss: 1.031486048189799\n",
            "Training accuracy: 68.57111111111111%\n",
            "Validation accuracy: 72.36%\n",
            "------------------------------\n",
            "Epoch 3\n",
            "Training loss: 1.0138013364156087\n",
            "Training accuracy: 68.57777777777778%\n",
            "Validation accuracy: 72.36%\n",
            "------------------------------\n",
            "Finished Training\n",
            "Test accuracy: 72.79%\n",
            "[73.24, 72.73, 72.79]\n"
          ],
          "name": "stdout"
        }
      ]
    },
    {
      "cell_type": "code",
      "metadata": {
        "colab": {
          "base_uri": "https://localhost:8080/"
        },
        "id": "YmT32qq4fTA6",
        "outputId": "731fbd48-f17c-4b0d-dd91-5ee1d3327ba9"
      },
      "source": [
        "print(np.mean(test_acc))"
      ],
      "execution_count": null,
      "outputs": [
        {
          "output_type": "stream",
          "text": [
            "72.92\n"
          ],
          "name": "stdout"
        }
      ]
    },
    {
      "cell_type": "code",
      "metadata": {
        "colab": {
          "base_uri": "https://localhost:8080/",
          "height": 295
        },
        "id": "9v0cHEC9fTGp",
        "outputId": "0123444c-c986-410b-c26e-c29304f5d048"
      },
      "source": [
        "plot_accuracy(model, epochs=3)"
      ],
      "execution_count": null,
      "outputs": [
        {
          "output_type": "display_data",
          "data": {
            "image/png": "[encoded data removed]",
            "text/plain": [
              "<Figure size 432x288 with 1 Axes>"
            ]
          },
          "metadata": {
            "tags": [],
            "needs_background": "light"
          }
        }
      ]
    },
    {
      "cell_type": "markdown",
      "metadata": {
        "id": "aweIegLn2MRJ"
      },
      "source": [
        "# VGG without batch normalization, all classification layers changed, SGD optimizer\n"
      ]
    },
    {
      "cell_type": "code",
      "metadata": {
        "id": "BZsGluCg2lwY"
      },
      "source": [
        "class VGG16CNN(nn.Module):\n",
        "    def __init__(self):\n",
        "        super(VGG16CNN, self).__init__()\n",
        "        pretrained_model = models.vgg16(pretrained=True)\n",
        "\n",
        "        # change last layer to classify into 10 instead of 1000\n",
        "        pretrained_model.classifier[6] = nn.Linear(4096, 10)\n",
        "\n",
        "        # freeze weights of features, train classification layers\n",
        "        for param in pretrained_model.features.parameters():\n",
        "            param.requires_grad = False\n",
        "\n",
        "        self.pretrained_model = pretrained_model\n",
        "    \n",
        "    def forward(self,x):\n",
        "        x = self.pretrained_model(x)\n",
        "        return x"
      ],
      "execution_count": null,
      "outputs": []
    },
    {
      "cell_type": "code",
      "metadata": {
        "id": "9Z06c3yO2sBG",
        "colab": {
          "base_uri": "https://localhost:8080/"
        },
        "outputId": "2af59886-33b0-4f27-d35d-761d741fd6c4"
      },
      "source": [
        "test_acc = []\n",
        "for i in range(3):\n",
        "    train_loader, val_loader, test_loader = load_data(i)\n",
        "    model = VGG16CNN().cuda()\n",
        "    criterion = nn.CrossEntropyLoss()\n",
        "    optimizer = SGD(model.parameters(), lr=0.001)\n",
        "    scheduler = lr_scheduler.StepLR(optimizer, step_size=1, gamma=0.1)\n",
        "    best_model = train_cnn(model, train_loader, val_loader, test_loader, criterion, optimizer, epochs = 3)\n",
        "    test_acc.append(get_test_accuracy(model, best_model, test_loader))\n",
        "print(test_acc)"
      ],
      "execution_count": null,
      "outputs": [
        {
          "output_type": "stream",
          "text": [
            "Files already downloaded and verified\n",
            "Files already downloaded and verified\n",
            "Epoch 1\n",
            "Training loss: 1.102358359951443\n",
            "Training accuracy: 65.26%\n",
            "Validation accuracy: 78.76%\n",
            "------------------------------\n",
            "Epoch 2\n",
            "Training loss: 0.7225641087638007\n",
            "Training accuracy: 75.7%\n",
            "Validation accuracy: 79.76%\n",
            "------------------------------\n",
            "Epoch 3\n",
            "Training loss: 0.7121496701558431\n",
            "Training accuracy: 75.94666666666667%\n",
            "Validation accuracy: 79.76%\n",
            "------------------------------\n",
            "Finished Training\n",
            "Test accuracy: 78.89%\n",
            "Files already downloaded and verified\n",
            "Files already downloaded and verified\n",
            "Epoch 1\n",
            "Training loss: 1.0978964070002237\n",
            "Training accuracy: 65.29333333333334%\n",
            "Validation accuracy: 78.6%\n",
            "------------------------------\n",
            "Epoch 2\n",
            "Training loss: 0.7266609089533488\n",
            "Training accuracy: 75.44%\n",
            "Validation accuracy: 79.46%\n",
            "------------------------------\n",
            "Epoch 3\n",
            "Training loss: 0.7157019476148817\n",
            "Training accuracy: 75.65555555555555%\n",
            "Validation accuracy: 79.6%\n",
            "------------------------------\n",
            "Finished Training\n",
            "Test accuracy: 78.77%\n",
            "Files already downloaded and verified\n",
            "Files already downloaded and verified\n",
            "Epoch 1\n",
            "Training loss: 1.097726215341356\n",
            "Training accuracy: 65.25555555555556%\n",
            "Validation accuracy: 78.44%\n",
            "------------------------------\n",
            "Epoch 2\n",
            "Training loss: 0.7246368423779805\n",
            "Training accuracy: 75.58222222222223%\n",
            "Validation accuracy: 78.5%\n",
            "------------------------------\n",
            "Epoch 3\n",
            "Training loss: 0.7155368696424697\n",
            "Training accuracy: 75.90444444444445%\n",
            "Validation accuracy: 78.44%\n",
            "------------------------------\n",
            "Finished Training\n",
            "Test accuracy: 78.74%\n",
            "[78.89, 78.77, 78.74]\n"
          ],
          "name": "stdout"
        }
      ]
    },
    {
      "cell_type": "code",
      "metadata": {
        "id": "Ssp0Laebf0QQ",
        "colab": {
          "base_uri": "https://localhost:8080/"
        },
        "outputId": "8aa33191-6e3f-421c-cf88-6c1fb1152b55"
      },
      "source": [
        "print(np.mean(test_acc))"
      ],
      "execution_count": null,
      "outputs": [
        {
          "output_type": "stream",
          "text": [
            "78.8\n"
          ],
          "name": "stdout"
        }
      ]
    },
    {
      "cell_type": "code",
      "metadata": {
        "id": "WXK53SsPfYJX",
        "colab": {
          "base_uri": "https://localhost:8080/",
          "height": 295
        },
        "outputId": "aadc93f8-c061-4e19-af68-462574848965"
      },
      "source": [
        "plot_accuracy(model, epochs=3)"
      ],
      "execution_count": null,
      "outputs": [
        {
          "output_type": "display_data",
          "data": {
            "image/png": "[encoded data removed]",
            "text/plain": [
              "<Figure size 432x288 with 1 Axes>"
            ]
          },
          "metadata": {
            "tags": [],
            "needs_background": "light"
          }
        }
      ]
    },
    {
      "cell_type": "markdown",
      "metadata": {
        "id": "RaPfwSwi_6lL"
      },
      "source": [
        "# VGG without batch normalization, all layers changed, SGD optimizer"
      ]
    },
    {
      "cell_type": "code",
      "metadata": {
        "id": "w-hgoIvN_5sp"
      },
      "source": [
        "class VGG16CNN(nn.Module):\n",
        "    def __init__(self):\n",
        "        super(VGG16CNN, self).__init__()\n",
        "        pretrained_model = models.vgg16(pretrained=True)\n",
        "        # print(pretrained_model.classifier)\n",
        "        # print(pretrained_model.features)\n",
        "\n",
        "        # change last layer to classify into 10 instead of 1000\n",
        "        pretrained_model.classifier[6] = nn.Linear(4096, 10)\n",
        "\n",
        "        self.pretrained_model = pretrained_model\n",
        "    \n",
        "    def forward(self,x):\n",
        "        x = self.pretrained_model(x)\n",
        "        return x"
      ],
      "execution_count": null,
      "outputs": []
    },
    {
      "cell_type": "code",
      "metadata": {
        "id": "Bqm_qZWzAz97"
      },
      "source": [
        "test_acc = []\n",
        "for i in range(3):\n",
        "    train_loader, val_loader, test_loader = load_data(i)\n",
        "    model = VGG16CNN().cuda()\n",
        "    criterion = nn.CrossEntropyLoss()\n",
        "    optimizer = SGD(model.parameters(), lr=0.001)\n",
        "    scheduler = lr_scheduler.StepLR(optimizer, step_size=1, gamma=0.1)\n",
        "    best_model = train_cnn(model, train_loader, val_loader, test_loader, criterion, optimizer, epochs = 3)\n",
        "    test_acc.append(get_test_accuracy(model, best_model, test_loader))\n",
        "print(test_acc)"
      ],
      "execution_count": null,
      "outputs": []
    },
    {
      "cell_type": "code",
      "metadata": {
        "id": "SVVfngoVA3dX"
      },
      "source": [
        "print(np.mean(test_acc))"
      ],
      "execution_count": null,
      "outputs": []
    },
    {
      "cell_type": "code",
      "metadata": {
        "id": "dPsvT5I5A63s"
      },
      "source": [
        "plot_accuracy(model, epochs=3)"
      ],
      "execution_count": null,
      "outputs": []
    }
  ]
}
{
  "nbformat": 4,
  "nbformat_minor": 0,
  "metadata": {
    "accelerator": "GPU",
    "colab": {
      "name": "vgg_model.ipynb",
      "provenance": [],
      "collapsed_sections": [
        "Pk7piq6wQp8c",
        "W5y7jriuRT-w"
      ]
    },
    "kernelspec": {
      "display_name": "Python 3",
      "name": "python3"
    },
    "language_info": {
      "name": "python"
    },
    "widgets": {
      "application/vnd.jupyter.widget-state+json": {
        "716f24898c4246daba9c790d719cedda": {
          "model_module": "@jupyter-widgets/controls",
          "model_name": "HBoxModel",
          "state": {
            "_view_name": "HBoxView",
            "_dom_classes": [],
            "_model_name": "HBoxModel",
            "_view_module": "@jupyter-widgets/controls",
            "_model_module_version": "1.5.0",
            "_view_count": null,
            "_view_module_version": "1.5.0",
            "box_style": "",
            "layout": "IPY_MODEL_99f872a15dd7496ba010c9531dca8196",
            "_model_module": "@jupyter-widgets/controls",
            "children": [
              "IPY_MODEL_8e5fbb60efcb487bb90bdbc6e38a4c62",
              "IPY_MODEL_3575106ccb5845d3a60a25ea4bf7fc22"
            ]
          }
        },
        "99f872a15dd7496ba010c9531dca8196": {
          "model_module": "@jupyter-widgets/base",
          "model_name": "LayoutModel",
          "state": {
            "_view_name": "LayoutView",
            "grid_template_rows": null,
            "right": null,
            "justify_content": null,
            "_view_module": "@jupyter-widgets/base",
            "overflow": null,
            "_model_module_version": "1.2.0",
            "_view_count": null,
            "flex_flow": null,
            "width": null,
            "min_width": null,
            "border": null,
            "align_items": null,
            "bottom": null,
            "_model_module": "@jupyter-widgets/base",
            "top": null,
            "grid_column": null,
            "overflow_y": null,
            "overflow_x": null,
            "grid_auto_flow": null,
            "grid_area": null,
            "grid_template_columns": null,
            "flex": null,
            "_model_name": "LayoutModel",
            "justify_items": null,
            "grid_row": null,
            "max_height": null,
            "align_content": null,
            "visibility": null,
            "align_self": null,
            "height": null,
            "min_height": null,
            "padding": null,
            "grid_auto_rows": null,
            "grid_gap": null,
            "max_width": null,
            "order": null,
            "_view_module_version": "1.2.0",
            "grid_template_areas": null,
            "object_position": null,
            "object_fit": null,
            "grid_auto_columns": null,
            "margin": null,
            "display": null,
            "left": null
          }
        },
        "8e5fbb60efcb487bb90bdbc6e38a4c62": {
          "model_module": "@jupyter-widgets/controls",
          "model_name": "FloatProgressModel",
          "state": {
            "_view_name": "ProgressView",
            "style": "IPY_MODEL_a9902918ddfe4d4db9a74564d2328b38",
            "_dom_classes": [],
            "description": "",
            "_model_name": "FloatProgressModel",
            "bar_style": "success",
            "max": 170498071,
            "_view_module": "@jupyter-widgets/controls",
            "_model_module_version": "1.5.0",
            "value": 170498071,
            "_view_count": null,
            "_view_module_version": "1.5.0",
            "orientation": "horizontal",
            "min": 0,
            "description_tooltip": null,
            "_model_module": "@jupyter-widgets/controls",
            "layout": "IPY_MODEL_a2934831522242b08455d1e1207b19e6"
          }
        },
        "3575106ccb5845d3a60a25ea4bf7fc22": {
          "model_module": "@jupyter-widgets/controls",
          "model_name": "HTMLModel",
          "state": {
            "_view_name": "HTMLView",
            "style": "IPY_MODEL_680e9292fb9e4ff9bd131dc8af5776c7",
            "_dom_classes": [],
            "description": "",
            "_model_name": "HTMLModel",
            "placeholder": "​",
            "_view_module": "@jupyter-widgets/controls",
            "_model_module_version": "1.5.0",
            "value": " 170499072/? [00:02&lt;00:00, 60954971.07it/s]",
            "_view_count": null,
            "_view_module_version": "1.5.0",
            "description_tooltip": null,
            "_model_module": "@jupyter-widgets/controls",
            "layout": "IPY_MODEL_abe68c7f92e748c4bf4e74cceac307f8"
          }
        },
        "a9902918ddfe4d4db9a74564d2328b38": {
          "model_module": "@jupyter-widgets/controls",
          "model_name": "ProgressStyleModel",
          "state": {
            "_view_name": "StyleView",
            "_model_name": "ProgressStyleModel",
            "description_width": "initial",
            "_view_module": "@jupyter-widgets/base",
            "_model_module_version": "1.5.0",
            "_view_count": null,
            "_view_module_version": "1.2.0",
            "bar_color": null,
            "_model_module": "@jupyter-widgets/controls"
          }
        },
        "a2934831522242b08455d1e1207b19e6": {
          "model_module": "@jupyter-widgets/base",
          "model_name": "LayoutModel",
          "state": {
            "_view_name": "LayoutView",
            "grid_template_rows": null,
            "right": null,
            "justify_content": null,
            "_view_module": "@jupyter-widgets/base",
            "overflow": null,
            "_model_module_version": "1.2.0",
            "_view_count": null,
            "flex_flow": null,
            "width": null,
            "min_width": null,
            "border": null,
            "align_items": null,
            "bottom": null,
            "_model_module": "@jupyter-widgets/base",
            "top": null,
            "grid_column": null,
            "overflow_y": null,
            "overflow_x": null,
            "grid_auto_flow": null,
            "grid_area": null,
            "grid_template_columns": null,
            "flex": null,
            "_model_name": "LayoutModel",
            "justify_items": null,
            "grid_row": null,
            "max_height": null,
            "align_content": null,
            "visibility": null,
            "align_self": null,
            "height": null,
            "min_height": null,
            "padding": null,
            "grid_auto_rows": null,
            "grid_gap": null,
            "max_width": null,
            "order": null,
            "_view_module_version": "1.2.0",
            "grid_template_areas": null,
            "object_position": null,
            "object_fit": null,
            "grid_auto_columns": null,
            "margin": null,
            "display": null,
            "left": null
          }
        },
        "680e9292fb9e4ff9bd131dc8af5776c7": {
          "model_module": "@jupyter-widgets/controls",
          "model_name": "DescriptionStyleModel",
          "state": {
            "_view_name": "StyleView",
            "_model_name": "DescriptionStyleModel",
            "description_width": "",
            "_view_module": "@jupyter-widgets/base",
            "_model_module_version": "1.5.0",
            "_view_count": null,
            "_view_module_version": "1.2.0",
            "_model_module": "@jupyter-widgets/controls"
          }
        },
        "abe68c7f92e748c4bf4e74cceac307f8": {
          "model_module": "@jupyter-widgets/base",
          "model_name": "LayoutModel",
          "state": {
            "_view_name": "LayoutView",
            "grid_template_rows": null,
            "right": null,
            "justify_content": null,
            "_view_module": "@jupyter-widgets/base",
            "overflow": null,
            "_model_module_version": "1.2.0",
            "_view_count": null,
            "flex_flow": null,
            "width": null,
            "min_width": null,
            "border": null,
            "align_items": null,
            "bottom": null,
            "_model_module": "@jupyter-widgets/base",
            "top": null,
            "grid_column": null,
            "overflow_y": null,
            "overflow_x": null,
            "grid_auto_flow": null,
            "grid_area": null,
            "grid_template_columns": null,
            "flex": null,
            "_model_name": "LayoutModel",
            "justify_items": null,
            "grid_row": null,
            "max_height": null,
            "align_content": null,
            "visibility": null,
            "align_self": null,
            "height": null,
            "min_height": null,
            "padding": null,
            "grid_auto_rows": null,
            "grid_gap": null,
            "max_width": null,
            "order": null,
            "_view_module_version": "1.2.0",
            "grid_template_areas": null,
            "object_position": null,
            "object_fit": null,
            "grid_auto_columns": null,
            "margin": null,
            "display": null,
            "left": null
          }
        },
        "cf3ed6c2b2694e6eb6272a9f8c4c16ee": {
          "model_module": "@jupyter-widgets/controls",
          "model_name": "HBoxModel",
          "state": {
            "_view_name": "HBoxView",
            "_dom_classes": [],
            "_model_name": "HBoxModel",
            "_view_module": "@jupyter-widgets/controls",
            "_model_module_version": "1.5.0",
            "_view_count": null,
            "_view_module_version": "1.5.0",
            "box_style": "",
            "layout": "IPY_MODEL_2df2f5feaac9403d873008dab538e86e",
            "_model_module": "@jupyter-widgets/controls",
            "children": [
              "IPY_MODEL_1bf2e25e6a434fbcbd1cee300621e096",
              "IPY_MODEL_da2ed78b0e97450183f777e01c2030d2"
            ]
          }
        },
        "2df2f5feaac9403d873008dab538e86e": {
          "model_module": "@jupyter-widgets/base",
          "model_name": "LayoutModel",
          "state": {
            "_view_name": "LayoutView",
            "grid_template_rows": null,
            "right": null,
            "justify_content": null,
            "_view_module": "@jupyter-widgets/base",
            "overflow": null,
            "_model_module_version": "1.2.0",
            "_view_count": null,
            "flex_flow": null,
            "width": null,
            "min_width": null,
            "border": null,
            "align_items": null,
            "bottom": null,
            "_model_module": "@jupyter-widgets/base",
            "top": null,
            "grid_column": null,
            "overflow_y": null,
            "overflow_x": null,
            "grid_auto_flow": null,
            "grid_area": null,
            "grid_template_columns": null,
            "flex": null,
            "_model_name": "LayoutModel",
            "justify_items": null,
            "grid_row": null,
            "max_height": null,
            "align_content": null,
            "visibility": null,
            "align_self": null,
            "height": null,
            "min_height": null,
            "padding": null,
            "grid_auto_rows": null,
            "grid_gap": null,
            "max_width": null,
            "order": null,
            "_view_module_version": "1.2.0",
            "grid_template_areas": null,
            "object_position": null,
            "object_fit": null,
            "grid_auto_columns": null,
            "margin": null,
            "display": null,
            "left": null
          }
        },
        "1bf2e25e6a434fbcbd1cee300621e096": {
          "model_module": "@jupyter-widgets/controls",
          "model_name": "FloatProgressModel",
          "state": {
            "_view_name": "ProgressView",
            "style": "IPY_MODEL_bf319d82f41545ac83a56052be8e5907",
            "_dom_classes": [],
            "description": "100%",
            "_model_name": "FloatProgressModel",
            "bar_style": "success",
            "max": 553507836,
            "_view_module": "@jupyter-widgets/controls",
            "_model_module_version": "1.5.0",
            "value": 553507836,
            "_view_count": null,
            "_view_module_version": "1.5.0",
            "orientation": "horizontal",
            "min": 0,
            "description_tooltip": null,
            "_model_module": "@jupyter-widgets/controls",
            "layout": "IPY_MODEL_ccb5e06b0c8342648fda9ac7d1f20e39"
          }
        },
        "da2ed78b0e97450183f777e01c2030d2": {
          "model_module": "@jupyter-widgets/controls",
          "model_name": "HTMLModel",
          "state": {
            "_view_name": "HTMLView",
            "style": "IPY_MODEL_8e8951a1a3954a4ba64b355b7744a725",
            "_dom_classes": [],
            "description": "",
            "_model_name": "HTMLModel",
            "placeholder": "​",
            "_view_module": "@jupyter-widgets/controls",
            "_model_module_version": "1.5.0",
            "value": " 528M/528M [00:04&lt;00:00, 118MB/s]",
            "_view_count": null,
            "_view_module_version": "1.5.0",
            "description_tooltip": null,
            "_model_module": "@jupyter-widgets/controls",
            "layout": "IPY_MODEL_45d8714a5ca24e29aaacdba20ade79f0"
          }
        },
        "bf319d82f41545ac83a56052be8e5907": {
          "model_module": "@jupyter-widgets/controls",
          "model_name": "ProgressStyleModel",
          "state": {
            "_view_name": "StyleView",
            "_model_name": "ProgressStyleModel",
            "description_width": "initial",
            "_view_module": "@jupyter-widgets/base",
            "_model_module_version": "1.5.0",
            "_view_count": null,
            "_view_module_version": "1.2.0",
            "bar_color": null,
            "_model_module": "@jupyter-widgets/controls"
          }
        },
        "ccb5e06b0c8342648fda9ac7d1f20e39": {
          "model_module": "@jupyter-widgets/base",
          "model_name": "LayoutModel",
          "state": {
            "_view_name": "LayoutView",
            "grid_template_rows": null,
            "right": null,
            "justify_content": null,
            "_view_module": "@jupyter-widgets/base",
            "overflow": null,
            "_model_module_version": "1.2.0",
            "_view_count": null,
            "flex_flow": null,
            "width": null,
            "min_width": null,
            "border": null,
            "align_items": null,
            "bottom": null,
            "_model_module": "@jupyter-widgets/base",
            "top": null,
            "grid_column": null,
            "overflow_y": null,
            "overflow_x": null,
            "grid_auto_flow": null,
            "grid_area": null,
            "grid_template_columns": null,
            "flex": null,
            "_model_name": "LayoutModel",
            "justify_items": null,
            "grid_row": null,
            "max_height": null,
            "align_content": null,
            "visibility": null,
            "align_self": null,
            "height": null,
            "min_height": null,
            "padding": null,
            "grid_auto_rows": null,
            "grid_gap": null,
            "max_width": null,
            "order": null,
            "_view_module_version": "1.2.0",
            "grid_template_areas": null,
            "object_position": null,
            "object_fit": null,
            "grid_auto_columns": null,
            "margin": null,
            "display": null,
            "left": null
          }
        },
        "8e8951a1a3954a4ba64b355b7744a725": {
          "model_module": "@jupyter-widgets/controls",
          "model_name": "DescriptionStyleModel",
          "state": {
            "_view_name": "StyleView",
            "_model_name": "DescriptionStyleModel",
            "description_width": "",
            "_view_module": "@jupyter-widgets/base",
            "_model_module_version": "1.5.0",
            "_view_count": null,
            "_view_module_version": "1.2.0",
            "_model_module": "@jupyter-widgets/controls"
          }
        },
        "45d8714a5ca24e29aaacdba20ade79f0": {
          "model_module": "@jupyter-widgets/base",
          "model_name": "LayoutModel",
          "state": {
            "_view_name": "LayoutView",
            "grid_template_rows": null,
            "right": null,
            "justify_content": null,
            "_view_module": "@jupyter-widgets/base",
            "overflow": null,
            "_model_module_version": "1.2.0",
            "_view_count": null,
            "flex_flow": null,
            "width": null,
            "min_width": null,
            "border": null,
            "align_items": null,
            "bottom": null,
            "_model_module": "@jupyter-widgets/base",
            "top": null,
            "grid_column": null,
            "overflow_y": null,
            "overflow_x": null,
            "grid_auto_flow": null,
            "grid_area": null,
            "grid_template_columns": null,
            "flex": null,
            "_model_name": "LayoutModel",
            "justify_items": null,
            "grid_row": null,
            "max_height": null,
            "align_content": null,
            "visibility": null,
            "align_self": null,
            "height": null,
            "min_height": null,
            "padding": null,
            "grid_auto_rows": null,
            "grid_gap": null,
            "max_width": null,
            "order": null,
            "_view_module_version": "1.2.0",
            "grid_template_areas": null,
            "object_position": null,
            "object_fit": null,
            "grid_auto_columns": null,
            "margin": null,
            "display": null,
            "left": null
          }
        }
      }
    }
  },
  "cells": [
    {
      "cell_type": "markdown",
      "metadata": {
        "id": "Pk7piq6wQp8c"
      },
      "source": [
        "# Importing libraries"
      ]
    },
    {
      "cell_type": "code",
      "metadata": {
        "id": "pUziEcPlQe8t"
      },
      "source": [
        "import torch\n",
        "import torchvision\n",
        "import torchvision.transforms as transforms\n",
        "from torchvision import models\n",
        "import matplotlib.pyplot as plt\n",
        "import numpy as np\n",
        "import random\n",
        "import torch.nn as nn\n",
        "import torch.nn.functional as F\n",
        "import torch.optim as optim\n",
        "from torch.utils.data import random_split\n",
        "from torch.optim import SGD, Adam, lr_scheduler\n",
        "from copy import deepcopy\n",
        "from torch.nn.init import xavier_uniform_ as xavier"
      ],
      "execution_count": 2,
      "outputs": []
    },
    {
      "cell_type": "code",
      "metadata": {
        "colab": {
          "base_uri": "https://localhost:8080/"
        },
        "id": "PJFw462MQu1r",
        "outputId": "88d5878f-22f7-49f4-ba45-af3ec75f18d7"
      },
      "source": [
        "device = torch.device(\"cuda:0\" if torch.cuda.is_available() else \"cpu\")\n",
        "print(device)"
      ],
      "execution_count": 3,
      "outputs": [
        {
          "output_type": "stream",
          "text": [
            "cuda:0\n"
          ],
          "name": "stdout"
        }
      ]
    },
    {
      "cell_type": "markdown",
      "metadata": {
        "id": "W5y7jriuRT-w"
      },
      "source": [
        "# Utils"
      ]
    },
    {
      "cell_type": "code",
      "metadata": {
        "id": "HPXNveZUyhIQ"
      },
      "source": [
        "def get_test_accuracy(model, best_model, test_loader):\n",
        "    model.load_state_dict(best_model)\n",
        "    size_test = len(test_loader.dataset)\n",
        "\n",
        "    test_correct = 0\n",
        "    with torch.no_grad():\n",
        "        for inputs, labels in test_loader:\n",
        "            outputs = model(inputs.to(device)).cpu()\n",
        "            predicted = torch.argmax(outputs, dim=1)\n",
        "            test_correct += (predicted == labels).sum().item()\n",
        "\n",
        "    print(f\"Test accuracy: {test_correct*100/size_test}%\")\n",
        "    return test_correct*100/size_test\n",
        "            \n",
        "def plot_accuracy(model, epochs = 2):\n",
        "    plt.figure()\n",
        "    plt.plot([i for i in range(epochs)], model.train_accuracy)\n",
        "    plt.plot([i for i in range(epochs)], model.val_accuracy)\n",
        "    plt.xlabel('Epochs')\n",
        "    plt.ylabel('Accuracy')\n",
        "    plt.legend(['Train', 'Validation'])\n",
        "    plt.title('Accuracy for train and test sets')\n",
        "    plt.show()\n",
        "\n",
        "def plot_loss(model, epochs = 2):\n",
        "    plt.figure()\n",
        "    plt.plot([i for i in range(epochs)], model.train_loss)\n",
        "    plt.xlabel('Epochs')\n",
        "    plt.ylabel('Loss')\n",
        "    plt.title('Loss function value on training set during training')\n",
        "    plt.show()\n",
        "\n",
        "def xavier_weights_init(m):\n",
        "    if isinstance(m, nn.Conv2d):\n",
        "        xavier(m.weight.data)\n",
        "\n",
        "def seed_worker(worker_id):\n",
        "    worker_seed = torch.initial_seed() % 2**32\n",
        "    np.random.seed(worker_seed)\n",
        "    random.seed(worker_seed)"
      ],
      "execution_count": 4,
      "outputs": []
    },
    {
      "cell_type": "code",
      "metadata": {
        "id": "J5OMJU78iaT3"
      },
      "source": [
        "def load_data(random_seed = 0):\n",
        "    random.seed(random_seed)\n",
        "    np.random.seed(random_seed)\n",
        "    torch.manual_seed(random_seed)\n",
        "\n",
        "    train_transform = transforms.Compose([                                      \n",
        "        transforms.Resize(224),\n",
        "        transforms.ToTensor(),\n",
        "        transforms.Normalize([0.485, 0.456, 0.406], [0.229, 0.224, 0.225])])\n",
        "\n",
        "    test_transform = transforms.Compose([\n",
        "        transforms.Resize(224),\n",
        "        transforms.ToTensor(),\n",
        "        transforms.Normalize([0.485, 0.456, 0.406], [0.229, 0.224, 0.225])])\n",
        "\n",
        "    train = torchvision.datasets.CIFAR10(root='./data', train=True,\n",
        "                                        download=True, transform=train_transform)\n",
        "\n",
        "    test = torchvision.datasets.CIFAR10(root='./data', train=False,\n",
        "                                       download=True, transform=test_transform)\n",
        "\n",
        "    train, val = random_split(train, [45000, 5000], generator = torch.manual_seed(random_seed))\n",
        "\n",
        "    train_loader = torch.utils.data.DataLoader(train, batch_size=64,\n",
        "                                          shuffle=False, num_workers=2,\n",
        "                                           worker_init_fn=seed_worker)\n",
        "\n",
        "    val_loader = torch.utils.data.DataLoader(val, batch_size=64,\n",
        "                                         shuffle=False, num_workers=2,\n",
        "                                         worker_init_fn=seed_worker)\n",
        "\n",
        "    test_loader = torch.utils.data.DataLoader(test, batch_size=64,\n",
        "                                         shuffle=False, num_workers=2,\n",
        "                                          worker_init_fn=seed_worker)\n",
        "    \n",
        "    return train_loader, val_loader, test_loader"
      ],
      "execution_count": 5,
      "outputs": []
    },
    {
      "cell_type": "code",
      "metadata": {
        "id": "3WAaPiskguIk"
      },
      "source": [
        "def train_cnn(cnn, train_loader, val_loader, test_loader, criterion, optimizer, epochs = 2):\n",
        "    best_accuracy = -1\n",
        "    best_model = None\n",
        "    model.train_loss = list()\n",
        "    model.train_accuracy = list()\n",
        "    model.val_accuracy = list()\n",
        "\n",
        "    size_train = len(train_loader.dataset)\n",
        "    size_val = len(val_loader.dataset)\n",
        "    size_test = len(test_loader.dataset)\n",
        "\n",
        "    for epoch in range(epochs):  \n",
        "\n",
        "        model.train(True)\n",
        "        training_loss = 0\n",
        "        training_correct = 0\n",
        "\n",
        "        for i, data in enumerate(train_loader, 0):\n",
        "\n",
        "            inputs, labels = data\n",
        "            inputs, labels = inputs.cuda(), labels.cuda()\n",
        "            optimizer.zero_grad()\n",
        "\n",
        "            outputs = model(inputs)\n",
        "            loss = criterion(outputs, labels)\n",
        "            loss.backward()\n",
        "            optimizer.step()\n",
        "\n",
        "            training_loss += loss.item() * inputs.size(0)\n",
        "            predicted = torch.argmax(outputs.detach(),dim=1)\n",
        "            training_correct += (predicted == labels).sum().item()\n",
        "    \n",
        "        training_loss = training_loss/size_train\n",
        "        training_accuracy = training_correct*100/size_train\n",
        "    \n",
        "        model.train_loss.append(training_loss)\n",
        "        model.train_accuracy.append(training_accuracy)\n",
        "\n",
        "        print(f\"Epoch {epoch+1}\")\n",
        "        print(f\"Training loss: {training_loss}\")\n",
        "        print(f\"Training accuracy: {training_accuracy}%\")    \n",
        "\n",
        "        validation_correct = 0\n",
        "        model.train(False)\n",
        "        with torch.no_grad():\n",
        "            for inputs,labels in val_loader:\n",
        "                outputs = model(inputs.cuda()).cpu()\n",
        "                predicted = torch.argmax(outputs.detach(), dim=1)\n",
        "                validation_correct += (predicted == labels).sum().item()\n",
        "\n",
        "        val_accuracy = validation_correct*100/size_val\n",
        "        model.val_accuracy.append(val_accuracy)\n",
        "\n",
        "        print(f\"Validation accuracy: {val_accuracy}%\")\n",
        "\n",
        "        if validation_correct > best_accuracy:\n",
        "            best_accuracy = validation_correct\n",
        "            best_model = deepcopy(model.state_dict())\n",
        "\n",
        "        test_correct = 0\n",
        "        with torch.no_grad():\n",
        "            for inputs, labels in test_loader:\n",
        "                outputs = model(inputs.cuda()).cpu()\n",
        "                predicted = torch.argmax(outputs, dim=1)\n",
        "                test_correct += (predicted == labels).sum().item()\n",
        "\n",
        "        print(f\"Test accuracy: {test_correct*100/size_test}%\")\n",
        "\n",
        "        scheduler.step()\n",
        "        print('-'*30)\n",
        "\n",
        "    print('Finished Training')\n",
        "    return best_model"
      ],
      "execution_count": 6,
      "outputs": []
    },
    {
      "cell_type": "markdown",
      "metadata": {
        "id": "_rb0_Ii7RqIA"
      },
      "source": [
        "# VGG16 pretrained on ImageNet - only last layer changed"
      ]
    },
    {
      "cell_type": "code",
      "metadata": {
        "id": "9814lFG4SY_a"
      },
      "source": [
        "class VGG16CNN(nn.Module):\n",
        "    def __init__(self):\n",
        "        super(VGG16CNN, self).__init__()\n",
        "        pretrained_model = models.vgg16_bn(pretrained=True)\n",
        "        # print(pretrained_model.classifier)\n",
        "        # change last layer to classify into 10 instead of 1000\n",
        "        pretrained_model.classifier[6] = nn.Sequential(\n",
        "                      nn.Linear(4096, 10))\n",
        "\n",
        "        # freeze weights of all the models\n",
        "        for param in pretrained_model.parameters():\n",
        "            param.requires_grad = False\n",
        "        # unfreeze the last layer so it can be trained\n",
        "        for param in pretrained_model.classifier[6].parameters():\n",
        "            param.requires_grad = True\n",
        "\n",
        "        self.pretrained_model = pretrained_model\n",
        "    \n",
        "    def forward(self,x):\n",
        "        x = self.pretrained_model(x)\n",
        "        return x"
      ],
      "execution_count": 7,
      "outputs": []
    },
    {
      "cell_type": "code",
      "metadata": {
        "id": "7zByy2HKgU_g",
        "colab": {
          "base_uri": "https://localhost:8080/"
        },
        "outputId": "71c27768-9d55-4e3c-8714-d4733c7d540f"
      },
      "source": [
        "train_loader, val_loader, test_loader = load_data(0)\n",
        "model = VGG16CNN().cuda()\n",
        "criterion = nn.CrossEntropyLoss()\n",
        "optimizer = Adam(model.parameters(), lr=0.001)\n",
        "scheduler = lr_scheduler.StepLR(optimizer, step_size=1, gamma=0.1)\n",
        "best_model = train_cnn(model, train_loader, val_loader, test_loader, criterion, optimizer, epochs = 5)"
      ],
      "execution_count": 8,
      "outputs": [
        {
          "output_type": "stream",
          "text": [
            "Files already downloaded and verified\n",
            "Files already downloaded and verified\n",
            "Epoch 1\n",
            "Training loss: 0.8305161094029745\n",
            "Training accuracy: 70.9888888888889%\n",
            "Validation accuracy: 77.32%\n",
            "Test accuracy: 77.87%\n",
            "------------------------------\n",
            "Epoch 2\n",
            "Training loss: 0.7109052604251438\n",
            "Training accuracy: 75.00444444444445%\n",
            "Validation accuracy: 78.78%\n",
            "Test accuracy: 78.66%\n",
            "------------------------------\n",
            "Epoch 3\n",
            "Training loss: 0.6909681445121765\n",
            "Training accuracy: 75.74%\n",
            "Validation accuracy: 79.08%\n",
            "Test accuracy: 78.84%\n",
            "------------------------------\n",
            "Epoch 4\n",
            "Training loss: 0.692745089424981\n",
            "Training accuracy: 75.66%\n",
            "Validation accuracy: 79.02%\n",
            "Test accuracy: 78.9%\n",
            "------------------------------\n",
            "Epoch 5\n",
            "Training loss: 0.6905946236292522\n",
            "Training accuracy: 75.9888888888889%\n",
            "Validation accuracy: 79.02%\n",
            "Test accuracy: 78.91%\n",
            "------------------------------\n",
            "Finished Training\n"
          ],
          "name": "stdout"
        }
      ]
    },
    {
      "cell_type": "code",
      "metadata": {
        "colab": {
          "base_uri": "https://localhost:8080/"
        },
        "id": "cx-frMDV0MAc",
        "outputId": "59d656b1-482b-4405-b94a-95626dd55f30"
      },
      "source": [
        "get_test_accuracy(model, best_model, test_loader)"
      ],
      "execution_count": 13,
      "outputs": [
        {
          "output_type": "stream",
          "text": [
            "Test accuracy: 78.84%\n"
          ],
          "name": "stdout"
        },
        {
          "output_type": "execute_result",
          "data": {
            "text/plain": [
              "78.84"
            ]
          },
          "metadata": {
            "tags": []
          },
          "execution_count": 13
        }
      ]
    },
    {
      "cell_type": "code",
      "metadata": {
        "id": "0LDSCGtmq-Zn",
        "colab": {
          "base_uri": "https://localhost:8080/",
          "height": 295
        },
        "outputId": "99d8b9ac-a8b2-4408-e09f-2556401d3cbb"
      },
      "source": [
        "plot_accuracy(model, epochs = 5)"
      ],
      "execution_count": 14,
      "outputs": [
        {
          "output_type": "display_data",
          "data": {
            "image/png": "[encoded data removed]",
            "text/plain": [
              "<Figure size 432x288 with 1 Axes>"
            ]
          },
          "metadata": {
            "tags": [],
            "needs_background": "light"
          }
        }
      ]
    },
    {
      "cell_type": "code",
      "metadata": {
        "colab": {
          "base_uri": "https://localhost:8080/",
          "height": 234,
          "referenced_widgets": [
            "716f24898c4246daba9c790d719cedda",
            "99f872a15dd7496ba010c9531dca8196",
            "8e5fbb60efcb487bb90bdbc6e38a4c62",
            "3575106ccb5845d3a60a25ea4bf7fc22",
            "a9902918ddfe4d4db9a74564d2328b38",
            "a2934831522242b08455d1e1207b19e6",
            "680e9292fb9e4ff9bd131dc8af5776c7",
            "abe68c7f92e748c4bf4e74cceac307f8",
            "cf3ed6c2b2694e6eb6272a9f8c4c16ee",
            "2df2f5feaac9403d873008dab538e86e",
            "1bf2e25e6a434fbcbd1cee300621e096",
            "da2ed78b0e97450183f777e01c2030d2",
            "bf319d82f41545ac83a56052be8e5907",
            "ccb5e06b0c8342648fda9ac7d1f20e39",
            "8e8951a1a3954a4ba64b355b7744a725",
            "45d8714a5ca24e29aaacdba20ade79f0"
          ]
        },
        "id": "ZFkSWvUWzclp",
        "outputId": "16397405-a3c5-475a-db09-ca5003933126"
      },
      "source": [
        "test_acc = [78.84]\n",
        "for i in range(1, 3):\n",
        "    train_loader, val_loader, test_loader = load_data(i)\n",
        "    model = VGG16CNN().cuda()\n",
        "    criterion = nn.CrossEntropyLoss()\n",
        "    optimizer = Adam(model.parameters(), lr=0.001)\n",
        "    scheduler = lr_scheduler.StepLR(optimizer, step_size=1, gamma=0.1)\n",
        "    best_model = train_cnn(model, train_loader, val_loader, test_loader, criterion, optimizer, epochs = 5)\n",
        "    test_acc.append(get_test_accuracy(model, best_model, test_loader))\n",
        "print(test_acc)"
      ],
      "execution_count": null,
      "outputs": [
        {
          "output_type": "stream",
          "text": [
            "Downloading https://www.cs.toronto.edu/~kriz/cifar-10-python.tar.gz to ./data/cifar-10-python.tar.gz\n"
          ],
          "name": "stdout"
        },
        {
          "output_type": "display_data",
          "data": {
            "application/vnd.jupyter.widget-view+json": {
              "model_id": "716f24898c4246daba9c790d719cedda",
              "version_minor": 0,
              "version_major": 2
            },
            "text/plain": [
              "HBox(children=(FloatProgress(value=0.0, max=170498071.0), HTML(value='')))"
            ]
          },
          "metadata": {
            "tags": []
          }
        },
        {
          "output_type": "stream",
          "text": [
            "\n",
            "Extracting ./data/cifar-10-python.tar.gz to ./data\n",
            "Files already downloaded and verified\n"
          ],
          "name": "stdout"
        },
        {
          "output_type": "stream",
          "text": [
            "Downloading: \"https://download.pytorch.org/models/vgg16_bn-6c64b313.pth\" to /root/.cache/torch/hub/checkpoints/vgg16_bn-6c64b313.pth\n"
          ],
          "name": "stderr"
        },
        {
          "output_type": "display_data",
          "data": {
            "application/vnd.jupyter.widget-view+json": {
              "model_id": "cf3ed6c2b2694e6eb6272a9f8c4c16ee",
              "version_minor": 0,
              "version_major": 2
            },
            "text/plain": [
              "HBox(children=(FloatProgress(value=0.0, max=553507836.0), HTML(value='')))"
            ]
          },
          "metadata": {
            "tags": []
          }
        },
        {
          "output_type": "stream",
          "text": [
            "\n",
            "Epoch 1\n",
            "Training loss: 0.8355748741785686\n",
            "Training accuracy: 70.89333333333333%\n"
          ],
          "name": "stdout"
        }
      ]
    },
    {
      "cell_type": "code",
      "metadata": {
        "id": "Xw8nAi4EfqmZ"
      },
      "source": [
        "print(np.mean(test_acc))"
      ],
      "execution_count": null,
      "outputs": []
    },
    {
      "cell_type": "markdown",
      "metadata": {
        "id": "Eu4GbVMQE3oP"
      },
      "source": [
        "# VGG pretrained on ImageNet - all classification layers changed"
      ]
    },
    {
      "cell_type": "code",
      "metadata": {
        "id": "ByPdFhUXysCh"
      },
      "source": [
        "class VGG16CNN(nn.Module):\n",
        "    def __init__(self):\n",
        "        super(VGG16CNN, self).__init__()\n",
        "        pretrained_model = models.vgg16_bn(pretrained=True)\n",
        "        # print(pretrained_model.classifier)\n",
        "        # print(pretrained_model.features)\n",
        "\n",
        "        # change last layer to classify into 10 instead of 1000\n",
        "        pretrained_model.classifier[6] = nn.Linear(4096, 10)\n",
        "\n",
        "        # freeze weights of features, train classification layers\n",
        "        for param in pretrained_model.features.parameters():\n",
        "            param.requires_grad = False\n",
        "\n",
        "        self.pretrained_model = pretrained_model\n",
        "    \n",
        "    def forward(self,x):\n",
        "        x = self.pretrained_model(x)\n",
        "        return x"
      ],
      "execution_count": null,
      "outputs": []
    },
    {
      "cell_type": "code",
      "metadata": {
        "id": "0vS9zjkXFRak"
      },
      "source": [
        "test_acc = []\n",
        "for i in range(3):\n",
        "    train_loader, val_loader, test_loader = load_data(i)\n",
        "    model = VGG16CNN().cuda()\n",
        "    criterion = nn.CrossEntropyLoss()\n",
        "    optimizer = Adam(model.parameters(), lr=0.001)\n",
        "    scheduler = lr_scheduler.StepLR(optimizer, step_size=1, gamma=0.1)\n",
        "    best_model = train_cnn(model, train_loader, val_loader, test_loader, criterion, optimizer, epochs = 3)\n",
        "    test_acc.append(get_test_accuracy(model, best_model, test_loader))\n",
        "print(test_acc)"
      ],
      "execution_count": null,
      "outputs": []
    },
    {
      "cell_type": "code",
      "metadata": {
        "id": "acn4Od3FfwKt"
      },
      "source": [
        "print(np.mean(test_acc))"
      ],
      "execution_count": null,
      "outputs": []
    },
    {
      "cell_type": "code",
      "metadata": {
        "id": "NYM-CcrqfeHf"
      },
      "source": [
        "plot_accuracy(model)"
      ],
      "execution_count": null,
      "outputs": []
    },
    {
      "cell_type": "markdown",
      "metadata": {
        "id": "qHXJFdlSVGJd"
      },
      "source": [
        "# VGG without batch normalisation - all classification layers changed"
      ]
    },
    {
      "cell_type": "code",
      "metadata": {
        "id": "lZC54dGcVCUF"
      },
      "source": [
        "class VGG16CNN(nn.Module):\n",
        "    def __init__(self):\n",
        "        super(VGG16CNN, self).__init__()\n",
        "        pretrained_model = models.vgg16(pretrained=True)\n",
        "        # print(pretrained_model.classifier)\n",
        "        # print(pretrained_model.features)\n",
        "\n",
        "        # change last layer to classify into 10 instead of 1000\n",
        "        pretrained_model.classifier[6] = nn.Linear(4096, 10)\n",
        "\n",
        "        # freeze weights of features, train classification layers\n",
        "        for param in pretrained_model.features.parameters():\n",
        "            param.requires_grad = False\n",
        "\n",
        "        self.pretrained_model = pretrained_model\n",
        "    \n",
        "    def forward(self,x):\n",
        "        x = self.pretrained_model(x)\n",
        "        return x"
      ],
      "execution_count": null,
      "outputs": []
    },
    {
      "cell_type": "code",
      "metadata": {
        "id": "GnjkgftmezUX"
      },
      "source": [
        "test_acc = []\n",
        "for i in range(3):\n",
        "    train_loader, val_loader, test_loader = load_data(i)\n",
        "    model = VGG16CNN().cuda()\n",
        "    criterion = nn.CrossEntropyLoss()\n",
        "    optimizer = Adam(model.parameters(), lr=0.001)\n",
        "    scheduler = lr_scheduler.StepLR(optimizer, step_size=1, gamma=0.1)\n",
        "    best_model = train_cnn(model, train_loader, val_loader, test_loader, criterion, optimizer, epochs = 3)\n",
        "    test_acc.append(get_test_accuracy(model, best_model, test_loader))\n",
        "print(test_acc)"
      ],
      "execution_count": null,
      "outputs": []
    },
    {
      "cell_type": "code",
      "metadata": {
        "id": "-2_EitQUfysM"
      },
      "source": [
        "print(np.mean(test_acc))"
      ],
      "execution_count": null,
      "outputs": []
    },
    {
      "cell_type": "code",
      "metadata": {
        "id": "uiLyhEUHfbi9"
      },
      "source": [
        "plot_accuracy(model)"
      ],
      "execution_count": null,
      "outputs": []
    },
    {
      "cell_type": "markdown",
      "metadata": {
        "id": "aweIegLn2MRJ"
      },
      "source": [
        "# Different optimizer for VGG without batch normalization\n"
      ]
    },
    {
      "cell_type": "code",
      "metadata": {
        "id": "BZsGluCg2lwY"
      },
      "source": [
        "class VGG16CNN(nn.Module):\n",
        "    def __init__(self):\n",
        "        super(VGG16CNN, self).__init__()\n",
        "        pretrained_model = models.vgg16(pretrained=True)\n",
        "\n",
        "        # change last layer to classify into 10 instead of 1000\n",
        "        pretrained_model.classifier[6] = nn.Linear(4096, 10)\n",
        "\n",
        "        # freeze weights of features, train classification layers\n",
        "        for param in pretrained_model.features.parameters():\n",
        "            param.requires_grad = False\n",
        "\n",
        "        self.pretrained_model = pretrained_model\n",
        "    \n",
        "    def forward(self,x):\n",
        "        x = self.pretrained_model(x)\n",
        "        return x"
      ],
      "execution_count": null,
      "outputs": []
    },
    {
      "cell_type": "code",
      "metadata": {
        "id": "9Z06c3yO2sBG"
      },
      "source": [
        "for i in range(3):\n",
        "    train_loader, val_loader, test_loader = load_data(i)\n",
        "    model = VGG16CNN().cuda()\n",
        "    criterion = nn.CrossEntropyLoss()\n",
        "    optimizer = SGD(model.parameters(), lr=0.001)\n",
        "    scheduler = lr_scheduler.StepLR(optimizer, step_size=1, gamma=0.1)\n",
        "    best_model = train_cnn(model, train_loader, val_loader, test_loader, criterion, optimizer, epochs = 3)\n",
        "    test_acc.append(get_test_accuracy(model, best_model, test_loader))\n",
        "print(test_acc)"
      ],
      "execution_count": null,
      "outputs": []
    },
    {
      "cell_type": "code",
      "metadata": {
        "id": "Ssp0Laebf0QQ"
      },
      "source": [
        "print(np.mean(test_acc))"
      ],
      "execution_count": null,
      "outputs": []
    },
    {
      "cell_type": "code",
      "metadata": {
        "id": "WXK53SsPfYJX"
      },
      "source": [
        "plot_accuracy(model)"
      ],
      "execution_count": null,
      "outputs": []
    }
  ]
}
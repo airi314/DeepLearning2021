{
  "nbformat": 4,
  "nbformat_minor": 0,
  "metadata": {
    "accelerator": "GPU",
    "colab": {
      "name": "vgg_model.ipynb",
      "provenance": [],
      "collapsed_sections": [
        "Pk7piq6wQp8c",
        "W5y7jriuRT-w",
        "_rb0_Ii7RqIA",
        "Eu4GbVMQE3oP",
        "qHXJFdlSVGJd"
      ],
      "toc_visible": true
    },
    "kernelspec": {
      "display_name": "Python 3",
      "name": "python3"
    },
    "language_info": {
      "name": "python"
    },
    "widgets": {
      "application/vnd.jupyter.widget-state+json": {
        "716f24898c4246daba9c790d719cedda": {
          "model_module": "@jupyter-widgets/controls",
          "model_name": "HBoxModel",
          "state": {
            "_dom_classes": [],
            "_model_module": "@jupyter-widgets/controls",
            "_model_module_version": "1.5.0",
            "_model_name": "HBoxModel",
            "_view_count": null,
            "_view_module": "@jupyter-widgets/controls",
            "_view_module_version": "1.5.0",
            "_view_name": "HBoxView",
            "box_style": "",
            "children": [
              "IPY_MODEL_8e5fbb60efcb487bb90bdbc6e38a4c62",
              "IPY_MODEL_3575106ccb5845d3a60a25ea4bf7fc22"
            ],
            "layout": "IPY_MODEL_99f872a15dd7496ba010c9531dca8196"
          }
        },
        "8e5fbb60efcb487bb90bdbc6e38a4c62": {
          "model_module": "@jupyter-widgets/controls",
          "model_name": "FloatProgressModel",
          "state": {
            "_dom_classes": [],
            "_model_module": "@jupyter-widgets/controls",
            "_model_module_version": "1.5.0",
            "_model_name": "FloatProgressModel",
            "_view_count": null,
            "_view_module": "@jupyter-widgets/controls",
            "_view_module_version": "1.5.0",
            "_view_name": "ProgressView",
            "bar_style": "success",
            "description": "",
            "description_tooltip": null,
            "layout": "IPY_MODEL_a2934831522242b08455d1e1207b19e6",
            "max": 170498071,
            "min": 0,
            "orientation": "horizontal",
            "style": "IPY_MODEL_a9902918ddfe4d4db9a74564d2328b38",
            "value": 170498071
          }
        },
        "3575106ccb5845d3a60a25ea4bf7fc22": {
          "model_module": "@jupyter-widgets/controls",
          "model_name": "HTMLModel",
          "state": {
            "_dom_classes": [],
            "_model_module": "@jupyter-widgets/controls",
            "_model_module_version": "1.5.0",
            "_model_name": "HTMLModel",
            "_view_count": null,
            "_view_module": "@jupyter-widgets/controls",
            "_view_module_version": "1.5.0",
            "_view_name": "HTMLView",
            "description": "",
            "description_tooltip": null,
            "layout": "IPY_MODEL_abe68c7f92e748c4bf4e74cceac307f8",
            "placeholder": "​",
            "style": "IPY_MODEL_680e9292fb9e4ff9bd131dc8af5776c7",
            "value": " 170499072/? [54:38&lt;00:00, 52008.12it/s]"
          }
        },
        "99f872a15dd7496ba010c9531dca8196": {
          "model_module": "@jupyter-widgets/base",
          "model_name": "LayoutModel",
          "state": {
            "_model_module": "@jupyter-widgets/base",
            "_model_module_version": "1.2.0",
            "_model_name": "LayoutModel",
            "_view_count": null,
            "_view_module": "@jupyter-widgets/base",
            "_view_module_version": "1.2.0",
            "_view_name": "LayoutView",
            "align_content": null,
            "align_items": null,
            "align_self": null,
            "border": null,
            "bottom": null,
            "display": null,
            "flex": null,
            "flex_flow": null,
            "grid_area": null,
            "grid_auto_columns": null,
            "grid_auto_flow": null,
            "grid_auto_rows": null,
            "grid_column": null,
            "grid_gap": null,
            "grid_row": null,
            "grid_template_areas": null,
            "grid_template_columns": null,
            "grid_template_rows": null,
            "height": null,
            "justify_content": null,
            "justify_items": null,
            "left": null,
            "margin": null,
            "max_height": null,
            "max_width": null,
            "min_height": null,
            "min_width": null,
            "object_fit": null,
            "object_position": null,
            "order": null,
            "overflow": null,
            "overflow_x": null,
            "overflow_y": null,
            "padding": null,
            "right": null,
            "top": null,
            "visibility": null,
            "width": null
          }
        },
        "a2934831522242b08455d1e1207b19e6": {
          "model_module": "@jupyter-widgets/base",
          "model_name": "LayoutModel",
          "state": {
            "_model_module": "@jupyter-widgets/base",
            "_model_module_version": "1.2.0",
            "_model_name": "LayoutModel",
            "_view_count": null,
            "_view_module": "@jupyter-widgets/base",
            "_view_module_version": "1.2.0",
            "_view_name": "LayoutView",
            "align_content": null,
            "align_items": null,
            "align_self": null,
            "border": null,
            "bottom": null,
            "display": null,
            "flex": null,
            "flex_flow": null,
            "grid_area": null,
            "grid_auto_columns": null,
            "grid_auto_flow": null,
            "grid_auto_rows": null,
            "grid_column": null,
            "grid_gap": null,
            "grid_row": null,
            "grid_template_areas": null,
            "grid_template_columns": null,
            "grid_template_rows": null,
            "height": null,
            "justify_content": null,
            "justify_items": null,
            "left": null,
            "margin": null,
            "max_height": null,
            "max_width": null,
            "min_height": null,
            "min_width": null,
            "object_fit": null,
            "object_position": null,
            "order": null,
            "overflow": null,
            "overflow_x": null,
            "overflow_y": null,
            "padding": null,
            "right": null,
            "top": null,
            "visibility": null,
            "width": null
          }
        },
        "a9902918ddfe4d4db9a74564d2328b38": {
          "model_module": "@jupyter-widgets/controls",
          "model_name": "ProgressStyleModel",
          "state": {
            "_model_module": "@jupyter-widgets/controls",
            "_model_module_version": "1.5.0",
            "_model_name": "ProgressStyleModel",
            "_view_count": null,
            "_view_module": "@jupyter-widgets/base",
            "_view_module_version": "1.2.0",
            "_view_name": "StyleView",
            "bar_color": null,
            "description_width": "initial"
          }
        },
        "abe68c7f92e748c4bf4e74cceac307f8": {
          "model_module": "@jupyter-widgets/base",
          "model_name": "LayoutModel",
          "state": {
            "_model_module": "@jupyter-widgets/base",
            "_model_module_version": "1.2.0",
            "_model_name": "LayoutModel",
            "_view_count": null,
            "_view_module": "@jupyter-widgets/base",
            "_view_module_version": "1.2.0",
            "_view_name": "LayoutView",
            "align_content": null,
            "align_items": null,
            "align_self": null,
            "border": null,
            "bottom": null,
            "display": null,
            "flex": null,
            "flex_flow": null,
            "grid_area": null,
            "grid_auto_columns": null,
            "grid_auto_flow": null,
            "grid_auto_rows": null,
            "grid_column": null,
            "grid_gap": null,
            "grid_row": null,
            "grid_template_areas": null,
            "grid_template_columns": null,
            "grid_template_rows": null,
            "height": null,
            "justify_content": null,
            "justify_items": null,
            "left": null,
            "margin": null,
            "max_height": null,
            "max_width": null,
            "min_height": null,
            "min_width": null,
            "object_fit": null,
            "object_position": null,
            "order": null,
            "overflow": null,
            "overflow_x": null,
            "overflow_y": null,
            "padding": null,
            "right": null,
            "top": null,
            "visibility": null,
            "width": null
          }
        },
        "680e9292fb9e4ff9bd131dc8af5776c7": {
          "model_module": "@jupyter-widgets/controls",
          "model_name": "DescriptionStyleModel",
          "state": {
            "_model_module": "@jupyter-widgets/controls",
            "_model_module_version": "1.5.0",
            "_model_name": "DescriptionStyleModel",
            "_view_count": null,
            "_view_module": "@jupyter-widgets/base",
            "_view_module_version": "1.2.0",
            "_view_name": "StyleView",
            "description_width": ""
          }
        },
        "cf3ed6c2b2694e6eb6272a9f8c4c16ee": {
          "model_module": "@jupyter-widgets/controls",
          "model_name": "HBoxModel",
          "state": {
            "_dom_classes": [],
            "_model_module": "@jupyter-widgets/controls",
            "_model_module_version": "1.5.0",
            "_model_name": "HBoxModel",
            "_view_count": null,
            "_view_module": "@jupyter-widgets/controls",
            "_view_module_version": "1.5.0",
            "_view_name": "HBoxView",
            "box_style": "",
            "children": [
              "IPY_MODEL_1bf2e25e6a434fbcbd1cee300621e096",
              "IPY_MODEL_da2ed78b0e97450183f777e01c2030d2"
            ],
            "layout": "IPY_MODEL_2df2f5feaac9403d873008dab538e86e"
          }
        },
        "1bf2e25e6a434fbcbd1cee300621e096": {
          "model_module": "@jupyter-widgets/controls",
          "model_name": "FloatProgressModel",
          "state": {
            "_dom_classes": [],
            "_model_module": "@jupyter-widgets/controls",
            "_model_module_version": "1.5.0",
            "_model_name": "FloatProgressModel",
            "_view_count": null,
            "_view_module": "@jupyter-widgets/controls",
            "_view_module_version": "1.5.0",
            "_view_name": "ProgressView",
            "bar_style": "success",
            "description": "100%",
            "description_tooltip": null,
            "layout": "IPY_MODEL_ccb5e06b0c8342648fda9ac7d1f20e39",
            "max": 553507836,
            "min": 0,
            "orientation": "horizontal",
            "style": "IPY_MODEL_bf319d82f41545ac83a56052be8e5907",
            "value": 553507836
          }
        },
        "da2ed78b0e97450183f777e01c2030d2": {
          "model_module": "@jupyter-widgets/controls",
          "model_name": "HTMLModel",
          "state": {
            "_dom_classes": [],
            "_model_module": "@jupyter-widgets/controls",
            "_model_module_version": "1.5.0",
            "_model_name": "HTMLModel",
            "_view_count": null,
            "_view_module": "@jupyter-widgets/controls",
            "_view_module_version": "1.5.0",
            "_view_name": "HTMLView",
            "description": "",
            "description_tooltip": null,
            "layout": "IPY_MODEL_45d8714a5ca24e29aaacdba20ade79f0",
            "placeholder": "​",
            "style": "IPY_MODEL_8e8951a1a3954a4ba64b355b7744a725",
            "value": " 528M/528M [54:30&lt;00:00, 169kB/s]"
          }
        },
        "2df2f5feaac9403d873008dab538e86e": {
          "model_module": "@jupyter-widgets/base",
          "model_name": "LayoutModel",
          "state": {
            "_model_module": "@jupyter-widgets/base",
            "_model_module_version": "1.2.0",
            "_model_name": "LayoutModel",
            "_view_count": null,
            "_view_module": "@jupyter-widgets/base",
            "_view_module_version": "1.2.0",
            "_view_name": "LayoutView",
            "align_content": null,
            "align_items": null,
            "align_self": null,
            "border": null,
            "bottom": null,
            "display": null,
            "flex": null,
            "flex_flow": null,
            "grid_area": null,
            "grid_auto_columns": null,
            "grid_auto_flow": null,
            "grid_auto_rows": null,
            "grid_column": null,
            "grid_gap": null,
            "grid_row": null,
            "grid_template_areas": null,
            "grid_template_columns": null,
            "grid_template_rows": null,
            "height": null,
            "justify_content": null,
            "justify_items": null,
            "left": null,
            "margin": null,
            "max_height": null,
            "max_width": null,
            "min_height": null,
            "min_width": null,
            "object_fit": null,
            "object_position": null,
            "order": null,
            "overflow": null,
            "overflow_x": null,
            "overflow_y": null,
            "padding": null,
            "right": null,
            "top": null,
            "visibility": null,
            "width": null
          }
        },
        "ccb5e06b0c8342648fda9ac7d1f20e39": {
          "model_module": "@jupyter-widgets/base",
          "model_name": "LayoutModel",
          "state": {
            "_model_module": "@jupyter-widgets/base",
            "_model_module_version": "1.2.0",
            "_model_name": "LayoutModel",
            "_view_count": null,
            "_view_module": "@jupyter-widgets/base",
            "_view_module_version": "1.2.0",
            "_view_name": "LayoutView",
            "align_content": null,
            "align_items": null,
            "align_self": null,
            "border": null,
            "bottom": null,
            "display": null,
            "flex": null,
            "flex_flow": null,
            "grid_area": null,
            "grid_auto_columns": null,
            "grid_auto_flow": null,
            "grid_auto_rows": null,
            "grid_column": null,
            "grid_gap": null,
            "grid_row": null,
            "grid_template_areas": null,
            "grid_template_columns": null,
            "grid_template_rows": null,
            "height": null,
            "justify_content": null,
            "justify_items": null,
            "left": null,
            "margin": null,
            "max_height": null,
            "max_width": null,
            "min_height": null,
            "min_width": null,
            "object_fit": null,
            "object_position": null,
            "order": null,
            "overflow": null,
            "overflow_x": null,
            "overflow_y": null,
            "padding": null,
            "right": null,
            "top": null,
            "visibility": null,
            "width": null
          }
        },
        "bf319d82f41545ac83a56052be8e5907": {
          "model_module": "@jupyter-widgets/controls",
          "model_name": "ProgressStyleModel",
          "state": {
            "_model_module": "@jupyter-widgets/controls",
            "_model_module_version": "1.5.0",
            "_model_name": "ProgressStyleModel",
            "_view_count": null,
            "_view_module": "@jupyter-widgets/base",
            "_view_module_version": "1.2.0",
            "_view_name": "StyleView",
            "bar_color": null,
            "description_width": "initial"
          }
        },
        "45d8714a5ca24e29aaacdba20ade79f0": {
          "model_module": "@jupyter-widgets/base",
          "model_name": "LayoutModel",
          "state": {
            "_model_module": "@jupyter-widgets/base",
            "_model_module_version": "1.2.0",
            "_model_name": "LayoutModel",
            "_view_count": null,
            "_view_module": "@jupyter-widgets/base",
            "_view_module_version": "1.2.0",
            "_view_name": "LayoutView",
            "align_content": null,
            "align_items": null,
            "align_self": null,
            "border": null,
            "bottom": null,
            "display": null,
            "flex": null,
            "flex_flow": null,
            "grid_area": null,
            "grid_auto_columns": null,
            "grid_auto_flow": null,
            "grid_auto_rows": null,
            "grid_column": null,
            "grid_gap": null,
            "grid_row": null,
            "grid_template_areas": null,
            "grid_template_columns": null,
            "grid_template_rows": null,
            "height": null,
            "justify_content": null,
            "justify_items": null,
            "left": null,
            "margin": null,
            "max_height": null,
            "max_width": null,
            "min_height": null,
            "min_width": null,
            "object_fit": null,
            "object_position": null,
            "order": null,
            "overflow": null,
            "overflow_x": null,
            "overflow_y": null,
            "padding": null,
            "right": null,
            "top": null,
            "visibility": null,
            "width": null
          }
        },
        "8e8951a1a3954a4ba64b355b7744a725": {
          "model_module": "@jupyter-widgets/controls",
          "model_name": "DescriptionStyleModel",
          "state": {
            "_model_module": "@jupyter-widgets/controls",
            "_model_module_version": "1.5.0",
            "_model_name": "DescriptionStyleModel",
            "_view_count": null,
            "_view_module": "@jupyter-widgets/base",
            "_view_module_version": "1.2.0",
            "_view_name": "StyleView",
            "description_width": ""
          }
        },
        "a1bc357798294bebb2e87a487c409239": {
          "model_module": "@jupyter-widgets/controls",
          "model_name": "HBoxModel",
          "state": {
            "_dom_classes": [],
            "_model_module": "@jupyter-widgets/controls",
            "_model_module_version": "1.5.0",
            "_model_name": "HBoxModel",
            "_view_count": null,
            "_view_module": "@jupyter-widgets/controls",
            "_view_module_version": "1.5.0",
            "_view_name": "HBoxView",
            "box_style": "",
            "children": [
              "IPY_MODEL_e1e1b144123542a4850b2cf03a5419bb",
              "IPY_MODEL_39bbc30827284200808e8d12e6078435"
            ],
            "layout": "IPY_MODEL_d5faf3541a3d4829971b6d11b87692ab"
          }
        },
        "e1e1b144123542a4850b2cf03a5419bb": {
          "model_module": "@jupyter-widgets/controls",
          "model_name": "FloatProgressModel",
          "state": {
            "_dom_classes": [],
            "_model_module": "@jupyter-widgets/controls",
            "_model_module_version": "1.5.0",
            "_model_name": "FloatProgressModel",
            "_view_count": null,
            "_view_module": "@jupyter-widgets/controls",
            "_view_module_version": "1.5.0",
            "_view_name": "ProgressView",
            "bar_style": "success",
            "description": "",
            "description_tooltip": null,
            "layout": "IPY_MODEL_7a3b267d21a94de0ad30329eb82a721d",
            "max": 170498071,
            "min": 0,
            "orientation": "horizontal",
            "style": "IPY_MODEL_a5f04de19fc248adacf21fd5091f6619",
            "value": 170498071
          }
        },
        "39bbc30827284200808e8d12e6078435": {
          "model_module": "@jupyter-widgets/controls",
          "model_name": "HTMLModel",
          "state": {
            "_dom_classes": [],
            "_model_module": "@jupyter-widgets/controls",
            "_model_module_version": "1.5.0",
            "_model_name": "HTMLModel",
            "_view_count": null,
            "_view_module": "@jupyter-widgets/controls",
            "_view_module_version": "1.5.0",
            "_view_name": "HTMLView",
            "description": "",
            "description_tooltip": null,
            "layout": "IPY_MODEL_10eeee36dfed4f5ea0c5b444b7a8a647",
            "placeholder": "​",
            "style": "IPY_MODEL_b9e37fec6eb54e3db6d99aa34da18862",
            "value": " 170499072/? [00:03&lt;00:00, 48260482.50it/s]"
          }
        },
        "d5faf3541a3d4829971b6d11b87692ab": {
          "model_module": "@jupyter-widgets/base",
          "model_name": "LayoutModel",
          "state": {
            "_model_module": "@jupyter-widgets/base",
            "_model_module_version": "1.2.0",
            "_model_name": "LayoutModel",
            "_view_count": null,
            "_view_module": "@jupyter-widgets/base",
            "_view_module_version": "1.2.0",
            "_view_name": "LayoutView",
            "align_content": null,
            "align_items": null,
            "align_self": null,
            "border": null,
            "bottom": null,
            "display": null,
            "flex": null,
            "flex_flow": null,
            "grid_area": null,
            "grid_auto_columns": null,
            "grid_auto_flow": null,
            "grid_auto_rows": null,
            "grid_column": null,
            "grid_gap": null,
            "grid_row": null,
            "grid_template_areas": null,
            "grid_template_columns": null,
            "grid_template_rows": null,
            "height": null,
            "justify_content": null,
            "justify_items": null,
            "left": null,
            "margin": null,
            "max_height": null,
            "max_width": null,
            "min_height": null,
            "min_width": null,
            "object_fit": null,
            "object_position": null,
            "order": null,
            "overflow": null,
            "overflow_x": null,
            "overflow_y": null,
            "padding": null,
            "right": null,
            "top": null,
            "visibility": null,
            "width": null
          }
        },
        "7a3b267d21a94de0ad30329eb82a721d": {
          "model_module": "@jupyter-widgets/base",
          "model_name": "LayoutModel",
          "state": {
            "_model_module": "@jupyter-widgets/base",
            "_model_module_version": "1.2.0",
            "_model_name": "LayoutModel",
            "_view_count": null,
            "_view_module": "@jupyter-widgets/base",
            "_view_module_version": "1.2.0",
            "_view_name": "LayoutView",
            "align_content": null,
            "align_items": null,
            "align_self": null,
            "border": null,
            "bottom": null,
            "display": null,
            "flex": null,
            "flex_flow": null,
            "grid_area": null,
            "grid_auto_columns": null,
            "grid_auto_flow": null,
            "grid_auto_rows": null,
            "grid_column": null,
            "grid_gap": null,
            "grid_row": null,
            "grid_template_areas": null,
            "grid_template_columns": null,
            "grid_template_rows": null,
            "height": null,
            "justify_content": null,
            "justify_items": null,
            "left": null,
            "margin": null,
            "max_height": null,
            "max_width": null,
            "min_height": null,
            "min_width": null,
            "object_fit": null,
            "object_position": null,
            "order": null,
            "overflow": null,
            "overflow_x": null,
            "overflow_y": null,
            "padding": null,
            "right": null,
            "top": null,
            "visibility": null,
            "width": null
          }
        },
        "a5f04de19fc248adacf21fd5091f6619": {
          "model_module": "@jupyter-widgets/controls",
          "model_name": "ProgressStyleModel",
          "state": {
            "_model_module": "@jupyter-widgets/controls",
            "_model_module_version": "1.5.0",
            "_model_name": "ProgressStyleModel",
            "_view_count": null,
            "_view_module": "@jupyter-widgets/base",
            "_view_module_version": "1.2.0",
            "_view_name": "StyleView",
            "bar_color": null,
            "description_width": "initial"
          }
        },
        "10eeee36dfed4f5ea0c5b444b7a8a647": {
          "model_module": "@jupyter-widgets/base",
          "model_name": "LayoutModel",
          "state": {
            "_model_module": "@jupyter-widgets/base",
            "_model_module_version": "1.2.0",
            "_model_name": "LayoutModel",
            "_view_count": null,
            "_view_module": "@jupyter-widgets/base",
            "_view_module_version": "1.2.0",
            "_view_name": "LayoutView",
            "align_content": null,
            "align_items": null,
            "align_self": null,
            "border": null,
            "bottom": null,
            "display": null,
            "flex": null,
            "flex_flow": null,
            "grid_area": null,
            "grid_auto_columns": null,
            "grid_auto_flow": null,
            "grid_auto_rows": null,
            "grid_column": null,
            "grid_gap": null,
            "grid_row": null,
            "grid_template_areas": null,
            "grid_template_columns": null,
            "grid_template_rows": null,
            "height": null,
            "justify_content": null,
            "justify_items": null,
            "left": null,
            "margin": null,
            "max_height": null,
            "max_width": null,
            "min_height": null,
            "min_width": null,
            "object_fit": null,
            "object_position": null,
            "order": null,
            "overflow": null,
            "overflow_x": null,
            "overflow_y": null,
            "padding": null,
            "right": null,
            "top": null,
            "visibility": null,
            "width": null
          }
        },
        "b9e37fec6eb54e3db6d99aa34da18862": {
          "model_module": "@jupyter-widgets/controls",
          "model_name": "DescriptionStyleModel",
          "state": {
            "_model_module": "@jupyter-widgets/controls",
            "_model_module_version": "1.5.0",
            "_model_name": "DescriptionStyleModel",
            "_view_count": null,
            "_view_module": "@jupyter-widgets/base",
            "_view_module_version": "1.2.0",
            "_view_name": "StyleView",
            "description_width": ""
          }
        },
        "5e0dbc07b85b4b299d5a6ee3bcb8070d": {
          "model_module": "@jupyter-widgets/controls",
          "model_name": "HBoxModel",
          "state": {
            "_dom_classes": [],
            "_model_module": "@jupyter-widgets/controls",
            "_model_module_version": "1.5.0",
            "_model_name": "HBoxModel",
            "_view_count": null,
            "_view_module": "@jupyter-widgets/controls",
            "_view_module_version": "1.5.0",
            "_view_name": "HBoxView",
            "box_style": "",
            "children": [
              "IPY_MODEL_9c06de526d2a4975862600fd0314f9e4",
              "IPY_MODEL_6c4e65b18b7b49e687455853c66fca46"
            ],
            "layout": "IPY_MODEL_42c80a203864460689ea958af6d3ff2c"
          }
        },
        "9c06de526d2a4975862600fd0314f9e4": {
          "model_module": "@jupyter-widgets/controls",
          "model_name": "FloatProgressModel",
          "state": {
            "_dom_classes": [],
            "_model_module": "@jupyter-widgets/controls",
            "_model_module_version": "1.5.0",
            "_model_name": "FloatProgressModel",
            "_view_count": null,
            "_view_module": "@jupyter-widgets/controls",
            "_view_module_version": "1.5.0",
            "_view_name": "ProgressView",
            "bar_style": "success",
            "description": "100%",
            "description_tooltip": null,
            "layout": "IPY_MODEL_86bbb74585654041bcb8f0d03039e9c9",
            "max": 553433881,
            "min": 0,
            "orientation": "horizontal",
            "style": "IPY_MODEL_c0f7257da6d94c43ba2011ccd5674197",
            "value": 553433881
          }
        },
        "6c4e65b18b7b49e687455853c66fca46": {
          "model_module": "@jupyter-widgets/controls",
          "model_name": "HTMLModel",
          "state": {
            "_dom_classes": [],
            "_model_module": "@jupyter-widgets/controls",
            "_model_module_version": "1.5.0",
            "_model_name": "HTMLModel",
            "_view_count": null,
            "_view_module": "@jupyter-widgets/controls",
            "_view_module_version": "1.5.0",
            "_view_name": "HTMLView",
            "description": "",
            "description_tooltip": null,
            "layout": "IPY_MODEL_d90adbb383794fe7b88a496ae694afc3",
            "placeholder": "​",
            "style": "IPY_MODEL_1110b65adf4c4533a610706898e8d220",
            "value": " 528M/528M [00:02&lt;00:00, 235MB/s]"
          }
        },
        "42c80a203864460689ea958af6d3ff2c": {
          "model_module": "@jupyter-widgets/base",
          "model_name": "LayoutModel",
          "state": {
            "_model_module": "@jupyter-widgets/base",
            "_model_module_version": "1.2.0",
            "_model_name": "LayoutModel",
            "_view_count": null,
            "_view_module": "@jupyter-widgets/base",
            "_view_module_version": "1.2.0",
            "_view_name": "LayoutView",
            "align_content": null,
            "align_items": null,
            "align_self": null,
            "border": null,
            "bottom": null,
            "display": null,
            "flex": null,
            "flex_flow": null,
            "grid_area": null,
            "grid_auto_columns": null,
            "grid_auto_flow": null,
            "grid_auto_rows": null,
            "grid_column": null,
            "grid_gap": null,
            "grid_row": null,
            "grid_template_areas": null,
            "grid_template_columns": null,
            "grid_template_rows": null,
            "height": null,
            "justify_content": null,
            "justify_items": null,
            "left": null,
            "margin": null,
            "max_height": null,
            "max_width": null,
            "min_height": null,
            "min_width": null,
            "object_fit": null,
            "object_position": null,
            "order": null,
            "overflow": null,
            "overflow_x": null,
            "overflow_y": null,
            "padding": null,
            "right": null,
            "top": null,
            "visibility": null,
            "width": null
          }
        },
        "86bbb74585654041bcb8f0d03039e9c9": {
          "model_module": "@jupyter-widgets/base",
          "model_name": "LayoutModel",
          "state": {
            "_model_module": "@jupyter-widgets/base",
            "_model_module_version": "1.2.0",
            "_model_name": "LayoutModel",
            "_view_count": null,
            "_view_module": "@jupyter-widgets/base",
            "_view_module_version": "1.2.0",
            "_view_name": "LayoutView",
            "align_content": null,
            "align_items": null,
            "align_self": null,
            "border": null,
            "bottom": null,
            "display": null,
            "flex": null,
            "flex_flow": null,
            "grid_area": null,
            "grid_auto_columns": null,
            "grid_auto_flow": null,
            "grid_auto_rows": null,
            "grid_column": null,
            "grid_gap": null,
            "grid_row": null,
            "grid_template_areas": null,
            "grid_template_columns": null,
            "grid_template_rows": null,
            "height": null,
            "justify_content": null,
            "justify_items": null,
            "left": null,
            "margin": null,
            "max_height": null,
            "max_width": null,
            "min_height": null,
            "min_width": null,
            "object_fit": null,
            "object_position": null,
            "order": null,
            "overflow": null,
            "overflow_x": null,
            "overflow_y": null,
            "padding": null,
            "right": null,
            "top": null,
            "visibility": null,
            "width": null
          }
        },
        "c0f7257da6d94c43ba2011ccd5674197": {
          "model_module": "@jupyter-widgets/controls",
          "model_name": "ProgressStyleModel",
          "state": {
            "_model_module": "@jupyter-widgets/controls",
            "_model_module_version": "1.5.0",
            "_model_name": "ProgressStyleModel",
            "_view_count": null,
            "_view_module": "@jupyter-widgets/base",
            "_view_module_version": "1.2.0",
            "_view_name": "StyleView",
            "bar_color": null,
            "description_width": "initial"
          }
        },
        "d90adbb383794fe7b88a496ae694afc3": {
          "model_module": "@jupyter-widgets/base",
          "model_name": "LayoutModel",
          "state": {
            "_model_module": "@jupyter-widgets/base",
            "_model_module_version": "1.2.0",
            "_model_name": "LayoutModel",
            "_view_count": null,
            "_view_module": "@jupyter-widgets/base",
            "_view_module_version": "1.2.0",
            "_view_name": "LayoutView",
            "align_content": null,
            "align_items": null,
            "align_self": null,
            "border": null,
            "bottom": null,
            "display": null,
            "flex": null,
            "flex_flow": null,
            "grid_area": null,
            "grid_auto_columns": null,
            "grid_auto_flow": null,
            "grid_auto_rows": null,
            "grid_column": null,
            "grid_gap": null,
            "grid_row": null,
            "grid_template_areas": null,
            "grid_template_columns": null,
            "grid_template_rows": null,
            "height": null,
            "justify_content": null,
            "justify_items": null,
            "left": null,
            "margin": null,
            "max_height": null,
            "max_width": null,
            "min_height": null,
            "min_width": null,
            "object_fit": null,
            "object_position": null,
            "order": null,
            "overflow": null,
            "overflow_x": null,
            "overflow_y": null,
            "padding": null,
            "right": null,
            "top": null,
            "visibility": null,
            "width": null
          }
        },
        "1110b65adf4c4533a610706898e8d220": {
          "model_module": "@jupyter-widgets/controls",
          "model_name": "DescriptionStyleModel",
          "state": {
            "_model_module": "@jupyter-widgets/controls",
            "_model_module_version": "1.5.0",
            "_model_name": "DescriptionStyleModel",
            "_view_count": null,
            "_view_module": "@jupyter-widgets/base",
            "_view_module_version": "1.2.0",
            "_view_name": "StyleView",
            "description_width": ""
          }
        },
        "7b25438888f04fb0877e3aa63a86cf98": {
          "model_module": "@jupyter-widgets/controls",
          "model_name": "HBoxModel",
          "state": {
            "_view_name": "HBoxView",
            "_dom_classes": [],
            "_model_name": "HBoxModel",
            "_view_module": "@jupyter-widgets/controls",
            "_model_module_version": "1.5.0",
            "_view_count": null,
            "_view_module_version": "1.5.0",
            "box_style": "",
            "layout": "IPY_MODEL_915d7eb3387249009393608661bb4dde",
            "_model_module": "@jupyter-widgets/controls",
            "children": [
              "IPY_MODEL_5681766b71a54279b961827315393728",
              "IPY_MODEL_cb70f9b9a3ce4c2aa2f4994a95862043"
            ]
          }
        },
        "915d7eb3387249009393608661bb4dde": {
          "model_module": "@jupyter-widgets/base",
          "model_name": "LayoutModel",
          "state": {
            "_view_name": "LayoutView",
            "grid_template_rows": null,
            "right": null,
            "justify_content": null,
            "_view_module": "@jupyter-widgets/base",
            "overflow": null,
            "_model_module_version": "1.2.0",
            "_view_count": null,
            "flex_flow": null,
            "width": null,
            "min_width": null,
            "border": null,
            "align_items": null,
            "bottom": null,
            "_model_module": "@jupyter-widgets/base",
            "top": null,
            "grid_column": null,
            "overflow_y": null,
            "overflow_x": null,
            "grid_auto_flow": null,
            "grid_area": null,
            "grid_template_columns": null,
            "flex": null,
            "_model_name": "LayoutModel",
            "justify_items": null,
            "grid_row": null,
            "max_height": null,
            "align_content": null,
            "visibility": null,
            "align_self": null,
            "height": null,
            "min_height": null,
            "padding": null,
            "grid_auto_rows": null,
            "grid_gap": null,
            "max_width": null,
            "order": null,
            "_view_module_version": "1.2.0",
            "grid_template_areas": null,
            "object_position": null,
            "object_fit": null,
            "grid_auto_columns": null,
            "margin": null,
            "display": null,
            "left": null
          }
        },
        "5681766b71a54279b961827315393728": {
          "model_module": "@jupyter-widgets/controls",
          "model_name": "FloatProgressModel",
          "state": {
            "_view_name": "ProgressView",
            "style": "IPY_MODEL_d0606d8ccddb40dd8904e50e216b58b2",
            "_dom_classes": [],
            "description": "",
            "_model_name": "FloatProgressModel",
            "bar_style": "success",
            "max": 170498071,
            "_view_module": "@jupyter-widgets/controls",
            "_model_module_version": "1.5.0",
            "value": 170498071,
            "_view_count": null,
            "_view_module_version": "1.5.0",
            "orientation": "horizontal",
            "min": 0,
            "description_tooltip": null,
            "_model_module": "@jupyter-widgets/controls",
            "layout": "IPY_MODEL_c2d1d64c39e24969a43ebc3461792ce5"
          }
        },
        "cb70f9b9a3ce4c2aa2f4994a95862043": {
          "model_module": "@jupyter-widgets/controls",
          "model_name": "HTMLModel",
          "state": {
            "_view_name": "HTMLView",
            "style": "IPY_MODEL_6fba14b5d4934d1d816a6f2ea400863e",
            "_dom_classes": [],
            "description": "",
            "_model_name": "HTMLModel",
            "placeholder": "​",
            "_view_module": "@jupyter-widgets/controls",
            "_model_module_version": "1.5.0",
            "value": " 170499072/? [00:01&lt;00:00, 86097672.08it/s]",
            "_view_count": null,
            "_view_module_version": "1.5.0",
            "description_tooltip": null,
            "_model_module": "@jupyter-widgets/controls",
            "layout": "IPY_MODEL_e104c3e877de45c7aa6520a2de849279"
          }
        },
        "d0606d8ccddb40dd8904e50e216b58b2": {
          "model_module": "@jupyter-widgets/controls",
          "model_name": "ProgressStyleModel",
          "state": {
            "_view_name": "StyleView",
            "_model_name": "ProgressStyleModel",
            "description_width": "initial",
            "_view_module": "@jupyter-widgets/base",
            "_model_module_version": "1.5.0",
            "_view_count": null,
            "_view_module_version": "1.2.0",
            "bar_color": null,
            "_model_module": "@jupyter-widgets/controls"
          }
        },
        "c2d1d64c39e24969a43ebc3461792ce5": {
          "model_module": "@jupyter-widgets/base",
          "model_name": "LayoutModel",
          "state": {
            "_view_name": "LayoutView",
            "grid_template_rows": null,
            "right": null,
            "justify_content": null,
            "_view_module": "@jupyter-widgets/base",
            "overflow": null,
            "_model_module_version": "1.2.0",
            "_view_count": null,
            "flex_flow": null,
            "width": null,
            "min_width": null,
            "border": null,
            "align_items": null,
            "bottom": null,
            "_model_module": "@jupyter-widgets/base",
            "top": null,
            "grid_column": null,
            "overflow_y": null,
            "overflow_x": null,
            "grid_auto_flow": null,
            "grid_area": null,
            "grid_template_columns": null,
            "flex": null,
            "_model_name": "LayoutModel",
            "justify_items": null,
            "grid_row": null,
            "max_height": null,
            "align_content": null,
            "visibility": null,
            "align_self": null,
            "height": null,
            "min_height": null,
            "padding": null,
            "grid_auto_rows": null,
            "grid_gap": null,
            "max_width": null,
            "order": null,
            "_view_module_version": "1.2.0",
            "grid_template_areas": null,
            "object_position": null,
            "object_fit": null,
            "grid_auto_columns": null,
            "margin": null,
            "display": null,
            "left": null
          }
        },
        "6fba14b5d4934d1d816a6f2ea400863e": {
          "model_module": "@jupyter-widgets/controls",
          "model_name": "DescriptionStyleModel",
          "state": {
            "_view_name": "StyleView",
            "_model_name": "DescriptionStyleModel",
            "description_width": "",
            "_view_module": "@jupyter-widgets/base",
            "_model_module_version": "1.5.0",
            "_view_count": null,
            "_view_module_version": "1.2.0",
            "_model_module": "@jupyter-widgets/controls"
          }
        },
        "e104c3e877de45c7aa6520a2de849279": {
          "model_module": "@jupyter-widgets/base",
          "model_name": "LayoutModel",
          "state": {
            "_view_name": "LayoutView",
            "grid_template_rows": null,
            "right": null,
            "justify_content": null,
            "_view_module": "@jupyter-widgets/base",
            "overflow": null,
            "_model_module_version": "1.2.0",
            "_view_count": null,
            "flex_flow": null,
            "width": null,
            "min_width": null,
            "border": null,
            "align_items": null,
            "bottom": null,
            "_model_module": "@jupyter-widgets/base",
            "top": null,
            "grid_column": null,
            "overflow_y": null,
            "overflow_x": null,
            "grid_auto_flow": null,
            "grid_area": null,
            "grid_template_columns": null,
            "flex": null,
            "_model_name": "LayoutModel",
            "justify_items": null,
            "grid_row": null,
            "max_height": null,
            "align_content": null,
            "visibility": null,
            "align_self": null,
            "height": null,
            "min_height": null,
            "padding": null,
            "grid_auto_rows": null,
            "grid_gap": null,
            "max_width": null,
            "order": null,
            "_view_module_version": "1.2.0",
            "grid_template_areas": null,
            "object_position": null,
            "object_fit": null,
            "grid_auto_columns": null,
            "margin": null,
            "display": null,
            "left": null
          }
        },
        "d633378e60cc4d82a8eff66b156a31a9": {
          "model_module": "@jupyter-widgets/controls",
          "model_name": "HBoxModel",
          "state": {
            "_view_name": "HBoxView",
            "_dom_classes": [],
            "_model_name": "HBoxModel",
            "_view_module": "@jupyter-widgets/controls",
            "_model_module_version": "1.5.0",
            "_view_count": null,
            "_view_module_version": "1.5.0",
            "box_style": "",
            "layout": "IPY_MODEL_ad6e6c891f904cfcbbc2fd2ec7d07b38",
            "_model_module": "@jupyter-widgets/controls",
            "children": [
              "IPY_MODEL_aeaf7b0133b34ce1ac12028ad5348aff",
              "IPY_MODEL_2a5c383067324046953269c26d02476c"
            ]
          }
        },
        "ad6e6c891f904cfcbbc2fd2ec7d07b38": {
          "model_module": "@jupyter-widgets/base",
          "model_name": "LayoutModel",
          "state": {
            "_view_name": "LayoutView",
            "grid_template_rows": null,
            "right": null,
            "justify_content": null,
            "_view_module": "@jupyter-widgets/base",
            "overflow": null,
            "_model_module_version": "1.2.0",
            "_view_count": null,
            "flex_flow": null,
            "width": null,
            "min_width": null,
            "border": null,
            "align_items": null,
            "bottom": null,
            "_model_module": "@jupyter-widgets/base",
            "top": null,
            "grid_column": null,
            "overflow_y": null,
            "overflow_x": null,
            "grid_auto_flow": null,
            "grid_area": null,
            "grid_template_columns": null,
            "flex": null,
            "_model_name": "LayoutModel",
            "justify_items": null,
            "grid_row": null,
            "max_height": null,
            "align_content": null,
            "visibility": null,
            "align_self": null,
            "height": null,
            "min_height": null,
            "padding": null,
            "grid_auto_rows": null,
            "grid_gap": null,
            "max_width": null,
            "order": null,
            "_view_module_version": "1.2.0",
            "grid_template_areas": null,
            "object_position": null,
            "object_fit": null,
            "grid_auto_columns": null,
            "margin": null,
            "display": null,
            "left": null
          }
        },
        "aeaf7b0133b34ce1ac12028ad5348aff": {
          "model_module": "@jupyter-widgets/controls",
          "model_name": "FloatProgressModel",
          "state": {
            "_view_name": "ProgressView",
            "style": "IPY_MODEL_2fff534d821b4acd94d33ac4d314017e",
            "_dom_classes": [],
            "description": "100%",
            "_model_name": "FloatProgressModel",
            "bar_style": "success",
            "max": 553507836,
            "_view_module": "@jupyter-widgets/controls",
            "_model_module_version": "1.5.0",
            "value": 553507836,
            "_view_count": null,
            "_view_module_version": "1.5.0",
            "orientation": "horizontal",
            "min": 0,
            "description_tooltip": null,
            "_model_module": "@jupyter-widgets/controls",
            "layout": "IPY_MODEL_9da9973088e64aeba5dd1e8a9df8e71b"
          }
        },
        "2a5c383067324046953269c26d02476c": {
          "model_module": "@jupyter-widgets/controls",
          "model_name": "HTMLModel",
          "state": {
            "_view_name": "HTMLView",
            "style": "IPY_MODEL_3702ce41733d4f72bde0b5971fe25cd4",
            "_dom_classes": [],
            "description": "",
            "_model_name": "HTMLModel",
            "placeholder": "​",
            "_view_module": "@jupyter-widgets/controls",
            "_model_module_version": "1.5.0",
            "value": " 528M/528M [00:06&lt;00:00, 87.1MB/s]",
            "_view_count": null,
            "_view_module_version": "1.5.0",
            "description_tooltip": null,
            "_model_module": "@jupyter-widgets/controls",
            "layout": "IPY_MODEL_38881fc188274760aa22b84d92f20ebd"
          }
        },
        "2fff534d821b4acd94d33ac4d314017e": {
          "model_module": "@jupyter-widgets/controls",
          "model_name": "ProgressStyleModel",
          "state": {
            "_view_name": "StyleView",
            "_model_name": "ProgressStyleModel",
            "description_width": "initial",
            "_view_module": "@jupyter-widgets/base",
            "_model_module_version": "1.5.0",
            "_view_count": null,
            "_view_module_version": "1.2.0",
            "bar_color": null,
            "_model_module": "@jupyter-widgets/controls"
          }
        },
        "9da9973088e64aeba5dd1e8a9df8e71b": {
          "model_module": "@jupyter-widgets/base",
          "model_name": "LayoutModel",
          "state": {
            "_view_name": "LayoutView",
            "grid_template_rows": null,
            "right": null,
            "justify_content": null,
            "_view_module": "@jupyter-widgets/base",
            "overflow": null,
            "_model_module_version": "1.2.0",
            "_view_count": null,
            "flex_flow": null,
            "width": null,
            "min_width": null,
            "border": null,
            "align_items": null,
            "bottom": null,
            "_model_module": "@jupyter-widgets/base",
            "top": null,
            "grid_column": null,
            "overflow_y": null,
            "overflow_x": null,
            "grid_auto_flow": null,
            "grid_area": null,
            "grid_template_columns": null,
            "flex": null,
            "_model_name": "LayoutModel",
            "justify_items": null,
            "grid_row": null,
            "max_height": null,
            "align_content": null,
            "visibility": null,
            "align_self": null,
            "height": null,
            "min_height": null,
            "padding": null,
            "grid_auto_rows": null,
            "grid_gap": null,
            "max_width": null,
            "order": null,
            "_view_module_version": "1.2.0",
            "grid_template_areas": null,
            "object_position": null,
            "object_fit": null,
            "grid_auto_columns": null,
            "margin": null,
            "display": null,
            "left": null
          }
        },
        "3702ce41733d4f72bde0b5971fe25cd4": {
          "model_module": "@jupyter-widgets/controls",
          "model_name": "DescriptionStyleModel",
          "state": {
            "_view_name": "StyleView",
            "_model_name": "DescriptionStyleModel",
            "description_width": "",
            "_view_module": "@jupyter-widgets/base",
            "_model_module_version": "1.5.0",
            "_view_count": null,
            "_view_module_version": "1.2.0",
            "_model_module": "@jupyter-widgets/controls"
          }
        },
        "38881fc188274760aa22b84d92f20ebd": {
          "model_module": "@jupyter-widgets/base",
          "model_name": "LayoutModel",
          "state": {
            "_view_name": "LayoutView",
            "grid_template_rows": null,
            "right": null,
            "justify_content": null,
            "_view_module": "@jupyter-widgets/base",
            "overflow": null,
            "_model_module_version": "1.2.0",
            "_view_count": null,
            "flex_flow": null,
            "width": null,
            "min_width": null,
            "border": null,
            "align_items": null,
            "bottom": null,
            "_model_module": "@jupyter-widgets/base",
            "top": null,
            "grid_column": null,
            "overflow_y": null,
            "overflow_x": null,
            "grid_auto_flow": null,
            "grid_area": null,
            "grid_template_columns": null,
            "flex": null,
            "_model_name": "LayoutModel",
            "justify_items": null,
            "grid_row": null,
            "max_height": null,
            "align_content": null,
            "visibility": null,
            "align_self": null,
            "height": null,
            "min_height": null,
            "padding": null,
            "grid_auto_rows": null,
            "grid_gap": null,
            "max_width": null,
            "order": null,
            "_view_module_version": "1.2.0",
            "grid_template_areas": null,
            "object_position": null,
            "object_fit": null,
            "grid_auto_columns": null,
            "margin": null,
            "display": null,
            "left": null
          }
        }
      }
    }
  },
  "cells": [
    {
      "cell_type": "markdown",
      "metadata": {
        "id": "Pk7piq6wQp8c"
      },
      "source": [
        "# Importing libraries"
      ]
    },
    {
      "cell_type": "code",
      "metadata": {
        "id": "pUziEcPlQe8t"
      },
      "source": [
        "import torch\n",
        "import torchvision\n",
        "import torchvision.transforms as transforms\n",
        "from torchvision import models\n",
        "import matplotlib.pyplot as plt\n",
        "import numpy as np\n",
        "import random\n",
        "import torch.nn as nn\n",
        "import torch.nn.functional as F\n",
        "import torch.optim as optim\n",
        "from torch.utils.data import random_split\n",
        "from torch.optim import SGD, Adam, lr_scheduler\n",
        "from copy import deepcopy\n",
        "from torch.nn.init import xavier_uniform_ as xavier"
      ],
      "execution_count": 1,
      "outputs": []
    },
    {
      "cell_type": "code",
      "metadata": {
        "colab": {
          "base_uri": "https://localhost:8080/"
        },
        "id": "PJFw462MQu1r",
        "outputId": "b6137e6b-6e40-4c09-812f-2b8ee823eb2a"
      },
      "source": [
        "device = torch.device(\"cuda:0\" if torch.cuda.is_available() else \"cpu\")\n",
        "print(device)"
      ],
      "execution_count": 2,
      "outputs": [
        {
          "output_type": "stream",
          "text": [
            "cuda:0\n"
          ],
          "name": "stdout"
        }
      ]
    },
    {
      "cell_type": "markdown",
      "metadata": {
        "id": "W5y7jriuRT-w"
      },
      "source": [
        "# Utils"
      ]
    },
    {
      "cell_type": "code",
      "metadata": {
        "id": "HPXNveZUyhIQ"
      },
      "source": [
        "def get_test_accuracy(model, best_model, test_loader):\n",
        "    model.load_state_dict(best_model)\n",
        "    size_test = len(test_loader.dataset)\n",
        "\n",
        "    test_correct = 0\n",
        "    with torch.no_grad():\n",
        "        for inputs, labels in test_loader:\n",
        "            outputs = model(inputs.to(device)).cpu()\n",
        "            predicted = torch.argmax(outputs, dim=1)\n",
        "            test_correct += (predicted == labels).sum().item()\n",
        "\n",
        "    print(f\"Test accuracy: {test_correct*100/size_test}%\")\n",
        "    return test_correct*100/size_test\n",
        "            \n",
        "def plot_accuracy(model, epochs = 2):\n",
        "    plt.figure()\n",
        "    plt.plot([i for i in range(epochs)], model.train_accuracy)\n",
        "    plt.plot([i for i in range(epochs)], model.val_accuracy)\n",
        "    plt.xlabel('Epochs')\n",
        "    plt.ylabel('Accuracy')\n",
        "    plt.legend(['Train', 'Validation'])\n",
        "    plt.title('Accuracy for train and test sets')\n",
        "    plt.show()\n",
        "\n",
        "def plot_loss(model, epochs = 2):\n",
        "    plt.figure()\n",
        "    plt.plot([i for i in range(epochs)], model.train_loss)\n",
        "    plt.xlabel('Epochs')\n",
        "    plt.ylabel('Loss')\n",
        "    plt.title('Loss function value on training set during training')\n",
        "    plt.show()\n",
        "\n",
        "def xavier_weights_init(m):\n",
        "    if isinstance(m, nn.Conv2d):\n",
        "        xavier(m.weight.data)\n",
        "\n",
        "def seed_worker(worker_id):\n",
        "    worker_seed = torch.initial_seed() % 2**32\n",
        "    np.random.seed(worker_seed)\n",
        "    random.seed(worker_seed)"
      ],
      "execution_count": 3,
      "outputs": []
    },
    {
      "cell_type": "code",
      "metadata": {
        "id": "J5OMJU78iaT3"
      },
      "source": [
        "def load_data(random_seed = 0):\n",
        "    random.seed(random_seed)\n",
        "    np.random.seed(random_seed)\n",
        "    torch.manual_seed(random_seed)\n",
        "\n",
        "    train_transform = transforms.Compose([                                      \n",
        "        transforms.Resize(224),\n",
        "        transforms.ToTensor(),\n",
        "        transforms.Normalize([0.485, 0.456, 0.406], [0.229, 0.224, 0.225])])\n",
        "\n",
        "    test_transform = transforms.Compose([\n",
        "        transforms.Resize(224),\n",
        "        transforms.ToTensor(),\n",
        "        transforms.Normalize([0.485, 0.456, 0.406], [0.229, 0.224, 0.225])])\n",
        "\n",
        "    train = torchvision.datasets.CIFAR10(root='./data', train=True,\n",
        "                                        download=True, transform=train_transform)\n",
        "\n",
        "    test = torchvision.datasets.CIFAR10(root='./data', train=False,\n",
        "                                       download=True, transform=test_transform)\n",
        "\n",
        "    train, val = random_split(train, [45000, 5000], generator = torch.manual_seed(random_seed))\n",
        "\n",
        "    train_loader = torch.utils.data.DataLoader(train, batch_size=64,\n",
        "                                          shuffle=False, num_workers=2,\n",
        "                                           worker_init_fn=seed_worker)\n",
        "\n",
        "    val_loader = torch.utils.data.DataLoader(val, batch_size=64,\n",
        "                                         shuffle=False, num_workers=2,\n",
        "                                         worker_init_fn=seed_worker)\n",
        "\n",
        "    test_loader = torch.utils.data.DataLoader(test, batch_size=64,\n",
        "                                         shuffle=False, num_workers=2,\n",
        "                                          worker_init_fn=seed_worker)\n",
        "    \n",
        "    return train_loader, val_loader, test_loader"
      ],
      "execution_count": 4,
      "outputs": []
    },
    {
      "cell_type": "code",
      "metadata": {
        "id": "3WAaPiskguIk"
      },
      "source": [
        "def train_cnn(cnn, train_loader, val_loader, test_loader, criterion, optimizer, epochs = 2):\n",
        "    best_accuracy = -1\n",
        "    best_model = None\n",
        "    model.train_loss = list()\n",
        "    model.train_accuracy = list()\n",
        "    model.val_accuracy = list()\n",
        "\n",
        "    size_train = len(train_loader.dataset)\n",
        "    size_val = len(val_loader.dataset)\n",
        "    size_test = len(test_loader.dataset)\n",
        "\n",
        "    for epoch in range(epochs):  \n",
        "\n",
        "        model.train(True)\n",
        "        training_loss = 0\n",
        "        training_correct = 0\n",
        "\n",
        "        for i, data in enumerate(train_loader, 0):\n",
        "\n",
        "            inputs, labels = data\n",
        "            inputs, labels = inputs.cuda(), labels.cuda()\n",
        "            optimizer.zero_grad()\n",
        "\n",
        "            outputs = model(inputs)\n",
        "            loss = criterion(outputs, labels)\n",
        "            loss.backward()\n",
        "            optimizer.step()\n",
        "\n",
        "            training_loss += loss.item() * inputs.size(0)\n",
        "            predicted = torch.argmax(outputs.detach(),dim=1)\n",
        "            training_correct += (predicted == labels).sum().item()\n",
        "    \n",
        "        training_loss = training_loss/size_train\n",
        "        training_accuracy = training_correct*100/size_train\n",
        "    \n",
        "        model.train_loss.append(training_loss)\n",
        "        model.train_accuracy.append(training_accuracy)\n",
        "\n",
        "        print(f\"Epoch {epoch+1}\")\n",
        "        print(f\"Training loss: {training_loss}\")\n",
        "        print(f\"Training accuracy: {training_accuracy}%\")    \n",
        "\n",
        "        validation_correct = 0\n",
        "        model.train(False)\n",
        "        with torch.no_grad():\n",
        "            for inputs,labels in val_loader:\n",
        "                outputs = model(inputs.cuda()).cpu()\n",
        "                predicted = torch.argmax(outputs.detach(), dim=1)\n",
        "                validation_correct += (predicted == labels).sum().item()\n",
        "\n",
        "        val_accuracy = validation_correct*100/size_val\n",
        "        model.val_accuracy.append(val_accuracy)\n",
        "\n",
        "        print(f\"Validation accuracy: {val_accuracy}%\")\n",
        "\n",
        "        if validation_correct > best_accuracy:\n",
        "            best_accuracy = validation_correct\n",
        "            best_model = deepcopy(model.state_dict())\n",
        "\n",
        "        # test_correct = 0\n",
        "        # with torch.no_grad():\n",
        "        #     for inputs, labels in test_loader:\n",
        "        #         outputs = model(inputs.cuda()).cpu()\n",
        "        #         predicted = torch.argmax(outputs, dim=1)\n",
        "        #         test_correct += (predicted == labels).sum().item()\n",
        "\n",
        "        # print(f\"Test accuracy: {test_correct*100/size_test}%\")\n",
        "\n",
        "        scheduler.step()\n",
        "        print('-'*30)\n",
        "\n",
        "    print('Finished Training')\n",
        "    return best_model"
      ],
      "execution_count": 5,
      "outputs": []
    },
    {
      "cell_type": "markdown",
      "metadata": {
        "id": "_rb0_Ii7RqIA"
      },
      "source": [
        "# VGG pretrained on ImageNet, only last layer changed, Adam optimizer"
      ]
    },
    {
      "cell_type": "code",
      "metadata": {
        "id": "9814lFG4SY_a"
      },
      "source": [
        "class VGG16CNN(nn.Module):\n",
        "    def __init__(self):\n",
        "        super(VGG16CNN, self).__init__()\n",
        "        pretrained_model = models.vgg16_bn(pretrained=True)\n",
        "        # print(pretrained_model.classifier)\n",
        "        # change last layer to classify into 10 instead of 1000\n",
        "        pretrained_model.classifier[6] = nn.Sequential(\n",
        "                      nn.Linear(4096, 10))\n",
        "\n",
        "        # freeze weights of all the models\n",
        "        for param in pretrained_model.parameters():\n",
        "            param.requires_grad = False\n",
        "        # unfreeze the last layer so it can be trained\n",
        "        for param in pretrained_model.classifier[6].parameters():\n",
        "            param.requires_grad = True\n",
        "\n",
        "        self.pretrained_model = pretrained_model\n",
        "    \n",
        "    def forward(self,x):\n",
        "        x = self.pretrained_model(x)\n",
        "        return x"
      ],
      "execution_count": null,
      "outputs": []
    },
    {
      "cell_type": "code",
      "metadata": {
        "colab": {
          "base_uri": "https://localhost:8080/"
        },
        "id": "7zByy2HKgU_g",
        "outputId": "71c27768-9d55-4e3c-8714-d4733c7d540f"
      },
      "source": [
        "train_loader, val_loader, test_loader = load_data(0)\n",
        "model = VGG16CNN().cuda()\n",
        "criterion = nn.CrossEntropyLoss()\n",
        "optimizer = Adam(model.parameters(), lr=0.001)\n",
        "scheduler = lr_scheduler.StepLR(optimizer, step_size=1, gamma=0.1)\n",
        "best_model = train_cnn(model, train_loader, val_loader, test_loader, criterion, optimizer, epochs = 5)"
      ],
      "execution_count": null,
      "outputs": [
        {
          "output_type": "stream",
          "text": [
            "Files already downloaded and verified\n",
            "Files already downloaded and verified\n",
            "Epoch 1\n",
            "Training loss: 0.8305161094029745\n",
            "Training accuracy: 70.9888888888889%\n",
            "Validation accuracy: 77.32%\n",
            "Test accuracy: 77.87%\n",
            "------------------------------\n",
            "Epoch 2\n",
            "Training loss: 0.7109052604251438\n",
            "Training accuracy: 75.00444444444445%\n",
            "Validation accuracy: 78.78%\n",
            "Test accuracy: 78.66%\n",
            "------------------------------\n",
            "Epoch 3\n",
            "Training loss: 0.6909681445121765\n",
            "Training accuracy: 75.74%\n",
            "Validation accuracy: 79.08%\n",
            "Test accuracy: 78.84%\n",
            "------------------------------\n",
            "Epoch 4\n",
            "Training loss: 0.692745089424981\n",
            "Training accuracy: 75.66%\n",
            "Validation accuracy: 79.02%\n",
            "Test accuracy: 78.9%\n",
            "------------------------------\n",
            "Epoch 5\n",
            "Training loss: 0.6905946236292522\n",
            "Training accuracy: 75.9888888888889%\n",
            "Validation accuracy: 79.02%\n",
            "Test accuracy: 78.91%\n",
            "------------------------------\n",
            "Finished Training\n"
          ],
          "name": "stdout"
        }
      ]
    },
    {
      "cell_type": "code",
      "metadata": {
        "colab": {
          "base_uri": "https://localhost:8080/"
        },
        "id": "cx-frMDV0MAc",
        "outputId": "59d656b1-482b-4405-b94a-95626dd55f30"
      },
      "source": [
        "get_test_accuracy(model, best_model, test_loader)"
      ],
      "execution_count": null,
      "outputs": [
        {
          "output_type": "stream",
          "text": [
            "Test accuracy: 78.84%\n"
          ],
          "name": "stdout"
        },
        {
          "output_type": "execute_result",
          "data": {
            "text/plain": [
              "78.84"
            ]
          },
          "metadata": {
            "tags": []
          },
          "execution_count": 13
        }
      ]
    },
    {
      "cell_type": "code",
      "metadata": {
        "colab": {
          "base_uri": "https://localhost:8080/",
          "height": 295
        },
        "id": "0LDSCGtmq-Zn",
        "outputId": "99d8b9ac-a8b2-4408-e09f-2556401d3cbb"
      },
      "source": [
        "plot_accuracy(model, epochs = 5)"
      ],
      "execution_count": null,
      "outputs": [
        {
          "output_type": "display_data",
          "data": {
            "image/png": "[encoded data removed]",
            "text/plain": [
              "<Figure size 432x288 with 1 Axes>"
            ]
          },
          "metadata": {
            "tags": []
          }
        }
      ]
    },
    {
      "cell_type": "code",
      "metadata": {
        "colab": {
          "base_uri": "https://localhost:8080/",
          "height": 1000,
          "referenced_widgets": [
            "716f24898c4246daba9c790d719cedda",
            "8e5fbb60efcb487bb90bdbc6e38a4c62",
            "3575106ccb5845d3a60a25ea4bf7fc22",
            "99f872a15dd7496ba010c9531dca8196",
            "a2934831522242b08455d1e1207b19e6",
            "a9902918ddfe4d4db9a74564d2328b38",
            "abe68c7f92e748c4bf4e74cceac307f8",
            "680e9292fb9e4ff9bd131dc8af5776c7",
            "cf3ed6c2b2694e6eb6272a9f8c4c16ee",
            "1bf2e25e6a434fbcbd1cee300621e096",
            "da2ed78b0e97450183f777e01c2030d2",
            "2df2f5feaac9403d873008dab538e86e",
            "ccb5e06b0c8342648fda9ac7d1f20e39",
            "bf319d82f41545ac83a56052be8e5907",
            "45d8714a5ca24e29aaacdba20ade79f0",
            "8e8951a1a3954a4ba64b355b7744a725"
          ]
        },
        "id": "ZFkSWvUWzclp",
        "outputId": "ea03278e-f913-4b32-fd49-4a24469b70c0"
      },
      "source": [
        "test_acc = [78.84]\n",
        "for i in range(1, 3):\n",
        "    train_loader, val_loader, test_loader = load_data(i)\n",
        "    model = VGG16CNN().cuda()\n",
        "    criterion = nn.CrossEntropyLoss()\n",
        "    optimizer = Adam(model.parameters(), lr=0.001)\n",
        "    scheduler = lr_scheduler.StepLR(optimizer, step_size=1, gamma=0.1)\n",
        "    best_model = train_cnn(model, train_loader, val_loader, test_loader, criterion, optimizer, epochs = 5)\n",
        "    test_acc.append(get_test_accuracy(model, best_model, test_loader))\n",
        "print(test_acc)"
      ],
      "execution_count": null,
      "outputs": [
        {
          "output_type": "stream",
          "text": [
            "Downloading https://www.cs.toronto.edu/~kriz/cifar-10-python.tar.gz to ./data/cifar-10-python.tar.gz\n"
          ],
          "name": "stdout"
        },
        {
          "output_type": "display_data",
          "data": {
            "application/vnd.jupyter.widget-view+json": {
              "model_id": "716f24898c4246daba9c790d719cedda",
              "version_major": 2,
              "version_minor": 0
            },
            "text/plain": [
              "HBox(children=(FloatProgress(value=0.0, max=170498071.0), HTML(value='')))"
            ]
          },
          "metadata": {
            "tags": []
          }
        },
        {
          "output_type": "stream",
          "text": [
            "\n",
            "Extracting ./data/cifar-10-python.tar.gz to ./data\n",
            "Files already downloaded and verified\n"
          ],
          "name": "stdout"
        },
        {
          "output_type": "stream",
          "text": [
            "Downloading: \"https://download.pytorch.org/models/vgg16_bn-6c64b313.pth\" to /root/.cache/torch/hub/checkpoints/vgg16_bn-6c64b313.pth\n"
          ],
          "name": "stderr"
        },
        {
          "output_type": "display_data",
          "data": {
            "application/vnd.jupyter.widget-view+json": {
              "model_id": "cf3ed6c2b2694e6eb6272a9f8c4c16ee",
              "version_major": 2,
              "version_minor": 0
            },
            "text/plain": [
              "HBox(children=(FloatProgress(value=0.0, max=553507836.0), HTML(value='')))"
            ]
          },
          "metadata": {
            "tags": []
          }
        },
        {
          "output_type": "stream",
          "text": [
            "\n",
            "Epoch 1\n",
            "Training loss: 0.8355748741785686\n",
            "Training accuracy: 70.89333333333333%\n",
            "Validation accuracy: 77.86%\n",
            "Test accuracy: 77.16%\n",
            "------------------------------\n",
            "Epoch 2\n",
            "Training loss: 0.7128859334309896\n",
            "Training accuracy: 75.03111111111112%\n",
            "Validation accuracy: 79.4%\n",
            "Test accuracy: 78.44%\n",
            "------------------------------\n",
            "Epoch 3\n",
            "Training loss: 0.6976245868894789\n",
            "Training accuracy: 75.48%\n",
            "Validation accuracy: 79.64%\n",
            "Test accuracy: 78.51%\n",
            "------------------------------\n",
            "Epoch 4\n",
            "Training loss: 0.693813654200236\n",
            "Training accuracy: 75.58222222222223%\n",
            "Validation accuracy: 79.58%\n",
            "Test accuracy: 78.56%\n",
            "------------------------------\n",
            "Epoch 5\n",
            "Training loss: 0.6975862715615166\n",
            "Training accuracy: 75.59333333333333%\n",
            "Validation accuracy: 79.58%\n",
            "Test accuracy: 78.58%\n",
            "------------------------------\n",
            "Finished Training\n",
            "Test accuracy: 78.51%\n",
            "Files already downloaded and verified\n",
            "Files already downloaded and verified\n",
            "Epoch 1\n",
            "Training loss: 0.8332910938051011\n",
            "Training accuracy: 70.9088888888889%\n",
            "Validation accuracy: 76.84%\n",
            "Test accuracy: 76.31%\n",
            "------------------------------\n",
            "Epoch 2\n",
            "Training loss: 0.7057722587373522\n",
            "Training accuracy: 75.19111111111111%\n",
            "Validation accuracy: 78.52%\n",
            "Test accuracy: 78.57%\n",
            "------------------------------\n",
            "Epoch 3\n",
            "Training loss: 0.6991308936225044\n",
            "Training accuracy: 75.56666666666666%\n",
            "Validation accuracy: 78.46%\n",
            "Test accuracy: 78.66%\n",
            "------------------------------\n",
            "Epoch 4\n",
            "Training loss: 0.6945158623443709\n",
            "Training accuracy: 75.63777777777777%\n",
            "Validation accuracy: 78.44%\n",
            "Test accuracy: 78.66%\n",
            "------------------------------\n",
            "Epoch 5\n",
            "Training loss: 0.6931385344187418\n",
            "Training accuracy: 75.43777777777778%\n",
            "Validation accuracy: 78.44%\n",
            "Test accuracy: 78.64%\n",
            "------------------------------\n",
            "Finished Training\n",
            "Test accuracy: 78.57%\n",
            "[78.84, 78.51, 78.57]\n"
          ],
          "name": "stdout"
        }
      ]
    },
    {
      "cell_type": "code",
      "metadata": {
        "colab": {
          "base_uri": "https://localhost:8080/"
        },
        "id": "Xw8nAi4EfqmZ",
        "outputId": "ab594b29-fa3c-44cf-9488-ace9f977848f"
      },
      "source": [
        "print(np.mean(test_acc))"
      ],
      "execution_count": null,
      "outputs": [
        {
          "output_type": "stream",
          "text": [
            "78.64\n",
            "78.64\n"
          ],
          "name": "stdout"
        }
      ]
    },
    {
      "cell_type": "markdown",
      "metadata": {
        "id": "Eu4GbVMQE3oP"
      },
      "source": [
        "# VGG pretrained on ImageNet, all classification layers changed, Adam optimizer"
      ]
    },
    {
      "cell_type": "code",
      "metadata": {
        "id": "ByPdFhUXysCh"
      },
      "source": [
        "class VGG16CNN(nn.Module):\n",
        "    def __init__(self):\n",
        "        super(VGG16CNN, self).__init__()\n",
        "        pretrained_model = models.vgg16_bn(pretrained=True)\n",
        "        # print(pretrained_model.classifier)\n",
        "        # print(pretrained_model.features)\n",
        "\n",
        "        # change last layer to classify into 10 instead of 1000\n",
        "        pretrained_model.classifier[6] = nn.Linear(4096, 10)\n",
        "\n",
        "        # freeze weights of features, train classification layers\n",
        "        for param in pretrained_model.features.parameters():\n",
        "            param.requires_grad = False\n",
        "\n",
        "        self.pretrained_model = pretrained_model\n",
        "    \n",
        "    def forward(self,x):\n",
        "        x = self.pretrained_model(x)\n",
        "        return x"
      ],
      "execution_count": null,
      "outputs": []
    },
    {
      "cell_type": "code",
      "metadata": {
        "colab": {
          "base_uri": "https://localhost:8080/"
        },
        "id": "0vS9zjkXFRak",
        "outputId": "98164efb-0c2c-4821-eee8-2259bfd592f1"
      },
      "source": [
        "test_acc = []\n",
        "for i in range(3):\n",
        "    train_loader, val_loader, test_loader = load_data(i)\n",
        "    model = VGG16CNN().cuda()\n",
        "    criterion = nn.CrossEntropyLoss()\n",
        "    optimizer = Adam(model.parameters(), lr=0.001)\n",
        "    scheduler = lr_scheduler.StepLR(optimizer, step_size=1, gamma=0.1)\n",
        "    best_model = train_cnn(model, train_loader, val_loader, test_loader, criterion, optimizer, epochs = 3)\n",
        "    test_acc.append(get_test_accuracy(model, best_model, test_loader))\n",
        "print(test_acc)"
      ],
      "execution_count": null,
      "outputs": [
        {
          "output_type": "stream",
          "text": [
            "Files already downloaded and verified\n",
            "Files already downloaded and verified\n",
            "Epoch 1\n",
            "Training loss: 0.7800726302040948\n",
            "Training accuracy: 74.15555555555555%\n",
            "Validation accuracy: 80.78%\n",
            "------------------------------\n",
            "Epoch 2\n",
            "Training loss: 0.32613031949996946\n",
            "Training accuracy: 88.99333333333334%\n",
            "Validation accuracy: 85.02%\n",
            "------------------------------\n",
            "Epoch 3\n",
            "Training loss: 0.22820178083843656\n",
            "Training accuracy: 92.34444444444445%\n",
            "Validation accuracy: 85.18%\n",
            "------------------------------\n",
            "Finished Training\n",
            "Test accuracy: 85.64%\n",
            "Files already downloaded and verified\n",
            "Files already downloaded and verified\n",
            "Epoch 1\n",
            "Training loss: 0.7834172583262126\n",
            "Training accuracy: 74.00888888888889%\n",
            "Validation accuracy: 83.66%\n",
            "------------------------------\n",
            "Epoch 2\n",
            "Training loss: 0.32637091528574624\n",
            "Training accuracy: 89.1%\n",
            "Validation accuracy: 86.3%\n",
            "------------------------------\n",
            "Epoch 3\n",
            "Training loss: 0.2286855621125963\n",
            "Training accuracy: 92.21555555555555%\n",
            "Validation accuracy: 86.24%\n",
            "------------------------------\n",
            "Finished Training\n",
            "Test accuracy: 85.35%\n",
            "Files already downloaded and verified\n",
            "Files already downloaded and verified\n",
            "Epoch 1\n",
            "Training loss: 0.7809523599306742\n",
            "Training accuracy: 73.91555555555556%\n",
            "Validation accuracy: 77.08%\n",
            "------------------------------\n",
            "Epoch 2\n",
            "Training loss: 0.3323114376887265\n",
            "Training accuracy: 88.88444444444444%\n",
            "Validation accuracy: 85.78%\n",
            "------------------------------\n",
            "Epoch 3\n",
            "Training loss: 0.2344080914672878\n",
            "Training accuracy: 92.13333333333334%\n",
            "Validation accuracy: 86.26%\n",
            "------------------------------\n",
            "Finished Training\n",
            "Test accuracy: 85.49%\n",
            "[85.64, 85.35, 85.49]\n"
          ],
          "name": "stdout"
        }
      ]
    },
    {
      "cell_type": "code",
      "metadata": {
        "colab": {
          "base_uri": "https://localhost:8080/"
        },
        "id": "acn4Od3FfwKt",
        "outputId": "c821ef0c-d327-4b8b-ebbd-8569f0d063a8"
      },
      "source": [
        "print(np.mean(test_acc))"
      ],
      "execution_count": null,
      "outputs": [
        {
          "output_type": "stream",
          "text": [
            "85.49333333333334\n"
          ],
          "name": "stdout"
        }
      ]
    },
    {
      "cell_type": "code",
      "metadata": {
        "colab": {
          "base_uri": "https://localhost:8080/",
          "height": 295
        },
        "id": "NYM-CcrqfeHf",
        "outputId": "eae6153e-8f7a-4ea4-82ab-373bee203f44"
      },
      "source": [
        "plot_accuracy(model, epochs=3)"
      ],
      "execution_count": null,
      "outputs": [
        {
          "output_type": "display_data",
          "data": {
            "image/png": "[encoded data removed]",
            "text/plain": [
              "<Figure size 432x288 with 1 Axes>"
            ]
          },
          "metadata": {
            "tags": []
          }
        }
      ]
    },
    {
      "cell_type": "markdown",
      "metadata": {
        "id": "qHXJFdlSVGJd"
      },
      "source": [
        "# VGG without batch normalisation, all classification layers changed, Adam optimizer"
      ]
    },
    {
      "cell_type": "code",
      "metadata": {
        "id": "lZC54dGcVCUF"
      },
      "source": [
        "class VGG16CNN(nn.Module):\n",
        "    def __init__(self):\n",
        "        super(VGG16CNN, self).__init__()\n",
        "        pretrained_model = models.vgg16(pretrained=True)\n",
        "        # print(pretrained_model.classifier)\n",
        "        # print(pretrained_model.features)\n",
        "\n",
        "        # change last layer to classify into 10 instead of 1000\n",
        "        pretrained_model.classifier[6] = nn.Linear(4096, 10)\n",
        "\n",
        "        # freeze weights of features, train classification layers\n",
        "        for param in pretrained_model.features.parameters():\n",
        "            param.requires_grad = False\n",
        "\n",
        "        self.pretrained_model = pretrained_model\n",
        "    \n",
        "    def forward(self,x):\n",
        "        x = self.pretrained_model(x)\n",
        "        return x"
      ],
      "execution_count": null,
      "outputs": []
    },
    {
      "cell_type": "code",
      "metadata": {
        "colab": {
          "background_save": true,
          "base_uri": "https://localhost:8080/",
          "height": 914,
          "referenced_widgets": [
            "a1bc357798294bebb2e87a487c409239",
            "e1e1b144123542a4850b2cf03a5419bb",
            "39bbc30827284200808e8d12e6078435",
            "d5faf3541a3d4829971b6d11b87692ab",
            "7a3b267d21a94de0ad30329eb82a721d",
            "a5f04de19fc248adacf21fd5091f6619",
            "10eeee36dfed4f5ea0c5b444b7a8a647",
            "b9e37fec6eb54e3db6d99aa34da18862",
            "5e0dbc07b85b4b299d5a6ee3bcb8070d",
            "9c06de526d2a4975862600fd0314f9e4",
            "6c4e65b18b7b49e687455853c66fca46",
            "42c80a203864460689ea958af6d3ff2c",
            "86bbb74585654041bcb8f0d03039e9c9",
            "c0f7257da6d94c43ba2011ccd5674197",
            "d90adbb383794fe7b88a496ae694afc3",
            "1110b65adf4c4533a610706898e8d220"
          ]
        },
        "id": "GnjkgftmezUX",
        "outputId": "fa50b8b9-7da0-48df-bdd3-d99cf359ff37"
      },
      "source": [
        "test_acc = []\n",
        "for i in range(3):\n",
        "    train_loader, val_loader, test_loader = load_data(i)\n",
        "    model = VGG16CNN().cuda()\n",
        "    criterion = nn.CrossEntropyLoss()\n",
        "    optimizer = Adam(model.parameters(), lr=0.001)\n",
        "    scheduler = lr_scheduler.StepLR(optimizer, step_size=1, gamma=0.1)\n",
        "    best_model = train_cnn(model, train_loader, val_loader, test_loader, criterion, optimizer, epochs = 3)\n",
        "    test_acc.append(get_test_accuracy(model, best_model, test_loader))\n",
        "print(test_acc)"
      ],
      "execution_count": null,
      "outputs": [
        {
          "output_type": "stream",
          "text": [
            "Downloading https://www.cs.toronto.edu/~kriz/cifar-10-python.tar.gz to ./data/cifar-10-python.tar.gz\n"
          ],
          "name": "stdout"
        },
        {
          "output_type": "display_data",
          "data": {
            "application/vnd.jupyter.widget-view+json": {
              "model_id": "a1bc357798294bebb2e87a487c409239",
              "version_major": 2,
              "version_minor": 0
            },
            "text/plain": [
              "HBox(children=(FloatProgress(value=0.0, max=170498071.0), HTML(value='')))"
            ]
          },
          "metadata": {
            "tags": []
          }
        },
        {
          "output_type": "stream",
          "text": [
            "\n",
            "Extracting ./data/cifar-10-python.tar.gz to ./data\n",
            "Files already downloaded and verified\n"
          ],
          "name": "stdout"
        },
        {
          "output_type": "stream",
          "text": [
            "Downloading: \"https://download.pytorch.org/models/vgg16-397923af.pth\" to /root/.cache/torch/hub/checkpoints/vgg16-397923af.pth\n"
          ],
          "name": "stderr"
        },
        {
          "output_type": "display_data",
          "data": {
            "application/vnd.jupyter.widget-view+json": {
              "model_id": "5e0dbc07b85b4b299d5a6ee3bcb8070d",
              "version_major": 2,
              "version_minor": 0
            },
            "text/plain": [
              "HBox(children=(FloatProgress(value=0.0, max=553433881.0), HTML(value='')))"
            ]
          },
          "metadata": {
            "tags": []
          }
        },
        {
          "output_type": "stream",
          "text": [
            "\n",
            "Epoch 1\n",
            "Training loss: 0.7173138912147946\n",
            "Training accuracy: 77.42444444444445%\n",
            "Validation accuracy: 85.78%\n",
            "------------------------------\n",
            "Epoch 2\n",
            "Training loss: 0.2979366521437963\n",
            "Training accuracy: 90.12666666666667%\n",
            "Validation accuracy: 88.5%\n",
            "------------------------------\n",
            "Epoch 3\n",
            "Training loss: 0.21550468161900838\n",
            "Training accuracy: 92.88222222222223%\n",
            "Validation accuracy: 88.7%\n",
            "------------------------------\n",
            "Finished Training\n",
            "Test accuracy: 88.23%\n",
            "Files already downloaded and verified\n",
            "Files already downloaded and verified\n",
            "Epoch 1\n",
            "Training loss: 0.7168943653530545\n",
            "Training accuracy: 77.38%\n",
            "Validation accuracy: 83.66%\n",
            "------------------------------\n",
            "Epoch 2\n",
            "Training loss: 0.3148150984976027\n",
            "Training accuracy: 89.58%\n",
            "Validation accuracy: 87.92%\n",
            "------------------------------\n",
            "Epoch 3\n",
            "Training loss: 0.2225900661892361\n",
            "Training accuracy: 92.56222222222222%\n",
            "Validation accuracy: 88.36%\n",
            "------------------------------\n",
            "Finished Training\n",
            "Test accuracy: 88.06%\n",
            "Files already downloaded and verified\n",
            "Files already downloaded and verified\n",
            "Epoch 1\n",
            "Training loss: 0.710471248737971\n",
            "Training accuracy: 77.57111111111111%\n",
            "Validation accuracy: 83.66%\n",
            "------------------------------\n",
            "Epoch 2\n",
            "Training loss: 0.30941433412730696\n",
            "Training accuracy: 90.02222222222223%\n",
            "Validation accuracy: 88.32%\n",
            "------------------------------\n",
            "Epoch 3\n",
            "Training loss: 0.21561877310540942\n",
            "Training accuracy: 92.92222222222222%\n",
            "Validation accuracy: 88.18%\n",
            "------------------------------\n",
            "Finished Training\n",
            "Test accuracy: 87.78%\n",
            "[88.23, 88.06, 87.78]\n"
          ],
          "name": "stdout"
        }
      ]
    },
    {
      "cell_type": "code",
      "metadata": {
        "id": "-2_EitQUfysM",
        "colab": {
          "base_uri": "https://localhost:8080/",
          "height": 164
        },
        "outputId": "3df91174-fb2c-4cc4-e75a-cf2eed80c574"
      },
      "source": [
        "print(np.mean(test_acc))"
      ],
      "execution_count": null,
      "outputs": [
        {
          "output_type": "error",
          "ename": "NameError",
          "evalue": "ignored",
          "traceback": [
            "\u001b[0;31m---------------------------------------------------------------------------\u001b[0m",
            "\u001b[0;31mNameError\u001b[0m                                 Traceback (most recent call last)",
            "\u001b[0;32m<ipython-input-1-ebd3117205fd>\u001b[0m in \u001b[0;36m<module>\u001b[0;34m()\u001b[0m\n\u001b[0;32m----> 1\u001b[0;31m \u001b[0mprint\u001b[0m\u001b[0;34m(\u001b[0m\u001b[0mnp\u001b[0m\u001b[0;34m.\u001b[0m\u001b[0mmean\u001b[0m\u001b[0;34m(\u001b[0m\u001b[0mtest_acc\u001b[0m\u001b[0;34m)\u001b[0m\u001b[0;34m)\u001b[0m\u001b[0;34m\u001b[0m\u001b[0;34m\u001b[0m\u001b[0m\n\u001b[0m",
            "\u001b[0;31mNameError\u001b[0m: name 'np' is not defined"
          ]
        }
      ]
    },
    {
      "cell_type": "code",
      "metadata": {
        "id": "uiLyhEUHfbi9"
      },
      "source": [
        "plot_accuracy(model)"
      ],
      "execution_count": null,
      "outputs": []
    },
    {
      "cell_type": "markdown",
      "metadata": {
        "id": "aV8wY7M49Rw3"
      },
      "source": [
        "# VGG pretrained on ImageNet, only last layer changed, SGD optimizer"
      ]
    },
    {
      "cell_type": "code",
      "metadata": {
        "id": "rAViUAoE9gAN"
      },
      "source": [
        "class VGG16CNN(nn.Module):\n",
        "    def __init__(self):\n",
        "        super(VGG16CNN, self).__init__()\n",
        "        pretrained_model = models.vgg16_bn(pretrained=True)\n",
        "        # print(pretrained_model.classifier)\n",
        "        # change last layer to classify into 10 instead of 1000\n",
        "        pretrained_model.classifier[6] = nn.Sequential(\n",
        "                      nn.Linear(4096, 10))\n",
        "\n",
        "        # freeze weights of all the models\n",
        "        for param in pretrained_model.parameters():\n",
        "            param.requires_grad = False\n",
        "        # unfreeze the last layer so it can be trained\n",
        "        for param in pretrained_model.classifier[6].parameters():\n",
        "            param.requires_grad = True\n",
        "\n",
        "        self.pretrained_model = pretrained_model\n",
        "    \n",
        "    def forward(self,x):\n",
        "        x = self.pretrained_model(x)\n",
        "        return x"
      ],
      "execution_count": 6,
      "outputs": []
    },
    {
      "cell_type": "code",
      "metadata": {
        "colab": {
          "base_uri": "https://localhost:8080/",
          "height": 781,
          "referenced_widgets": [
            "7b25438888f04fb0877e3aa63a86cf98",
            "915d7eb3387249009393608661bb4dde",
            "5681766b71a54279b961827315393728",
            "cb70f9b9a3ce4c2aa2f4994a95862043",
            "d0606d8ccddb40dd8904e50e216b58b2",
            "c2d1d64c39e24969a43ebc3461792ce5",
            "6fba14b5d4934d1d816a6f2ea400863e",
            "e104c3e877de45c7aa6520a2de849279",
            "d633378e60cc4d82a8eff66b156a31a9",
            "ad6e6c891f904cfcbbc2fd2ec7d07b38",
            "aeaf7b0133b34ce1ac12028ad5348aff",
            "2a5c383067324046953269c26d02476c",
            "2fff534d821b4acd94d33ac4d314017e",
            "9da9973088e64aeba5dd1e8a9df8e71b",
            "3702ce41733d4f72bde0b5971fe25cd4",
            "38881fc188274760aa22b84d92f20ebd"
          ]
        },
        "id": "t-qxi5ox9g9z",
        "outputId": "ddf298bd-38d5-4036-fef5-25041193db1c"
      },
      "source": [
        "test_acc = []\n",
        "for i in range(3):\n",
        "    train_loader, val_loader, test_loader = load_data(i)\n",
        "    model = VGG16CNN().cuda()\n",
        "    criterion = nn.CrossEntropyLoss()\n",
        "    optimizer = SGD(model.parameters(), lr=0.001)\n",
        "    scheduler = lr_scheduler.StepLR(optimizer, step_size=1, gamma=0.1)\n",
        "    best_model = train_cnn(model, train_loader, val_loader, test_loader, criterion, optimizer, epochs = 5)\n",
        "    test_acc.append(get_test_accuracy(model, best_model, test_loader))\n",
        "print(test_acc)"
      ],
      "execution_count": null,
      "outputs": [
        {
          "output_type": "stream",
          "text": [
            "Downloading https://www.cs.toronto.edu/~kriz/cifar-10-python.tar.gz to ./data/cifar-10-python.tar.gz\n"
          ],
          "name": "stdout"
        },
        {
          "output_type": "display_data",
          "data": {
            "application/vnd.jupyter.widget-view+json": {
              "model_id": "7b25438888f04fb0877e3aa63a86cf98",
              "version_major": 2,
              "version_minor": 0
            },
            "text/plain": [
              "HBox(children=(FloatProgress(value=0.0, max=170498071.0), HTML(value='')))"
            ]
          },
          "metadata": {
            "tags": []
          }
        },
        {
          "output_type": "stream",
          "text": [
            "\n",
            "Extracting ./data/cifar-10-python.tar.gz to ./data\n",
            "Files already downloaded and verified\n"
          ],
          "name": "stdout"
        },
        {
          "output_type": "stream",
          "text": [
            "Downloading: \"https://download.pytorch.org/models/vgg16_bn-6c64b313.pth\" to /root/.cache/torch/hub/checkpoints/vgg16_bn-6c64b313.pth\n"
          ],
          "name": "stderr"
        },
        {
          "output_type": "display_data",
          "data": {
            "application/vnd.jupyter.widget-view+json": {
              "model_id": "d633378e60cc4d82a8eff66b156a31a9",
              "version_major": 2,
              "version_minor": 0
            },
            "text/plain": [
              "HBox(children=(FloatProgress(value=0.0, max=553507836.0), HTML(value='')))"
            ]
          },
          "metadata": {
            "tags": []
          }
        },
        {
          "output_type": "stream",
          "text": [
            "\n",
            "Epoch 1\n",
            "Training loss: 1.5948932282129924\n",
            "Training accuracy: 54.72888888888889%\n",
            "Validation accuracy: 70.16%\n",
            "------------------------------\n",
            "Epoch 2\n",
            "Training loss: 1.2017885462443034\n",
            "Training accuracy: 66.82444444444444%\n",
            "Validation accuracy: 70.56%\n",
            "------------------------------\n",
            "Epoch 3\n",
            "Training loss: 1.183543518087599\n",
            "Training accuracy: 67.3488888888889%\n",
            "Validation accuracy: 70.54%\n",
            "------------------------------\n",
            "Epoch 4\n",
            "Training loss: 1.1824314615461562\n",
            "Training accuracy: 67.34666666666666%\n",
            "Validation accuracy: 70.56%\n",
            "------------------------------\n",
            "Epoch 5\n",
            "Training loss: 1.1822052436404757\n",
            "Training accuracy: 67.15555555555555%\n",
            "Validation accuracy: 70.56%\n",
            "------------------------------\n",
            "Finished Training\n",
            "Test accuracy: 71.66%\n",
            "Files already downloaded and verified\n",
            "Files already downloaded and verified\n",
            "Epoch 1\n",
            "Training loss: 1.596273055521647\n",
            "Training accuracy: 54.684444444444445%\n",
            "Validation accuracy: 71.38%\n",
            "------------------------------\n"
          ],
          "name": "stdout"
        }
      ]
    },
    {
      "cell_type": "code",
      "metadata": {
        "id": "NCTkATss92IA"
      },
      "source": [
        "print(np.mean(test_acc))"
      ],
      "execution_count": null,
      "outputs": []
    },
    {
      "cell_type": "code",
      "metadata": {
        "id": "pF58gXoN952-"
      },
      "source": [
        "plot_accuracy(model, epochs=5)"
      ],
      "execution_count": null,
      "outputs": []
    },
    {
      "cell_type": "markdown",
      "metadata": {
        "id": "CmrqhhXk6FAk"
      },
      "source": [
        "# VGG pretrained on ImageNet, all classification layers changed, SGD optimizer"
      ]
    },
    {
      "cell_type": "markdown",
      "metadata": {
        "id": "aweIegLn2MRJ"
      },
      "source": [
        "# VGG without batch normalization, all classification layers changed, SGD optimizer\n"
      ]
    },
    {
      "cell_type": "code",
      "metadata": {
        "id": "BZsGluCg2lwY"
      },
      "source": [
        "class VGG16CNN(nn.Module):\n",
        "    def __init__(self):\n",
        "        super(VGG16CNN, self).__init__()\n",
        "        pretrained_model = models.vgg16(pretrained=True)\n",
        "\n",
        "        # change last layer to classify into 10 instead of 1000\n",
        "        pretrained_model.classifier[6] = nn.Linear(4096, 10)\n",
        "\n",
        "        # freeze weights of features, train classification layers\n",
        "        for param in pretrained_model.features.parameters():\n",
        "            param.requires_grad = False\n",
        "\n",
        "        self.pretrained_model = pretrained_model\n",
        "    \n",
        "    def forward(self,x):\n",
        "        x = self.pretrained_model(x)\n",
        "        return x"
      ],
      "execution_count": null,
      "outputs": []
    },
    {
      "cell_type": "code",
      "metadata": {
        "id": "9Z06c3yO2sBG",
        "colab": {
          "base_uri": "https://localhost:8080/"
        },
        "outputId": "2af59886-33b0-4f27-d35d-761d741fd6c4"
      },
      "source": [
        "test_acc = []\n",
        "for i in range(3):\n",
        "    train_loader, val_loader, test_loader = load_data(i)\n",
        "    model = VGG16CNN().cuda()\n",
        "    criterion = nn.CrossEntropyLoss()\n",
        "    optimizer = SGD(model.parameters(), lr=0.001)\n",
        "    scheduler = lr_scheduler.StepLR(optimizer, step_size=1, gamma=0.1)\n",
        "    best_model = train_cnn(model, train_loader, val_loader, test_loader, criterion, optimizer, epochs = 3)\n",
        "    test_acc.append(get_test_accuracy(model, best_model, test_loader))\n",
        "print(test_acc)"
      ],
      "execution_count": null,
      "outputs": [
        {
          "output_type": "stream",
          "text": [
            "Files already downloaded and verified\n",
            "Files already downloaded and verified\n",
            "Epoch 1\n",
            "Training loss: 1.102358359951443\n",
            "Training accuracy: 65.26%\n",
            "Validation accuracy: 78.76%\n",
            "------------------------------\n",
            "Epoch 2\n",
            "Training loss: 0.7225641087638007\n",
            "Training accuracy: 75.7%\n",
            "Validation accuracy: 79.76%\n",
            "------------------------------\n",
            "Epoch 3\n",
            "Training loss: 0.7121496701558431\n",
            "Training accuracy: 75.94666666666667%\n",
            "Validation accuracy: 79.76%\n",
            "------------------------------\n",
            "Finished Training\n",
            "Test accuracy: 78.89%\n",
            "Files already downloaded and verified\n",
            "Files already downloaded and verified\n",
            "Epoch 1\n",
            "Training loss: 1.0978964070002237\n",
            "Training accuracy: 65.29333333333334%\n",
            "Validation accuracy: 78.6%\n",
            "------------------------------\n",
            "Epoch 2\n",
            "Training loss: 0.7266609089533488\n",
            "Training accuracy: 75.44%\n",
            "Validation accuracy: 79.46%\n",
            "------------------------------\n",
            "Epoch 3\n",
            "Training loss: 0.7157019476148817\n",
            "Training accuracy: 75.65555555555555%\n",
            "Validation accuracy: 79.6%\n",
            "------------------------------\n",
            "Finished Training\n",
            "Test accuracy: 78.77%\n",
            "Files already downloaded and verified\n",
            "Files already downloaded and verified\n",
            "Epoch 1\n",
            "Training loss: 1.097726215341356\n",
            "Training accuracy: 65.25555555555556%\n",
            "Validation accuracy: 78.44%\n",
            "------------------------------\n",
            "Epoch 2\n",
            "Training loss: 0.7246368423779805\n",
            "Training accuracy: 75.58222222222223%\n",
            "Validation accuracy: 78.5%\n",
            "------------------------------\n",
            "Epoch 3\n",
            "Training loss: 0.7155368696424697\n",
            "Training accuracy: 75.90444444444445%\n",
            "Validation accuracy: 78.44%\n",
            "------------------------------\n",
            "Finished Training\n",
            "Test accuracy: 78.74%\n",
            "[78.89, 78.77, 78.74]\n"
          ],
          "name": "stdout"
        }
      ]
    },
    {
      "cell_type": "code",
      "metadata": {
        "id": "Ssp0Laebf0QQ",
        "colab": {
          "base_uri": "https://localhost:8080/"
        },
        "outputId": "8aa33191-6e3f-421c-cf88-6c1fb1152b55"
      },
      "source": [
        "print(np.mean(test_acc))"
      ],
      "execution_count": null,
      "outputs": [
        {
          "output_type": "stream",
          "text": [
            "78.8\n"
          ],
          "name": "stdout"
        }
      ]
    },
    {
      "cell_type": "code",
      "metadata": {
        "id": "WXK53SsPfYJX",
        "colab": {
          "base_uri": "https://localhost:8080/",
          "height": 295
        },
        "outputId": "aadc93f8-c061-4e19-af68-462574848965"
      },
      "source": [
        "plot_accuracy(model, epochs=3)"
      ],
      "execution_count": null,
      "outputs": [
        {
          "output_type": "display_data",
          "data": {
            "image/png": "[encoded data removed]",
            "text/plain": [
              "<Figure size 432x288 with 1 Axes>"
            ]
          },
          "metadata": {
            "tags": [],
            "needs_background": "light"
          }
        }
      ]
    }
  ]
}
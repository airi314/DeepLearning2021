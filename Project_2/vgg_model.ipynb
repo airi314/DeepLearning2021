{
  "nbformat": 4,
  "nbformat_minor": 0,
  "metadata": {
    "accelerator": "GPU",
    "colab": {
      "name": "vgg_model.ipynb",
      "provenance": [],
      "collapsed_sections": [
        "qHXJFdlSVGJd",
        "aweIegLn2MRJ"
      ]
    },
    "kernelspec": {
      "display_name": "Python 3",
      "name": "python3"
    },
    "language_info": {
      "name": "python"
    },
    "widgets": {
      "application/vnd.jupyter.widget-state+json": {
        "06705f4d293d41da99e97edcbd472547": {
          "model_module": "@jupyter-widgets/controls",
          "model_name": "HBoxModel",
          "state": {
            "_dom_classes": [],
            "_model_module": "@jupyter-widgets/controls",
            "_model_module_version": "1.5.0",
            "_model_name": "HBoxModel",
            "_view_count": null,
            "_view_module": "@jupyter-widgets/controls",
            "_view_module_version": "1.5.0",
            "_view_name": "HBoxView",
            "box_style": "",
            "children": [
              "IPY_MODEL_6d91bf84b6674e9bbca4eed953b0c9df",
              "IPY_MODEL_406efcbbe4984b8ab1ffa3f6178c1d5b"
            ],
            "layout": "IPY_MODEL_9c0c12fef2e84c2d8fb06cf213bd0b3c"
          }
        },
        "6d91bf84b6674e9bbca4eed953b0c9df": {
          "model_module": "@jupyter-widgets/controls",
          "model_name": "FloatProgressModel",
          "state": {
            "_dom_classes": [],
            "_model_module": "@jupyter-widgets/controls",
            "_model_module_version": "1.5.0",
            "_model_name": "FloatProgressModel",
            "_view_count": null,
            "_view_module": "@jupyter-widgets/controls",
            "_view_module_version": "1.5.0",
            "_view_name": "ProgressView",
            "bar_style": "success",
            "description": "100%",
            "description_tooltip": null,
            "layout": "IPY_MODEL_e9fc5324d54646618ea6548f483663bb",
            "max": 553433881,
            "min": 0,
            "orientation": "horizontal",
            "style": "IPY_MODEL_d83990cf723e4ad0a0f7ea7d77f51a3a",
            "value": 553433881
          }
        },
        "406efcbbe4984b8ab1ffa3f6178c1d5b": {
          "model_module": "@jupyter-widgets/controls",
          "model_name": "HTMLModel",
          "state": {
            "_dom_classes": [],
            "_model_module": "@jupyter-widgets/controls",
            "_model_module_version": "1.5.0",
            "_model_name": "HTMLModel",
            "_view_count": null,
            "_view_module": "@jupyter-widgets/controls",
            "_view_module_version": "1.5.0",
            "_view_name": "HTMLView",
            "description": "",
            "description_tooltip": null,
            "layout": "IPY_MODEL_965b968cdead41748f42921d4d37ad6b",
            "placeholder": "​",
            "style": "IPY_MODEL_a334a681a3194ec987a1606a33ca6e0a",
            "value": " 528M/528M [02:37&lt;00:00, 3.51MB/s]"
          }
        },
        "9c0c12fef2e84c2d8fb06cf213bd0b3c": {
          "model_module": "@jupyter-widgets/base",
          "model_name": "LayoutModel",
          "state": {
            "_model_module": "@jupyter-widgets/base",
            "_model_module_version": "1.2.0",
            "_model_name": "LayoutModel",
            "_view_count": null,
            "_view_module": "@jupyter-widgets/base",
            "_view_module_version": "1.2.0",
            "_view_name": "LayoutView",
            "align_content": null,
            "align_items": null,
            "align_self": null,
            "border": null,
            "bottom": null,
            "display": null,
            "flex": null,
            "flex_flow": null,
            "grid_area": null,
            "grid_auto_columns": null,
            "grid_auto_flow": null,
            "grid_auto_rows": null,
            "grid_column": null,
            "grid_gap": null,
            "grid_row": null,
            "grid_template_areas": null,
            "grid_template_columns": null,
            "grid_template_rows": null,
            "height": null,
            "justify_content": null,
            "justify_items": null,
            "left": null,
            "margin": null,
            "max_height": null,
            "max_width": null,
            "min_height": null,
            "min_width": null,
            "object_fit": null,
            "object_position": null,
            "order": null,
            "overflow": null,
            "overflow_x": null,
            "overflow_y": null,
            "padding": null,
            "right": null,
            "top": null,
            "visibility": null,
            "width": null
          }
        },
        "e9fc5324d54646618ea6548f483663bb": {
          "model_module": "@jupyter-widgets/base",
          "model_name": "LayoutModel",
          "state": {
            "_model_module": "@jupyter-widgets/base",
            "_model_module_version": "1.2.0",
            "_model_name": "LayoutModel",
            "_view_count": null,
            "_view_module": "@jupyter-widgets/base",
            "_view_module_version": "1.2.0",
            "_view_name": "LayoutView",
            "align_content": null,
            "align_items": null,
            "align_self": null,
            "border": null,
            "bottom": null,
            "display": null,
            "flex": null,
            "flex_flow": null,
            "grid_area": null,
            "grid_auto_columns": null,
            "grid_auto_flow": null,
            "grid_auto_rows": null,
            "grid_column": null,
            "grid_gap": null,
            "grid_row": null,
            "grid_template_areas": null,
            "grid_template_columns": null,
            "grid_template_rows": null,
            "height": null,
            "justify_content": null,
            "justify_items": null,
            "left": null,
            "margin": null,
            "max_height": null,
            "max_width": null,
            "min_height": null,
            "min_width": null,
            "object_fit": null,
            "object_position": null,
            "order": null,
            "overflow": null,
            "overflow_x": null,
            "overflow_y": null,
            "padding": null,
            "right": null,
            "top": null,
            "visibility": null,
            "width": null
          }
        },
        "d83990cf723e4ad0a0f7ea7d77f51a3a": {
          "model_module": "@jupyter-widgets/controls",
          "model_name": "ProgressStyleModel",
          "state": {
            "_model_module": "@jupyter-widgets/controls",
            "_model_module_version": "1.5.0",
            "_model_name": "ProgressStyleModel",
            "_view_count": null,
            "_view_module": "@jupyter-widgets/base",
            "_view_module_version": "1.2.0",
            "_view_name": "StyleView",
            "bar_color": null,
            "description_width": "initial"
          }
        },
        "965b968cdead41748f42921d4d37ad6b": {
          "model_module": "@jupyter-widgets/base",
          "model_name": "LayoutModel",
          "state": {
            "_model_module": "@jupyter-widgets/base",
            "_model_module_version": "1.2.0",
            "_model_name": "LayoutModel",
            "_view_count": null,
            "_view_module": "@jupyter-widgets/base",
            "_view_module_version": "1.2.0",
            "_view_name": "LayoutView",
            "align_content": null,
            "align_items": null,
            "align_self": null,
            "border": null,
            "bottom": null,
            "display": null,
            "flex": null,
            "flex_flow": null,
            "grid_area": null,
            "grid_auto_columns": null,
            "grid_auto_flow": null,
            "grid_auto_rows": null,
            "grid_column": null,
            "grid_gap": null,
            "grid_row": null,
            "grid_template_areas": null,
            "grid_template_columns": null,
            "grid_template_rows": null,
            "height": null,
            "justify_content": null,
            "justify_items": null,
            "left": null,
            "margin": null,
            "max_height": null,
            "max_width": null,
            "min_height": null,
            "min_width": null,
            "object_fit": null,
            "object_position": null,
            "order": null,
            "overflow": null,
            "overflow_x": null,
            "overflow_y": null,
            "padding": null,
            "right": null,
            "top": null,
            "visibility": null,
            "width": null
          }
        },
        "a334a681a3194ec987a1606a33ca6e0a": {
          "model_module": "@jupyter-widgets/controls",
          "model_name": "DescriptionStyleModel",
          "state": {
            "_model_module": "@jupyter-widgets/controls",
            "_model_module_version": "1.5.0",
            "_model_name": "DescriptionStyleModel",
            "_view_count": null,
            "_view_module": "@jupyter-widgets/base",
            "_view_module_version": "1.2.0",
            "_view_name": "StyleView",
            "description_width": ""
          }
        }
      }
    }
  },
  "cells": [
    {
      "cell_type": "markdown",
      "metadata": {
        "id": "Pk7piq6wQp8c"
      },
      "source": [
        "# Importing libraries"
      ]
    },
    {
      "cell_type": "code",
      "metadata": {
        "id": "pUziEcPlQe8t"
      },
      "source": [
        "import torch\n",
        "import torchvision\n",
        "import torchvision.transforms as transforms\n",
        "from torchvision import models\n",
        "import matplotlib.pyplot as plt\n",
        "import numpy as np\n",
        "import random\n",
        "import torch.nn as nn\n",
        "import torch.nn.functional as F\n",
        "import torch.optim as optim\n",
        "from torch.utils.data import random_split\n",
        "from torch.optim import SGD, Adam, lr_scheduler\n",
        "from copy import deepcopy\n",
        "from torch.nn.init import xavier_uniform_ as xavier"
      ],
      "execution_count": 1,
      "outputs": []
    },
    {
      "cell_type": "code",
      "metadata": {
        "colab": {
          "base_uri": "https://localhost:8080/"
        },
        "id": "PJFw462MQu1r",
        "outputId": "dc5ff6ba-cbc1-40c5-a1d0-ecdb55d4f059"
      },
      "source": [
        "device = torch.device(\"cuda:0\" if torch.cuda.is_available() else \"cpu\")\n",
        "print(device)"
      ],
      "execution_count": 2,
      "outputs": [
        {
          "output_type": "stream",
          "text": [
            "cuda:0\n"
          ],
          "name": "stdout"
        }
      ]
    },
    {
      "cell_type": "markdown",
      "metadata": {
        "id": "W5y7jriuRT-w"
      },
      "source": [
        "# Utils"
      ]
    },
    {
      "cell_type": "code",
      "metadata": {
        "id": "HPXNveZUyhIQ"
      },
      "source": [
        "def get_test_accuracy(model, best_model, test_loader):\n",
        "    model.load_state_dict(best_model)\n",
        "    size_test = len(test_loader.dataset)\n",
        "\n",
        "    test_correct = 0\n",
        "    with torch.no_grad():\n",
        "        for inputs, labels in test_loader:\n",
        "            outputs = model(inputs.to(device)).cpu()\n",
        "            predicted = torch.argmax(outputs, dim=1)\n",
        "            test_correct += (predicted == labels).sum().item()\n",
        "\n",
        "    print(f\"Test accuracy: {test_correct*100/size_test}%\")\n",
        "    return test_correct*100/size_test\n",
        "            \n",
        "def plot_accuracy(model, epochs = 2):\n",
        "    plt.figure()\n",
        "    plt.plot([i for i in range(epochs)], model.train_accuracy)\n",
        "    plt.plot([i for i in range(epochs)], model.val_accuracy)\n",
        "    plt.xlabel('Epochs')\n",
        "    plt.ylabel('Accuracy')\n",
        "    plt.legend(['Train', 'Validation'])\n",
        "    plt.title('Accuracy for train and test sets')\n",
        "    plt.show()\n",
        "\n",
        "def plot_loss(model, epochs = 2):\n",
        "    plt.figure()\n",
        "    plt.plot([i for i in range(epochs)], model.train_loss)\n",
        "    plt.xlabel('Epochs')\n",
        "    plt.ylabel('Loss')\n",
        "    plt.title('Loss function value on training set during training')\n",
        "    plt.show()\n",
        "\n",
        "def xavier_weights_init(m):\n",
        "    if isinstance(m, nn.Conv2d):\n",
        "        xavier(m.weight.data)\n",
        "\n",
        "def seed_worker(worker_id):\n",
        "    worker_seed = torch.initial_seed() % 2**32\n",
        "    np.random.seed(worker_seed)\n",
        "    random.seed(worker_seed)"
      ],
      "execution_count": 12,
      "outputs": []
    },
    {
      "cell_type": "code",
      "metadata": {
        "id": "J5OMJU78iaT3"
      },
      "source": [
        "def load_data(random_seed = 0):\n",
        "    random.seed(random_seed)\n",
        "    np.random.seed(random_seed)\n",
        "    torch.manual_seed(random_seed)\n",
        "\n",
        "    train_transform = transforms.Compose([                                      \n",
        "        transforms.Resize(224),\n",
        "        transforms.ToTensor(),\n",
        "        transforms.Normalize([0.485, 0.456, 0.406], [0.229, 0.224, 0.225])])\n",
        "\n",
        "    test_transform = transforms.Compose([\n",
        "        transforms.Resize(224),\n",
        "        transforms.ToTensor(),\n",
        "        transforms.Normalize([0.485, 0.456, 0.406], [0.229, 0.224, 0.225])])\n",
        "\n",
        "    train = torchvision.datasets.CIFAR10(root='./data', train=True,\n",
        "                                        download=True, transform=train_transform)\n",
        "\n",
        "    test = torchvision.datasets.CIFAR10(root='./data', train=False,\n",
        "                                       download=True, transform=test_transform)\n",
        "\n",
        "    train, val = random_split(train, [45000, 5000], generator = torch.manual_seed(random_seed))\n",
        "\n",
        "    train_loader = torch.utils.data.DataLoader(train, batch_size=64,\n",
        "                                          shuffle=False, num_workers=2,\n",
        "                                           worker_init_fn=seed_worker)\n",
        "\n",
        "    val_loader = torch.utils.data.DataLoader(val, batch_size=64,\n",
        "                                         shuffle=False, num_workers=2,\n",
        "                                         worker_init_fn=seed_worker)\n",
        "\n",
        "    test_loader = torch.utils.data.DataLoader(test, batch_size=64,\n",
        "                                         shuffle=False, num_workers=2,\n",
        "                                          worker_init_fn=seed_worker)\n",
        "    \n",
        "    return train_loader, val_loader, test_loader"
      ],
      "execution_count": 4,
      "outputs": []
    },
    {
      "cell_type": "code",
      "metadata": {
        "id": "3WAaPiskguIk"
      },
      "source": [
        "def train_cnn(cnn, train_loader, val_loader, test_loader, criterion, optimizer, epochs = 2):\n",
        "    best_accuracy = -1\n",
        "    best_model = None\n",
        "    model.train_loss = list()\n",
        "    model.train_accuracy = list()\n",
        "    model.val_accuracy = list()\n",
        "\n",
        "    size_train = len(train_loader.dataset)\n",
        "    size_val = len(val_loader.dataset)\n",
        "    size_test = len(test_loader.dataset)\n",
        "\n",
        "    for epoch in range(epochs):  \n",
        "\n",
        "        model.train(True)\n",
        "        training_loss = 0\n",
        "        training_correct = 0\n",
        "\n",
        "        for i, data in enumerate(train_loader, 0):\n",
        "\n",
        "            inputs, labels = data\n",
        "            inputs, labels = inputs.cuda(), labels.cuda()\n",
        "            optimizer.zero_grad()\n",
        "\n",
        "            outputs = model(inputs)\n",
        "            loss = criterion(outputs, labels)\n",
        "            loss.backward()\n",
        "            optimizer.step()\n",
        "\n",
        "            training_loss += loss.item() * inputs.size(0)\n",
        "            predicted = torch.argmax(outputs.detach(),dim=1)\n",
        "            training_correct += (predicted == labels).sum().item()\n",
        "    \n",
        "        training_loss = training_loss/size_train\n",
        "        training_accuracy = training_correct*100/size_train\n",
        "    \n",
        "        model.train_loss.append(training_loss)\n",
        "        model.train_accuracy.append(training_accuracy)\n",
        "\n",
        "        print(f\"Epoch {epoch+1}\")\n",
        "        print(f\"Training loss: {training_loss}\")\n",
        "        print(f\"Training accuracy: {training_accuracy}%\")    \n",
        "\n",
        "        validation_correct = 0\n",
        "        model.train(False)\n",
        "        with torch.no_grad():\n",
        "            for inputs,labels in val_loader:\n",
        "                outputs = model(inputs.cuda()).cpu()\n",
        "                predicted = torch.argmax(outputs.detach(), dim=1)\n",
        "                validation_correct += (predicted == labels).sum().item()\n",
        "\n",
        "        val_accuracy = validation_correct*100/size_val\n",
        "        model.val_accuracy.append(val_accuracy)\n",
        "\n",
        "        print(f\"Validation accuracy: {val_accuracy}%\")\n",
        "\n",
        "        if validation_correct > best_accuracy:\n",
        "            best_accuracy = validation_correct\n",
        "            best_model = deepcopy(model.state_dict())\n",
        "\n",
        "        test_correct = 0\n",
        "        with torch.no_grad():\n",
        "            for inputs, labels in test_loader:\n",
        "                outputs = model(inputs.cuda()).cpu()\n",
        "                predicted = torch.argmax(outputs, dim=1)\n",
        "                test_correct += (predicted == labels).sum().item()\n",
        "\n",
        "        print(f\"Test accuracy: {test_correct*100/size_test}%\")\n",
        "\n",
        "        scheduler.step()\n",
        "        print('-'*30)\n",
        "\n",
        "    print('Finished Training')\n",
        "    return best_model"
      ],
      "execution_count": 5,
      "outputs": []
    },
    {
      "cell_type": "markdown",
      "metadata": {
        "id": "_rb0_Ii7RqIA"
      },
      "source": [
        "# VGG16 pretrained on ImageNet - only last layer changed"
      ]
    },
    {
      "cell_type": "code",
      "metadata": {
        "id": "9814lFG4SY_a"
      },
      "source": [
        "class VGG16CNN(nn.Module):\n",
        "    def __init__(self):\n",
        "        super(VGG16CNN, self).__init__()\n",
        "        pretrained_model = models.vgg16_bn(pretrained=True)\n",
        "        # print(pretrained_model.classifier)\n",
        "        # change last layer to classify into 10 instead of 1000\n",
        "        pretrained_model.classifier[6] = nn.Sequential(\n",
        "                      nn.Linear(4096, 10))\n",
        "\n",
        "        # freeze weights of all the models\n",
        "        for param in pretrained_model.parameters():\n",
        "            param.requires_grad = False\n",
        "        # unfreeze the last layer so it can be trained\n",
        "        for param in pretrained_model.classifier[6].parameters():\n",
        "            param.requires_grad = True\n",
        "\n",
        "        self.pretrained_model = pretrained_model\n",
        "    \n",
        "    def forward(self,x):\n",
        "        x = self.pretrained_model(x)\n",
        "        return x"
      ],
      "execution_count": 6,
      "outputs": []
    },
    {
      "cell_type": "code",
      "metadata": {
        "id": "7zByy2HKgU_g",
        "colab": {
          "base_uri": "https://localhost:8080/"
        },
        "outputId": "71c27768-9d55-4e3c-8714-d4733c7d540f"
      },
      "source": [
        "train_loader, val_loader, test_loader = load_data(0)\n",
        "model = VGG16CNN().cuda()\n",
        "criterion = nn.CrossEntropyLoss()\n",
        "optimizer = Adam(model.parameters(), lr=0.001)\n",
        "scheduler = lr_scheduler.StepLR(optimizer, step_size=1, gamma=0.1)\n",
        "best_model = train_cnn(model, train_loader, val_loader, test_loader, criterion, optimizer, epochs = 5)"
      ],
      "execution_count": 8,
      "outputs": [
        {
          "output_type": "stream",
          "text": [
            "Files already downloaded and verified\n",
            "Files already downloaded and verified\n",
            "Epoch 1\n",
            "Training loss: 0.8305161094029745\n",
            "Training accuracy: 70.9888888888889%\n",
            "Validation accuracy: 77.32%\n",
            "Test accuracy: 77.87%\n",
            "------------------------------\n",
            "Epoch 2\n",
            "Training loss: 0.7109052604251438\n",
            "Training accuracy: 75.00444444444445%\n",
            "Validation accuracy: 78.78%\n",
            "Test accuracy: 78.66%\n",
            "------------------------------\n",
            "Epoch 3\n",
            "Training loss: 0.6909681445121765\n",
            "Training accuracy: 75.74%\n",
            "Validation accuracy: 79.08%\n",
            "Test accuracy: 78.84%\n",
            "------------------------------\n",
            "Epoch 4\n",
            "Training loss: 0.692745089424981\n",
            "Training accuracy: 75.66%\n",
            "Validation accuracy: 79.02%\n",
            "Test accuracy: 78.9%\n",
            "------------------------------\n",
            "Epoch 5\n",
            "Training loss: 0.6905946236292522\n",
            "Training accuracy: 75.9888888888889%\n",
            "Validation accuracy: 79.02%\n",
            "Test accuracy: 78.91%\n",
            "------------------------------\n",
            "Finished Training\n"
          ],
          "name": "stdout"
        }
      ]
    },
    {
      "cell_type": "code",
      "metadata": {
        "colab": {
          "base_uri": "https://localhost:8080/"
        },
        "id": "cx-frMDV0MAc",
        "outputId": "59d656b1-482b-4405-b94a-95626dd55f30"
      },
      "source": [
        "get_test_accuracy(model, best_model, test_loader)"
      ],
      "execution_count": 13,
      "outputs": [
        {
          "output_type": "stream",
          "text": [
            "Test accuracy: 78.84%\n"
          ],
          "name": "stdout"
        },
        {
          "output_type": "execute_result",
          "data": {
            "text/plain": [
              "78.84"
            ]
          },
          "metadata": {
            "tags": []
          },
          "execution_count": 13
        }
      ]
    },
    {
      "cell_type": "code",
      "metadata": {
        "id": "0LDSCGtmq-Zn",
        "colab": {
          "base_uri": "https://localhost:8080/",
          "height": 295
        },
        "outputId": "99d8b9ac-a8b2-4408-e09f-2556401d3cbb"
      },
      "source": [
        "plot_accuracy(model, epochs = 5)"
      ],
      "execution_count": 14,
      "outputs": [
        {
          "output_type": "display_data",
          "data": {
            "image/png": "[encoded data removed]",
            "text/plain": [
              "<Figure size 432x288 with 1 Axes>"
            ]
          },
          "metadata": {
            "tags": [],
            "needs_background": "light"
          }
        }
      ]
    },
    {
      "cell_type": "code",
      "metadata": {
        "colab": {
          "base_uri": "https://localhost:8080/",
          "height": 232
        },
        "id": "ZFkSWvUWzclp",
        "outputId": "8132781d-5637-4278-e672-76860d7a0971"
      },
      "source": [
        "test_acc = [78.84]\n",
        "for i in range(1, 3):\n",
        "    train_loader, val_loader, test_loader = load_data(i)\n",
        "    model = VGG16CNN().cuda()\n",
        "    criterion = nn.CrossEntropyLoss()\n",
        "    optimizer = Adam(model.parameters(), lr=0.001)\n",
        "    scheduler = lr_scheduler.StepLR(optimizer, step_size=1, gamma=0.1)\n",
        "    best_model = train_cnn(model, train_loader, val_loader, test_loader, criterion, optimizer, epochs = 5)\n",
        "    test_acc.append(get_test_accuracy(model, best_model, test_loader))\n",
        "print(test_acc)"
      ],
      "execution_count": 1,
      "outputs": [
        {
          "output_type": "error",
          "ename": "NameError",
          "evalue": "ignored",
          "traceback": [
            "\u001b[0;31m---------------------------------------------------------------------------\u001b[0m",
            "\u001b[0;31mNameError\u001b[0m                                 Traceback (most recent call last)",
            "\u001b[0;32m<ipython-input-1-602ebca83d60>\u001b[0m in \u001b[0;36m<module>\u001b[0;34m()\u001b[0m\n\u001b[1;32m      1\u001b[0m \u001b[0mtest_acc\u001b[0m \u001b[0;34m=\u001b[0m \u001b[0;34m[\u001b[0m\u001b[0;36m78.84\u001b[0m\u001b[0;34m]\u001b[0m\u001b[0;34m\u001b[0m\u001b[0;34m\u001b[0m\u001b[0m\n\u001b[1;32m      2\u001b[0m \u001b[0;32mfor\u001b[0m \u001b[0mi\u001b[0m \u001b[0;32min\u001b[0m \u001b[0mrange\u001b[0m\u001b[0;34m(\u001b[0m\u001b[0;36m1\u001b[0m\u001b[0;34m,\u001b[0m \u001b[0;36m3\u001b[0m\u001b[0;34m)\u001b[0m\u001b[0;34m:\u001b[0m\u001b[0;34m\u001b[0m\u001b[0;34m\u001b[0m\u001b[0m\n\u001b[0;32m----> 3\u001b[0;31m     \u001b[0mtrain_loader\u001b[0m\u001b[0;34m,\u001b[0m \u001b[0mval_loader\u001b[0m\u001b[0;34m,\u001b[0m \u001b[0mtest_loader\u001b[0m \u001b[0;34m=\u001b[0m \u001b[0mload_data\u001b[0m\u001b[0;34m(\u001b[0m\u001b[0mi\u001b[0m\u001b[0;34m)\u001b[0m\u001b[0;34m\u001b[0m\u001b[0;34m\u001b[0m\u001b[0m\n\u001b[0m\u001b[1;32m      4\u001b[0m     \u001b[0mmodel\u001b[0m \u001b[0;34m=\u001b[0m \u001b[0mVGG16CNN\u001b[0m\u001b[0;34m(\u001b[0m\u001b[0;34m)\u001b[0m\u001b[0;34m.\u001b[0m\u001b[0mcuda\u001b[0m\u001b[0;34m(\u001b[0m\u001b[0;34m)\u001b[0m\u001b[0;34m\u001b[0m\u001b[0;34m\u001b[0m\u001b[0m\n\u001b[1;32m      5\u001b[0m     \u001b[0mcriterion\u001b[0m \u001b[0;34m=\u001b[0m \u001b[0mnn\u001b[0m\u001b[0;34m.\u001b[0m\u001b[0mCrossEntropyLoss\u001b[0m\u001b[0;34m(\u001b[0m\u001b[0;34m)\u001b[0m\u001b[0;34m\u001b[0m\u001b[0;34m\u001b[0m\u001b[0m\n",
            "\u001b[0;31mNameError\u001b[0m: name 'load_data' is not defined"
          ]
        }
      ]
    },
    {
      "cell_type": "markdown",
      "metadata": {
        "id": "Eu4GbVMQE3oP"
      },
      "source": [
        "# VGG pretrained on ImageNet - all classification layers changed"
      ]
    },
    {
      "cell_type": "code",
      "metadata": {
        "id": "ByPdFhUXysCh"
      },
      "source": [
        "class VGG16CNN(nn.Module):\n",
        "    def __init__(self):\n",
        "        super(VGG16CNN, self).__init__()\n",
        "        pretrained_model = models.vgg16_bn(pretrained=True)\n",
        "        # print(pretrained_model.classifier)\n",
        "        # print(pretrained_model.features)\n",
        "\n",
        "        # change last layer to classify into 10 instead of 1000\n",
        "        pretrained_model.classifier[6] = nn.Linear(4096, 10)\n",
        "\n",
        "        # freeze weights of features, train classification layers\n",
        "        for param in pretrained_model.features.parameters():\n",
        "            param.requires_grad = False\n",
        "\n",
        "        self.pretrained_model = pretrained_model\n",
        "    \n",
        "    def forward(self,x):\n",
        "        x = self.pretrained_model(x)\n",
        "        return x"
      ],
      "execution_count": null,
      "outputs": []
    },
    {
      "cell_type": "code",
      "metadata": {
        "id": "0vS9zjkXFRak"
      },
      "source": [
        "model = VGG16CNN().cuda()\n",
        "criterion = nn.CrossEntropyLoss()\n",
        "optimizer = Adam(model.parameters(), lr=0.001)\n",
        "scheduler = lr_scheduler.StepLR(optimizer, step_size=1, gamma=0.1)"
      ],
      "execution_count": null,
      "outputs": []
    },
    {
      "cell_type": "code",
      "metadata": {
        "colab": {
          "base_uri": "https://localhost:8080/"
        },
        "id": "r_J5lnnMROEb",
        "outputId": "f4fe95e4-cbb4-4388-ea44-b53a8e859182"
      },
      "source": [
        "best_accuracy = -1\n",
        "best_model = None\n",
        "model.train_loss = list()\n",
        "model.train_accuracy = list()\n",
        "model.val_accuracy = list()\n",
        "\n",
        "for epoch in range(2):  \n",
        "\n",
        "    model.train(True)\n",
        "    training_loss = 0\n",
        "    training_correct = 0\n",
        "\n",
        "    for i, data in enumerate(train_loader, 0):\n",
        "\n",
        "        inputs, labels = data\n",
        "        inputs, labels = inputs.cuda(), labels.cuda()\n",
        "        optimizer.zero_grad()\n",
        "\n",
        "        outputs = model(inputs)\n",
        "        loss = criterion(outputs, labels)\n",
        "        loss.backward()\n",
        "        optimizer.step()\n",
        "\n",
        "        training_loss += loss.item() * inputs.size(0)\n",
        "        predicted = torch.argmax(outputs.detach(),dim=1)\n",
        "        training_correct += (predicted == labels).sum().item()\n",
        "    \n",
        "    training_loss = training_loss/size_train\n",
        "    training_accuracy = training_correct*100/size_train\n",
        "    \n",
        "    model.train_loss.append(training_loss)\n",
        "    model.train_accuracy.append(training_accuracy)\n",
        "\n",
        "    print(f\"Epoch {epoch+1}\")\n",
        "    print(f\"Training loss: {training_loss}\")\n",
        "    print(f\"Training accuracy: {training_accuracy}%\")    \n",
        "\n",
        "    validation_correct = 0\n",
        "    model.train(False)\n",
        "    with torch.no_grad():\n",
        "        for inputs,labels in val_loader:\n",
        "            outputs = model(inputs.cuda()).cpu()\n",
        "            predicted = torch.argmax(outputs.detach(), dim=1)\n",
        "            validation_correct += (predicted == labels).sum().item()\n",
        "\n",
        "    val_accuracy = validation_correct*100/size_val\n",
        "    model.val_accuracy.append(val_accuracy)\n",
        "\n",
        "    print(f\"Validation accuracy: {val_accuracy}%\")\n",
        "\n",
        "    if validation_correct > best_accuracy:\n",
        "        best_accuracy = validation_correct\n",
        "        best_model = deepcopy(model.state_dict())\n",
        "\n",
        "    test_correct = 0\n",
        "    with torch.no_grad():\n",
        "        for inputs, labels in test_loader:\n",
        "            outputs = model(inputs.cuda()).cpu()\n",
        "            predicted = torch.argmax(outputs, dim=1)\n",
        "            test_correct += (predicted == labels).sum().item()\n",
        "\n",
        "    print(f\"Test accuracy: {test_correct*100/size_test}%\")\n",
        "\n",
        "    scheduler.step()\n",
        "    print('-'*30)\n",
        "\n",
        "print('Finished Training')"
      ],
      "execution_count": null,
      "outputs": [
        {
          "output_type": "stream",
          "text": [
            "Epoch 1\n",
            "Training loss: 0.7791681740442912\n",
            "Training accuracy: 74.14444444444445%\n",
            "Validation accuracy: 80.3%\n",
            "Test accuracy: 80.35%\n",
            "------------------------------\n"
          ],
          "name": "stdout"
        }
      ]
    },
    {
      "cell_type": "code",
      "metadata": {
        "colab": {
          "base_uri": "https://localhost:8080/",
          "height": 295
        },
        "id": "Ij0ngY-sTo_v",
        "outputId": "4ccff254-12ae-4c6e-ad14-ad08d68427fa"
      },
      "source": [
        "plot_accuracy(model, epoch_number = 4)"
      ],
      "execution_count": null,
      "outputs": [
        {
          "output_type": "display_data",
          "data": {
            "image/png": "[encoded data removed]",
            "text/plain": [
              "<Figure size 432x288 with 1 Axes>"
            ]
          },
          "metadata": {
            "tags": [],
            "needs_background": "light"
          }
        }
      ]
    },
    {
      "cell_type": "markdown",
      "metadata": {
        "id": "qHXJFdlSVGJd"
      },
      "source": [
        "# VGG without batch normalisation - all classification layers changed"
      ]
    },
    {
      "cell_type": "code",
      "metadata": {
        "id": "lZC54dGcVCUF"
      },
      "source": [
        "class VGG16CNN(nn.Module):\n",
        "    def __init__(self):\n",
        "        super(VGG16CNN, self).__init__()\n",
        "        pretrained_model = models.vgg16(pretrained=True)\n",
        "        # print(pretrained_model.classifier)\n",
        "        # print(pretrained_model.features)\n",
        "\n",
        "        # change last layer to classify into 10 instead of 1000\n",
        "        pretrained_model.classifier[6] = nn.Linear(4096, 10)\n",
        "\n",
        "        # freeze weights of features, train classification layers\n",
        "        for param in pretrained_model.features.parameters():\n",
        "            param.requires_grad = False\n",
        "\n",
        "        self.pretrained_model = pretrained_model\n",
        "    \n",
        "    def forward(self,x):\n",
        "        x = self.pretrained_model(x)\n",
        "        return x"
      ],
      "execution_count": null,
      "outputs": []
    },
    {
      "cell_type": "code",
      "metadata": {
        "colab": {
          "base_uri": "https://localhost:8080/",
          "height": 83,
          "referenced_widgets": [
            "06705f4d293d41da99e97edcbd472547",
            "6d91bf84b6674e9bbca4eed953b0c9df",
            "406efcbbe4984b8ab1ffa3f6178c1d5b",
            "9c0c12fef2e84c2d8fb06cf213bd0b3c",
            "e9fc5324d54646618ea6548f483663bb",
            "d83990cf723e4ad0a0f7ea7d77f51a3a",
            "965b968cdead41748f42921d4d37ad6b",
            "a334a681a3194ec987a1606a33ca6e0a"
          ]
        },
        "id": "dPny0_nsYoyE",
        "outputId": "11276066-b67b-40c4-81a3-aeabc7a880ae"
      },
      "source": [
        "model = VGG16CNN().cuda()\n",
        "criterion = nn.CrossEntropyLoss()\n",
        "optimizer = Adam(model.parameters(), lr=0.001)\n",
        "scheduler = lr_scheduler.StepLR(optimizer, step_size=1, gamma=0.1)"
      ],
      "execution_count": null,
      "outputs": [
        {
          "output_type": "stream",
          "text": [
            "Downloading: \"https://download.pytorch.org/models/vgg16-397923af.pth\" to /root/.cache/torch/hub/checkpoints/vgg16-397923af.pth\n"
          ],
          "name": "stderr"
        },
        {
          "output_type": "display_data",
          "data": {
            "application/vnd.jupyter.widget-view+json": {
              "model_id": "06705f4d293d41da99e97edcbd472547",
              "version_major": 2,
              "version_minor": 0
            },
            "text/plain": [
              "HBox(children=(FloatProgress(value=0.0, max=553433881.0), HTML(value='')))"
            ]
          },
          "metadata": {
            "tags": []
          }
        },
        {
          "output_type": "stream",
          "text": [
            "\n"
          ],
          "name": "stdout"
        }
      ]
    },
    {
      "cell_type": "code",
      "metadata": {
        "colab": {
          "base_uri": "https://localhost:8080/"
        },
        "id": "0hpBSDwFYqh9",
        "outputId": "df7a8d5d-b666-4d97-c8c1-d166aabfba70"
      },
      "source": [
        "best_accuracy = -1\n",
        "best_model = None\n",
        "model.train_loss = list()\n",
        "model.train_accuracy = list()\n",
        "model.val_accuracy = list()\n",
        "\n",
        "for epoch in range(3):  \n",
        "\n",
        "    model.train(True)\n",
        "    training_loss = 0\n",
        "    training_correct = 0\n",
        "\n",
        "    for i, data in enumerate(train_loader, 0):\n",
        "\n",
        "        inputs, labels = data\n",
        "        inputs, labels = inputs.cuda(), labels.cuda()\n",
        "        optimizer.zero_grad()\n",
        "\n",
        "        outputs = model(inputs)\n",
        "        loss = criterion(outputs, labels)\n",
        "        loss.backward()\n",
        "        optimizer.step()\n",
        "\n",
        "        training_loss += loss.item() * inputs.size(0)\n",
        "        predicted = torch.argmax(outputs.detach(),dim=1)\n",
        "        training_correct += (predicted == labels).sum().item()\n",
        "    \n",
        "    training_loss = training_loss/size_train\n",
        "    training_accuracy = training_correct*100/size_train\n",
        "    \n",
        "    model.train_loss.append(training_loss)\n",
        "    model.train_accuracy.append(training_accuracy)\n",
        "\n",
        "    print(f\"Epoch {epoch+1}\")\n",
        "    print(f\"Training loss: {training_loss}\")\n",
        "    print(f\"Training accuracy: {training_accuracy}%\")    \n",
        "\n",
        "    validation_correct = 0\n",
        "    model.train(False)\n",
        "    with torch.no_grad():\n",
        "        for inputs,labels in val_loader:\n",
        "            outputs = model(inputs.cuda()).cpu()\n",
        "            predicted = torch.argmax(outputs.detach(), dim=1)\n",
        "            validation_correct += (predicted == labels).sum().item()\n",
        "\n",
        "    val_accuracy = validation_correct*100/size_val\n",
        "    model.val_accuracy.append(val_accuracy)\n",
        "\n",
        "    print(f\"Validation accuracy: {val_accuracy}%\")\n",
        "\n",
        "    if validation_correct > best_accuracy:\n",
        "        best_accuracy = validation_correct\n",
        "        best_model = deepcopy(model.state_dict())\n",
        "\n",
        "    test_correct = 0\n",
        "    with torch.no_grad():\n",
        "        for inputs, labels in test_loader:\n",
        "            outputs = model(inputs.cuda()).cpu()\n",
        "            predicted = torch.argmax(outputs, dim=1)\n",
        "            test_correct += (predicted == labels).sum().item()\n",
        "\n",
        "    print(f\"Test accuracy: {test_correct*100/size_test}%\")\n",
        "\n",
        "    scheduler.step()\n",
        "    print('-'*30)\n",
        "\n",
        "print('Finished Training')"
      ],
      "execution_count": null,
      "outputs": [
        {
          "output_type": "stream",
          "text": [
            "Epoch 1\n",
            "Training loss: 0.7161599526882172\n",
            "Training accuracy: 77.4%\n",
            "Validation accuracy: 85.54%\n",
            "Test accuracy: 84.77%\n",
            "------------------------------\n",
            "Epoch 2\n",
            "Training loss: 0.300013757199049\n",
            "Training accuracy: 90.0911111111111%\n",
            "Validation accuracy: 88.32%\n",
            "Test accuracy: 87.93%\n",
            "------------------------------\n",
            "Epoch 3\n",
            "Training loss: 0.2139282458814896\n",
            "Training accuracy: 92.87555555555555%\n",
            "Validation accuracy: 88.66%\n",
            "Test accuracy: 88.27%\n",
            "------------------------------\n",
            "Finished Training\n"
          ],
          "name": "stdout"
        }
      ]
    },
    {
      "cell_type": "code",
      "metadata": {
        "colab": {
          "base_uri": "https://localhost:8080/",
          "height": 295
        },
        "id": "1QL8mC40erQK",
        "outputId": "a27758ac-f8da-47d2-e447-874a9e7bd331"
      },
      "source": [
        "plot_accuracy(model, epoch_number=3)"
      ],
      "execution_count": null,
      "outputs": [
        {
          "output_type": "display_data",
          "data": {
            "image/png": "[encoded data removed]",
            "text/plain": [
              "<Figure size 432x288 with 1 Axes>"
            ]
          },
          "metadata": {
            "tags": []
          }
        }
      ]
    },
    {
      "cell_type": "markdown",
      "metadata": {
        "id": "088ipJZN3EDd"
      },
      "source": [
        "So far the accuracy grows with every iteration on both train and test sets, let's keep training"
      ]
    },
    {
      "cell_type": "code",
      "metadata": {
        "colab": {
          "base_uri": "https://localhost:8080/"
        },
        "id": "oORf6OeqnyNE",
        "outputId": "db44d8c1-0d50-44b7-e312-9f4831969117"
      },
      "source": [
        "best_accuracy = -1\n",
        "best_model = None\n",
        "model.train_loss = list()\n",
        "model.train_accuracy = list()\n",
        "model.val_accuracy = list()\n",
        "\n",
        "for epoch in range(5):  \n",
        "\n",
        "    model.train(True)\n",
        "    training_loss = 0\n",
        "    training_correct = 0\n",
        "\n",
        "    for i, data in enumerate(train_loader, 0):\n",
        "\n",
        "        inputs, labels = data\n",
        "        inputs, labels = inputs.cuda(), labels.cuda()\n",
        "        optimizer.zero_grad()\n",
        "\n",
        "        outputs = model(inputs)\n",
        "        loss = criterion(outputs, labels)\n",
        "        loss.backward()\n",
        "        optimizer.step()\n",
        "\n",
        "        training_loss += loss.item() * inputs.size(0)\n",
        "        predicted = torch.argmax(outputs.detach(),dim=1)\n",
        "        training_correct += (predicted == labels).sum().item()\n",
        "    \n",
        "    training_loss = training_loss/size_train\n",
        "    training_accuracy = training_correct*100/size_train\n",
        "    \n",
        "    model.train_loss.append(training_loss)\n",
        "    model.train_accuracy.append(training_accuracy)\n",
        "\n",
        "    print(f\"Epoch {epoch+1}\")\n",
        "    print(f\"Training loss: {training_loss}\")\n",
        "    print(f\"Training accuracy: {training_accuracy}%\")    \n",
        "\n",
        "    validation_correct = 0\n",
        "    model.train(False)\n",
        "    with torch.no_grad():\n",
        "        for inputs,labels in val_loader:\n",
        "            outputs = model(inputs.cuda()).cpu()\n",
        "            predicted = torch.argmax(outputs.detach(), dim=1)\n",
        "            validation_correct += (predicted == labels).sum().item()\n",
        "\n",
        "    val_accuracy = validation_correct*100/size_val\n",
        "    model.val_accuracy.append(val_accuracy)\n",
        "\n",
        "    print(f\"Validation accuracy: {val_accuracy}%\")\n",
        "\n",
        "    if validation_correct > best_accuracy:\n",
        "        best_accuracy = validation_correct\n",
        "        best_model = deepcopy(model.state_dict())\n",
        "\n",
        "    test_correct = 0\n",
        "    with torch.no_grad():\n",
        "        for inputs, labels in test_loader:\n",
        "            outputs = model(inputs.cuda()).cpu()\n",
        "            predicted = torch.argmax(outputs, dim=1)\n",
        "            test_correct += (predicted == labels).sum().item()\n",
        "\n",
        "    print(f\"Test accuracy: {test_correct*100/size_test}%\")\n",
        "\n",
        "    scheduler.step()\n",
        "    print('-'*30)\n",
        "\n",
        "print('Finished Training')"
      ],
      "execution_count": null,
      "outputs": [
        {
          "output_type": "stream",
          "text": [
            "Epoch 1\n",
            "Training loss: 0.20581294216579862\n",
            "Training accuracy: 92.99555555555555%\n",
            "Validation accuracy: 88.7%\n",
            "Test accuracy: 88.27%\n",
            "------------------------------\n",
            "Epoch 2\n",
            "Training loss: 0.20237336652808718\n",
            "Training accuracy: 93.16666666666667%\n",
            "Validation accuracy: 88.7%\n",
            "Test accuracy: 88.28%\n",
            "------------------------------\n",
            "Epoch 3\n",
            "Training loss: 0.20360016551713148\n",
            "Training accuracy: 93.10222222222222%\n",
            "Validation accuracy: 88.7%\n",
            "Test accuracy: 88.28%\n",
            "------------------------------\n",
            "Epoch 4\n",
            "Training loss: 0.20236866843601067\n",
            "Training accuracy: 93.12222222222222%\n",
            "Validation accuracy: 88.7%\n",
            "Test accuracy: 88.28%\n",
            "------------------------------\n",
            "Epoch 5\n",
            "Training loss: 0.2015497435339623\n",
            "Training accuracy: 93.20666666666666%\n",
            "Validation accuracy: 88.7%\n",
            "Test accuracy: 88.28%\n",
            "------------------------------\n",
            "Finished Training\n"
          ],
          "name": "stdout"
        }
      ]
    },
    {
      "cell_type": "code",
      "metadata": {
        "colab": {
          "base_uri": "https://localhost:8080/",
          "height": 295
        },
        "id": "PcrzFVJh0Xai",
        "outputId": "1a681077-884d-4ce2-ff95-f0f07fb04093"
      },
      "source": [
        "plot_accuracy(model, epoch_number=5)"
      ],
      "execution_count": null,
      "outputs": [
        {
          "output_type": "display_data",
          "data": {
            "image/png": "[encoded data removed]",
            "text/plain": [
              "<Figure size 432x288 with 1 Axes>"
            ]
          },
          "metadata": {
            "tags": []
          }
        }
      ]
    },
    {
      "cell_type": "code",
      "metadata": {
        "colab": {
          "base_uri": "https://localhost:8080/"
        },
        "id": "r8qBR7X22GcO",
        "outputId": "01571336-556e-4622-aed2-bd72e32cb7fb"
      },
      "source": [
        "get_test_accuracy(model, best_model)"
      ],
      "execution_count": null,
      "outputs": [
        {
          "output_type": "stream",
          "text": [
            "Test accuracy: 88.27%\n"
          ],
          "name": "stdout"
        }
      ]
    },
    {
      "cell_type": "markdown",
      "metadata": {
        "id": "mZQ9abEt2KjG"
      },
      "source": [
        "No further improvement, however this model gives the best accuracy on test set among the VGG pretrained models\n"
      ]
    },
    {
      "cell_type": "markdown",
      "metadata": {
        "id": "aweIegLn2MRJ"
      },
      "source": [
        "# Different optimizer for VGG without batch normalization\n"
      ]
    },
    {
      "cell_type": "code",
      "metadata": {
        "id": "BZsGluCg2lwY"
      },
      "source": [
        "class VGG16CNN(nn.Module):\n",
        "    def __init__(self):\n",
        "        super(VGG16CNN, self).__init__()\n",
        "        pretrained_model = models.vgg16(pretrained=True)\n",
        "\n",
        "        # change last layer to classify into 10 instead of 1000\n",
        "        pretrained_model.classifier[6] = nn.Linear(4096, 10)\n",
        "\n",
        "        # freeze weights of features, train classification layers\n",
        "        for param in pretrained_model.features.parameters():\n",
        "            param.requires_grad = False\n",
        "\n",
        "        self.pretrained_model = pretrained_model\n",
        "    \n",
        "    def forward(self,x):\n",
        "        x = self.pretrained_model(x)\n",
        "        return x"
      ],
      "execution_count": null,
      "outputs": []
    },
    {
      "cell_type": "code",
      "metadata": {
        "id": "9Z06c3yO2sBG"
      },
      "source": [
        "model = VGG16CNN().cuda()\n",
        "criterion = nn.CrossEntropyLoss()\n",
        "optimizer = SGD(model.parameters(), lr=0.001)\n",
        "scheduler = lr_scheduler.StepLR(optimizer, step_size=1, gamma=0.1)"
      ],
      "execution_count": null,
      "outputs": []
    },
    {
      "cell_type": "code",
      "metadata": {
        "colab": {
          "background_save": true,
          "base_uri": "https://localhost:8080/"
        },
        "id": "rulKrSYt2xKV",
        "outputId": "b832d40b-d92e-4a63-d7fb-b0033f92cad9"
      },
      "source": [
        "best_accuracy = -1\n",
        "best_model = None\n",
        "model.train_loss = list()\n",
        "model.train_accuracy = list()\n",
        "model.val_accuracy = list()\n",
        "\n",
        "for epoch in range(3):  \n",
        "\n",
        "    model.train(True)\n",
        "    training_loss = 0\n",
        "    training_correct = 0\n",
        "\n",
        "    for i, data in enumerate(train_loader, 0):\n",
        "\n",
        "        inputs, labels = data\n",
        "        inputs, labels = inputs.cuda(), labels.cuda()\n",
        "        optimizer.zero_grad()\n",
        "\n",
        "        outputs = model(inputs)\n",
        "        loss = criterion(outputs, labels)\n",
        "        loss.backward()\n",
        "        optimizer.step()\n",
        "\n",
        "        training_loss += loss.item() * inputs.size(0)\n",
        "        predicted = torch.argmax(outputs.detach(),dim=1)\n",
        "        training_correct += (predicted == labels).sum().item()\n",
        "    \n",
        "    training_loss = training_loss/size_train\n",
        "    training_accuracy = training_correct*100/size_train\n",
        "    \n",
        "    model.train_loss.append(training_loss)\n",
        "    model.train_accuracy.append(training_accuracy)\n",
        "\n",
        "    print(f\"Epoch {epoch+1}\")\n",
        "    print(f\"Training loss: {training_loss}\")\n",
        "    print(f\"Training accuracy: {training_accuracy}%\")    \n",
        "\n",
        "    validation_correct = 0\n",
        "    model.train(False)\n",
        "    with torch.no_grad():\n",
        "        for inputs,labels in val_loader:\n",
        "            outputs = model(inputs.cuda()).cpu()\n",
        "            predicted = torch.argmax(outputs.detach(), dim=1)\n",
        "            validation_correct += (predicted == labels).sum().item()\n",
        "\n",
        "    val_accuracy = validation_correct*100/size_val\n",
        "    model.val_accuracy.append(val_accuracy)\n",
        "\n",
        "    print(f\"Validation accuracy: {val_accuracy}%\")\n",
        "\n",
        "    if validation_correct > best_accuracy:\n",
        "        best_accuracy = validation_correct\n",
        "        best_model = deepcopy(model.state_dict())\n",
        "\n",
        "    test_correct = 0\n",
        "    with torch.no_grad():\n",
        "        for inputs, labels in test_loader:\n",
        "            outputs = model(inputs.cuda()).cpu()\n",
        "            predicted = torch.argmax(outputs, dim=1)\n",
        "            test_correct += (predicted == labels).sum().item()\n",
        "\n",
        "    print(f\"Test accuracy: {test_correct*100/size_test}%\")\n",
        "\n",
        "    scheduler.step()\n",
        "    print('-'*30)\n",
        "\n",
        "print('Finished Training')"
      ],
      "execution_count": null,
      "outputs": [
        {
          "output_type": "stream",
          "text": [
            "Epoch 1\n",
            "Training loss: 1.0966111717859903\n",
            "Training accuracy: 65.26%\n",
            "Validation accuracy: 78.92%\n",
            "Test accuracy: 78.16%\n",
            "------------------------------\n",
            "Epoch 2\n",
            "Training loss: 0.722449486764272\n",
            "Training accuracy: 75.56666666666666%\n",
            "Validation accuracy: 79.38%\n",
            "Test accuracy: 78.73%\n",
            "------------------------------\n",
            "Epoch 3\n",
            "Training loss: 0.7144067799462213\n",
            "Training accuracy: 75.7311111111111%\n",
            "Validation accuracy: 79.32%\n",
            "Test accuracy: 78.72%\n",
            "------------------------------\n",
            "Finished Training\n"
          ],
          "name": "stdout"
        }
      ]
    },
    {
      "cell_type": "code",
      "metadata": {
        "id": "PhzPXHuY3aG9",
        "colab": {
          "base_uri": "https://localhost:8080/",
          "height": 295
        },
        "outputId": "4469d110-295d-4ac3-acbe-a475eb8ceae7"
      },
      "source": [
        "plot_accuracy(model, epoch_number=3)"
      ],
      "execution_count": null,
      "outputs": [
        {
          "output_type": "display_data",
          "data": {
            "image/png": "[encoded data removed]",
            "text/plain": [
              "<Figure size 432x288 with 1 Axes>"
            ]
          },
          "metadata": {
            "tags": [],
            "needs_background": "light"
          }
        }
      ]
    }
  ]
}
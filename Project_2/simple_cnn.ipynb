{
  "nbformat": 4,
  "nbformat_minor": 0,
  "metadata": {
    "colab": {
      "name": "simple_cnn.ipynb",
      "provenance": [],
      "collapsed_sections": []
    },
    "kernelspec": {
      "name": "python3",
      "display_name": "Python 3"
    },
    "accelerator": "GPU"
  },
  "cells": [
    {
      "cell_type": "markdown",
      "metadata": {
        "id": "Q6R3BNivN1Z1"
      },
      "source": [
        "# Importing libraries"
      ]
    },
    {
      "cell_type": "code",
      "metadata": {
        "id": "BZl7QCp5D4XV"
      },
      "source": [
        "import torch\n",
        "import torchvision\n",
        "import torchvision.transforms as transforms\n",
        "from torchvision import models\n",
        "import matplotlib.pyplot as plt\n",
        "import numpy as np\n",
        "import torch.nn as nn\n",
        "import torch.nn.functional as F\n",
        "import torch.optim as optim\n",
        "from torch.utils.data import random_split\n",
        "from torch.optim import SGD, Adam, lr_scheduler\n",
        "from copy import deepcopy"
      ],
      "execution_count": 183,
      "outputs": []
    },
    {
      "cell_type": "code",
      "metadata": {
        "id": "zt-zU9Zqb6Tr"
      },
      "source": [
        "device = torch.device(\"cuda:0\" if torch.cuda.is_available() else \"cpu\")"
      ],
      "execution_count": 184,
      "outputs": []
    },
    {
      "cell_type": "markdown",
      "metadata": {
        "id": "2ixPo7lyNxRb"
      },
      "source": [
        "# Downloading and loading dataset"
      ]
    },
    {
      "cell_type": "code",
      "metadata": {
        "colab": {
          "base_uri": "https://localhost:8080/"
        },
        "id": "eJV6Q1K8D4vK",
        "outputId": "9159315b-fd35-4eb0-c160-2cc0ce267a2e"
      },
      "source": [
        "train_transform = transforms.Compose([\n",
        "    transforms.ToTensor(),\n",
        "    transforms.Normalize((0.5, 0.5, 0.5), (0.5, 0.5, 0.5))])\n",
        "\n",
        "test_transform = transforms.Compose([\n",
        "    transforms.ToTensor(),\n",
        "    transforms.Normalize((0.5, 0.5, 0.5), (0.5, 0.5, 0.5))])\n",
        "\n",
        "train = torchvision.datasets.CIFAR10(root='./data', train=True,\n",
        "                                        download=True, transform=train_transform)\n",
        "\n",
        "test = torchvision.datasets.CIFAR10(root='./data', train=False,\n",
        "                                       download=True, transform=test_transform)\n",
        "\n",
        "train, val = random_split(train, [45000, 5000], generator = torch.manual_seed(0))\n",
        "\n",
        "train_loader = torch.utils.data.DataLoader(train, batch_size=64,\n",
        "                                          shuffle=False, num_workers=2)\n",
        "\n",
        "val_loader = torch.utils.data.DataLoader(val, batch_size=64,\n",
        "                                          shuffle=False, num_workers=2)\n",
        "\n",
        "test_loader = torch.utils.data.DataLoader(test, batch_size=64,\n",
        "                                         shuffle=False, num_workers=2)\n",
        "\n",
        "classes_names = ('plane', 'car', 'bird', 'cat',\n",
        "           'deer', 'dog', 'frog', 'horse', 'ship', 'truck')\n",
        "\n",
        "size_train = len(train)\n",
        "size_val = len(val)\n",
        "size_test = len(test)"
      ],
      "execution_count": 185,
      "outputs": [
        {
          "output_type": "stream",
          "text": [
            "Files already downloaded and verified\n",
            "Files already downloaded and verified\n"
          ],
          "name": "stdout"
        }
      ]
    },
    {
      "cell_type": "markdown",
      "metadata": {
        "id": "jaa-85_dOxsc"
      },
      "source": [
        "# Exploring dataset"
      ]
    },
    {
      "cell_type": "code",
      "metadata": {
        "id": "FcLWGwgnOCcN"
      },
      "source": [
        "data_iterator = iter(train_loader)\n",
        "images, classes = data_iterator.next()"
      ],
      "execution_count": 186,
      "outputs": []
    },
    {
      "cell_type": "code",
      "metadata": {
        "colab": {
          "base_uri": "https://localhost:8080/"
        },
        "id": "uYr2p_HGOTu6",
        "outputId": "ba7a2ec8-a4f8-4779-b4a3-be7f8ee2e19f"
      },
      "source": [
        "images[0].shape"
      ],
      "execution_count": 187,
      "outputs": [
        {
          "output_type": "execute_result",
          "data": {
            "text/plain": [
              "torch.Size([3, 32, 32])"
            ]
          },
          "metadata": {
            "tags": []
          },
          "execution_count": 187
        }
      ]
    },
    {
      "cell_type": "code",
      "metadata": {
        "colab": {
          "base_uri": "https://localhost:8080/",
          "height": 296
        },
        "id": "vAAwRdBUOXhR",
        "outputId": "d0fc3b08-35bc-4819-83a9-3afc29fc9135"
      },
      "source": [
        "fig = plt.figure(figsize=(25, 8))\n",
        "\n",
        "def show_image(image):\n",
        "    image = image / 2 + 0.5\n",
        "    image = image.numpy()\n",
        "    plt.imshow(np.transpose(image, (1, 2, 0)))\n",
        "\n",
        "n_row = 3\n",
        "batch_size = 8\n",
        "\n",
        "for row_idx in np.arange(n_row):\n",
        "    images, classes = data_iterator.next()\n",
        "    for idx in np.arange(batch_size):\n",
        "      ax = fig.add_subplot(n_row, batch_size, batch_size*row_idx+idx+1, xticks=[], yticks=[])\n",
        "      show_image(images[idx])\n",
        "      ax.set_title(classes_names[classes[idx]])"
      ],
      "execution_count": 188,
      "outputs": [
        {
          "output_type": "display_data",
          "data": {
            "image/png": "[encoded data removed]",
            "text/plain": [
              "<Figure size 1800x576 with 24 Axes>"
            ]
          },
          "metadata": {
            "tags": []
          }
        }
      ]
    },
    {
      "cell_type": "markdown",
      "metadata": {
        "id": "n7CPfMDEBnUA"
      },
      "source": [
        "# Simple CNN model with SGD optimizer"
      ]
    },
    {
      "cell_type": "code",
      "metadata": {
        "id": "rUSl0L7xlStP"
      },
      "source": [
        "class CNN(nn.Module):\n",
        "    def __init__(self):\n",
        "        super(CNN, self).__init__()\n",
        "        self.conv1 = nn.Conv2d(3, 3, 5)\n",
        "        self.pool = nn.MaxPool2d(2, 2)\n",
        "        self.conv2 = nn.Conv2d(3, 9, 3)\n",
        "        self.fc1 = nn.Linear(9 * 6 * 6, 100)\n",
        "        self.fc2 = nn.Linear(100, 50)\n",
        "        self.fc3 = nn.Linear(50, 10)\n",
        "\n",
        "    def forward(self, x):\n",
        "        x = self.pool(F.relu(self.conv1(x)))\n",
        "        x = self.pool(F.relu(self.conv2(x)))\n",
        "        x = x.view(-1, 9 * 6 * 6)\n",
        "        x = F.relu(self.fc1(x))\n",
        "        x = F.relu(self.fc2(x))\n",
        "        x = self.fc3(x)\n",
        "        return x"
      ],
      "execution_count": 189,
      "outputs": []
    },
    {
      "cell_type": "code",
      "metadata": {
        "id": "isAa6D8qlStz"
      },
      "source": [
        "model = CNN().to(device)\n",
        "criterion = nn.CrossEntropyLoss()\n",
        "optimizer = SGD(model.parameters(), lr=0.001, momentum=0.9)"
      ],
      "execution_count": 190,
      "outputs": []
    },
    {
      "cell_type": "code",
      "metadata": {
        "colab": {
          "base_uri": "https://localhost:8080/"
        },
        "id": "06ugZuYb81_2",
        "outputId": "ea74bf6e-1c69-42a5-b8a4-8efe60347345"
      },
      "source": [
        "best_accuracy = -1\n",
        "best_model = None\n",
        "model.train_loss = list()\n",
        "model.train_accuracy = list()\n",
        "model.val_accuracy = list()\n",
        "\n",
        "for epoch in range(40):\n",
        "\n",
        "    training_loss = 0\n",
        "    training_correct = 0\n",
        "\n",
        "    for i, data in enumerate(train_loader, 0):\n",
        "\n",
        "        inputs, labels = data\n",
        "        inputs, labels = inputs.to(device), labels.to(device)\n",
        "        optimizer.zero_grad()\n",
        "\n",
        "        outputs = model(inputs)\n",
        "        loss = criterion(outputs, labels)\n",
        "        loss.backward()\n",
        "        optimizer.step()\n",
        "\n",
        "        training_loss += loss.item() * inputs.size(0)\n",
        "        predicted = torch.argmax(outputs.detach(), dim=1)\n",
        "        training_correct += (predicted == labels).sum().item()\n",
        "    \n",
        "    training_loss = training_loss/size_train\n",
        "    training_accuracy = training_correct*100/size_train\n",
        "\n",
        "    model.train_loss.append(training_loss)\n",
        "    model.train_accuracy.append(training_accuracy)\n",
        "\n",
        "    print(f\"Epoch {epoch+1}\")\n",
        "    print(f\"Training loss: {training_loss}\")\n",
        "    print(f\"Training accuracy: {training_accuracy}%\")\n",
        "    \n",
        "    validation_correct = 0\n",
        "    with torch.no_grad():\n",
        "        for inputs,labels in val_loader:\n",
        "            outputs = model(inputs.to(device)).cpu()\n",
        "            predicted = torch.argmax(outputs.detach(), dim=1)\n",
        "            validation_correct += (predicted == labels).sum().item()\n",
        "    \n",
        "    val_accuracy = validation_correct*100/size_val\n",
        "    model.val_accuracy.append(val_accuracy)\n",
        "\n",
        "    print(f\"Validation accuracy: {val_accuracy}%\")\n",
        "\n",
        "    if validation_correct > best_accuracy:\n",
        "        best_accuracy = validation_correct\n",
        "        best_model = deepcopy(model.state_dict())\n",
        "      \n",
        "    print('-'*30)\n",
        "\n",
        "print('Finished Training')"
      ],
      "execution_count": 191,
      "outputs": [
        {
          "output_type": "stream",
          "text": [
            "Epoch 1\n",
            "Training loss: 2.3034703648037382\n",
            "Training accuracy: 10.075555555555555%\n",
            "Validation accuracy: 9.32%\n",
            "------------------------------\n",
            "Epoch 2\n",
            "Training loss: 2.299122272576226\n",
            "Training accuracy: 10.568888888888889%\n",
            "Validation accuracy: 10.3%\n",
            "------------------------------\n",
            "Epoch 3\n",
            "Training loss: 2.2667284862094457\n",
            "Training accuracy: 17.342222222222222%\n",
            "Validation accuracy: 20.4%\n",
            "------------------------------\n",
            "Epoch 4\n",
            "Training loss: 2.059021082221137\n",
            "Training accuracy: 25.68888888888889%\n",
            "Validation accuracy: 28.6%\n",
            "------------------------------\n",
            "Epoch 5\n",
            "Training loss: 1.9340124612172445\n",
            "Training accuracy: 30.58888888888889%\n",
            "Validation accuracy: 32.8%\n",
            "------------------------------\n",
            "Epoch 6\n",
            "Training loss: 1.8109188131968181\n",
            "Training accuracy: 34.86666666666667%\n",
            "Validation accuracy: 36.9%\n",
            "------------------------------\n",
            "Epoch 7\n",
            "Training loss: 1.69309783905877\n",
            "Training accuracy: 38.93555555555555%\n",
            "Validation accuracy: 40.4%\n",
            "------------------------------\n",
            "Epoch 8\n",
            "Training loss: 1.6046841519885593\n",
            "Training accuracy: 41.82222222222222%\n",
            "Validation accuracy: 42.62%\n",
            "------------------------------\n",
            "Epoch 9\n",
            "Training loss: 1.548186656083001\n",
            "Training accuracy: 43.86888888888889%\n",
            "Validation accuracy: 43.74%\n",
            "------------------------------\n",
            "Epoch 10\n",
            "Training loss: 1.507314600054423\n",
            "Training accuracy: 45.413333333333334%\n",
            "Validation accuracy: 44.82%\n",
            "------------------------------\n",
            "Epoch 11\n",
            "Training loss: 1.4731460959964329\n",
            "Training accuracy: 46.653333333333336%\n",
            "Validation accuracy: 45.78%\n",
            "------------------------------\n",
            "Epoch 12\n",
            "Training loss: 1.4430548159069485\n",
            "Training accuracy: 47.855555555555554%\n",
            "Validation accuracy: 46.36%\n",
            "------------------------------\n",
            "Epoch 13\n",
            "Training loss: 1.4168777315987482\n",
            "Training accuracy: 48.86222222222222%\n",
            "Validation accuracy: 47.22%\n",
            "------------------------------\n",
            "Epoch 14\n",
            "Training loss: 1.393491652001275\n",
            "Training accuracy: 49.717777777777776%\n",
            "Validation accuracy: 48.2%\n",
            "------------------------------\n",
            "Epoch 15\n",
            "Training loss: 1.371844861263699\n",
            "Training accuracy: 50.437777777777775%\n",
            "Validation accuracy: 48.82%\n",
            "------------------------------\n",
            "Epoch 16\n",
            "Training loss: 1.3514087285783556\n",
            "Training accuracy: 51.19777777777778%\n",
            "Validation accuracy: 49.86%\n",
            "------------------------------\n",
            "Epoch 17\n",
            "Training loss: 1.3317286711586847\n",
            "Training accuracy: 51.986666666666665%\n",
            "Validation accuracy: 50.14%\n",
            "------------------------------\n",
            "Epoch 18\n",
            "Training loss: 1.3127716496785482\n",
            "Training accuracy: 52.708888888888886%\n",
            "Validation accuracy: 50.58%\n",
            "------------------------------\n",
            "Epoch 19\n",
            "Training loss: 1.2943965286678738\n",
            "Training accuracy: 53.46888888888889%\n",
            "Validation accuracy: 51.02%\n",
            "------------------------------\n",
            "Epoch 20\n",
            "Training loss: 1.2761142757839627\n",
            "Training accuracy: 54.21333333333333%\n",
            "Validation accuracy: 51.28%\n",
            "------------------------------\n",
            "Epoch 21\n",
            "Training loss: 1.2580985965940688\n",
            "Training accuracy: 54.87777777777778%\n",
            "Validation accuracy: 51.92%\n",
            "------------------------------\n",
            "Epoch 22\n",
            "Training loss: 1.2407592360814412\n",
            "Training accuracy: 55.49777777777778%\n",
            "Validation accuracy: 52.12%\n",
            "------------------------------\n",
            "Epoch 23\n",
            "Training loss: 1.2235308524661594\n",
            "Training accuracy: 56.20666666666666%\n",
            "Validation accuracy: 52.52%\n",
            "------------------------------\n",
            "Epoch 24\n",
            "Training loss: 1.20688060019811\n",
            "Training accuracy: 56.888888888888886%\n",
            "Validation accuracy: 52.94%\n",
            "------------------------------\n",
            "Epoch 25\n",
            "Training loss: 1.1907775969929166\n",
            "Training accuracy: 57.36%\n",
            "Validation accuracy: 53.52%\n",
            "------------------------------\n",
            "Epoch 26\n",
            "Training loss: 1.1747137172063191\n",
            "Training accuracy: 57.98%\n",
            "Validation accuracy: 53.52%\n",
            "------------------------------\n",
            "Epoch 27\n",
            "Training loss: 1.1596552971098157\n",
            "Training accuracy: 58.528888888888886%\n",
            "Validation accuracy: 54.32%\n",
            "------------------------------\n",
            "Epoch 28\n",
            "Training loss: 1.1442147766537136\n",
            "Training accuracy: 59.23555555555556%\n",
            "Validation accuracy: 54.66%\n",
            "------------------------------\n",
            "Epoch 29\n",
            "Training loss: 1.1297743870099386\n",
            "Training accuracy: 59.80222222222222%\n",
            "Validation accuracy: 54.64%\n",
            "------------------------------\n",
            "Epoch 30\n",
            "Training loss: 1.1165611679712932\n",
            "Training accuracy: 60.24%\n",
            "Validation accuracy: 54.56%\n",
            "------------------------------\n",
            "Epoch 31\n",
            "Training loss: 1.1032952083587646\n",
            "Training accuracy: 60.77333333333333%\n",
            "Validation accuracy: 54.78%\n",
            "------------------------------\n",
            "Epoch 32\n",
            "Training loss: 1.0907316437721253\n",
            "Training accuracy: 61.23111111111111%\n",
            "Validation accuracy: 55.16%\n",
            "------------------------------\n",
            "Epoch 33\n",
            "Training loss: 1.078531397957272\n",
            "Training accuracy: 61.60888888888889%\n",
            "Validation accuracy: 55.32%\n",
            "------------------------------\n",
            "Epoch 34\n",
            "Training loss: 1.066640863053004\n",
            "Training accuracy: 62.14222222222222%\n",
            "Validation accuracy: 55.94%\n",
            "------------------------------\n",
            "Epoch 35\n",
            "Training loss: 1.0557715597099728\n",
            "Training accuracy: 62.50222222222222%\n",
            "Validation accuracy: 56.04%\n",
            "------------------------------\n",
            "Epoch 36\n",
            "Training loss: 1.045090922774209\n",
            "Training accuracy: 62.89555555555555%\n",
            "Validation accuracy: 56.2%\n",
            "------------------------------\n",
            "Epoch 37\n",
            "Training loss: 1.0348379259586333\n",
            "Training accuracy: 63.36666666666667%\n",
            "Validation accuracy: 56.8%\n",
            "------------------------------\n",
            "Epoch 38\n",
            "Training loss: 1.02445088101493\n",
            "Training accuracy: 63.77333333333333%\n",
            "Validation accuracy: 56.66%\n",
            "------------------------------\n",
            "Epoch 39\n",
            "Training loss: 1.014373160759608\n",
            "Training accuracy: 64.14222222222222%\n",
            "Validation accuracy: 56.64%\n",
            "------------------------------\n",
            "Epoch 40\n",
            "Training loss: 1.004132144106759\n",
            "Training accuracy: 64.41111111111111%\n",
            "Validation accuracy: 56.6%\n",
            "------------------------------\n",
            "Finished Training\n"
          ],
          "name": "stdout"
        }
      ]
    },
    {
      "cell_type": "code",
      "metadata": {
        "id": "-SLTuyUBzOea",
        "colab": {
          "base_uri": "https://localhost:8080/"
        },
        "outputId": "6d165161-9c7d-40b0-98e3-87a8ec4b7b05"
      },
      "source": [
        "model.load_state_dict(best_model)\n",
        "\n",
        "test_correct = 0\n",
        "with torch.no_grad():\n",
        "    for inputs, labels in test_loader:\n",
        "        outputs = model(inputs.to(device)).cpu()\n",
        "        predicted = torch.argmax(outputs, dim=1)\n",
        "        test_correct += (predicted == labels).sum().item()\n",
        "\n",
        "print(f\"Test accuracy: {test_correct*100/size_test}%\")"
      ],
      "execution_count": 192,
      "outputs": [
        {
          "output_type": "stream",
          "text": [
            "Test accuracy: 56.5%\n"
          ],
          "name": "stdout"
        }
      ]
    },
    {
      "cell_type": "code",
      "metadata": {
        "colab": {
          "base_uri": "https://localhost:8080/",
          "height": 295
        },
        "id": "tcAAWt9eCGIe",
        "outputId": "da7bee8f-f1e6-400e-f15b-98e0f8c92ae9"
      },
      "source": [
        "plt.figure()\n",
        "plt.plot([i for i in range(40)], model.train_accuracy)\n",
        "plt.plot([i for i in range(40)], model.val_accuracy)\n",
        "plt.xlabel('Epochs')\n",
        "plt.ylabel('Accuracy')\n",
        "plt.legend(['Train', 'Test'])\n",
        "plt.title('Accuracy for train and test set for simple CNN model with SGD optimizer')\n",
        "plt.show()"
      ],
      "execution_count": 193,
      "outputs": [
        {
          "output_type": "display_data",
          "data": {
            "image/png": "[encoded data removed]",
            "text/plain": [
              "<Figure size 432x288 with 1 Axes>"
            ]
          },
          "metadata": {
            "tags": [],
            "needs_background": "light"
          }
        }
      ]
    },
    {
      "cell_type": "code",
      "metadata": {
        "colab": {
          "base_uri": "https://localhost:8080/",
          "height": 295
        },
        "id": "kCX9qV0UGiyC",
        "outputId": "652d64af-e201-46ff-8e78-5533af7a1ac2"
      },
      "source": [
        "plt.figure()\n",
        "plt.plot([i for i in range(40)], model.train_loss)\n",
        "plt.xlabel('Epochs')\n",
        "plt.ylabel('Loss')\n",
        "plt.title('Loss for train and for simple CNN model with SGD optimizer')\n",
        "plt.show()"
      ],
      "execution_count": 194,
      "outputs": [
        {
          "output_type": "display_data",
          "data": {
            "image/png": "[encoded data removed]",
            "text/plain": [
              "<Figure size 432x288 with 1 Axes>"
            ]
          },
          "metadata": {
            "tags": [],
            "needs_background": "light"
          }
        }
      ]
    },
    {
      "cell_type": "markdown",
      "metadata": {
        "id": "lbXk1BQzJHJx"
      },
      "source": [
        "# Simple CNN model with Adam optimizer"
      ]
    },
    {
      "cell_type": "code",
      "metadata": {
        "colab": {
          "base_uri": "https://localhost:8080/"
        },
        "id": "EGsDEG3UJ22M",
        "outputId": "2608c9cc-5ae6-4008-cb58-1f115d4d1893"
      },
      "source": [
        "train_transform = transforms.Compose([\n",
        "    transforms.ToTensor(),\n",
        "    transforms.Normalize((0.5, 0.5, 0.5), (0.5, 0.5, 0.5))])\n",
        "\n",
        "test_transform = transforms.Compose([\n",
        "    transforms.ToTensor(),\n",
        "    transforms.Normalize((0.5, 0.5, 0.5), (0.5, 0.5, 0.5))])\n",
        "\n",
        "train = torchvision.datasets.CIFAR10(root='./data', train=True,\n",
        "                                        download=True, transform=train_transform)\n",
        "\n",
        "test = torchvision.datasets.CIFAR10(root='./data', train=False,\n",
        "                                       download=True, transform=test_transform)\n",
        "\n",
        "train, val = random_split(train, [45000, 5000], generator = torch.manual_seed(0))\n",
        "\n",
        "train_loader = torch.utils.data.DataLoader(train, batch_size=64,\n",
        "                                          shuffle=False, num_workers=2)\n",
        "\n",
        "val_loader = torch.utils.data.DataLoader(val, batch_size=64,\n",
        "                                          shuffle=False, num_workers=2)\n",
        "\n",
        "test_loader = torch.utils.data.DataLoader(test, batch_size=64,\n",
        "                                         shuffle=False, num_workers=2)\n",
        "\n",
        "classes_names = ('plane', 'car', 'bird', 'cat',\n",
        "           'deer', 'dog', 'frog', 'horse', 'ship', 'truck')\n",
        "\n",
        "size_train = len(train)\n",
        "size_val = len(val)\n",
        "size_test = len(test)"
      ],
      "execution_count": 195,
      "outputs": [
        {
          "output_type": "stream",
          "text": [
            "Files already downloaded and verified\n",
            "Files already downloaded and verified\n"
          ],
          "name": "stdout"
        }
      ]
    },
    {
      "cell_type": "code",
      "metadata": {
        "id": "GAElOp0UJHKV"
      },
      "source": [
        "class CNN(nn.Module):\n",
        "    def __init__(self):\n",
        "        super(CNN, self).__init__()\n",
        "        self.conv1 = nn.Conv2d(3, 3, 5)\n",
        "        self.pool = nn.MaxPool2d(2, 2)\n",
        "        self.conv2 = nn.Conv2d(3, 9, 3)\n",
        "        self.fc1 = nn.Linear(9 * 6 * 6, 100)\n",
        "        self.fc2 = nn.Linear(100, 50)\n",
        "        self.fc3 = nn.Linear(50, 10)\n",
        "\n",
        "    def forward(self, x):\n",
        "        x = self.pool(F.relu(self.conv1(x)))\n",
        "        x = self.pool(F.relu(self.conv2(x)))\n",
        "        x = x.view(-1, 9 * 6 * 6)\n",
        "        x = F.relu(self.fc1(x))\n",
        "        x = F.relu(self.fc2(x))\n",
        "        x = self.fc3(x)\n",
        "        return x"
      ],
      "execution_count": 196,
      "outputs": []
    },
    {
      "cell_type": "code",
      "metadata": {
        "id": "9o7gE1_tJHKW"
      },
      "source": [
        "model = CNN().to(device)\n",
        "criterion = nn.CrossEntropyLoss()\n",
        "optimizer = Adam(model.parameters(), lr=0.001)"
      ],
      "execution_count": 197,
      "outputs": []
    },
    {
      "cell_type": "code",
      "metadata": {
        "colab": {
          "base_uri": "https://localhost:8080/"
        },
        "id": "yEkZD2gJJHKX",
        "outputId": "cd2624cb-a40d-4d1c-9e64-2aae470c0f6e"
      },
      "source": [
        "best_accuracy = -1\n",
        "best_model = None\n",
        "model.train_loss = list()\n",
        "model.train_accuracy = list()\n",
        "model.val_accuracy = list()\n",
        "\n",
        "for epoch in range(40):\n",
        "\n",
        "    training_loss = 0\n",
        "    training_correct = 0\n",
        "\n",
        "    for i, data in enumerate(train_loader, 0):\n",
        "\n",
        "        inputs, labels = data\n",
        "        inputs, labels = inputs.to(device), labels.to(device)\n",
        "        optimizer.zero_grad()\n",
        "\n",
        "        outputs = model(inputs)\n",
        "        loss = criterion(outputs, labels)\n",
        "        loss.backward()\n",
        "        optimizer.step()\n",
        "\n",
        "        training_loss += loss.item() * inputs.size(0)\n",
        "        predicted = torch.argmax(outputs.detach(), dim=1)\n",
        "        training_correct += (predicted == labels).sum().item()\n",
        "    \n",
        "    training_loss = training_loss/size_train\n",
        "    training_accuracy = training_correct*100/size_train\n",
        "\n",
        "    model.train_loss.append(training_loss)\n",
        "    model.train_accuracy.append(training_accuracy)\n",
        "\n",
        "    print(f\"Epoch {epoch+1}\")\n",
        "    print(f\"Training loss: {training_loss}\")\n",
        "    print(f\"Training accuracy: {training_accuracy}%\")\n",
        "    \n",
        "    validation_correct = 0\n",
        "    with torch.no_grad():\n",
        "        for inputs,labels in val_loader:\n",
        "            outputs = model(inputs.to(device)).cpu()\n",
        "            predicted = torch.argmax(outputs.detach(), dim=1)\n",
        "            validation_correct += (predicted == labels).sum().item()\n",
        "    \n",
        "    val_accuracy = validation_correct*100/size_val\n",
        "    model.val_accuracy.append(val_accuracy)\n",
        "\n",
        "    print(f\"Validation accuracy: {val_accuracy}%\")\n",
        "\n",
        "    if validation_correct > best_accuracy:\n",
        "        best_accuracy = validation_correct\n",
        "        best_model = deepcopy(model.state_dict())\n",
        "      \n",
        "    print('-'*30)\n",
        "\n",
        "print('Finished Training')"
      ],
      "execution_count": 198,
      "outputs": [
        {
          "output_type": "stream",
          "text": [
            "Epoch 1\n",
            "Training loss: 1.7628333606931899\n",
            "Training accuracy: 35.30222222222222%\n",
            "Validation accuracy: 40.78%\n",
            "------------------------------\n",
            "Epoch 2\n",
            "Training loss: 1.475157721371121\n",
            "Training accuracy: 46.29333333333334%\n",
            "Validation accuracy: 45.3%\n",
            "------------------------------\n",
            "Epoch 3\n",
            "Training loss: 1.3737185355504353\n",
            "Training accuracy: 50.33111111111111%\n",
            "Validation accuracy: 48.28%\n",
            "------------------------------\n",
            "Epoch 4\n",
            "Training loss: 1.3010576575173272\n",
            "Training accuracy: 53.10666666666667%\n",
            "Validation accuracy: 50.54%\n",
            "------------------------------\n",
            "Epoch 5\n",
            "Training loss: 1.241859895790948\n",
            "Training accuracy: 55.34%\n",
            "Validation accuracy: 52.14%\n",
            "------------------------------\n",
            "Epoch 6\n",
            "Training loss: 1.1913671242607964\n",
            "Training accuracy: 57.32888888888889%\n",
            "Validation accuracy: 53.34%\n",
            "------------------------------\n",
            "Epoch 7\n",
            "Training loss: 1.1492044195916917\n",
            "Training accuracy: 58.977777777777774%\n",
            "Validation accuracy: 54.88%\n",
            "------------------------------\n",
            "Epoch 8\n",
            "Training loss: 1.1142379304779901\n",
            "Training accuracy: 60.413333333333334%\n",
            "Validation accuracy: 55.86%\n",
            "------------------------------\n",
            "Epoch 9\n",
            "Training loss: 1.0841288073645698\n",
            "Training accuracy: 61.59777777777778%\n",
            "Validation accuracy: 56.32%\n",
            "------------------------------\n",
            "Epoch 10\n",
            "Training loss: 1.0578962728394403\n",
            "Training accuracy: 62.63333333333333%\n",
            "Validation accuracy: 56.96%\n",
            "------------------------------\n",
            "Epoch 11\n",
            "Training loss: 1.0353555638578202\n",
            "Training accuracy: 63.53111111111111%\n",
            "Validation accuracy: 57.02%\n",
            "------------------------------\n",
            "Epoch 12\n",
            "Training loss: 1.0148714947700501\n",
            "Training accuracy: 64.32888888888888%\n",
            "Validation accuracy: 57.18%\n",
            "------------------------------\n",
            "Epoch 13\n",
            "Training loss: 0.9961575570371416\n",
            "Training accuracy: 64.86%\n",
            "Validation accuracy: 57.44%\n",
            "------------------------------\n",
            "Epoch 14\n",
            "Training loss: 0.9782505033969879\n",
            "Training accuracy: 65.45333333333333%\n",
            "Validation accuracy: 57.92%\n",
            "------------------------------\n",
            "Epoch 15\n",
            "Training loss: 0.9617021550708347\n",
            "Training accuracy: 66.09777777777778%\n",
            "Validation accuracy: 57.44%\n",
            "------------------------------\n",
            "Epoch 16\n",
            "Training loss: 0.9459213311831156\n",
            "Training accuracy: 66.70666666666666%\n",
            "Validation accuracy: 57.56%\n",
            "------------------------------\n",
            "Epoch 17\n",
            "Training loss: 0.9320161163912879\n",
            "Training accuracy: 67.2688888888889%\n",
            "Validation accuracy: 57.86%\n",
            "------------------------------\n",
            "Epoch 18\n",
            "Training loss: 0.91946245364613\n",
            "Training accuracy: 67.65777777777778%\n",
            "Validation accuracy: 57.94%\n",
            "------------------------------\n",
            "Epoch 19\n",
            "Training loss: 0.9057936792135238\n",
            "Training accuracy: 68.24888888888889%\n",
            "Validation accuracy: 58.0%\n",
            "------------------------------\n",
            "Epoch 20\n",
            "Training loss: 0.8941368358426623\n",
            "Training accuracy: 68.68888888888888%\n",
            "Validation accuracy: 57.76%\n",
            "------------------------------\n",
            "Epoch 21\n",
            "Training loss: 0.8818936514483557\n",
            "Training accuracy: 69.15333333333334%\n",
            "Validation accuracy: 57.96%\n",
            "------------------------------\n",
            "Epoch 22\n",
            "Training loss: 0.8718792013009389\n",
            "Training accuracy: 69.56444444444445%\n",
            "Validation accuracy: 57.88%\n",
            "------------------------------\n",
            "Epoch 23\n",
            "Training loss: 0.860162827512953\n",
            "Training accuracy: 70.00888888888889%\n",
            "Validation accuracy: 57.86%\n",
            "------------------------------\n",
            "Epoch 24\n",
            "Training loss: 0.8513210165739059\n",
            "Training accuracy: 70.31555555555556%\n",
            "Validation accuracy: 58.02%\n",
            "------------------------------\n",
            "Epoch 25\n",
            "Training loss: 0.8413974565294053\n",
            "Training accuracy: 70.45777777777778%\n",
            "Validation accuracy: 57.9%\n",
            "------------------------------\n",
            "Epoch 26\n",
            "Training loss: 0.8331264152155982\n",
            "Training accuracy: 70.85777777777778%\n",
            "Validation accuracy: 57.72%\n",
            "------------------------------\n",
            "Epoch 27\n",
            "Training loss: 0.8253728132141961\n",
            "Training accuracy: 71.14444444444445%\n",
            "Validation accuracy: 57.62%\n",
            "------------------------------\n",
            "Epoch 28\n",
            "Training loss: 0.8182858212788899\n",
            "Training accuracy: 71.34666666666666%\n",
            "Validation accuracy: 57.38%\n",
            "------------------------------\n",
            "Epoch 29\n",
            "Training loss: 0.8098229736910926\n",
            "Training accuracy: 71.60888888888888%\n",
            "Validation accuracy: 57.02%\n",
            "------------------------------\n",
            "Epoch 30\n",
            "Training loss: 0.8024543955220117\n",
            "Training accuracy: 71.94%\n",
            "Validation accuracy: 57.08%\n",
            "------------------------------\n",
            "Epoch 31\n",
            "Training loss: 0.7945564402739207\n",
            "Training accuracy: 72.1511111111111%\n",
            "Validation accuracy: 56.98%\n",
            "------------------------------\n",
            "Epoch 32\n",
            "Training loss: 0.788194561651018\n",
            "Training accuracy: 72.43333333333334%\n",
            "Validation accuracy: 57.08%\n",
            "------------------------------\n",
            "Epoch 33\n",
            "Training loss: 0.7804395762761434\n",
            "Training accuracy: 72.73333333333333%\n",
            "Validation accuracy: 57.3%\n",
            "------------------------------\n",
            "Epoch 34\n",
            "Training loss: 0.773553133143319\n",
            "Training accuracy: 72.96444444444444%\n",
            "Validation accuracy: 57.08%\n",
            "------------------------------\n",
            "Epoch 35\n",
            "Training loss: 0.7666009571790695\n",
            "Training accuracy: 73.18666666666667%\n",
            "Validation accuracy: 56.74%\n",
            "------------------------------\n",
            "Epoch 36\n",
            "Training loss: 0.7615798974063661\n",
            "Training accuracy: 73.2688888888889%\n",
            "Validation accuracy: 56.52%\n",
            "------------------------------\n",
            "Epoch 37\n",
            "Training loss: 0.7561668190876643\n",
            "Training accuracy: 73.54222222222222%\n",
            "Validation accuracy: 56.62%\n",
            "------------------------------\n",
            "Epoch 38\n",
            "Training loss: 0.7509277496655782\n",
            "Training accuracy: 73.62666666666667%\n",
            "Validation accuracy: 56.36%\n",
            "------------------------------\n",
            "Epoch 39\n",
            "Training loss: 0.7448870690716638\n",
            "Training accuracy: 73.89555555555556%\n",
            "Validation accuracy: 56.28%\n",
            "------------------------------\n",
            "Epoch 40\n",
            "Training loss: 0.7385033901876873\n",
            "Training accuracy: 74.10666666666667%\n",
            "Validation accuracy: 56.14%\n",
            "------------------------------\n",
            "Finished Training\n"
          ],
          "name": "stdout"
        }
      ]
    },
    {
      "cell_type": "code",
      "metadata": {
        "colab": {
          "base_uri": "https://localhost:8080/"
        },
        "id": "_tTD4owBJHKZ",
        "outputId": "c1bf45ae-95db-45d8-8cc6-1232e6879032"
      },
      "source": [
        "model.load_state_dict(best_model)\n",
        "\n",
        "test_correct = 0\n",
        "with torch.no_grad():\n",
        "    for inputs, labels in test_loader:\n",
        "        outputs = model(inputs.to(device)).cpu()\n",
        "        predicted = torch.argmax(outputs, dim=1)\n",
        "        test_correct += (predicted == labels).sum().item()\n",
        "\n",
        "print(f\"Test accuracy: {test_correct*100/size_test}%\")"
      ],
      "execution_count": 199,
      "outputs": [
        {
          "output_type": "stream",
          "text": [
            "Test accuracy: 58.27%\n"
          ],
          "name": "stdout"
        }
      ]
    },
    {
      "cell_type": "code",
      "metadata": {
        "colab": {
          "base_uri": "https://localhost:8080/",
          "height": 295
        },
        "id": "EKRBR__2JHKa",
        "outputId": "6f35ddb5-0cf7-40d3-ce00-1fea8a7cec8d"
      },
      "source": [
        "plt.figure()\n",
        "plt.plot([i for i in range(40)], model.train_accuracy)\n",
        "plt.plot([i for i in range(40)], model.val_accuracy)\n",
        "plt.xlabel('Epochs')\n",
        "plt.ylabel('Accuracy')\n",
        "plt.legend(['Train', 'Validation'])\n",
        "plt.title('Accuracy for train and test set for simple CNN model with Adam optimizer')\n",
        "plt.show()"
      ],
      "execution_count": 200,
      "outputs": [
        {
          "output_type": "display_data",
          "data": {
            "image/png": "[encoded data removed]",
            "text/plain": [
              "<Figure size 432x288 with 1 Axes>"
            ]
          },
          "metadata": {
            "tags": [],
            "needs_background": "light"
          }
        }
      ]
    },
    {
      "cell_type": "code",
      "metadata": {
        "colab": {
          "base_uri": "https://localhost:8080/",
          "height": 295
        },
        "id": "mJNR-YLZJHKa",
        "outputId": "9197d918-8fcb-4c46-fc6c-837104dc8be6"
      },
      "source": [
        "plt.figure()\n",
        "plt.plot([i for i in range(40)], model.train_loss)\n",
        "plt.xlabel('Epochs')\n",
        "plt.ylabel('Loss')\n",
        "plt.title('Loss for train and for simple CNN model with Adam optimizer')\n",
        "plt.show()"
      ],
      "execution_count": 201,
      "outputs": [
        {
          "output_type": "display_data",
          "data": {
            "image/png": "[encoded data removed]",
            "text/plain": [
              "<Figure size 432x288 with 1 Axes>"
            ]
          },
          "metadata": {
            "tags": [],
            "needs_background": "light"
          }
        }
      ]
    },
    {
      "cell_type": "markdown",
      "metadata": {
        "id": "0bqwLM2PKsQt"
      },
      "source": [
        "# Simple CNN model with Adam optimizer and simple data augmentation"
      ]
    },
    {
      "cell_type": "code",
      "metadata": {
        "colab": {
          "base_uri": "https://localhost:8080/"
        },
        "id": "3RVu2IgDKsQ7",
        "outputId": "525231a1-59ea-4fe6-fb23-7614d9be3bf7"
      },
      "source": [
        "train_transform = transforms.Compose([\n",
        "    transforms.RandomHorizontalFlip(p=.40),\n",
        "    transforms.RandomRotation(30),\n",
        "    transforms.ToTensor(),\n",
        "    transforms.Normalize((0.5, 0.5, 0.5), (0.5, 0.5, 0.5))])\n",
        "\n",
        "test_transform = transforms.Compose([\n",
        "    transforms.ToTensor(),\n",
        "    transforms.Normalize((0.5, 0.5, 0.5), (0.5, 0.5, 0.5))])\n",
        "\n",
        "train = torchvision.datasets.CIFAR10(root='./data', train=True,\n",
        "                                        download=True, transform=train_transform)\n",
        "\n",
        "test = torchvision.datasets.CIFAR10(root='./data', train=False,\n",
        "                                       download=True, transform=test_transform)\n",
        "\n",
        "train, val = random_split(train, [45000, 5000], generator = torch.manual_seed(0))\n",
        "\n",
        "train_loader = torch.utils.data.DataLoader(train, batch_size=64,\n",
        "                                          shuffle=False, num_workers=2)\n",
        "\n",
        "val_loader = torch.utils.data.DataLoader(val, batch_size=64,\n",
        "                                          shuffle=False, num_workers=2)\n",
        "\n",
        "test_loader = torch.utils.data.DataLoader(test, batch_size=64,\n",
        "                                         shuffle=False, num_workers=2)\n",
        "\n",
        "classes_names = ('plane', 'car', 'bird', 'cat',\n",
        "           'deer', 'dog', 'frog', 'horse', 'ship', 'truck')\n",
        "\n",
        "size_train = len(train)\n",
        "size_val = len(val)\n",
        "size_test = len(test)"
      ],
      "execution_count": 202,
      "outputs": [
        {
          "output_type": "stream",
          "text": [
            "Files already downloaded and verified\n",
            "Files already downloaded and verified\n"
          ],
          "name": "stdout"
        }
      ]
    },
    {
      "cell_type": "code",
      "metadata": {
        "id": "4ub-tO2yKsQ8"
      },
      "source": [
        "class CNN(nn.Module):\n",
        "    def __init__(self):\n",
        "        super(CNN, self).__init__()\n",
        "        self.conv1 = nn.Conv2d(3, 3, 5)\n",
        "        self.pool = nn.MaxPool2d(2, 2)\n",
        "        self.conv2 = nn.Conv2d(3, 9, 3)\n",
        "        self.fc1 = nn.Linear(9 * 6 * 6, 100)\n",
        "        self.fc2 = nn.Linear(100, 50)\n",
        "        self.fc3 = nn.Linear(50, 10)\n",
        "\n",
        "    def forward(self, x):\n",
        "        x = self.pool(F.relu(self.conv1(x)))\n",
        "        x = self.pool(F.relu(self.conv2(x)))\n",
        "        x = x.view(-1, 9 * 6 * 6)\n",
        "        x = F.relu(self.fc1(x))\n",
        "        x = F.relu(self.fc2(x))\n",
        "        x = self.fc3(x)\n",
        "        return x"
      ],
      "execution_count": 203,
      "outputs": []
    },
    {
      "cell_type": "code",
      "metadata": {
        "id": "d4-NOWSoKsQ9"
      },
      "source": [
        "model = CNN().to(device)\n",
        "criterion = nn.CrossEntropyLoss()\n",
        "optimizer = Adam(model.parameters(), lr=0.001)"
      ],
      "execution_count": 204,
      "outputs": []
    },
    {
      "cell_type": "code",
      "metadata": {
        "colab": {
          "base_uri": "https://localhost:8080/"
        },
        "id": "-YY5w4GiKsQ9",
        "outputId": "f7bd7d78-818f-4b97-d559-7be302f30147"
      },
      "source": [
        "best_accuracy = -1\n",
        "best_model = None\n",
        "model.train_loss = list()\n",
        "model.train_accuracy = list()\n",
        "model.val_accuracy = list()\n",
        "\n",
        "for epoch in range(40):\n",
        "\n",
        "    training_loss = 0\n",
        "    training_correct = 0\n",
        "\n",
        "    for i, data in enumerate(train_loader, 0):\n",
        "\n",
        "        inputs, labels = data\n",
        "        inputs, labels = inputs.to(device), labels.to(device)\n",
        "        optimizer.zero_grad()\n",
        "\n",
        "        outputs = model(inputs)\n",
        "        loss = criterion(outputs, labels)\n",
        "        loss.backward()\n",
        "        optimizer.step()\n",
        "\n",
        "        training_loss += loss.item() * inputs.size(0)\n",
        "        predicted = torch.argmax(outputs.detach(), dim=1)\n",
        "        training_correct += (predicted == labels).sum().item()\n",
        "    \n",
        "    training_loss = training_loss/size_train\n",
        "    training_accuracy = training_correct*100/size_train\n",
        "\n",
        "    model.train_loss.append(training_loss)\n",
        "    model.train_accuracy.append(training_accuracy)\n",
        "\n",
        "    print(f\"Epoch {epoch+1}\")\n",
        "    print(f\"Training loss: {training_loss}\")\n",
        "    print(f\"Training accuracy: {training_accuracy}%\")\n",
        "    \n",
        "    validation_correct = 0\n",
        "    with torch.no_grad():\n",
        "        for inputs,labels in val_loader:\n",
        "            outputs = model(inputs.to(device)).cpu()\n",
        "            predicted = torch.argmax(outputs.detach(), dim=1)\n",
        "            validation_correct += (predicted == labels).sum().item()\n",
        "    \n",
        "    val_accuracy = validation_correct*100/size_val\n",
        "    model.val_accuracy.append(val_accuracy)\n",
        "\n",
        "    print(f\"Validation accuracy: {val_accuracy}%\")\n",
        "\n",
        "    if validation_correct > best_accuracy:\n",
        "        best_accuracy = validation_correct\n",
        "        best_model = deepcopy(model.state_dict())\n",
        "      \n",
        "    print('-'*30)\n",
        "\n",
        "print('Finished Training')"
      ],
      "execution_count": 205,
      "outputs": [
        {
          "output_type": "stream",
          "text": [
            "Epoch 1\n",
            "Training loss: 1.8260866643481783\n",
            "Training accuracy: 32.92888888888889%\n",
            "Validation accuracy: 38.52%\n",
            "------------------------------\n",
            "Epoch 2\n",
            "Training loss: 1.5748945922427706\n",
            "Training accuracy: 42.708888888888886%\n",
            "Validation accuracy: 41.94%\n",
            "------------------------------\n",
            "Epoch 3\n",
            "Training loss: 1.5036772079043919\n",
            "Training accuracy: 45.42%\n",
            "Validation accuracy: 44.58%\n",
            "------------------------------\n",
            "Epoch 4\n",
            "Training loss: 1.4625870570924546\n",
            "Training accuracy: 47.37111111111111%\n",
            "Validation accuracy: 46.02%\n",
            "------------------------------\n",
            "Epoch 5\n",
            "Training loss: 1.431464433394538\n",
            "Training accuracy: 48.553333333333335%\n",
            "Validation accuracy: 47.42%\n",
            "------------------------------\n",
            "Epoch 6\n",
            "Training loss: 1.4042605703141955\n",
            "Training accuracy: 49.40888888888889%\n",
            "Validation accuracy: 47.66%\n",
            "------------------------------\n",
            "Epoch 7\n",
            "Training loss: 1.3828814354366725\n",
            "Training accuracy: 50.19555555555556%\n",
            "Validation accuracy: 48.54%\n",
            "------------------------------\n",
            "Epoch 8\n",
            "Training loss: 1.3639102943844266\n",
            "Training accuracy: 50.91555555555556%\n",
            "Validation accuracy: 49.46%\n",
            "------------------------------\n",
            "Epoch 9\n",
            "Training loss: 1.348463911543952\n",
            "Training accuracy: 51.53333333333333%\n",
            "Validation accuracy: 49.8%\n",
            "------------------------------\n",
            "Epoch 10\n",
            "Training loss: 1.3319298746320936\n",
            "Training accuracy: 52.12444444444444%\n",
            "Validation accuracy: 51.02%\n",
            "------------------------------\n",
            "Epoch 11\n",
            "Training loss: 1.3140635777367486\n",
            "Training accuracy: 52.973333333333336%\n",
            "Validation accuracy: 50.86%\n",
            "------------------------------\n",
            "Epoch 12\n",
            "Training loss: 1.3002176886240642\n",
            "Training accuracy: 53.38%\n",
            "Validation accuracy: 51.34%\n",
            "------------------------------\n",
            "Epoch 13\n",
            "Training loss: 1.2940429435518053\n",
            "Training accuracy: 53.626666666666665%\n",
            "Validation accuracy: 51.82%\n",
            "------------------------------\n",
            "Epoch 14\n",
            "Training loss: 1.2828316348605686\n",
            "Training accuracy: 53.94%\n",
            "Validation accuracy: 52.5%\n",
            "------------------------------\n",
            "Epoch 15\n",
            "Training loss: 1.2653113572650485\n",
            "Training accuracy: 54.70666666666666%\n",
            "Validation accuracy: 53.02%\n",
            "------------------------------\n",
            "Epoch 16\n",
            "Training loss: 1.2571199627134535\n",
            "Training accuracy: 55.3%\n",
            "Validation accuracy: 52.52%\n",
            "------------------------------\n",
            "Epoch 17\n",
            "Training loss: 1.2493943540361192\n",
            "Training accuracy: 55.22%\n",
            "Validation accuracy: 54.02%\n",
            "------------------------------\n",
            "Epoch 18\n",
            "Training loss: 1.2447071333355373\n",
            "Training accuracy: 55.19555555555556%\n",
            "Validation accuracy: 53.32%\n",
            "------------------------------\n",
            "Epoch 19\n",
            "Training loss: 1.2335232649909125\n",
            "Training accuracy: 55.80888888888889%\n",
            "Validation accuracy: 53.88%\n",
            "------------------------------\n",
            "Epoch 20\n",
            "Training loss: 1.2246360455724927\n",
            "Training accuracy: 56.31333333333333%\n",
            "Validation accuracy: 53.76%\n",
            "------------------------------\n",
            "Epoch 21\n",
            "Training loss: 1.2252127435684204\n",
            "Training accuracy: 56.08888888888889%\n",
            "Validation accuracy: 53.42%\n",
            "------------------------------\n",
            "Epoch 22\n",
            "Training loss: 1.2168533281326295\n",
            "Training accuracy: 56.31111111111111%\n",
            "Validation accuracy: 54.64%\n",
            "------------------------------\n",
            "Epoch 23\n",
            "Training loss: 1.204893809721205\n",
            "Training accuracy: 56.873333333333335%\n",
            "Validation accuracy: 54.38%\n",
            "------------------------------\n",
            "Epoch 24\n",
            "Training loss: 1.206699830945333\n",
            "Training accuracy: 56.82888888888889%\n",
            "Validation accuracy: 55.34%\n",
            "------------------------------\n",
            "Epoch 25\n",
            "Training loss: 1.2001499439875285\n",
            "Training accuracy: 56.95111111111111%\n",
            "Validation accuracy: 55.2%\n",
            "------------------------------\n",
            "Epoch 26\n",
            "Training loss: 1.1980536840014988\n",
            "Training accuracy: 57.27777777777778%\n",
            "Validation accuracy: 56.0%\n",
            "------------------------------\n",
            "Epoch 27\n",
            "Training loss: 1.1907588775634765\n",
            "Training accuracy: 57.388888888888886%\n",
            "Validation accuracy: 54.84%\n",
            "------------------------------\n",
            "Epoch 28\n",
            "Training loss: 1.186005521689521\n",
            "Training accuracy: 57.67111111111111%\n",
            "Validation accuracy: 55.72%\n",
            "------------------------------\n",
            "Epoch 29\n",
            "Training loss: 1.1825564668655395\n",
            "Training accuracy: 57.775555555555556%\n",
            "Validation accuracy: 55.98%\n",
            "------------------------------\n",
            "Epoch 30\n",
            "Training loss: 1.1777052960289849\n",
            "Training accuracy: 57.87555555555556%\n",
            "Validation accuracy: 55.32%\n",
            "------------------------------\n",
            "Epoch 31\n",
            "Training loss: 1.1776883754094443\n",
            "Training accuracy: 57.90888888888889%\n",
            "Validation accuracy: 55.74%\n",
            "------------------------------\n",
            "Epoch 32\n",
            "Training loss: 1.1666429290771485\n",
            "Training accuracy: 58.333333333333336%\n",
            "Validation accuracy: 56.26%\n",
            "------------------------------\n",
            "Epoch 33\n",
            "Training loss: 1.1642700823254055\n",
            "Training accuracy: 58.26888888888889%\n",
            "Validation accuracy: 55.84%\n",
            "------------------------------\n",
            "Epoch 34\n",
            "Training loss: 1.1641645275539823\n",
            "Training accuracy: 58.26444444444444%\n",
            "Validation accuracy: 57.02%\n",
            "------------------------------\n",
            "Epoch 35\n",
            "Training loss: 1.162449992603726\n",
            "Training accuracy: 58.528888888888886%\n",
            "Validation accuracy: 56.2%\n",
            "------------------------------\n",
            "Epoch 36\n",
            "Training loss: 1.154906368001302\n",
            "Training accuracy: 58.995555555555555%\n",
            "Validation accuracy: 56.72%\n",
            "------------------------------\n",
            "Epoch 37\n",
            "Training loss: 1.1544528390248616\n",
            "Training accuracy: 59.04%\n",
            "Validation accuracy: 56.76%\n",
            "------------------------------\n",
            "Epoch 38\n",
            "Training loss: 1.1473495728386773\n",
            "Training accuracy: 59.00222222222222%\n",
            "Validation accuracy: 56.92%\n",
            "------------------------------\n",
            "Epoch 39\n",
            "Training loss: 1.148479395061069\n",
            "Training accuracy: 59.20444444444445%\n",
            "Validation accuracy: 55.34%\n",
            "------------------------------\n",
            "Epoch 40\n",
            "Training loss: 1.1470049443774752\n",
            "Training accuracy: 58.91111111111111%\n",
            "Validation accuracy: 56.54%\n",
            "------------------------------\n",
            "Finished Training\n"
          ],
          "name": "stdout"
        }
      ]
    },
    {
      "cell_type": "code",
      "metadata": {
        "colab": {
          "base_uri": "https://localhost:8080/"
        },
        "id": "MwQ6xSjZKsQ9",
        "outputId": "7b73b3f7-2921-489f-90ec-7ce6deba8e24"
      },
      "source": [
        "model.load_state_dict(best_model)\n",
        "\n",
        "test_correct = 0\n",
        "with torch.no_grad():\n",
        "    for inputs, labels in test_loader:\n",
        "        outputs = model(inputs.to(device)).cpu()\n",
        "        predicted = torch.argmax(outputs, dim=1)\n",
        "        test_correct += (predicted == labels).sum().item()\n",
        "\n",
        "print(f\"Test accuracy: {test_correct*100/size_test}%\")"
      ],
      "execution_count": 206,
      "outputs": [
        {
          "output_type": "stream",
          "text": [
            "Test accuracy: 58.69%\n"
          ],
          "name": "stdout"
        }
      ]
    },
    {
      "cell_type": "code",
      "metadata": {
        "colab": {
          "base_uri": "https://localhost:8080/",
          "height": 295
        },
        "id": "SYuegM7EKsQ9",
        "outputId": "d0a010cf-063b-4720-bffc-7aa1e50aea5c"
      },
      "source": [
        "plt.figure()\n",
        "plt.plot([i for i in range(40)], model.train_accuracy)\n",
        "plt.plot([i for i in range(40)], model.val_accuracy)\n",
        "plt.xlabel('Epochs')\n",
        "plt.ylabel('Accuracy')\n",
        "plt.legend(['Train', 'Validation'])\n",
        "plt.title('Accuracy for train and test set for simple CNN model with Adam optimizer and simple data augmentation')\n",
        "plt.show()"
      ],
      "execution_count": 207,
      "outputs": [
        {
          "output_type": "display_data",
          "data": {
            "image/png": "[encoded data removed]",
            "text/plain": [
              "<Figure size 432x288 with 1 Axes>"
            ]
          },
          "metadata": {
            "tags": [],
            "needs_background": "light"
          }
        }
      ]
    },
    {
      "cell_type": "code",
      "metadata": {
        "colab": {
          "base_uri": "https://localhost:8080/",
          "height": 295
        },
        "id": "5tuZXyXZKsQ-",
        "outputId": "bf5f19ff-0da6-4cad-f0c2-80ccaa2a10a8"
      },
      "source": [
        "plt.figure()\n",
        "plt.plot([i for i in range(40)], model.train_loss)\n",
        "plt.xlabel('Epochs')\n",
        "plt.ylabel('Loss')\n",
        "plt.title('Loss for train and for simple CNN model with Adam optimizer and simple data augmentation')\n",
        "plt.show()"
      ],
      "execution_count": 208,
      "outputs": [
        {
          "output_type": "display_data",
          "data": {
            "image/png": "[encoded data removed]",
            "text/plain": [
              "<Figure size 432x288 with 1 Axes>"
            ]
          },
          "metadata": {
            "tags": [],
            "needs_background": "light"
          }
        }
      ]
    },
    {
      "cell_type": "code",
      "metadata": {
        "id": "F0EVZEIoMpjg"
      },
      "source": [
        ""
      ],
      "execution_count": 208,
      "outputs": []
    },
    {
      "cell_type": "code",
      "metadata": {
        "id": "rong63GsTs4C"
      },
      "source": [
        ""
      ],
      "execution_count": null,
      "outputs": []
    }
  ]
}